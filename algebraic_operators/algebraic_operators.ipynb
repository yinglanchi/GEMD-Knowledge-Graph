{
 "cells": [
  {
   "cell_type": "code",
   "execution_count": 357,
   "id": "1a02767e",
   "metadata": {},
   "outputs": [],
   "source": [
    "from neo4j import GraphDatabase\n",
    "import pandas as pd\n",
    "from py2neo import Graph, Node, Relationship\n",
    "import json\n",
    "import os\n",
    "import csv\n",
    "import collections\n",
    "import re\n",
    "from jsonpath_ng.ext import parse\n",
    "import ssl\n",
    "import networkx as nx"
   ]
  },
  {
   "cell_type": "code",
   "execution_count": 51,
   "id": "6bdbb327",
   "metadata": {},
   "outputs": [],
   "source": [
    "from gremlin_python import statics\n",
    "from gremlin_python.process.anonymous_traversal import traversal\n",
    "from gremlin_python.process.graph_traversal import __\n",
    "from gremlin_python.process.strategies import *\n",
    "from gremlin_python.driver.driver_remote_connection import DriverRemoteConnection\n",
    "from gremlin_python.process.traversal import T\n",
    "from gremlin_python.process.traversal import Order\n",
    "from gremlin_python.process.traversal import Cardinality\n",
    "from gremlin_python.process.traversal import Column\n",
    "from gremlin_python.process.traversal import Direction\n",
    "from gremlin_python.process.traversal import Operator\n",
    "from gremlin_python.process.traversal import P\n",
    "from gremlin_python.process.traversal import TextP\n",
    "from gremlin_python.process.traversal import Pop\n",
    "from gremlin_python.process.traversal import Scope\n",
    "from gremlin_python.process.traversal import Barrier\n",
    "from gremlin_python.process.traversal import Bindings\n",
    "from gremlin_python.process.traversal import WithOptions\n",
    "from gremlin_python.driver.aiohttp.transport import AiohttpTransport"
   ]
  },
  {
   "cell_type": "code",
   "execution_count": 217,
   "id": "c023a151",
   "metadata": {},
   "outputs": [
    {
     "name": "stdout",
     "output_type": "stream",
     "text": [
      "skipping\n",
      "skipping\n",
      "skipping\n",
      "skipping\n",
      "skipping\n"
     ]
    }
   ],
   "source": [
    "directory_path = \"ali_nicholas_EuSNbSe2_gemd_model_dumps\"\n",
    "json_data = []\n",
    "for filename in os.listdir(directory_path):\n",
    "    file_path = os.path.join(directory_path, filename)\n",
    "    try:\n",
    "        with open(file_path, encoding='utf-8') as file:\n",
    "            json_data.append(json.load(file))\n",
    "    except:\n",
    "        print(\"skipping\")"
   ]
  },
  {
   "cell_type": "code",
   "execution_count": 358,
   "id": "e444555b",
   "metadata": {
    "scrolled": true
   },
   "outputs": [],
   "source": [
    "graph = Graph(\"http://localhost:7474\")"
   ]
  },
  {
   "cell_type": "markdown",
   "id": "4b3cd58e",
   "metadata": {},
   "source": [
    "# Decoupling #"
   ]
  },
  {
   "cell_type": "markdown",
   "id": "f9e8c238",
   "metadata": {},
   "source": [
    "1. When calling the decoupling operator, decouple the entire GEMD graph, or only decouple a part of the graph depending on the input parameters?\n",
    "2. Right now only identified and separated shared nodes < material-template, process_template, property_template, parameter_template, condition_template, categorical_bounds >. Creating a copy of material_spec for each material_run and a copy of process spec for each process run seems to be too complicated. \n",
    "3. Question: For example, I have a path process_1 -> material_1 -> ingredient -> process_2 -> material_2. I want to identify the DAGs with process -> some edges in between -> material, where the material's name contain the word EuS. In the example, material_2 contains the word EuS but material_1 doesn't. But the result returns the entire path process_1 -> material_1 -> ingredient -> process_2 -> material_2 instead of just process_2 -> material_2 (in other words, the output contain the correct but extraneous information. Is this fine? "
   ]
  },
  {
   "cell_type": "markdown",
   "id": "9b02bb83",
   "metadata": {},
   "source": [
    "**Shared nodes: material_template, material_template -> material_spec**"
   ]
  },
  {
   "cell_type": "code",
   "execution_count": 582,
   "id": "8d59d589",
   "metadata": {},
   "outputs": [
    {
     "data": {
      "text/html": [
       "(No data)"
      ],
      "text/plain": [
       "(No data)"
      ]
     },
     "execution_count": 582,
     "metadata": {},
     "output_type": "execute_result"
    }
   ],
   "source": [
    "query = '''\n",
    "    MATCH (parent:material_template)-[r:materialTemplate_to_materialSpec]- > (child: material_spec)\n",
    "    CREATE (copy: material_template_copy)\n",
    "    SET copy = properties(parent)\n",
    "    SET copy.node_id = parent.node_id + '_' + child.node_id\n",
    "'''\n",
    "graph.run(query)\n",
    "query = '''\n",
    "    MATCH (parent:material_template)-[r]- > (child:material_spec)\n",
    "    MATCH (parent_copy:material_template_copy)\n",
    "    WHERE parent_copy.node_id = parent.node_id + '_' + child.node_id\n",
    "    CREATE (parent_copy)-[:materialTemplate_to_materialSpec]- > (child)\n",
    "'''\n",
    "graph.run(query)\n",
    "query = \"MATCH (n:material_template) DETACH DELETE n\"\n",
    "graph.run(query)"
   ]
  },
  {
   "cell_type": "markdown",
   "id": "4e650d8c",
   "metadata": {},
   "source": [
    "**Shared nodes: property_template & categorical_bounds, material_spec -> property_template -> categorical_bounds -> ingredient_spec**"
   ]
  },
  {
   "cell_type": "code",
   "execution_count": 583,
   "id": "e752685e",
   "metadata": {},
   "outputs": [],
   "source": [
    "ingredient_spec_expr = parse('$[?(@.type == \"ingredient_spec\")]')\n",
    "nodes = ingredient_spec_expr.find(json_data)\n",
    "materialSpec_to_ingredientSpec = collections.defaultdict(list)\n",
    "for n in nodes:\n",
    "    ingredient_id = n.value['uids']['auto']\n",
    "    material_id = n.value['material']['id']\n",
    "    materialSpec_to_ingredientSpec[material_id].append(ingredient_id)\n",
    "\n",
    "query = '''\n",
    "    MATCH (n1:material_spec)-[r1]- > (n2:property_template)-[r2]- > \n",
    "          (n3:categorical_bounds)-[r3]- > (n4:ingredient_spec)\n",
    "    WHERE n1.node_id = $material_id AND \n",
    "          n4.node_id = $ingredient_id\n",
    "    CREATE (property_copy:property_template_copy)\n",
    "    SET property_copy = properties(n2)\n",
    "    SET property_copy.node_id = n1.node_id + '_' + n2.node_id + '_' + n4.node_id\n",
    "    CREATE (categorical_copy:property_categorical_bounds)\n",
    "    SET categorical_copy = properties(n3)\n",
    "    SET categorical_copy.node_id = n1.node_id + '_' + n3.node_id + '_' + n4.node_id\n",
    "    RETURN property_copy, categorical_copy\n",
    "'''\n",
    "for material_id, ingredient_ids in materialSpec_to_ingredientSpec.items():\n",
    "    for ingredient_id in ingredient_ids:\n",
    "        graph.run(query, material_id = material_id, ingredient_id = ingredient_id)"
   ]
  },
  {
   "cell_type": "code",
   "execution_count": 584,
   "id": "d7372bb2",
   "metadata": {},
   "outputs": [
    {
     "data": {
      "text/html": [
       "(No data)"
      ],
      "text/plain": [
       "(No data)"
      ]
     },
     "execution_count": 584,
     "metadata": {},
     "output_type": "execute_result"
    }
   ],
   "source": [
    "query = '''\n",
    "    MATCH (n1:material_spec)-[r1]- > (n2:property_template)-[r2]- > \n",
    "          (n3:categorical_bounds)-[r3]- > (n4:ingredient_spec)\n",
    "    MATCH (n2_copy:property_template_copy),(n3_copy:property_categorical_bounds)\n",
    "    WHERE n1.node_id = $material_id AND \n",
    "          n4.node_id = $ingredient_id AND\n",
    "          n2_copy.node_id = n1.node_id + '_' + n2.node_id + '_' + n4.node_id AND \n",
    "          n3_copy.node_id = n1.node_id + '_' + n3.node_id + '_' + n4.node_id\n",
    "    CREATE (n1)-[:materialSpec_to_propertyTemplate]- > (n2_copy)-[:property_to_category]- > \n",
    "           (n3_copy)-[:category_to_ingredientSpec]- > (n4)\n",
    "'''\n",
    "for material_id, ingredient_ids in materialSpec_to_ingredientSpec.items():\n",
    "    for ingredient_id in ingredient_ids:\n",
    "        graph.run(query, material_id = material_id, ingredient_id = ingredient_id)\n",
    "\n",
    "query = \"MATCH (n:property_template) DETACH DELETE n\"\n",
    "graph.run(query)"
   ]
  },
  {
   "cell_type": "markdown",
   "id": "03720a9a",
   "metadata": {},
   "source": [
    "**Shared nodes: parameter_template & categorical_bounds, ingredient_spec -> parameter_template -> categorical_bounds -> process_spec**"
   ]
  },
  {
   "cell_type": "code",
   "execution_count": 585,
   "id": "f0589475",
   "metadata": {},
   "outputs": [
    {
     "data": {
      "text/html": [
       "(No data)"
      ],
      "text/plain": [
       "(No data)"
      ]
     },
     "execution_count": 585,
     "metadata": {},
     "output_type": "execute_result"
    }
   ],
   "source": [
    "# ingredient_spec -> parameter_template ->categorical_bounds -> process_spec\n",
    "ingredient_spec_expr = parse('$[?(@.type == \"ingredient_spec\")]')\n",
    "nodes = ingredient_spec_expr.find(json_data)\n",
    "processSpec_to_ingredientSpec = collections.defaultdict(list)\n",
    "for n in nodes:\n",
    "    ingredient_id = n.value['uids']['auto']\n",
    "    process_id = n.value['process']['id']\n",
    "    processSpec_to_ingredientSpec[process_id].append(ingredient_id)\n",
    "processSpec_to_ingredientSpec\n",
    "query = '''\n",
    "    MATCH (n1:ingredient_spec)-[r1]- > (n2:parameter_template)-[r2]- > \n",
    "          (n3:categorical_bounds)-[r3]- > (n4:process_spec)\n",
    "    WHERE n1.node_id = $ingredient_id AND \n",
    "          n4.node_id = $process_id\n",
    "    CREATE (parameter_copy:parameter_template_copy)\n",
    "    SET parameter_copy = properties(n2)\n",
    "    SET parameter_copy.node_id = n1.node_id + '_' + n2.node_id + '_' + n4.node_id\n",
    "    CREATE (categorical_copy:parameter_categorical_bounds)\n",
    "    SET categorical_copy = properties(n3)\n",
    "    SET categorical_copy.node_id = n1.node_id + '_' + n3.node_id + '_' + n4.node_id\n",
    "    RETURN parameter_copy, categorical_copy\n",
    "'''\n",
    "for process_id, ingredient_ids in processSpec_to_ingredientSpec.items():\n",
    "    for ingredient_id in ingredient_ids:\n",
    "        graph.run(query, ingredient_id = ingredient_id, process_id = process_id)\n",
    "\n",
    "query = '''\n",
    "    MATCH (n:parameter_template_copy)\n",
    "    WITH n.node_id AS id, COLLECT(n) AS nodelist, COUNT(*) AS count\n",
    "    WHERE count > 1\n",
    "    CALL apoc.refactor.mergeNodes(nodelist) YIELD node\n",
    "    RETURN node\n",
    "'''\n",
    "graph.run(query)\n",
    "query = '''\n",
    "    MATCH (n:parameter_categorical_bounds)\n",
    "    WITH n.node_id AS id, COLLECT(n) AS nodelist, COUNT(*) AS count\n",
    "    WHERE count > 1\n",
    "    CALL apoc.refactor.mergeNodes(nodelist) YIELD node\n",
    "    RETURN node\n",
    "'''\n",
    "graph.run(query)"
   ]
  },
  {
   "cell_type": "code",
   "execution_count": 586,
   "id": "42d01287",
   "metadata": {},
   "outputs": [
    {
     "data": {
      "text/html": [
       "<table><tr><th>source</th><th>target</th></tr><tr><td style=\"text-align:left\">{name: &#039;Time of Event&#039;, real_lower_bound: &#039;0&#039;, real_units: &#039;hour&#039;, description: &#039;time at which an event occurs. Can be relative to the start/end of a process, or absolute, however specified&#039;, real_upper_bound: &#039;96&#039;, type: &#039;parameter_template&#039;, node_id: &#039;7b383ee6-0886-4c64-8d32-6d2debfc12e2&#039;}</td><td style=\"text-align:left\">{name: &#039;EusNb2Se4 pellets (heated in sealed vessel)&#039;, type: &#039;material_run&#039;, tags: &#039;01_23&#039;, node_id: &#039;e5de2faa-eb8a-4dc5-ae07-88ad536ee41f&#039;}</td></tr><tr><td style=\"text-align:left\">{name: &#039;Time of Event&#039;, real_lower_bound: &#039;0&#039;, real_units: &#039;hour&#039;, description: &#039;time at which an event occurs. Can be relative to the start/end of a process, or absolute, however specified&#039;, real_upper_bound: &#039;96&#039;, type: &#039;parameter_template&#039;, node_id: &#039;7b383ee6-0886-4c64-8d32-6d2debfc12e2&#039;}</td><td style=\"text-align:left\">{name: &#039;EusNb2Se4 pellets (heated in sealed vessel)&#039;, type: &#039;material_run&#039;, tags: &#039;01_10&#039;, node_id: &#039;9e0568f5-6e65-49b3-9d0c-0ffe52e102fa&#039;}</td></tr><tr><td style=\"text-align:left\">{name: &#039;Time of Event&#039;, real_lower_bound: &#039;0&#039;, real_units: &#039;hour&#039;, description: &#039;time at which an event occurs. Can be relative to the start/end of a process, or absolute, however specified&#039;, real_upper_bound: &#039;96&#039;, type: &#039;parameter_template&#039;, node_id: &#039;7b383ee6-0886-4c64-8d32-6d2debfc12e2&#039;}</td><td style=\"text-align:left\">{name: &#039;EusNb2Se4 pellets (heated in sealed vessel)&#039;, type: &#039;material_run&#039;, tags: &#039;01_13&#039;, node_id: &#039;6bfe80f4-53dc-41a5-9c97-8d1b2860092a&#039;}</td></tr></table>"
      ],
      "text/plain": [
       " source                                                                                                                                                                                                                                                                                                                        | target                                                                                                                                                          \n",
       "-------------------------------------------------------------------------------------------------------------------------------------------------------------------------------------------------------------------------------------------------------------------------------------------------------------------------------|-----------------------------------------------------------------------------------------------------------------------------------------------------------------\n",
       " (_21:parameter_template {description: 'time at which an event occurs. Can be relative to the start/end of a process, or absolute, however specified', name: 'Time of Event', node_id: '7b383ee6-0886-4c64-8d32-6d2debfc12e2', real_lower_bound: '0', real_units: 'hour', real_upper_bound: '96', type: 'parameter_template'}) | (_147:material_run {name: 'EusNb2Se4 pellets (heated in sealed vessel)', node_id: 'e5de2faa-eb8a-4dc5-ae07-88ad536ee41f', tags: '01_23', type: 'material_run'}) \n",
       " (_21:parameter_template {description: 'time at which an event occurs. Can be relative to the start/end of a process, or absolute, however specified', name: 'Time of Event', node_id: '7b383ee6-0886-4c64-8d32-6d2debfc12e2', real_lower_bound: '0', real_units: 'hour', real_upper_bound: '96', type: 'parameter_template'}) | (_163:material_run {name: 'EusNb2Se4 pellets (heated in sealed vessel)', node_id: '9e0568f5-6e65-49b3-9d0c-0ffe52e102fa', tags: '01_10', type: 'material_run'}) \n",
       " (_21:parameter_template {description: 'time at which an event occurs. Can be relative to the start/end of a process, or absolute, however specified', name: 'Time of Event', node_id: '7b383ee6-0886-4c64-8d32-6d2debfc12e2', real_lower_bound: '0', real_units: 'hour', real_upper_bound: '96', type: 'parameter_template'}) | (_148:material_run {name: 'EusNb2Se4 pellets (heated in sealed vessel)', node_id: '6bfe80f4-53dc-41a5-9c97-8d1b2860092a', tags: '01_13', type: 'material_run'}) "
      ]
     },
     "execution_count": 586,
     "metadata": {},
     "output_type": "execute_result"
    }
   ],
   "source": [
    "query = '''\n",
    "    MATCH (n1:ingredient_spec)-[r1]- > (n2:parameter_template)-[r2]- > \n",
    "          (n3:categorical_bounds)-[r3]- > (n4:process_spec)\n",
    "    MATCH (n2_copy:parameter_template_copy),(n3_copy:parameter_categorical_bounds)\n",
    "    WHERE n1.node_id = $ingredient_id AND \n",
    "          n4.node_id = $process_id AND\n",
    "          n2_copy.node_id = $ingredient_id + '_' + n2.node_id + '_' + $process_id AND \n",
    "          n3_copy.node_id = $ingredient_id + '_' + n3.node_id + '_' + $process_id\n",
    "    CREATE (n1)-[:ingredientSpec_to_parameterTemplate]- > (n2_copy)-[:property_to_category]- > \n",
    "           (n3_copy)-[:category_to_processSpec]- > (n4)\n",
    "'''\n",
    "for process_id, ingredient_ids in processSpec_to_ingredientSpec.items():\n",
    "    for ingredient_id in ingredient_ids:\n",
    "        graph.run(query, ingredient_id = ingredient_id, process_id = process_id)\n",
    "        \n",
    "query = '''\n",
    "    MATCH (source)-[r]->(target)\n",
    "    WITH source, target, COLLECT(r) AS relationshipList, COUNT(r) AS count\n",
    "    WHERE count > 1\n",
    "    CALL apoc.refactor.mergeRelationships(relationshipList) YIELD rel\n",
    "    RETURN source,target\n",
    "'''\n",
    "graph.run(query)"
   ]
  },
  {
   "cell_type": "markdown",
   "id": "56f80648",
   "metadata": {},
   "source": [
    "**Shared nodes: condition_template & categorical_bounds, ingredient_spec -> condition_template -> categorical_bounds -> process_spec**"
   ]
  },
  {
   "cell_type": "code",
   "execution_count": 587,
   "id": "935285e1",
   "metadata": {},
   "outputs": [
    {
     "data": {
      "text/html": [
       "(No data)"
      ],
      "text/plain": [
       "(No data)"
      ]
     },
     "execution_count": 587,
     "metadata": {},
     "output_type": "execute_result"
    }
   ],
   "source": [
    "# ingredient_spec -> condition_template ->categorical_bounds -> process_spec\n",
    "query = '''\n",
    "    MATCH (n1:ingredient_spec)-[r1]- > (n2:condition_template)-[r2]- > \n",
    "          (n3:categorical_bounds)-[r3]- > (n4:process_spec)\n",
    "    WHERE n1.node_id = $ingredient_id AND \n",
    "          n4.node_id = $process_id\n",
    "    CREATE (condition_copy:condition_template_copy)\n",
    "    SET condition_copy = properties(n2)\n",
    "    SET condition_copy.node_id = n1.node_id + '_' + n2.node_id + '_' + n4.node_id\n",
    "    CREATE (categorical_copy:condition_categorical_bounds)\n",
    "    SET categorical_copy = properties(n3)\n",
    "    SET categorical_copy.node_id = n1.node_id + '_' + n3.node_id + '_' + n4.node_id\n",
    "    RETURN condition_copy, categorical_copy\n",
    "'''\n",
    "for process_id, ingredient_ids in processSpec_to_ingredientSpec.items():\n",
    "    for ingredient_id in ingredient_ids:\n",
    "        graph.run(query, ingredient_id = ingredient_id, process_id = process_id)\n",
    "\n",
    "query = '''\n",
    "    MATCH (n:condition_template_copy)\n",
    "    WITH n.node_id AS id, COLLECT(n) AS nodelist, COUNT(*) AS count\n",
    "    WHERE count > 1\n",
    "    CALL apoc.refactor.mergeNodes(nodelist) YIELD node\n",
    "    RETURN node\n",
    "'''\n",
    "graph.run(query)\n",
    "query = '''\n",
    "    MATCH (n:condition_categorical_bounds)\n",
    "    WITH n.node_id AS id, COLLECT(n) AS nodelist, COUNT(*) AS count\n",
    "    WHERE count > 1\n",
    "    CALL apoc.refactor.mergeNodes(nodelist) YIELD node\n",
    "    RETURN node\n",
    "'''\n",
    "graph.run(query)"
   ]
  },
  {
   "cell_type": "code",
   "execution_count": 588,
   "id": "abf90a08",
   "metadata": {},
   "outputs": [
    {
     "data": {
      "text/html": [
       "(No data)"
      ],
      "text/plain": [
       "(No data)"
      ]
     },
     "execution_count": 588,
     "metadata": {},
     "output_type": "execute_result"
    }
   ],
   "source": [
    "query = '''\n",
    "    MATCH (n1:ingredient_spec)-[r1]- > (n2:condition_template)-[r2]- > \n",
    "          (n3:categorical_bounds)-[r3]- > (n4:process_spec)\n",
    "    MATCH (n2_copy:condition_template_copy),(n3_copy:condition_categorical_bounds)\n",
    "    WHERE n1.node_id = $ingredient_id AND \n",
    "          n4.node_id = $process_id AND\n",
    "          n2_copy.node_id = $ingredient_id + '_' + n2.node_id + '_' + $process_id AND \n",
    "          n3_copy.node_id = $ingredient_id + '_' + n3.node_id + '_' + $process_id\n",
    "    CREATE (n1)-[:ingredientSpec_to_conditionTemplate]- > (n2_copy)-[:condition_to_category]- > \n",
    "           (n3_copy)-[:category_to_processSpec]- > (n4)\n",
    "'''\n",
    "for process_id, ingredient_ids in processSpec_to_ingredientSpec.items():\n",
    "    for ingredient_id in ingredient_ids:\n",
    "        graph.run(query, ingredient_id = ingredient_id, process_id = process_id)\n",
    "        \n",
    "query = '''\n",
    "    MATCH (source)-[r]->(target)\n",
    "    WITH source, target, COLLECT(r) AS relationshipList, COUNT(r) AS count\n",
    "    WHERE count > 1\n",
    "    CALL apoc.refactor.mergeRelationships(relationshipList) YIELD rel\n",
    "    RETURN source,target\n",
    "'''\n",
    "graph.run(query)"
   ]
  },
  {
   "cell_type": "markdown",
   "id": "e99a9b23",
   "metadata": {},
   "source": [
    "**Shared nodes: parameter_template & categorical_bounds, ingredient_run -> parameter_template -> categorical_bounds -> process_run**"
   ]
  },
  {
   "cell_type": "code",
   "execution_count": 589,
   "id": "e0ac7b16",
   "metadata": {},
   "outputs": [
    {
     "data": {
      "text/html": [
       "(No data)"
      ],
      "text/plain": [
       "(No data)"
      ]
     },
     "execution_count": 589,
     "metadata": {},
     "output_type": "execute_result"
    }
   ],
   "source": [
    "ingredient_run_expr = parse('$[?(@.type == \"ingredient_run\")]')\n",
    "nodes = ingredient_run_expr.find(json_data)\n",
    "processRun_to_ingredientRun = collections.defaultdict(list)\n",
    "for n in nodes:\n",
    "    ingredient_id = n.value['uids']['auto']\n",
    "    process_id = n.value['process']['id']\n",
    "    processRun_to_ingredientRun[process_id].append(ingredient_id)\n",
    "\n",
    "query = '''\n",
    "    MATCH (n1:ingredient_run)-[r1]- > (n2:parameter_template)-[r2]- > \n",
    "          (n3:categorical_bounds)-[r3]- > (n4:process_run)\n",
    "    WHERE n1.node_id = $ingredient_id AND \n",
    "          n4.node_id = $process_id\n",
    "    CREATE (parameter_copy:parameter_template_copy)\n",
    "    SET parameter_copy = properties(n2)\n",
    "    SET parameter_copy.node_id = n1.node_id + '_' + n2.node_id + '_' + n4.node_id\n",
    "    CREATE (categorical_copy:parameter_categorical_bounds)\n",
    "    SET categorical_copy = properties(n3)\n",
    "    SET categorical_copy.node_id = n1.node_id + '_' + n3.node_id + '_' + n4.node_id\n",
    "    RETURN parameter_copy, categorical_copy\n",
    "'''\n",
    "for process_id, ingredient_ids in processRun_to_ingredientRun.items():\n",
    "    for ingredient_id in ingredient_ids:\n",
    "        graph.run(query, ingredient_id = ingredient_id, process_id = process_id)\n",
    "\n",
    "query = '''\n",
    "    MATCH (n:parameter_template_copy)\n",
    "    WITH n.node_id AS id, COLLECT(n) AS nodelist, COUNT(*) AS count\n",
    "    WHERE count > 1\n",
    "    CALL apoc.refactor.mergeNodes(nodelist) YIELD node\n",
    "    RETURN node\n",
    "'''\n",
    "graph.run(query)\n",
    "query = '''\n",
    "    MATCH (n:parameter_categorical_bounds)\n",
    "    WITH n.node_id AS id, COLLECT(n) AS nodelist, COUNT(*) AS count\n",
    "    WHERE count > 1\n",
    "    CALL apoc.refactor.mergeNodes(nodelist) YIELD node\n",
    "    RETURN node\n",
    "'''\n",
    "graph.run(query)"
   ]
  },
  {
   "cell_type": "code",
   "execution_count": 590,
   "id": "8c4fe0b2",
   "metadata": {},
   "outputs": [
    {
     "data": {
      "text/html": [
       "<table><tr><th>source</th><th>target</th></tr><tr><td style=\"text-align:left\">{name: &#039;EusNb2Se4 pellets (heated in sealed vessel) Ingredient&#039;, type: &#039;ingredient_run&#039;, tags: &#039;01_13&#039;, node_id: &#039;b9b40025-6892-403f-a65c-ed043ed5673d&#039;}</td><td style=\"text-align:left\">{name: &#039;Equipment Used&#039;, description: &#039;A parameter describing the equipment used in a particular process or measurement&#039;, type: &#039;parameter_template&#039;, node_id: &#039;b9b40025-6892-403f-a65c-ed043ed5673d_0471f9aa-d24d-4598-ac94-02c6dd1c8d1d_34fbdd88-4c2e-4df2-9edf-3cc34d2ccb32&#039;}</td></tr><tr><td style=\"text-align:left\">{name: &#039;EusNb2Se4 pellets Ingredient&#039;, type: &#039;ingredient_run&#039;, tags: &#039;01_23&#039;, node_id: &#039;13de8a09-aa3b-413a-b622-32443578699e&#039;}</td><td style=\"text-align:left\">{name: &#039;Equipment Used&#039;, description: &#039;A parameter describing the equipment used in a particular process or measurement&#039;, type: &#039;parameter_template&#039;, node_id: &#039;13de8a09-aa3b-413a-b622-32443578699e_0471f9aa-d24d-4598-ac94-02c6dd1c8d1d_58bbce6d-2805-4a4f-8395-16b7397855b3&#039;}</td></tr><tr><td style=\"text-align:left\">{name: &#039;EusNb2Se4 pellets Ingredient&#039;, type: &#039;ingredient_run&#039;, tags: &#039;01_20&#039;, node_id: &#039;d570d7d1-401a-4d5d-906c-ab7f03f3e228&#039;}</td><td style=\"text-align:left\">{name: &#039;Equipment Used&#039;, description: &#039;A parameter describing the equipment used in a particular process or measurement&#039;, type: &#039;parameter_template&#039;, node_id: &#039;d570d7d1-401a-4d5d-906c-ab7f03f3e228_0471f9aa-d24d-4598-ac94-02c6dd1c8d1d_be514bf8-c80f-45ad-9b99-e2c1d5955b23&#039;}</td></tr></table>"
      ],
      "text/plain": [
       " source                                                                                                                                                                         | target                                                                                                                                                                                                                                                                                                          \n",
       "--------------------------------------------------------------------------------------------------------------------------------------------------------------------------------|-----------------------------------------------------------------------------------------------------------------------------------------------------------------------------------------------------------------------------------------------------------------------------------------------------------------\n",
       " (_213:ingredient_run {name: 'EusNb2Se4 pellets (heated in sealed vessel) Ingredient', node_id: 'b9b40025-6892-403f-a65c-ed043ed5673d', tags: '01_13', type: 'ingredient_run'}) | (_457:parameter_template_copy {description: 'A parameter describing the equipment used in a particular process or measurement', name: 'Equipment Used', node_id: 'b9b40025-6892-403f-a65c-ed043ed5673d_0471f9aa-d24d-4598-ac94-02c6dd1c8d1d_34fbdd88-4c2e-4df2-9edf-3cc34d2ccb32', type: 'parameter_template'}) \n",
       " (_219:ingredient_run {name: 'EusNb2Se4 pellets Ingredient', node_id: '13de8a09-aa3b-413a-b622-32443578699e', tags: '01_23', type: 'ingredient_run'})                           | (_565:parameter_template_copy {description: 'A parameter describing the equipment used in a particular process or measurement', name: 'Equipment Used', node_id: '13de8a09-aa3b-413a-b622-32443578699e_0471f9aa-d24d-4598-ac94-02c6dd1c8d1d_58bbce6d-2805-4a4f-8395-16b7397855b3', type: 'parameter_template'}) \n",
       " (_223:ingredient_run {name: 'EusNb2Se4 pellets Ingredient', node_id: 'd570d7d1-401a-4d5d-906c-ab7f03f3e228', tags: '01_20', type: 'ingredient_run'})                           | (_573:parameter_template_copy {description: 'A parameter describing the equipment used in a particular process or measurement', name: 'Equipment Used', node_id: 'd570d7d1-401a-4d5d-906c-ab7f03f3e228_0471f9aa-d24d-4598-ac94-02c6dd1c8d1d_be514bf8-c80f-45ad-9b99-e2c1d5955b23', type: 'parameter_template'}) "
      ]
     },
     "execution_count": 590,
     "metadata": {},
     "output_type": "execute_result"
    }
   ],
   "source": [
    "query = '''\n",
    "    MATCH (n1:ingredient_run)-[r1]- > (n2:parameter_template)-[r2]- > \n",
    "          (n3:categorical_bounds)-[r3]- > (n4:process_run)\n",
    "    MATCH (n2_copy:parameter_template_copy),(n3_copy:parameter_categorical_bounds)\n",
    "    WHERE n1.node_id = $ingredient_id AND \n",
    "          n4.node_id = $process_id AND\n",
    "          n2_copy.node_id = $ingredient_id + '_' + n2.node_id + '_' + $process_id AND \n",
    "          n3_copy.node_id = $ingredient_id + '_' + n3.node_id + '_' + $process_id\n",
    "    CREATE (n1)-[:ingredientRun_to_parameterTemplate]- > (n2_copy)-[:property_to_category]- > \n",
    "           (n3_copy)-[:category_to_processRun]- > (n4)\n",
    "'''\n",
    "for process_id, ingredient_ids in processRun_to_ingredientRun.items():\n",
    "    for ingredient_id in ingredient_ids:\n",
    "        graph.run(query, ingredient_id = ingredient_id, process_id = process_id)\n",
    "        \n",
    "query = '''\n",
    "    MATCH (source)-[r]->(target)\n",
    "    WITH source, target, COLLECT(r) AS relationshipList, COUNT(r) AS count\n",
    "    WHERE count > 1\n",
    "    CALL apoc.refactor.mergeRelationships(relationshipList) YIELD rel\n",
    "    RETURN source,target\n",
    "'''\n",
    "graph.run(query)"
   ]
  },
  {
   "cell_type": "markdown",
   "id": "5433de59",
   "metadata": {},
   "source": [
    "**Shared nodes: condition_template & categorical_bounds, ingredient_run -> condition_template -> categorical_bounds -> process_run**"
   ]
  },
  {
   "cell_type": "code",
   "execution_count": 591,
   "id": "4a2fbb70",
   "metadata": {},
   "outputs": [
    {
     "data": {
      "text/html": [
       "(No data)"
      ],
      "text/plain": [
       "(No data)"
      ]
     },
     "execution_count": 591,
     "metadata": {},
     "output_type": "execute_result"
    }
   ],
   "source": [
    "query = '''\n",
    "    MATCH (n1:ingredient_run)-[r1]- > (n2:condition_template)-[r2]- > \n",
    "          (n3:categorical_bounds)-[r3]- > (n4:process_run)\n",
    "    WHERE n1.node_id = $ingredient_id AND \n",
    "          n4.node_id = $process_id\n",
    "    CREATE (condition_copy:condition_template_copy)\n",
    "    SET condition_copy = properties(n2)\n",
    "    SET condition_copy.node_id = n1.node_id + '_' + n2.node_id + '_' + n4.node_id\n",
    "    CREATE (categorical_copy:condition_categorical_bounds)\n",
    "    SET categorical_copy = properties(n3)\n",
    "    SET categorical_copy.node_id = n1.node_id + '_' + n3.node_id + '_' + n4.node_id\n",
    "    RETURN condition_copy, categorical_copy\n",
    "'''\n",
    "for process_id, ingredient_ids in processRun_to_ingredientRun.items():\n",
    "    for ingredient_id in ingredient_ids:\n",
    "        graph.run(query, ingredient_id = ingredient_id, process_id = process_id)\n",
    "\n",
    "query = '''\n",
    "    MATCH (n:condition_template_copy)\n",
    "    WITH n.node_id AS id, COLLECT(n) AS nodelist, COUNT(*) AS count\n",
    "    WHERE count > 1\n",
    "    CALL apoc.refactor.mergeNodes(nodelist) YIELD node\n",
    "    RETURN node\n",
    "'''\n",
    "graph.run(query)\n",
    "query = '''\n",
    "    MATCH (n:condition_categorical_bounds)\n",
    "    WITH n.node_id AS id, COLLECT(n) AS nodelist, COUNT(*) AS count\n",
    "    WHERE count > 1\n",
    "    CALL apoc.refactor.mergeNodes(nodelist) YIELD node\n",
    "    RETURN node\n",
    "'''\n",
    "graph.run(query)"
   ]
  },
  {
   "cell_type": "code",
   "execution_count": 592,
   "id": "941c8112",
   "metadata": {},
   "outputs": [
    {
     "data": {
      "text/html": [
       "(No data)"
      ],
      "text/plain": [
       "(No data)"
      ]
     },
     "execution_count": 592,
     "metadata": {},
     "output_type": "execute_result"
    }
   ],
   "source": [
    "query = '''\n",
    "    MATCH (n1:ingredient_run)-[r1]- > (n2:condition_template)-[r2]- > \n",
    "          (n3:categorical_bounds)-[r3]- > (n4:process_run)\n",
    "    MATCH (n2_copy:condition_template_copy),(n3_copy:condition_categorical_bounds)\n",
    "    WHERE n1.node_id = $ingredient_id AND \n",
    "          n4.node_id = $process_id AND\n",
    "          n2_copy.node_id = n1.node_id + '_' + n2.node_id + '_' + n4.node_id AND \n",
    "          n3_copy.node_id = n1.node_id + '_' + n3.node_id + '_' + n4.node_id\n",
    "    CREATE (n1)-[:ingredientRun_to_conditionTemplate]- > (n2_copy)-[:condition_to_category]- > \n",
    "           (n3_copy)-[:category_to_processRun]- > (n4)\n",
    "'''\n",
    "for process_id, ingredient_ids in processRun_to_ingredientRun.items():\n",
    "    for ingredient_id in ingredient_ids:\n",
    "        graph.run(query, ingredient_id = ingredient_id, process_id = process_id)\n",
    "        \n",
    "query = '''\n",
    "    MATCH (source)-[r]->(target)\n",
    "    WITH source, target, COLLECT(r) AS relationshipList, COUNT(r) AS count\n",
    "    WHERE count > 1\n",
    "    CALL apoc.refactor.mergeRelationships(relationshipList) YIELD rel\n",
    "    RETURN source,target\n",
    "'''\n",
    "graph.run(query)"
   ]
  },
  {
   "cell_type": "markdown",
   "id": "247c3462",
   "metadata": {},
   "source": [
    "**Shared nodes: condition_template & categorical_bounds, measurement_run -> condition_template -> categorical_bounds -> material_run**"
   ]
  },
  {
   "cell_type": "code",
   "execution_count": 593,
   "id": "9ba86594",
   "metadata": {},
   "outputs": [
    {
     "data": {
      "text/html": [
       "(No data)"
      ],
      "text/plain": [
       "(No data)"
      ]
     },
     "execution_count": 593,
     "metadata": {},
     "output_type": "execute_result"
    }
   ],
   "source": [
    "measurement_run_expr = parse('$[?(@.type == \"measurement_run\")]')\n",
    "nodes = measurement_run_expr.find(json_data)\n",
    "materialRun_to_measurementRun = collections.defaultdict(list)\n",
    "for n in nodes:\n",
    "    measurement_id = n.value['uids']['auto']\n",
    "    material_id = n.value['material']['id']\n",
    "    materialRun_to_measurementRun[material_id].append(measurement_id)\n",
    "    \n",
    "query = '''\n",
    "    MATCH (n1:measurement_run)-[r1]- > (n2:condition_template)-[r2]- > \n",
    "          (n3:categorical_bounds)-[r3]- > (n4:material_run)\n",
    "    WHERE n1.node_id = $measurement_id AND \n",
    "          n4.node_id = $material_id\n",
    "    CREATE (condition_copy:condition_template_copy)\n",
    "    SET condition_copy = properties(n2)\n",
    "    SET condition_copy.node_id = n1.node_id + '_' + n2.node_id + '_' + n4.node_id\n",
    "    CREATE (categorical_copy:condition_categorical_bounds)\n",
    "    SET categorical_copy = properties(n3)\n",
    "    SET categorical_copy.node_id = n1.node_id + '_' + n3.node_id + '_' + n4.node_id\n",
    "    RETURN condition_copy, categorical_copy\n",
    "'''\n",
    "for material_id, measurement_ids in materialRun_to_measurementRun.items():\n",
    "    for measurement_id in measurement_ids:\n",
    "        graph.run(query, measurement_id = measurement_id, material_id = material_id)\n",
    "\n",
    "query = '''\n",
    "    MATCH (n:condition_template_copy)\n",
    "    WITH n.node_id AS id, COLLECT(n) AS nodelist, COUNT(*) AS count\n",
    "    WHERE count > 1\n",
    "    CALL apoc.refactor.mergeNodes(nodelist) YIELD node\n",
    "    RETURN node\n",
    "'''\n",
    "graph.run(query)\n",
    "query = '''\n",
    "    MATCH (n:condition_categorical_bounds)\n",
    "    WITH n.node_id AS id, COLLECT(n) AS nodelist, COUNT(*) AS count\n",
    "    WHERE count > 1\n",
    "    CALL apoc.refactor.mergeNodes(nodelist) YIELD node\n",
    "    RETURN node\n",
    "'''\n",
    "graph.run(query)"
   ]
  },
  {
   "cell_type": "code",
   "execution_count": 594,
   "id": "ab0bbae2",
   "metadata": {},
   "outputs": [
    {
     "data": {
      "text/html": [
       "<table><tr><th>source</th><th>target</th></tr><tr><td style=\"text-align:left\">{real_name_1: &#039;Time of Measurement&#039;, real_value_1: &#039;24.0&#039;, real_units_1: &#039;hour&#039;, name: &#039;First temperature measurement of pellets during heating process&#039;, type: &#039;measurement_run&#039;, tags: &#039;01_13&#039;, node_id: &#039;ab1097bb-e6d6-4d46-a201-3c5435f0fc4d&#039;}</td><td style=\"text-align:left\">{name: &#039;Location&#039;, description: &#039;A condition describing the location in which a process or measurement is performed&#039;, type: &#039;condition_template&#039;, node_id: &#039;ab1097bb-e6d6-4d46-a201-3c5435f0fc4d_00de68f0-57d8-42fc-b5f4-4a1f21d7dc68_6bfe80f4-53dc-41a5-9c97-8d1b2860092a&#039;}</td></tr><tr><td style=\"text-align:left\">{real_name_1: &#039;Time of Measurement&#039;, real_value_1: &#039;68.0&#039;, real_units_1: &#039;hour&#039;, name: &#039;Second temperature measurement of pellets during heating process&#039;, type: &#039;measurement_run&#039;, tags: &#039;01_13&#039;, node_id: &#039;0a44a1da-fcaa-4ac8-a827-8d6ba9cd070d&#039;}</td><td style=\"text-align:left\">{name: &#039;Location&#039;, description: &#039;A condition describing the location in which a process or measurement is performed&#039;, type: &#039;condition_template&#039;, node_id: &#039;0a44a1da-fcaa-4ac8-a827-8d6ba9cd070d_00de68f0-57d8-42fc-b5f4-4a1f21d7dc68_6bfe80f4-53dc-41a5-9c97-8d1b2860092a&#039;}</td></tr><tr><td style=\"text-align:left\">{name: &#039;XRD characterization on final pellets&#039;, type: &#039;measurement_run&#039;, tags: &#039;01_13&#039;, node_id: &#039;79fcc7d7-5fe8-4e52-81f7-17bf45c25c53&#039;}</td><td style=\"text-align:left\">{name: &#039;Location&#039;, description: &#039;A condition describing the location in which a process or measurement is performed&#039;, type: &#039;condition_template&#039;, node_id: &#039;79fcc7d7-5fe8-4e52-81f7-17bf45c25c53_00de68f0-57d8-42fc-b5f4-4a1f21d7dc68_6bfe80f4-53dc-41a5-9c97-8d1b2860092a&#039;}</td></tr></table>"
      ],
      "text/plain": [
       " source                                                                                                                                                                                                                                                                     | target                                                                                                                                                                                                                                                                                                      \n",
       "----------------------------------------------------------------------------------------------------------------------------------------------------------------------------------------------------------------------------------------------------------------------------|-------------------------------------------------------------------------------------------------------------------------------------------------------------------------------------------------------------------------------------------------------------------------------------------------------------\n",
       " (_351:measurement_run {name: 'First temperature measurement of pellets during heating process', node_id: 'ab1097bb-e6d6-4d46-a201-3c5435f0fc4d', real_name_1: 'Time of Measurement', real_units_1: 'hour', real_value_1: '24.0', tags: '01_13', type: 'measurement_run'})  | (_807:condition_template_copy {description: 'A condition describing the location in which a process or measurement is performed', name: 'Location', node_id: 'ab1097bb-e6d6-4d46-a201-3c5435f0fc4d_00de68f0-57d8-42fc-b5f4-4a1f21d7dc68_6bfe80f4-53dc-41a5-9c97-8d1b2860092a', type: 'condition_template'}) \n",
       " (_355:measurement_run {name: 'Second temperature measurement of pellets during heating process', node_id: '0a44a1da-fcaa-4ac8-a827-8d6ba9cd070d', real_name_1: 'Time of Measurement', real_units_1: 'hour', real_value_1: '68.0', tags: '01_13', type: 'measurement_run'}) | (_811:condition_template_copy {description: 'A condition describing the location in which a process or measurement is performed', name: 'Location', node_id: '0a44a1da-fcaa-4ac8-a827-8d6ba9cd070d_00de68f0-57d8-42fc-b5f4-4a1f21d7dc68_6bfe80f4-53dc-41a5-9c97-8d1b2860092a', type: 'condition_template'}) \n",
       " (_356:measurement_run {name: 'XRD characterization on final pellets', node_id: '79fcc7d7-5fe8-4e52-81f7-17bf45c25c53', tags: '01_13', type: 'measurement_run'})                                                                                                            | (_815:condition_template_copy {description: 'A condition describing the location in which a process or measurement is performed', name: 'Location', node_id: '79fcc7d7-5fe8-4e52-81f7-17bf45c25c53_00de68f0-57d8-42fc-b5f4-4a1f21d7dc68_6bfe80f4-53dc-41a5-9c97-8d1b2860092a', type: 'condition_template'}) "
      ]
     },
     "execution_count": 594,
     "metadata": {},
     "output_type": "execute_result"
    }
   ],
   "source": [
    "query = '''\n",
    "    MATCH (n1:measurement_run)-[r1]- > (n2:condition_template)-[r2]- > \n",
    "          (n3:categorical_bounds)-[r3]- > (n4:material_run)\n",
    "    MATCH (n2_copy:condition_template_copy),(n3_copy:condition_categorical_bounds)\n",
    "    WHERE n1.node_id = $measurement_id AND \n",
    "          n4.node_id = $material_id AND\n",
    "          n2_copy.node_id = n1.node_id + '_' + n2.node_id + '_' + n4.node_id AND \n",
    "          n3_copy.node_id = n1.node_id + '_' + n3.node_id + '_' + n4.node_id\n",
    "    CREATE (n1)-[:measurementRun_to_conditionTemplate]- > (n2_copy)-[:condition_to_category]- > \n",
    "           (n3_copy)-[:category_to_materialRun]- > (n4)\n",
    "'''\n",
    "for material_id, measurement_ids in materialRun_to_measurementRun.items():\n",
    "    for measurement_id in measurement_ids:\n",
    "        graph.run(query, measurement_id = measurement_id, material_id = material_id)\n",
    "        \n",
    "query = '''\n",
    "    MATCH (source)-[r]->(target)\n",
    "    WITH source, target, COLLECT(r) AS relationshipList, COUNT(r) AS count\n",
    "    WHERE count > 1\n",
    "    CALL apoc.refactor.mergeRelationships(relationshipList) YIELD rel\n",
    "    RETURN source,target\n",
    "'''\n",
    "graph.run(query)"
   ]
  },
  {
   "cell_type": "markdown",
   "id": "321af548",
   "metadata": {},
   "source": [
    "**Shared nodes: parameter_template & categorical_bounds, measurement_run -> parameter_template -> categorical_bounds -> material_run**"
   ]
  },
  {
   "cell_type": "code",
   "execution_count": 595,
   "id": "734a87f6",
   "metadata": {},
   "outputs": [
    {
     "data": {
      "text/html": [
       "(No data)"
      ],
      "text/plain": [
       "(No data)"
      ]
     },
     "execution_count": 595,
     "metadata": {},
     "output_type": "execute_result"
    }
   ],
   "source": [
    "query = '''\n",
    "    MATCH (n1:measurement_run)-[r1]- > (n2:parameter_template)-[r2]- > \n",
    "          (n3:categorical_bounds)-[r3]- > (n4:material_run)\n",
    "    WHERE n1.node_id = $measurement_id AND \n",
    "          n4.node_id = $material_id\n",
    "    CREATE (parameter_copy:parameter_template_copy)\n",
    "    SET parameter_copy = properties(n2)\n",
    "    SET parameter_copy.node_id = n1.node_id + '_' + n2.node_id + '_' + n4.node_id\n",
    "    CREATE (categorical_copy:parameter_categorical_bounds)\n",
    "    SET categorical_copy = properties(n3)\n",
    "    SET categorical_copy.node_id = n1.node_id + '_' + n3.node_id + '_' + n4.node_id\n",
    "    RETURN parameter_copy, categorical_copy\n",
    "'''\n",
    "for material_id, measurement_ids in materialRun_to_measurementRun.items():\n",
    "    for measurement_id in measurement_ids:\n",
    "        graph.run(query, measurement_id = measurement_id, material_id = material_id)\n",
    "\n",
    "query = '''\n",
    "    MATCH (n:parameter_template_copy)\n",
    "    WITH n.node_id AS id, COLLECT(n) AS nodelist, COUNT(*) AS count\n",
    "    WHERE count > 1\n",
    "    CALL apoc.refactor.mergeNodes(nodelist) YIELD node\n",
    "    RETURN node\n",
    "'''\n",
    "graph.run(query)\n",
    "query = '''\n",
    "    MATCH (n:parameter_categorical_bounds)\n",
    "    WITH n.node_id AS id, COLLECT(n) AS nodelist, COUNT(*) AS count\n",
    "    WHERE count > 1\n",
    "    CALL apoc.refactor.mergeNodes(nodelist) YIELD node\n",
    "    RETURN node\n",
    "'''\n",
    "graph.run(query)"
   ]
  },
  {
   "cell_type": "code",
   "execution_count": 596,
   "id": "d1a6343b",
   "metadata": {},
   "outputs": [
    {
     "data": {
      "text/html": [
       "(No data)"
      ],
      "text/plain": [
       "(No data)"
      ]
     },
     "execution_count": 596,
     "metadata": {},
     "output_type": "execute_result"
    }
   ],
   "source": [
    "query = '''\n",
    "    MATCH (n1:measurement_run)-[r1]- > (n2:parameter_template)-[r2]- > \n",
    "          (n3:categorical_bounds)-[r3]- > (n4:material_run)\n",
    "    MATCH (n2_copy:parameter_template_copy),(n3_copy:parameter_categorical_bounds)\n",
    "    WHERE n1.node_id = $measurement_id AND \n",
    "          n4.node_id = $material_id AND\n",
    "          n2_copy.node_id = n1.node_id + '_' + n2.node_id + '_' + n4.node_id AND \n",
    "          n3_copy.node_id = n1.node_id + '_' + n3.node_id + '_' + n4.node_id\n",
    "    CREATE (n1)-[:measurementRun_to_parameterTemplate]- > (n2_copy)-[:condition_to_category]- > \n",
    "           (n3_copy)-[:category_to_materialRun]- > (n4)\n",
    "'''\n",
    "for material_id, measurement_ids in materialRun_to_measurementRun.items():\n",
    "    for measurement_id in measurement_ids:\n",
    "        graph.run(query, measurement_id = measurement_id, material_id = material_id)\n",
    "        \n",
    "query = '''\n",
    "    MATCH (source)-[r]->(target)\n",
    "    WITH source, target, COLLECT(r) AS relationshipList, COUNT(r) AS count\n",
    "    WHERE count > 1\n",
    "    CALL apoc.refactor.mergeRelationships(relationshipList) YIELD rel\n",
    "    RETURN source,target\n",
    "'''\n",
    "graph.run(query)"
   ]
  },
  {
   "cell_type": "markdown",
   "id": "6da34671",
   "metadata": {},
   "source": [
    "**Shared nodes: process_template, process_template -> process_spec**"
   ]
  },
  {
   "cell_type": "code",
   "execution_count": 597,
   "id": "57d95a66",
   "metadata": {},
   "outputs": [
    {
     "data": {
      "text/html": [
       "(No data)"
      ],
      "text/plain": [
       "(No data)"
      ]
     },
     "execution_count": 597,
     "metadata": {},
     "output_type": "execute_result"
    }
   ],
   "source": [
    "query = '''\n",
    "    MATCH (parent:process_template)-[r]- > (child: process_spec)\n",
    "    CREATE (copy: process_template_copy)\n",
    "    SET copy = properties(parent)\n",
    "    SET copy.node_id = parent.node_id + '_' + child.node_id\n",
    "'''\n",
    "graph.run(query)\n",
    "query = '''\n",
    "    MATCH (parent:process_template)-[r]- > (child:process_spec)\n",
    "    MATCH (parent_copy:process_template_copy)\n",
    "    WHERE parent_copy.node_id = parent.node_id + '_' + child.node_id\n",
    "    CREATE (parent_copy)-[:processTemplate_to_processSpec]- > (child)\n",
    "'''\n",
    "graph.run(query)\n",
    "query = \"MATCH (n:process_template) DETACH DELETE n\"\n",
    "graph.run(query)"
   ]
  },
  {
   "cell_type": "code",
   "execution_count": 598,
   "id": "1733e83e",
   "metadata": {},
   "outputs": [
    {
     "data": {
      "text/html": [
       "(No data)"
      ],
      "text/plain": [
       "(No data)"
      ]
     },
     "execution_count": 598,
     "metadata": {},
     "output_type": "execute_result"
    }
   ],
   "source": [
    "query = '''\n",
    "    MATCH (parent:measurement_template)-[r]- > (child: measurement_spec)\n",
    "    CREATE (copy: measurement_template_copy)\n",
    "    SET copy = properties(parent)\n",
    "    SET copy.node_id = parent.node_id + '_' + child.node_id\n",
    "'''\n",
    "graph.run(query)\n",
    "query = '''\n",
    "    MATCH (parent:measurement_template)-[r]- > (child:measurement_spec)\n",
    "    MATCH (parent_copy:measurement_template_copy)\n",
    "    WHERE parent_copy.node_id = parent.node_id + '_' + child.node_id\n",
    "    CREATE (parent_copy)-[:measurementTemplate_to_measurementSpec]- > (child)\n",
    "'''\n",
    "graph.run(query)\n",
    "query = \"MATCH (n:measurement_template) DETACH DELETE n\"\n",
    "graph.run(query)"
   ]
  },
  {
   "cell_type": "code",
   "execution_count": 599,
   "id": "9b5eff23",
   "metadata": {},
   "outputs": [
    {
     "data": {
      "text/html": [
       "(No data)"
      ],
      "text/plain": [
       "(No data)"
      ]
     },
     "execution_count": 599,
     "metadata": {},
     "output_type": "execute_result"
    }
   ],
   "source": [
    "query = '''\n",
    "    MATCH (n:condition_template)\n",
    "    DETACH DELETE n\n",
    "'''\n",
    "graph.run(query)"
   ]
  },
  {
   "cell_type": "code",
   "execution_count": 600,
   "id": "4e7ad358",
   "metadata": {},
   "outputs": [
    {
     "data": {
      "text/html": [
       "(No data)"
      ],
      "text/plain": [
       "(No data)"
      ]
     },
     "execution_count": 600,
     "metadata": {},
     "output_type": "execute_result"
    }
   ],
   "source": [
    "query = '''\n",
    "    MATCH (n:parameter_template)\n",
    "    DETACH DELETE n\n",
    "'''\n",
    "graph.run(query)"
   ]
  },
  {
   "cell_type": "code",
   "execution_count": 601,
   "id": "94339a30",
   "metadata": {},
   "outputs": [
    {
     "data": {
      "text/html": [
       "(No data)"
      ],
      "text/plain": [
       "(No data)"
      ]
     },
     "execution_count": 601,
     "metadata": {},
     "output_type": "execute_result"
    }
   ],
   "source": [
    "query = '''\n",
    "    MATCH (n:categorical_bounds)\n",
    "    DETACH DELETE n\n",
    "'''\n",
    "graph.run(query)"
   ]
  },
  {
   "cell_type": "markdown",
   "id": "69d769aa",
   "metadata": {},
   "source": [
    "## Gremlin ##"
   ]
  },
  {
   "cell_type": "code",
   "execution_count": null,
   "id": "cc1043c9",
   "metadata": {},
   "outputs": [],
   "source": []
  },
  {
   "cell_type": "markdown",
   "id": "3a8985fa",
   "metadata": {},
   "source": [
    "# Match #"
   ]
  },
  {
   "cell_type": "code",
   "execution_count": 194,
   "id": "5c4bcb47",
   "metadata": {},
   "outputs": [],
   "source": [
    "def construct_subgraph(nodes_json, edges_json):\n",
    "    nodes = []\n",
    "    node_id = set()\n",
    "    for node_str in nodes_json:\n",
    "        node_json = json.loads(node_str.replace(\"'\", '\"'))\n",
    "        for node in node_json:\n",
    "            if node['properties']['node_id'] in node_id:\n",
    "                continue\n",
    "            else:\n",
    "                node_id.add(node['properties']['node_id'])\n",
    "                nodes.append(node)\n",
    "    edges = []\n",
    "    edge_id = set()\n",
    "    for edge_str in edges_json:\n",
    "        edge_json = json.loads(edge_str.replace(\"'\", '\"'))\n",
    "        for edge in edge_json:\n",
    "            start_id = edge['start']['properties']['node_id']\n",
    "            end_id = edge['end']['properties']['node_id']\n",
    "            if (start_id, end_id) in edge_id:\n",
    "                continue\n",
    "            else:\n",
    "                edge_id.add((start_id, end_id))\n",
    "                edges.append(edge)\n",
    "    for node in nodes:\n",
    "        node_id = ''\n",
    "        name = ''\n",
    "        notes = ''\n",
    "        real_lower_bound = ''\n",
    "        real_upper_bound = ''\n",
    "        real_units = ''\n",
    "        real_name_1 = ''\n",
    "        real_value_1 = ''\n",
    "        real_units_1 = ''\n",
    "        real_name_2 = ''\n",
    "        real_value_2 = ''\n",
    "        real_units_2 = ''\n",
    "        real_name_3 = ''\n",
    "        real_value_3 = ''\n",
    "        real_units_3 = ''\n",
    "        real_name_4 = ''\n",
    "        real_value_4 = ''\n",
    "        real_units_4 = ''\n",
    "        real_name_5 = ''\n",
    "        real_value_5 = ''\n",
    "        real_units_5 = ''\n",
    "        real_name_6 = ''\n",
    "        real_value_6 = ''\n",
    "        real_units_6 = ''\n",
    "        description = ''\n",
    "        node_type = ''\n",
    "        tags = ''\n",
    "        if 'node_id' in node['properties']:\n",
    "            node_id = node['properties']['node_id']\n",
    "        if 'name' in node['properties']:\n",
    "            name = node['properties']['name']\n",
    "        if 'notes' in node['properties']:\n",
    "            notes = node['properties']['notes']\n",
    "        if 'real_lower_bound' in node['properties']:\n",
    "            real_lower_bound = node['properties']['real_lower_bound']\n",
    "        if 'real_upper_bound' in node['properties']:\n",
    "            real_upper_bound = node['properties']['real_upper_bound']\n",
    "        if 'real_units' in node['properties']:\n",
    "            real_units = node['properties']['real_units']\n",
    "        if 'real_name_1' in node['properties']:\n",
    "            real_name_1 = node['properties']['real_name_1']\n",
    "        if 'real_value_1' in node['properties']:\n",
    "            real_value_1 = node['properties']['real_value_1']\n",
    "        if 'real_units_1' in node['properties']:\n",
    "            real_units_1 = node['properties']['real_units_1']\n",
    "        if 'real_name_2' in node['properties']:\n",
    "            real_name_2 = node['properties']['real_name_2']\n",
    "        if 'real_value_2' in node['properties']:\n",
    "            real_value_2 = node['properties']['real_value_2']\n",
    "        if 'real_units_2' in node['properties']:\n",
    "            real_units_2 = node['properties']['real_units_2']\n",
    "        if 'real_name_3' in node['properties']:\n",
    "            real_name_3 = node['properties']['real_name_3']\n",
    "        if 'real_value_3' in node['properties']:\n",
    "            real_value_3 = node['properties']['real_value_3']\n",
    "        if 'real_units_3' in node['properties']:\n",
    "            real_units_3 = node['properties']['real_units_3']\n",
    "        if 'real_name_4' in node['properties']:\n",
    "            real_name_4 = node['properties']['real_name_4']\n",
    "        if 'real_value_4' in node['properties']:\n",
    "            real_value_4 = node['properties']['real_value_4']\n",
    "        if 'real_units_4' in node['properties']:\n",
    "            real_units_4 = node['properties']['real_units_4']\n",
    "        if 'real_name_5' in node['properties']:\n",
    "            real_name_5 = node['properties']['real_name_5']\n",
    "        if 'real_value_5' in node['properties']:\n",
    "            real_value_5 = node['properties']['real_value_5']\n",
    "        if 'real_units_5' in node['properties']:\n",
    "            real_units_5 = node['properties']['real_units_5']\n",
    "        if 'real_name_6' in node['properties']:\n",
    "            real_name_6 = node['properties']['real_name_6']\n",
    "        if 'real_value_6' in node['properties']:\n",
    "            real_value_6 = node['properties']['real_value_6']\n",
    "        if 'real_units_6' in node['properties']:\n",
    "            real_units_6 = node['properties']['real_units_6']\n",
    "        if 'description' in node['properties']:\n",
    "            description = node['properties']['description']\n",
    "        if 'type' in node['properties']:\n",
    "            node_type = node['properties']['type']\n",
    "        if 'tags' in node['properties']:\n",
    "            tags = node['properties']['tags']\n",
    "        g.addV(node['labels'][0]).property('node_id', node_id).property('name', name) \\\n",
    "                                 .property('notes', notes).property('real_lower_bound', real_lower_bound) \\\n",
    "                                 .property('real_upper_bound', real_upper_bound).property('real_units', real_units) \\\n",
    "                                 .property('real_name_1', real_name_1).property('real_value_1', real_value_1) \\\n",
    "                                 .property('real_units_1', real_units_1).property('real_name_2', real_name_2) \\\n",
    "                                 .property('real_value_2', real_value_2).property('real_units_2', real_units_2) \\\n",
    "                                 .property('real_name_3', real_name_3).property('real_value_3', real_value_3) \\\n",
    "                                 .property('real_units_3', real_units_3).property('real_name_4', real_name_4) \\\n",
    "                                 .property('real_value_4', real_value_4).property('real_units_4', real_units_4) \\\n",
    "                                 .property('real_name_5', real_name_5).property('real_value_5', real_value_5) \\\n",
    "                                 .property('real_units_5', real_units_5).property('real_name_6', real_name_6) \\\n",
    "                                 .property('real_value_6', real_value_6).property('real_units_6', real_units_6) \\\n",
    "                                 .property('description', description).property('type', node_type) \\\n",
    "                                 .property('tags', tags).next()\n",
    "    for edge in edges:\n",
    "        start_id = edge['start']['properties']['node_id']\n",
    "        end_id = edge['end']['properties']['node_id']\n",
    "        label = edge['label']\n",
    "        g.V().has('node_id', start_id).as_('v1').V().has('node_id', end_id).addE(label).from_('v1').toList()"
   ]
  },
  {
   "cell_type": "code",
   "execution_count": 15,
   "id": "6aa8dc18",
   "metadata": {},
   "outputs": [],
   "source": [
    "def convert_jsonpath(path):\n",
    "    path = path.replace(']','')\n",
    "    path = re.split(r'&&|\\|\\||=', path)\n",
    "    currentPath = \"\"\n",
    "    query = []\n",
    "    i = 0\n",
    "    while i < len(path)-1:\n",
    "        if '[' in path[i]:\n",
    "            first,second = path[i].split(\"[\")\n",
    "            currentPath += first + \"[\"\n",
    "            count = currentPath.count(\"[\")\n",
    "            query.append(currentPath + second + \"]\"*count)\n",
    "        else:\n",
    "            count = currentPath.count(\"[\")\n",
    "            query.append(currentPath + path[i] + \"]\"*count)\n",
    "        query.append(path[i+1])\n",
    "        i += 2\n",
    "    return query"
   ]
  },
  {
   "cell_type": "code",
   "execution_count": 16,
   "id": "eeea6794",
   "metadata": {},
   "outputs": [],
   "source": [
    "def json_to_graph(nodes_json, edges_json):\n",
    "    for nodes in nodes_json:\n",
    "        for node in nodes:\n",
    "            subgraph.create(Node(node['labels'][0], **node[\"properties\"]))\n",
    "    for edges in edges_json:\n",
    "        for edge in edges:\n",
    "            start_node_id = edge['start']['properties']['node_id']\n",
    "            end_node_id = edge['end']['properties']['node_id']\n",
    "            relationship_type = edge['label']\n",
    "            start_node = subgraph.nodes.match(properties={'node_id':start_node_id}).first()\n",
    "            end_node = subgraph.nodes.match(properties={'node_id':end_node_id}).first()\n",
    "            if start_node and end_node:\n",
    "                relationship = Relationship(start_node, relationship_type, end_node)\n",
    "                graph.create(relationship)\n",
    "    return subgraph"
   ]
  },
  {
   "cell_type": "code",
   "execution_count": 145,
   "id": "50cd0c0d",
   "metadata": {},
   "outputs": [],
   "source": [
    "def generate_match_query(query):\n",
    "    query = query.split(\" FOLLOWS+ \")\n",
    "    parent_path = query[1]\n",
    "    child_path = query[0]\n",
    "    parent = convert_jsonpath(parent_path)\n",
    "    child = convert_jsonpath(child_path)\n",
    "    query = '''\n",
    "    MATCH path = (n) - [*1..5] - > (m) \n",
    "    WITH path, apoc.convert.toJson(apoc.convert.toMap(n)) AS json_n, \n",
    "         apoc.convert.toJson(apoc.convert.toMap(m)) AS json_m \n",
    "    WHERE \n",
    "    '''\n",
    "    i = 0\n",
    "    while i < len(parent):\n",
    "        query += \"apoc.json.path(json_n, \\\"{}\\\")[0] =~ {} AND \".format(parent[i], parent[i+1])\n",
    "        i += 2\n",
    "    i = 0\n",
    "    while i < len(child):\n",
    "        if i != len(child)-2:\n",
    "            query += \"apoc.json.path(json_m, \\\"{}\\\")[0] =~ {} AND \".format(child[i], child[i+1])\n",
    "        else:\n",
    "            query += \"apoc.json.path(json_m, \\\"{}\\\")[0] =~ {} \".format(child[i], child[i+1])\n",
    "        i += 2\n",
    "    query += '''\n",
    "    WITH [node in nodes(path) | { labels: labels(node), properties: properties(node) }] AS nodes,\n",
    "    relationships(path) AS relationships\n",
    "    RETURN apoc.convert.toJson(nodes) as nodes_json, apoc.convert.toJson(relationships) as edges_json\n",
    "    '''\n",
    "    print(query)\n",
    "    return query"
   ]
  },
  {
   "cell_type": "code",
   "execution_count": 146,
   "id": "a7e519f9",
   "metadata": {},
   "outputs": [],
   "source": [
    "def match(query_predicate):\n",
    "    query = generate_match_query(query_predicate)\n",
    "    result = graph.run(query)\n",
    "    nodes_json = []\n",
    "    edges_json = []\n",
    "    for record in result:\n",
    "        nodes_json.append(str(json.loads(record['nodes_json'])))\n",
    "        edges_json.append(str(json.loads(record['edges_json'])))\n",
    "    return nodes_json, edges_json"
   ]
  },
  {
   "cell_type": "code",
   "execution_count": 147,
   "id": "c503ac14",
   "metadata": {
    "scrolled": true
   },
   "outputs": [
    {
     "name": "stdout",
     "output_type": "stream",
     "text": [
      "\n",
      "    MATCH path = (n) - [*1..5] - > (m) \n",
      "    WITH path, apoc.convert.toJson(apoc.convert.toMap(n)) AS json_n, \n",
      "         apoc.convert.toJson(apoc.convert.toMap(m)) AS json_m \n",
      "    WHERE \n",
      "    apoc.json.path(json_n, \"$..['type']\")[0] =~ 'process_run' AND apoc.json.path(json_m, \"$..['type']\")[0] =~ 'material_run'  AND apoc.json.path(json_m, \"$..[ 'name']\")[0] =~ '.*EuS.*' \n",
      "    WITH [node in nodes(path) | { labels: labels(node), properties: properties(node) }] AS nodes,\n",
      "    relationships(path) AS relationships\n",
      "    RETURN apoc.convert.toJson(nodes) as nodes_json, apoc.convert.toJson(relationships) as edges_json\n",
      "    \n"
     ]
    }
   ],
   "source": [
    "query_predicate = \"$..['type'='material_run' && 'name'='.*EuS.*'] FOLLOWS+ $..['type'='process_run']\"\n",
    "nodes_json, edges_json = match(query_predicate)"
   ]
  },
  {
   "cell_type": "code",
   "execution_count": 211,
   "id": "3b8fbb32",
   "metadata": {},
   "outputs": [],
   "source": [
    "remote_conn = DriverRemoteConnection('ws://localhost:8182/gremlin','g')\n",
    "g = traversal().with_remote(remote_conn)"
   ]
  },
  {
   "cell_type": "code",
   "execution_count": 213,
   "id": "ed509441",
   "metadata": {},
   "outputs": [],
   "source": [
    "construct_subgraph(nodes_json, edges_json)"
   ]
  },
  {
   "cell_type": "code",
   "execution_count": 210,
   "id": "b765905b",
   "metadata": {},
   "outputs": [],
   "source": [
    "remote_conn.close()"
   ]
  }
 ],
 "metadata": {
  "kernelspec": {
   "display_name": "Python 3 (ipykernel)",
   "language": "python",
   "name": "python3"
  },
  "language_info": {
   "codemirror_mode": {
    "name": "ipython",
    "version": 3
   },
   "file_extension": ".py",
   "mimetype": "text/x-python",
   "name": "python",
   "nbconvert_exporter": "python",
   "pygments_lexer": "ipython3",
   "version": "3.10.9"
  }
 },
 "nbformat": 4,
 "nbformat_minor": 5
}
