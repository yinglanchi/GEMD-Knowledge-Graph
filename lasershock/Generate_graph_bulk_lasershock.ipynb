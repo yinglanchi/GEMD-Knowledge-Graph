{
 "cells": [
  {
   "cell_type": "code",
   "execution_count": 1,
   "id": "9f3ff7af",
   "metadata": {},
   "outputs": [],
   "source": [
    "import json\n",
    "import csv\n",
    "from jsonpath_ng.ext import parse\n",
    "import collections\n",
    "import os"
   ]
  },
  {
   "cell_type": "code",
   "execution_count": 2,
   "id": "7eb712ce",
   "metadata": {},
   "outputs": [
    {
     "name": "stdout",
     "output_type": "stream",
     "text": [
      "skipping\n",
      "skipping\n",
      "skipping\n",
      "skipping\n",
      "skipping\n",
      "skipping\n"
     ]
    }
   ],
   "source": [
    "directory_path = \"laser_shock_gemd_model_dumps\"\n",
    "json_data = []\n",
    "for filename in os.listdir(directory_path):\n",
    "    file_path = os.path.join(directory_path, filename)\n",
    "    try:\n",
    "        with open(file_path, encoding='utf-8') as file:\n",
    "            json_data.append(json.load(file))\n",
    "    except:\n",
    "        print(\"skipping\")"
   ]
  },
  {
   "cell_type": "markdown",
   "id": "ebd01286",
   "metadata": {},
   "source": [
    "# Nodes #"
   ]
  },
  {
   "cell_type": "markdown",
   "id": "a2836ddf",
   "metadata": {},
   "source": [
    "## Header ##"
   ]
  },
  {
   "cell_type": "code",
   "execution_count": 3,
   "id": "c73dd041",
   "metadata": {},
   "outputs": [],
   "source": [
    "nodes_header = [\"node_id:ID\", \"name\", \"notes\", \"real_lower_bound\", \"real_upper_bound\", \"real_units\", \"real_name_sub\", \\\n",
    "                \"real_value_sub\",\"real_units_sub\", \"description\", \"type\", \"tags\", \"sample_type\", \"mass_fraction\", \\\n",
    "                \"number_fraction\", \"volume_fraction\", \"source_performed_by\", \"source_performed_date\", \"source_type\", \\\n",
    "                \":LABEL\"]\n",
    "\n",
    "with open(\"laser_shock_gemd_model_dumps/nodes_header.csv\", \"w\", newline=\"\") as csvfile:\n",
    "    writer = csv.writer(csvfile)\n",
    "    writer.writerow(nodes_header)"
   ]
  },
  {
   "cell_type": "code",
   "execution_count": 4,
   "id": "8ace91c8",
   "metadata": {},
   "outputs": [],
   "source": [
    "node_ids = set()"
   ]
  },
  {
   "cell_type": "markdown",
   "id": "dee1b859",
   "metadata": {},
   "source": [
    "## Template, Spec, Run ##"
   ]
  },
  {
   "cell_type": "markdown",
   "id": "6a95444f",
   "metadata": {},
   "source": [
    "### Template ###"
   ]
  },
  {
   "cell_type": "code",
   "execution_count": 5,
   "id": "54d9e804",
   "metadata": {},
   "outputs": [],
   "source": [
    "materal_template_expr = parse('$[?(@.type == \"material_template\")]')\n",
    "nodes = materal_template_expr.find(json_data)"
   ]
  },
  {
   "cell_type": "code",
   "execution_count": 6,
   "id": "61ba42b9",
   "metadata": {},
   "outputs": [],
   "source": [
    "with open(\"laser_shock_gemd_model_dumps/nodes.csv\", \"w\", newline=\"\") as csvfile:\n",
    "    writer = csv.writer(csvfile)\n",
    "    for n in nodes:\n",
    "        node_id = n.value['uids']['auto']\n",
    "        if node_id in node_ids: continue\n",
    "        node_ids.add(node_id)\n",
    "        name = n.value['name']\n",
    "        notes = n.value['notes'] if 'notes' in n.value else \"\"\n",
    "        real_lower_bound = \"\"\n",
    "        real_upper_bound = \"\"\n",
    "        real_units = \"\"\n",
    "        real_name_sub = []\n",
    "        real_value_sub = []\n",
    "        real_units_sub = []\n",
    "        description = n.value['description'] if 'description' in n.value else \"\"\n",
    "        node_type = n.value['type']\n",
    "        tags = n.value['tags'] if 'tags' in n.value else []\n",
    "        sample_type = n.value['sample_type'] if 'sample_type' in n.value else \"\"\n",
    "        mass_fraction = n.value['mass_fraction'] if 'mass_fraction' in n.value else \"\"\n",
    "        number_fraction = n.value['number_fraction'] if 'number_fraction' in n.value else \"\"\n",
    "        volume_fraction = n.value['volume_fraction'] if 'volume_fraction' in n.value else \"\"\n",
    "        source_performed_by = n.value['source']['performed_by'] if 'source' in n.value else \"\"\n",
    "        source_performed_date = n.value['source']['performed_date'] if 'source' in n.value else \"\"\n",
    "        source_type = n.value['source']['type'] if 'source' in n.value else \"\"\n",
    "        label = n.value['type']\n",
    "        node_value = [node_id, name, notes, real_lower_bound, real_upper_bound, real_units, real_name_sub, \\\n",
    "                      real_value_sub, real_units_sub, description, node_type, tags, sample_type, mass_fraction, \\\n",
    "                      number_fraction, volume_fraction, source_performed_by, source_performed_date, source_type, label]\n",
    "        writer.writerow(node_value)"
   ]
  },
  {
   "cell_type": "code",
   "execution_count": 7,
   "id": "21cfd83e",
   "metadata": {},
   "outputs": [],
   "source": [
    "process_template_expr = parse('$[?(@.type == \"process_template\")]')\n",
    "nodes = process_template_expr.find(json_data)"
   ]
  },
  {
   "cell_type": "code",
   "execution_count": 8,
   "id": "000eaaad",
   "metadata": {},
   "outputs": [],
   "source": [
    "with open(\"laser_shock_gemd_model_dumps/nodes.csv\", \"a\", newline=\"\") as csvfile:\n",
    "    writer = csv.writer(csvfile)\n",
    "    for n in nodes:\n",
    "        node_id = n.value['uids']['auto']\n",
    "        if node_id in node_ids: continue\n",
    "        node_ids.add(node_id)\n",
    "        name = n.value['name']\n",
    "        notes = n.value['notes'] if 'notes' in n.value else \"\"\n",
    "        real_lower_bound = \"\"\n",
    "        real_upper_bound = \"\"\n",
    "        real_units = \"\"\n",
    "        real_name_sub = []\n",
    "        real_value_sub = []\n",
    "        real_units_sub = []\n",
    "        description = n.value['description'] if 'description' in n.value else \"\"\n",
    "        node_type = n.value['type']\n",
    "        tags = n.value['tags'] if 'tags' in n.value else [] \n",
    "        sample_type = n.value['sample_type'] if 'sample_type' in n.value else \"\"\n",
    "        mass_fraction = n.value['mass_fraction'] if 'mass_fraction' in n.value else \"\"\n",
    "        number_fraction = n.value['number_fraction'] if 'number_fraction' in n.value else \"\"\n",
    "        volume_fraction = n.value['volume_fraction'] if 'volume_fraction' in n.value else \"\"\n",
    "        source_performed_by = n.value['source']['performed_by'] if 'source' in n.value else \"\"\n",
    "        source_performed_date = n.value['source']['performed_date'] if 'source' in n.value else \"\"\n",
    "        source_type = n.value['source']['type'] if 'source' in n.value else \"\"\n",
    "        label = n.value['type']\n",
    "        node_value = [node_id, name, notes, real_lower_bound, real_upper_bound, real_units, real_name_sub, \\\n",
    "                      real_value_sub, real_units_sub, description, node_type, tags, sample_type, mass_fraction, \\\n",
    "                      number_fraction, volume_fraction, source_performed_by, source_performed_date, source_type, label]\n",
    "        writer.writerow(node_value)"
   ]
  },
  {
   "cell_type": "code",
   "execution_count": 9,
   "id": "a9be3a80",
   "metadata": {},
   "outputs": [],
   "source": [
    "measurement_template_expr = parse('$[?(@.type == \"measurement_template\")]')\n",
    "nodes = measurement_template_expr.find(json_data)"
   ]
  },
  {
   "cell_type": "code",
   "execution_count": 10,
   "id": "9a6875f5",
   "metadata": {},
   "outputs": [],
   "source": [
    "with open(\"laser_shock_gemd_model_dumps/nodes.csv\", \"a\", newline=\"\") as csvfile:\n",
    "    writer = csv.writer(csvfile)\n",
    "    for n in nodes:\n",
    "        node_id = n.value['uids']['auto']\n",
    "        if node_id in node_ids: continue\n",
    "        node_ids.add(node_id)\n",
    "        name = n.value['name']\n",
    "        notes = n.value['notes'] if 'notes' in n.value else \"\"\n",
    "        real_lower_bound = \"\"\n",
    "        real_upper_bound = \"\"\n",
    "        real_units = \"\"\n",
    "        real_name_sub = []\n",
    "        real_value_sub = []\n",
    "        real_units_sub = []\n",
    "        description = n.value['description'] if 'description' in n.value else \"\"\n",
    "        node_type = n.value['type']\n",
    "        tags = n.value['tags'] if 'tags' in n.value else [] \n",
    "        sample_type = n.value['sample_type'] if 'sample_type' in n.value else \"\"\n",
    "        mass_fraction = n.value['mass_fraction'] if 'mass_fraction' in n.value else \"\"\n",
    "        number_fraction = n.value['number_fraction'] if 'number_fraction' in n.value else \"\"\n",
    "        volume_fraction = n.value['volume_fraction'] if 'volume_fraction' in n.value else \"\"\n",
    "        source_performed_by = n.value['source']['performed_by'] if 'source' in n.value else \"\"\n",
    "        source_performed_date = n.value['source']['performed_date'] if 'source' in n.value else \"\"\n",
    "        source_type = n.value['source']['type'] if 'source' in n.value else \"\"\n",
    "        label = n.value['type']\n",
    "        node_value = [node_id, name, notes, real_lower_bound, real_upper_bound, real_units, real_name_sub, \\\n",
    "                      real_value_sub, real_units_sub, description, node_type, tags, sample_type, mass_fraction, \\\n",
    "                      number_fraction, volume_fraction, source_performed_by, source_performed_date, source_type, label]\n",
    "        writer.writerow(node_value)"
   ]
  },
  {
   "cell_type": "code",
   "execution_count": 11,
   "id": "bd31db8b",
   "metadata": {},
   "outputs": [],
   "source": [
    "parameter_template_expr = parse('$[?(@.type == \"parameter_template\")]')\n",
    "nodes = parameter_template_expr.find(json_data)"
   ]
  },
  {
   "cell_type": "code",
   "execution_count": 12,
   "id": "5c6d2524",
   "metadata": {},
   "outputs": [],
   "source": [
    "with open(\"laser_shock_gemd_model_dumps/nodes.csv\", \"a\", newline=\"\") as csvfile:\n",
    "    writer = csv.writer(csvfile)\n",
    "    for n in nodes:\n",
    "        node_id = n.value['uids']['auto']\n",
    "        if node_id in node_ids: continue\n",
    "        node_ids.add(node_id)\n",
    "        name = n.value['name']\n",
    "        notes = n.value['notes'] if 'notes' in n.value else \"\"\n",
    "        real_lower_bound = n.value['bounds']['lower_bound'] if ('bounds' in n.value and n.value['bounds']['type'] == 'real_bounds') else \"\"\n",
    "        real_upper_bound = n.value['bounds']['upper_bound'] if ('bounds' in n.value and n.value['bounds']['type'] == 'real_bounds') else \"\"\n",
    "        real_units = n.value['bounds']['default_units'] if ('bounds' in n.value and n.value['bounds']['type'] == 'real_bounds') else \"\"\n",
    "        real_name_sub = []\n",
    "        real_value_sub = []\n",
    "        real_units_sub = []\n",
    "        description = n.value['description'] if 'description' in n.value else \"\"\n",
    "        node_type = n.value['type']\n",
    "        tags = n.value['tags'] if 'tags' in n.value else []  \n",
    "        sample_type = n.value['sample_type'] if 'sample_type' in n.value else \"\"\n",
    "        mass_fraction = n.value['mass_fraction'] if 'mass_fraction' in n.value else \"\"\n",
    "        number_fraction = n.value['number_fraction'] if 'number_fraction' in n.value else \"\"\n",
    "        volume_fraction = n.value['volume_fraction'] if 'volume_fraction' in n.value else \"\"\n",
    "        source_performed_by = n.value['source']['performed_by'] if 'source' in n.value else \"\"\n",
    "        source_performed_date = n.value['source']['performed_date'] if 'source' in n.value else \"\"\n",
    "        source_type = n.value['source']['type'] if 'source' in n.value else \"\"\n",
    "        label = n.value['type']\n",
    "        node_value = [node_id, name, notes, real_lower_bound, real_upper_bound, real_units, real_name_sub, \\\n",
    "                      real_value_sub, real_units_sub, description, node_type, tags, sample_type, mass_fraction, \\\n",
    "                      number_fraction, volume_fraction, source_performed_by, source_performed_date, source_type, label]\n",
    "        writer.writerow(node_value)"
   ]
  },
  {
   "cell_type": "code",
   "execution_count": 13,
   "id": "37dc4a26",
   "metadata": {},
   "outputs": [],
   "source": [
    "property_template_expr = parse('$[?(@.type == \"property_template\")]')\n",
    "nodes = property_template_expr.find(json_data)"
   ]
  },
  {
   "cell_type": "code",
   "execution_count": 14,
   "id": "a7e613b1",
   "metadata": {},
   "outputs": [],
   "source": [
    "with open(\"laser_shock_gemd_model_dumps/nodes.csv\", \"a\", newline=\"\") as csvfile:\n",
    "    writer = csv.writer(csvfile)\n",
    "    for n in nodes:\n",
    "        node_id = n.value['uids']['auto']\n",
    "        if node_id in node_ids: continue\n",
    "        node_ids.add(node_id)\n",
    "        name = n.value['name']\n",
    "        notes = n.value['notes'] if 'notes' in n.value else \"\"\n",
    "        real_lower_bound = n.value['bounds']['lower_bound'] if ('bounds' in n.value and n.value['bounds']['type'] == 'real_bounds') else \"\"\n",
    "        real_upper_bound = n.value['bounds']['upper_bound'] if ('bounds' in n.value and n.value['bounds']['type'] == 'real_bounds') else \"\"\n",
    "        real_units = n.value['bounds']['default_units'] if ('bounds' in n.value and n.value['bounds']['type'] == 'real_bounds') else \"\"\n",
    "        real_name_sub = []\n",
    "        real_value_sub = []\n",
    "        real_units_sub = []\n",
    "        description = n.value['description'] if 'description' in n.value else \"\"\n",
    "        node_type = n.value['type']\n",
    "        tags = n.value['tags'] if 'tags' in n.value else [] \n",
    "        sample_type = n.value['sample_type'] if 'sample_type' in n.value else \"\"\n",
    "        mass_fraction = n.value['mass_fraction'] if 'mass_fraction' in n.value else \"\"\n",
    "        number_fraction = n.value['number_fraction'] if 'number_fraction' in n.value else \"\"\n",
    "        volume_fraction = n.value['volume_fraction'] if 'volume_fraction' in n.value else \"\"\n",
    "        source_performed_by = n.value['source']['performed_by'] if 'source' in n.value else \"\"\n",
    "        source_performed_date = n.value['source']['performed_date'] if 'source' in n.value else \"\"\n",
    "        source_type = n.value['source']['type'] if 'source' in n.value else \"\"\n",
    "        label = n.value['type']\n",
    "        node_value = [node_id, name, notes, real_lower_bound, real_upper_bound, real_units, real_name_sub, \\\n",
    "                      real_value_sub, real_units_sub, description, node_type, tags, sample_type, mass_fraction, \\\n",
    "                      number_fraction, volume_fraction, source_performed_by, source_performed_date, source_type, label]\n",
    "        writer.writerow(node_value)"
   ]
  },
  {
   "cell_type": "code",
   "execution_count": 15,
   "id": "95d0a183",
   "metadata": {},
   "outputs": [],
   "source": [
    "condition_template_expr = parse('$[?(@.type == \"condition_template\")]')\n",
    "nodes = condition_template_expr.find(json_data)"
   ]
  },
  {
   "cell_type": "code",
   "execution_count": 16,
   "id": "04b6e920",
   "metadata": {},
   "outputs": [],
   "source": [
    "with open(\"laser_shock_gemd_model_dumps/nodes.csv\", \"a\", newline=\"\") as csvfile:\n",
    "    writer = csv.writer(csvfile)\n",
    "    for n in nodes:\n",
    "        node_id = n.value['uids']['auto']\n",
    "        if node_id in node_ids: continue\n",
    "        node_ids.add(node_id)\n",
    "        name = n.value['name']\n",
    "        notes = n.value['notes'] if 'notes' in n.value else \"\"\n",
    "        real_lower_bound = n.value['bounds']['lower_bound'] if ('bounds' in n.value and n.value['bounds']['type'] == 'real_bounds') else \"\"\n",
    "        real_upper_bound = n.value['bounds']['upper_bound'] if ('bounds' in n.value and n.value['bounds']['type'] == 'real_bounds') else \"\"\n",
    "        real_units = n.value['bounds']['default_units'] if ('bounds' in n.value and n.value['bounds']['type'] == 'real_bounds') else \"\"\n",
    "        real_name_sub = []\n",
    "        real_value_sub = []\n",
    "        real_units_sub = []\n",
    "        description = n.value['description'] if 'description' in n.value else \"\"\n",
    "        node_type = n.value['type']\n",
    "        tags = n.value['tags'] if 'tags' in n.value else [] \n",
    "        sample_type = n.value['sample_type'] if 'sample_type' in n.value else \"\"\n",
    "        mass_fraction = n.value['mass_fraction'] if 'mass_fraction' in n.value else \"\"\n",
    "        number_fraction = n.value['number_fraction'] if 'number_fraction' in n.value else \"\"\n",
    "        volume_fraction = n.value['volume_fraction'] if 'volume_fraction' in n.value else \"\"\n",
    "        source_performed_by = n.value['source']['performed_by'] if 'source' in n.value else \"\"\n",
    "        source_performed_date = n.value['source']['performed_date'] if 'source' in n.value else \"\"\n",
    "        source_type = n.value['source']['type'] if 'source' in n.value else \"\"\n",
    "        label = n.value['type']\n",
    "        node_value = [node_id, name, notes, real_lower_bound, real_upper_bound, real_units, real_name_sub, \\\n",
    "                      real_value_sub, real_units_sub, description, node_type, tags, sample_type, mass_fraction, \\\n",
    "                      number_fraction, volume_fraction, source_performed_by, source_performed_date, source_type, label]\n",
    "        writer.writerow(node_value)"
   ]
  },
  {
   "cell_type": "markdown",
   "id": "37c558c3",
   "metadata": {},
   "source": [
    "### Categorical Bounds ###"
   ]
  },
  {
   "cell_type": "code",
   "execution_count": 17,
   "id": "960dfd1b",
   "metadata": {},
   "outputs": [],
   "source": [
    "i = 0\n",
    "categoryName_to_id = {}"
   ]
  },
  {
   "cell_type": "code",
   "execution_count": 18,
   "id": "66a03857",
   "metadata": {},
   "outputs": [],
   "source": [
    "parameter_template_expr = parse('$[?(@.type == \"parameter_template\")]')\n",
    "nodes = parameter_template_expr.find(json_data)"
   ]
  },
  {
   "cell_type": "code",
   "execution_count": 19,
   "id": "ee6a74a8",
   "metadata": {},
   "outputs": [],
   "source": [
    "with open(\"laser_shock_gemd_model_dumps/nodes.csv\", \"a\", newline=\"\") as csvfile:\n",
    "    writer = csv.writer(csvfile)\n",
    "    for n in nodes:\n",
    "        if 'bounds' in n.value and n.value['bounds']['type'] == 'categorical_bounds':\n",
    "            for j in range(len(n.value['bounds']['categories'])):\n",
    "                node_id = \"categorical \" + str(i)\n",
    "                name = n.value['bounds']['categories'][j]\n",
    "                categoryName_to_id[name] = node_id\n",
    "                notes = \"\"\n",
    "                real_lower_bound = \"\"\n",
    "                real_upper_bound = \"\"\n",
    "                real_units = \"\"\n",
    "                real_name_sub = []\n",
    "                real_value_sub = []\n",
    "                real_units_sub = []\n",
    "                description = \"\"\n",
    "                node_type = 'categorical_bounds'\n",
    "                tags = []\n",
    "                sample_type = \"\"\n",
    "                mass_fraction = \"\"\n",
    "                number_fraction = \"\"\n",
    "                volume_fraction = \"\"\n",
    "                source_performed_by = \"\"\n",
    "                source_performed_date = \"\"\n",
    "                source_type = \"\"\n",
    "                label = 'categorical_bounds'\n",
    "                node_value = [node_id, name, notes, real_lower_bound, real_upper_bound, real_units, real_name_sub, \\\n",
    "                      real_value_sub, real_units_sub, description, node_type, tags, sample_type, mass_fraction, \\\n",
    "                      number_fraction, volume_fraction, source_performed_by, source_performed_date, source_type, label]\n",
    "                writer.writerow(node_value)\n",
    "                i += 1"
   ]
  },
  {
   "cell_type": "code",
   "execution_count": 20,
   "id": "0fdbbb9c",
   "metadata": {},
   "outputs": [],
   "source": [
    "property_template_expr = parse('$[?(@.type == \"property_template\")]')\n",
    "nodes = property_template_expr.find(json_data)"
   ]
  },
  {
   "cell_type": "code",
   "execution_count": 21,
   "id": "7fc2e36d",
   "metadata": {},
   "outputs": [],
   "source": [
    "with open(\"laser_shock_gemd_model_dumps/nodes.csv\", \"a\", newline=\"\") as csvfile:\n",
    "    writer = csv.writer(csvfile)\n",
    "    for n in nodes:\n",
    "        if 'bounds' in n.value and n.value['bounds']['type'] == 'categorical_bounds':\n",
    "            for j in range(len(n.value['bounds']['categories'])):\n",
    "                node_id = \"categorical \" + str(i)\n",
    "                name = n.value['bounds']['categories'][j]\n",
    "                categoryName_to_id[name] = node_id\n",
    "                notes = \"\"\n",
    "                real_lower_bound = \"\"\n",
    "                real_upper_bound = \"\"\n",
    "                real_units = \"\"\n",
    "                real_name_sub = []\n",
    "                real_value_sub = []\n",
    "                real_units_sub = []\n",
    "                description = \"\"\n",
    "                node_type = 'categorical_bounds'\n",
    "                tags = []\n",
    "                sample_type = \"\"\n",
    "                mass_fraction = \"\"\n",
    "                number_fraction = \"\"\n",
    "                volume_fraction = \"\"\n",
    "                source_performed_by = \"\"\n",
    "                source_performed_date = \"\"\n",
    "                source_type = \"\"\n",
    "                label = 'categorical_bounds'\n",
    "                node_value = [node_id, name, notes, real_lower_bound, real_upper_bound, real_units, real_name_sub, \\\n",
    "                      real_value_sub, real_units_sub, description, node_type, tags, sample_type, mass_fraction, \\\n",
    "                      number_fraction, volume_fraction, source_performed_by, source_performed_date, source_type, label]\n",
    "                writer.writerow(node_value)\n",
    "                i += 1"
   ]
  },
  {
   "cell_type": "code",
   "execution_count": 22,
   "id": "479ba91f",
   "metadata": {},
   "outputs": [],
   "source": [
    "condition_template_expr = parse('$[?(@.type == \"condition_template\")]')\n",
    "nodes = condition_template_expr.find(json_data)"
   ]
  },
  {
   "cell_type": "code",
   "execution_count": 23,
   "id": "5ac97aaf",
   "metadata": {},
   "outputs": [],
   "source": [
    "with open(\"laser_shock_gemd_model_dumps/nodes.csv\", \"a\", newline=\"\") as csvfile:\n",
    "    writer = csv.writer(csvfile)\n",
    "    for n in nodes:\n",
    "        if 'bounds' in n.value and n.value['bounds']['type'] == 'categorical_bounds':\n",
    "            for j in range(len(n.value['bounds']['categories'])):\n",
    "                node_id = \"categorical \" + str(i)\n",
    "                name = n.value['bounds']['categories'][j]\n",
    "                categoryName_to_id[name] = node_id\n",
    "                notes = \"\"\n",
    "                real_lower_bound = \"\"\n",
    "                real_upper_bound = \"\"\n",
    "                real_units = \"\"\n",
    "                real_name_sub = []\n",
    "                real_value_sub = []\n",
    "                real_units_sub = []\n",
    "                description = \"\"\n",
    "                node_type = 'categorical_bounds'\n",
    "                tags = []\n",
    "                sample_type = \"\"\n",
    "                mass_fraction = \"\"\n",
    "                number_fraction = \"\"\n",
    "                volume_fraction = \"\"\n",
    "                source_performed_by = \"\"\n",
    "                source_performed_date = \"\"\n",
    "                source_type = \"\"\n",
    "                label = 'categorical_bounds'\n",
    "                node_value = [node_id, name, notes, real_lower_bound, real_upper_bound, real_units, real_name_sub, \\\n",
    "                      real_value_sub, real_units_sub, description, node_type, tags, sample_type, mass_fraction, \\\n",
    "                      number_fraction, volume_fraction, source_performed_by, source_performed_date, source_type, label]\n",
    "                writer.writerow(node_value)\n",
    "                i += 1"
   ]
  },
  {
   "cell_type": "code",
   "execution_count": 24,
   "id": "1d4cf898",
   "metadata": {},
   "outputs": [
    {
     "data": {
      "text/plain": [
       "{'CS Hyde': 'categorical 0',\n",
       " 'New': 'categorical 1',\n",
       " 'Old': 'categorical 2',\n",
       " 'Loctite': 'categorical 3',\n",
       " '9709K91': 'categorical 4',\n",
       " '1-Point': 'categorical 5',\n",
       " '32-Point': 'categorical 6',\n",
       " 'B8476012': 'categorical 7',\n",
       " 'B84760126': 'categorical 8',\n",
       " 'B84760127': 'categorical 9',\n",
       " 'B84760128': 'categorical 10',\n",
       " 'Kapton Included Adhesive': 'categorical 30',\n",
       " 'Loctite 460': 'categorical 31',\n",
       " 'Off': 'categorical 173',\n",
       " 'On': 'categorical 174',\n",
       " '10': 'categorical 32',\n",
       " '100': 'categorical 85',\n",
       " '2': 'categorical 182',\n",
       " '20': 'categorical 33',\n",
       " '200': 'categorical 91',\n",
       " '5': 'categorical 185',\n",
       " '50': 'categorical 34',\n",
       " 'Long pulse': 'categorical 22',\n",
       " 'Q switched': 'categorical 23',\n",
       " 'Impact Side': 'categorical 24',\n",
       " 'PDV Side': 'categorical 25',\n",
       " 'Diamond': 'categorical 26',\n",
       " 'Silicon Carbide': 'categorical 27',\n",
       " 'Narrow': 'categorical 28',\n",
       " 'Open': 'categorical 29',\n",
       " 'AluFoil': 'categorical 35',\n",
       " 'McMaster Carr': 'categorical 99',\n",
       " '1000': 'categorical 86',\n",
       " '120': 'categorical 38',\n",
       " '1200': 'categorical 39',\n",
       " '1500': 'categorical 40',\n",
       " '180': 'categorical 41',\n",
       " '1800': 'categorical 42',\n",
       " '2000': 'categorical 43',\n",
       " '240': 'categorical 44',\n",
       " '320': 'categorical 45',\n",
       " '400': 'categorical 46',\n",
       " '600': 'categorical 47',\n",
       " '800': 'categorical 48',\n",
       " '0.10': 'categorical 49',\n",
       " '0.25': 'categorical 50',\n",
       " '0.50': 'categorical 51',\n",
       " '1.0': 'categorical 52',\n",
       " '15': 'categorical 53',\n",
       " '3.0': 'categorical 54',\n",
       " '30': 'categorical 55',\n",
       " '35': 'categorical 56',\n",
       " '45': 'categorical 57',\n",
       " '6.0': 'categorical 58',\n",
       " '60': 'categorical 80',\n",
       " '9.0': 'categorical 60',\n",
       " 'No': 'categorical 130',\n",
       " 'Yes': 'categorical 131',\n",
       " '1Bc+3Bc': 'categorical 63',\n",
       " '4Bc': 'categorical 64',\n",
       " 'Aged': 'categorical 65',\n",
       " 'Solutionized': 'categorical 66',\n",
       " '1,000': 'categorical 67',\n",
       " '1,000,000': 'categorical 68',\n",
       " '10,000': 'categorical 69',\n",
       " '10,000,000': 'categorical 70',\n",
       " '100,000': 'categorical 71',\n",
       " '2,000,000': 'categorical 72',\n",
       " '20,000': 'categorical 73',\n",
       " '200,000': 'categorical 75',\n",
       " '5,000,000': 'categorical 76',\n",
       " '50,000': 'categorical 77',\n",
       " '500': 'categorical 95',\n",
       " '500,000': 'categorical 79',\n",
       " 'Extrusion Direction': 'categorical 81',\n",
       " 'Longitudinal Direction': 'categorical 82',\n",
       " 'Normal Direction': 'categorical 83',\n",
       " 'Transverse Direction': 'categorical 84',\n",
       " '10000': 'categorical 87',\n",
       " '100000': 'categorical 88',\n",
       " '1000000': 'categorical 89',\n",
       " '10000000': 'categorical 90',\n",
       " '20000': 'categorical 92',\n",
       " '200000': 'categorical 93',\n",
       " '2000000': 'categorical 94',\n",
       " '50000': 'categorical 96',\n",
       " '500000': 'categorical 97',\n",
       " '5000000': 'categorical 98',\n",
       " 'Minor': 'categorical 132',\n",
       " 'None': 'categorical 138',\n",
       " 'Significant': 'categorical 134',\n",
       " 'Amazing': 'categorical 103',\n",
       " 'Eh': 'categorical 104',\n",
       " 'Good': 'categorical 105',\n",
       " 'Great': 'categorical 106',\n",
       " 'OK': 'categorical 107',\n",
       " 'Hard': 'categorical 108',\n",
       " 'Soft': 'categorical 109',\n",
       " 'Unknown': 'categorical 110',\n",
       " 'Aluminum': 'categorical 111',\n",
       " 'Copper': 'categorical 112',\n",
       " 'Flat': 'categorical 113',\n",
       " 'Major Rotation': 'categorical 114',\n",
       " 'Slight Rotation': 'categorical 115',\n",
       " 'Acrylic': 'categorical 116',\n",
       " 'N/A': 'categorical 117',\n",
       " 'Silicone': 'categorical 118',\n",
       " 'BMG': 'categorical 119',\n",
       " 'Ceramic': 'categorical 120',\n",
       " 'Composite': 'categorical 121',\n",
       " 'HEA': 'categorical 122',\n",
       " 'Metal': 'categorical 123',\n",
       " 'Polymer': 'categorical 124',\n",
       " 'Kapton': 'categorical 125',\n",
       " 'Full': 'categorical 126',\n",
       " 'No visible': 'categorical 127',\n",
       " 'Partial': 'categorical 128',\n",
       " 'Through sample': 'categorical 129',\n",
       " 'Complete': 'categorical 135',\n",
       " 'Incomplete': 'categorical 136',\n",
       " 'Double': 'categorical 137',\n",
       " 'Single': 'categorical 139',\n",
       " 'HoloOr': 'categorical 140',\n",
       " 'Silios': 'categorical 141',\n",
       " 'Kirana': 'categorical 142',\n",
       " 'Not Used': 'categorical 143',\n",
       " 'Shimadzu': 'categorical 144',\n",
       " 'Kinematic Optical Mount': 'categorical 145',\n",
       " 'Simple Clamp': 'categorical 146',\n",
       " 'Vacuum Chamber': 'categorical 147',\n",
       " 'ECAE': 'categorical 206',\n",
       " 'Rolling': 'categorical 207',\n",
       " 'Atomic Percent': 'categorical 150',\n",
       " 'Weight Percent': 'categorical 151',\n",
       " '105': 'categorical 152',\n",
       " 'Alignment Stage': 'categorical 165',\n",
       " 'Manual': 'categorical 166',\n",
       " 'OD 1': 'categorical 155',\n",
       " 'OD 10': 'categorical 156',\n",
       " 'OD 2': 'categorical 157',\n",
       " 'OD 3': 'categorical 158',\n",
       " 'OD 4': 'categorical 159',\n",
       " 'OD 5': 'categorical 160',\n",
       " 'OD 6': 'categorical 161',\n",
       " 'OD 7': 'categorical 162',\n",
       " 'OD 8': 'categorical 163',\n",
       " 'OD 9': 'categorical 164',\n",
       " '0': 'categorical 180',\n",
       " '1': 'categorical 181',\n",
       " 'IR filter': 'categorical 170',\n",
       " 'Texwipe/diffuser': 'categorical 171',\n",
       " 'none': 'categorical 213',\n",
       " 'Femtosecond Laser': 'categorical 175',\n",
       " 'Laser Cutter': 'categorical 176',\n",
       " 'Standard v1 (US)': 'categorical 177',\n",
       " 'Standard v2 (Different Lasers)': 'categorical 178',\n",
       " 'Time Lens': 'categorical 179',\n",
       " '3': 'categorical 183',\n",
       " '4': 'categorical 203',\n",
       " '6': 'categorical 186',\n",
       " '7': 'categorical 187',\n",
       " 'Continuous': 'categorical 188',\n",
       " 'Pulsed': 'categorical 189',\n",
       " 'Billet': 'categorical 190',\n",
       " 'Foil': 'categorical 191',\n",
       " 'Plate': 'categorical 192',\n",
       " '647 CWL/10 FWHM': 'categorical 193',\n",
       " '648 CWL/20 FWHM': 'categorical 194',\n",
       " 'Diamond Wire Saw': 'categorical 195',\n",
       " 'EDM': 'categorical 196',\n",
       " 'TEM Punch': 'categorical 197',\n",
       " '11': 'categorical 198',\n",
       " '16': 'categorical 199',\n",
       " '2.8': 'categorical 200',\n",
       " '22': 'categorical 201',\n",
       " '32': 'categorical 202',\n",
       " '5.6': 'categorical 204',\n",
       " '8': 'categorical 205',\n",
       " 'Cavitar': 'categorical 208',\n",
       " 'SiLux': 'categorical 209',\n",
       " '3D printed grid': 'categorical 210',\n",
       " 'Glass Petri Dish': 'categorical 211',\n",
       " 'PDMS': 'categorical 212',\n",
       " 'Apparatus': 'categorical 214',\n",
       " 'Handclamp': 'categorical 215',\n",
       " 'Individual': 'categorical 216',\n",
       " 'Large Area Plate': 'categorical 217'}"
      ]
     },
     "execution_count": 24,
     "metadata": {},
     "output_type": "execute_result"
    }
   ],
   "source": [
    "categoryName_to_id"
   ]
  },
  {
   "cell_type": "markdown",
   "id": "c2aaaf56",
   "metadata": {},
   "source": [
    "### Spec ###"
   ]
  },
  {
   "cell_type": "code",
   "execution_count": 25,
   "id": "dbf7423e",
   "metadata": {},
   "outputs": [],
   "source": [
    "material_spec_expr = parse('$[?(@.type == \"material_spec\")]')\n",
    "nodes = material_spec_expr.find(json_data)"
   ]
  },
  {
   "cell_type": "code",
   "execution_count": 26,
   "id": "3a2d17b4",
   "metadata": {},
   "outputs": [],
   "source": [
    "with open(\"laser_shock_gemd_model_dumps/nodes.csv\", \"a\", newline=\"\") as csvfile:\n",
    "    writer = csv.writer(csvfile)\n",
    "    for n in nodes:\n",
    "        node_id = n.value['uids']['auto']\n",
    "        if node_id in node_ids: continue\n",
    "        node_ids.add(node_id)\n",
    "        name = n.value['name']\n",
    "        notes = n.value['notes'] if 'notes' in n.value else \"\"\n",
    "        real_lower_bound = \"\"\n",
    "        real_upper_bound = \"\"\n",
    "        real_units = \"\"\n",
    "        real_name_sub = []\n",
    "        real_value_sub = []\n",
    "        real_units_sub = []\n",
    "        if 'properties' in n.value:\n",
    "            for node_property in n.value['properties']:\n",
    "                if node_property['property']['value']['type'] == 'nominal_real':\n",
    "                    real_name_sub.append(node_property['property']['name'])\n",
    "                    real_value_sub.append(node_property['property']['value']['nominal'])\n",
    "                    real_units_sub.append(node_property['property']['value']['units'])\n",
    "        description = n.value['description'] if 'description' in n.value else \"\"\n",
    "        node_type = n.value['type']\n",
    "        tags = n.value['tags'] if 'tags' in n.value else [] \n",
    "        sample_type = n.value['sample_type'] if 'sample_type' in n.value else \"\"\n",
    "        mass_fraction = n.value['mass_fraction'] if 'mass_fraction' in n.value else \"\"\n",
    "        number_fraction = n.value['number_fraction'] if 'number_fraction' in n.value else \"\"\n",
    "        volume_fraction = n.value['volume_fraction'] if 'volume_fraction' in n.value else \"\"\n",
    "        source_performed_by = n.value['source']['performed_by'] if 'source' in n.value else \"\"\n",
    "        source_performed_date = n.value['source']['performed_date'] if 'source' in n.value else \"\"\n",
    "        source_type = n.value['source']['type'] if 'source' in n.value else \"\"\n",
    "        label = n.value['type']\n",
    "        node_value = [node_id, name, notes, real_lower_bound, real_upper_bound, real_units, real_name_sub, \\\n",
    "                      real_value_sub, real_units_sub, description, node_type, tags, sample_type, mass_fraction, \\\n",
    "                      number_fraction, volume_fraction, source_performed_by, source_performed_date, source_type, label]\n",
    "        writer.writerow(node_value)"
   ]
  },
  {
   "cell_type": "code",
   "execution_count": 27,
   "id": "db4d2bbf",
   "metadata": {},
   "outputs": [],
   "source": [
    "ingredient_spec_expr = parse('$[?(@.type == \"ingredient_spec\")]')\n",
    "nodes = ingredient_spec_expr.find(json_data)"
   ]
  },
  {
   "cell_type": "code",
   "execution_count": 28,
   "id": "2573d6fc",
   "metadata": {},
   "outputs": [],
   "source": [
    "with open(\"laser_shock_gemd_model_dumps/nodes.csv\", \"a\", newline=\"\") as csvfile:\n",
    "    writer = csv.writer(csvfile)\n",
    "    for n in nodes:\n",
    "        node_id = n.value['uids']['auto']\n",
    "        if node_id in node_ids: continue\n",
    "        node_ids.add(node_id)\n",
    "        name = n.value['name']\n",
    "        notes = n.value['notes'] if 'notes' in n.value else \"\"\n",
    "        real_lower_bound = \"\"\n",
    "        real_upper_bound = \"\"\n",
    "        real_units = \"\"\n",
    "        real_name_sub = []\n",
    "        real_value_sub = []\n",
    "        real_units_sub = []\n",
    "        description = n.value['description'] if 'description' in n.value else \"\"\n",
    "        node_type = n.value['type']\n",
    "        tags = n.value['tags'] if 'tags' in n.value else [] \n",
    "        sample_type = n.value['sample_type'] if 'sample_type' in n.value else \"\"\n",
    "        mass_fraction = n.value['mass_fraction'] if 'mass_fraction' in n.value else \"\"\n",
    "        number_fraction = n.value['number_fraction'] if 'number_fraction' in n.value else \"\"\n",
    "        volume_fraction = n.value['volume_fraction'] if 'volume_fraction' in n.value else \"\"\n",
    "        source_performed_by = n.value['source']['performed_by'] if 'source' in n.value else \"\"\n",
    "        source_performed_date = n.value['source']['performed_date'] if 'source' in n.value else \"\"\n",
    "        source_type = n.value['source']['type'] if 'source' in n.value else \"\"\n",
    "        label = n.value['type']\n",
    "        node_value = [node_id, name, notes, real_lower_bound, real_upper_bound, real_units, real_name_sub, \\\n",
    "                      real_value_sub, real_units_sub, description, node_type, tags, sample_type, mass_fraction, \\\n",
    "                      number_fraction, volume_fraction, source_performed_by, source_performed_date, source_type, label]\n",
    "        writer.writerow(node_value)"
   ]
  },
  {
   "cell_type": "code",
   "execution_count": 29,
   "id": "7461654c",
   "metadata": {},
   "outputs": [],
   "source": [
    "process_spec_expr = parse('$[?(@.type == \"process_spec\")]')\n",
    "nodes = process_spec_expr.find(json_data)"
   ]
  },
  {
   "cell_type": "code",
   "execution_count": 30,
   "id": "3821507e",
   "metadata": {},
   "outputs": [],
   "source": [
    "with open(\"laser_shock_gemd_model_dumps/nodes.csv\", \"a\", newline=\"\") as csvfile:\n",
    "    writer = csv.writer(csvfile)\n",
    "    for n in nodes:\n",
    "        node_id = n.value['uids']['auto']\n",
    "        if node_id in node_ids: continue\n",
    "        node_ids.add(node_id)\n",
    "        name = n.value['name']\n",
    "        notes = n.value['notes'] if 'notes' in n.value else \"\"\n",
    "        real_lower_bound = \"\"\n",
    "        real_upper_bound = \"\"\n",
    "        real_units = \"\"\n",
    "        real_name_sub = []\n",
    "        real_value_sub = []\n",
    "        real_units_sub = []\n",
    "        if 'conditions' in n.value:\n",
    "            for node_condition in n.value['conditions']:\n",
    "                if node_condition['value']['type'] == 'nominal_real':\n",
    "                    real_name_sub.append(node_condition['name'])\n",
    "                    real_value_sub.append(node_condition['value']['nominal'])\n",
    "                    real_units_sub.append(node_condition['value']['units'])\n",
    "        if 'parameters' in n.value:\n",
    "            for node_parameter in n.value['parameters']:\n",
    "                if node_parameter['value']['type'] == 'nominal_real':\n",
    "                    real_name_sub.append(node_parameter['name'])\n",
    "                    real_value_sub.append(node_parameter['value']['nominal'])\n",
    "                    real_units_sub.append(node_parameter['value']['units'])\n",
    "        description = n.value['description'] if 'description' in n.value else \"\"\n",
    "        node_type = n.value['type']\n",
    "        tags = n.value['tags'] if 'tags' in n.value else [] \n",
    "        sample_type = n.value['sample_type'] if 'sample_type' in n.value else \"\"\n",
    "        mass_fraction = n.value['mass_fraction'] if 'mass_fraction' in n.value else \"\"\n",
    "        number_fraction = n.value['number_fraction'] if 'number_fraction' in n.value else \"\"\n",
    "        volume_fraction = n.value['volume_fraction'] if 'volume_fraction' in n.value else \"\"\n",
    "        source_performed_by = n.value['source']['performed_by'] if 'source' in n.value else \"\"\n",
    "        source_performed_date = n.value['source']['performed_date'] if 'source' in n.value else \"\"\n",
    "        source_type = n.value['source']['type'] if 'source' in n.value else \"\"\n",
    "        label = n.value['type']\n",
    "        node_value = [node_id, name, notes, real_lower_bound, real_upper_bound, real_units, real_name_sub, \\\n",
    "                      real_value_sub, real_units_sub, description, node_type, tags, sample_type, mass_fraction, \\\n",
    "                      number_fraction, volume_fraction, source_performed_by, source_performed_date, source_type, label]\n",
    "        writer.writerow(node_value)"
   ]
  },
  {
   "cell_type": "code",
   "execution_count": 31,
   "id": "ddad3758",
   "metadata": {},
   "outputs": [],
   "source": [
    "measurement_spec_expr = parse('$[?(@.type == \"measurement_spec\")]')\n",
    "nodes = measurement_spec_expr.find(json_data)"
   ]
  },
  {
   "cell_type": "code",
   "execution_count": 32,
   "id": "45c65f8c",
   "metadata": {},
   "outputs": [],
   "source": [
    "with open(\"laser_shock_gemd_model_dumps/nodes.csv\", \"a\", newline=\"\") as csvfile:\n",
    "    writer = csv.writer(csvfile)\n",
    "    for n in nodes:\n",
    "        node_id = n.value['uids']['auto']\n",
    "        if node_id in node_ids: continue\n",
    "        node_ids.add(node_id)\n",
    "        name = n.value['name']\n",
    "        notes = n.value['notes'] if 'notes' in n.value else \"\"\n",
    "        real_lower_bound = \"\"\n",
    "        real_upper_bound = \"\"\n",
    "        real_units = \"\"\n",
    "        real_name_sub = []\n",
    "        real_value_sub = []\n",
    "        real_units_sub = []\n",
    "        if 'conditions' in n.value:\n",
    "            for node_condition in n.value['conditions']:\n",
    "                if node_condition['value']['type'] == 'nominal_real':\n",
    "                    real_name_sub.append(node_condition['name'])\n",
    "                    real_value_sub.append(node_condition['value']['nominal'])\n",
    "                    real_units_sub.append(node_condition['value']['units'])\n",
    "        if 'parameters' in n.value:\n",
    "            for node_parameter in n.value['parameters']:\n",
    "                if node_parameter['value']['type'] == 'nominal_real':\n",
    "                    real_name_sub.append(node_parameter['name'])\n",
    "                    real_value_sub.append(node_parameter['value']['nominal'])\n",
    "                    real_units_sub.append(node_parameter['value']['units'])\n",
    "        description = n.value['description'] if 'description' in n.value else \"\"\n",
    "        node_type = n.value['type']\n",
    "        tags = n.value['tags'] if 'tags' in n.value else [] \n",
    "        sample_type = n.value['sample_type'] if 'sample_type' in n.value else \"\"\n",
    "        mass_fraction = n.value['mass_fraction'] if 'mass_fraction' in n.value else \"\"\n",
    "        number_fraction = n.value['number_fraction'] if 'number_fraction' in n.value else \"\"\n",
    "        volume_fraction = n.value['volume_fraction'] if 'volume_fraction' in n.value else \"\"\n",
    "        source_performed_by = n.value['source']['performed_by'] if 'source' in n.value else \"\"\n",
    "        source_performed_date = n.value['source']['performed_date'] if 'source' in n.value else \"\"\n",
    "        source_type = n.value['source']['type'] if 'source' in n.value else \"\"\n",
    "        label = n.value['type']\n",
    "        node_value = [node_id, name, notes, real_lower_bound, real_upper_bound, real_units, real_name_sub, \\\n",
    "                      real_value_sub, real_units_sub, description, node_type, tags, sample_type, mass_fraction, \\\n",
    "                      number_fraction, volume_fraction, source_performed_by, source_performed_date, source_type, label]\n",
    "        writer.writerow(node_value)"
   ]
  },
  {
   "cell_type": "markdown",
   "id": "4b47d1eb",
   "metadata": {},
   "source": [
    "### run ###"
   ]
  },
  {
   "cell_type": "code",
   "execution_count": 33,
   "id": "76716764",
   "metadata": {},
   "outputs": [],
   "source": [
    "material_run_expr = parse('$[?(@.type == \"material_run\")]')\n",
    "nodes = material_run_expr.find(json_data)"
   ]
  },
  {
   "cell_type": "code",
   "execution_count": 34,
   "id": "8ec0e4ce",
   "metadata": {},
   "outputs": [],
   "source": [
    "with open(\"laser_shock_gemd_model_dumps/nodes.csv\", \"a\", newline=\"\") as csvfile:\n",
    "    writer = csv.writer(csvfile)\n",
    "    for n in nodes:\n",
    "        node_id = n.value['uids']['auto']\n",
    "        if node_id in node_ids: continue\n",
    "        node_ids.add(node_id)\n",
    "        name = n.value['name']\n",
    "        notes = n.value['notes'] if 'notes' in n.value else \"\"\n",
    "        real_lower_bound = \"\"\n",
    "        real_upper_bound = \"\"\n",
    "        real_units = \"\"\n",
    "        real_name_sub = []\n",
    "        real_value_sub = []\n",
    "        real_units_sub = []\n",
    "        description = n.value['description'] if 'description' in n.value else \"\"\n",
    "        node_type = n.value['type']\n",
    "        tags = n.value['tags'] if 'tags' in n.value else [] \n",
    "        sample_type = n.value['sample_type'] if 'sample_type' in n.value else \"\"\n",
    "        mass_fraction = n.value['mass_fraction'] if 'mass_fraction' in n.value else \"\"\n",
    "        number_fraction = n.value['number_fraction'] if 'number_fraction' in n.value else \"\"\n",
    "        volume_fraction = n.value['volume_fraction'] if 'volume_fraction' in n.value else \"\"\n",
    "        source_performed_by = n.value['source']['performed_by'] if 'source' in n.value else \"\"\n",
    "        source_performed_date = n.value['source']['performed_date'] if 'source' in n.value else \"\"\n",
    "        source_type = n.value['source']['type'] if 'source' in n.value else \"\"\n",
    "        label = n.value['type']\n",
    "        node_value = [node_id, name, notes, real_lower_bound, real_upper_bound, real_units, real_name_sub, \\\n",
    "                      real_value_sub, real_units_sub, description, node_type, tags, sample_type, mass_fraction, \\\n",
    "                      number_fraction, volume_fraction, source_performed_by, source_performed_date, source_type, label]\n",
    "        writer.writerow(node_value)"
   ]
  },
  {
   "cell_type": "code",
   "execution_count": 35,
   "id": "d7d45668",
   "metadata": {},
   "outputs": [],
   "source": [
    "ingredient_run_expr = parse('$[?(@.type == \"ingredient_run\")]')\n",
    "nodes = ingredient_run_expr.find(json_data)"
   ]
  },
  {
   "cell_type": "code",
   "execution_count": 36,
   "id": "f2d4e68b",
   "metadata": {},
   "outputs": [],
   "source": [
    "with open(\"laser_shock_gemd_model_dumps/nodes.csv\", \"a\", newline=\"\") as csvfile:\n",
    "    writer = csv.writer(csvfile)\n",
    "    for n in nodes:\n",
    "        node_id = n.value['uids']['auto']\n",
    "        if node_id in node_ids: continue\n",
    "        node_ids.add(node_id)\n",
    "        name = n.value['name']\n",
    "        notes = n.value['notes'] if 'notes' in n.value else \"\"\n",
    "        real_lower_bound = \"\"\n",
    "        real_upper_bound = \"\"\n",
    "        real_units = \"\"\n",
    "        real_name_sub = []\n",
    "        real_value_sub = []\n",
    "        real_units_sub = []\n",
    "        description = n.value['description'] if 'description' in n.value else \"\"\n",
    "        node_type = n.value['type']\n",
    "        tags = n.value['tags'] if 'tags' in n.value else [] \n",
    "        sample_type = n.value['sample_type'] if 'sample_type' in n.value else \"\"\n",
    "        mass_fraction = n.value['mass_fraction'] if 'mass_fraction' in n.value else \"\"\n",
    "        number_fraction = n.value['number_fraction'] if 'number_fraction' in n.value else \"\"\n",
    "        volume_fraction = n.value['volume_fraction'] if 'volume_fraction' in n.value else \"\"\n",
    "        source_performed_by = n.value['source']['performed_by'] if 'source' in n.value else \"\"\n",
    "        source_performed_date = n.value['source']['performed_date'] if 'source' in n.value else \"\"\n",
    "        source_type = n.value['source']['type'] if 'source' in n.value else \"\"\n",
    "        label = n.value['type']\n",
    "        node_value = [node_id, name, notes, real_lower_bound, real_upper_bound, real_units, real_name_sub, \\\n",
    "                      real_value_sub, real_units_sub, description, node_type, tags, sample_type, mass_fraction, \\\n",
    "                      number_fraction, volume_fraction, source_performed_by, source_performed_date, source_type, label]\n",
    "        writer.writerow(node_value)"
   ]
  },
  {
   "cell_type": "code",
   "execution_count": 37,
   "id": "d979ed64",
   "metadata": {},
   "outputs": [],
   "source": [
    "process_run_expr = parse('$[?(@.type == \"process_run\")]')\n",
    "nodes = process_run_expr.find(json_data)"
   ]
  },
  {
   "cell_type": "code",
   "execution_count": 38,
   "id": "17a7b0aa",
   "metadata": {},
   "outputs": [],
   "source": [
    "with open(\"laser_shock_gemd_model_dumps/nodes.csv\", \"a\", newline=\"\") as csvfile:\n",
    "    writer = csv.writer(csvfile)\n",
    "    for n in nodes:\n",
    "        node_id = n.value['uids']['auto']\n",
    "        if node_id in node_ids: continue\n",
    "        node_ids.add(node_id)\n",
    "        name = n.value['name']\n",
    "        notes = n.value['notes'] if 'notes' in n.value else \"\"\n",
    "        real_lower_bound = \"\"\n",
    "        real_upper_bound = \"\"\n",
    "        real_units = \"\"\n",
    "        real_name_sub = []\n",
    "        real_value_sub = []\n",
    "        real_units_sub = []\n",
    "        if 'conditions' in n.value:\n",
    "            for node_condition in n.value['conditions']:\n",
    "                if node_condition['value']['type'] == 'nominal_real':\n",
    "                    real_name_sub.append(node_condition['name'])\n",
    "                    real_value_sub.append(node_condition['value']['nominal'])\n",
    "                    real_units_sub.append(node_condition['value']['units'])\n",
    "        if 'parameters' in n.value:\n",
    "            for node_parameter in n.value['parameters']:\n",
    "                if node_parameter['value']['type'] == 'nominal_real':\n",
    "                    real_name_sub.append(node_parameter['name'])\n",
    "                    real_value_sub.append(node_parameter['value']['nominal'])\n",
    "                    real_units_sub.append(node_parameter['value']['units'])\n",
    "        description = n.value['description'] if 'description' in n.value else \"\"\n",
    "        node_type = n.value['type']\n",
    "        tags = n.value['tags'] if 'tags' in n.value else [] \n",
    "        sample_type = n.value['sample_type'] if 'sample_type' in n.value else \"\"\n",
    "        mass_fraction = n.value['mass_fraction'] if 'mass_fraction' in n.value else \"\"\n",
    "        number_fraction = n.value['number_fraction'] if 'number_fraction' in n.value else \"\"\n",
    "        volume_fraction = n.value['volume_fraction'] if 'volume_fraction' in n.value else \"\"\n",
    "        source_performed_by = n.value['source']['performed_by'] if 'source' in n.value and n.value['source'] else \"\"\n",
    "        source_performed_date = n.value['source']['performed_date'] if 'source' in n.value and n.value['source'] else \"\"\n",
    "        source_type = n.value['source']['type'] if 'source' in n.value and n.value['source'] else \"\"\n",
    "        label = n.value['type']\n",
    "        node_value = [node_id, name, notes, real_lower_bound, real_upper_bound, real_units, real_name_sub, \\\n",
    "                      real_value_sub, real_units_sub, description, node_type, tags, sample_type, mass_fraction, \\\n",
    "                      number_fraction, volume_fraction, source_performed_by, source_performed_date, source_type, label]\n",
    "        writer.writerow(node_value)"
   ]
  },
  {
   "cell_type": "code",
   "execution_count": 39,
   "id": "5307e88d",
   "metadata": {},
   "outputs": [],
   "source": [
    "measurement_run_expr = parse('$[?(@.type == \"measurement_run\")]')\n",
    "nodes = measurement_run_expr.find(json_data)"
   ]
  },
  {
   "cell_type": "code",
   "execution_count": 40,
   "id": "bbb64dbb",
   "metadata": {},
   "outputs": [],
   "source": [
    "with open(\"laser_shock_gemd_model_dumps/nodes.csv\", \"a\", newline=\"\") as csvfile:\n",
    "    writer = csv.writer(csvfile)\n",
    "    for n in nodes:\n",
    "        node_id = n.value['uids']['auto']\n",
    "        if node_id in node_ids: continue\n",
    "        node_ids.add(node_id)\n",
    "        name = n.value['name']\n",
    "        notes = n.value['notes'] if 'notes' in n.value else \"\"\n",
    "        real_lower_bound = \"\"\n",
    "        real_upper_bound = \"\"\n",
    "        real_units = \"\"\n",
    "        real_name_sub = []\n",
    "        real_value_sub = []\n",
    "        real_units_sub = []\n",
    "        if 'conditions' in n.value:\n",
    "            for node_condition in n.value['conditions']:\n",
    "                if node_condition['value']['type'] == 'nominal_real':\n",
    "                    real_name_sub.append(node_condition['name'])\n",
    "                    real_value_sub.append(node_condition['value']['nominal'])\n",
    "                    real_units_sub.append(node_condition['value']['units'])\n",
    "        if 'parameters' in n.value:\n",
    "            for node_parameter in n.value['parameters']:\n",
    "                if node_parameter['value']['type'] == 'nominal_real':\n",
    "                    real_name_sub.append(node_parameter['name'])\n",
    "                    real_value_sub.append(node_parameter['value']['nominal'])\n",
    "                    real_units_sub.append(node_parameter['value']['units'])\n",
    "        description = n.value['description'] if 'description' in n.value else \"\"\n",
    "        node_type = n.value['type']\n",
    "        tags = n.value['tags'] if 'tags' in n.value else [] \n",
    "        sample_type = n.value['sample_type'] if 'sample_type' in n.value else \"\"\n",
    "        mass_fraction = n.value['mass_fraction'] if 'mass_fraction' in n.value else \"\"\n",
    "        number_fraction = n.value['number_fraction'] if 'number_fraction' in n.value else \"\"\n",
    "        volume_fraction = n.value['volume_fraction'] if 'volume_fraction' in n.value else \"\"\n",
    "        source_performed_by = n.value['source']['performed_by'] if 'source' in n.value and n.value['source'] else \"\"\n",
    "        source_performed_date = n.value['source']['performed_date'] if 'source' in n.value and n.value['source'] else \"\"\n",
    "        source_type = n.value['source']['type'] if 'source' in n.value and n.value['source'] else \"\"\n",
    "        label = n.value['type']\n",
    "        node_value = [node_id, name, notes, real_lower_bound, real_upper_bound, real_units, real_name_sub, \\\n",
    "                      real_value_sub, real_units_sub, description, node_type, tags, sample_type, mass_fraction, \\\n",
    "                      number_fraction, volume_fraction, source_performed_by, source_performed_date, source_type, label]\n",
    "        writer.writerow(node_value)"
   ]
  },
  {
   "cell_type": "markdown",
   "id": "68ef29b2",
   "metadata": {},
   "source": [
    "# Edges #"
   ]
  },
  {
   "cell_type": "code",
   "execution_count": 100,
   "id": "af7d3a0e",
   "metadata": {},
   "outputs": [],
   "source": [
    "edges_header = [\":START_ID\", \":END_ID\", \":TYPE\"]\n",
    "with open(\"laser_shock_gemd_model_dumps/edges_header.csv\", \"w\", newline=\"\") as csvfile:\n",
    "    writer = csv.writer(csvfile)\n",
    "    writer.writerow(edges_header)"
   ]
  },
  {
   "cell_type": "markdown",
   "id": "9ac9f338",
   "metadata": {},
   "source": [
    "### material template -> material spec ###"
   ]
  },
  {
   "cell_type": "code",
   "execution_count": 101,
   "id": "0a931e69",
   "metadata": {},
   "outputs": [],
   "source": [
    "material_template_expr = parse('$[?(@.type == \"material_spec\")]')\n",
    "nodes = material_template_expr.find(json_data)"
   ]
  },
  {
   "cell_type": "code",
   "execution_count": 106,
   "id": "f7e9616d",
   "metadata": {},
   "outputs": [],
   "source": [
    "with open(\"laser_shock_gemd_model_dumps/edges.csv\", \"w\", newline=\"\") as csvfile:\n",
    "    writer = csv.writer(csvfile)\n",
    "    for n in nodes:\n",
    "        if n.value['template']:\n",
    "            source_id = n.value['template']['id']\n",
    "            target_id = n.value['uids']['auto']\n",
    "            label = 'materialTemplate_to_materialSpec'\n",
    "            edge_value = [source_id, target_id, label]\n",
    "            writer.writerow(edge_value)"
   ]
  },
  {
   "cell_type": "markdown",
   "id": "e0289f7f",
   "metadata": {},
   "source": [
    "### property/parameter/condition template -> categorical bounds ###"
   ]
  },
  {
   "cell_type": "code",
   "execution_count": 107,
   "id": "8d68f580",
   "metadata": {},
   "outputs": [],
   "source": [
    "property_template_expr = parse('$[?(@.type == \"property_template\")]')\n",
    "nodes = property_template_expr.find(json_data)"
   ]
  },
  {
   "cell_type": "code",
   "execution_count": 110,
   "id": "8004e907",
   "metadata": {},
   "outputs": [],
   "source": [
    "with open(\"laser_shock_gemd_model_dumps/edges.csv\", \"a\", newline=\"\") as csvfile:\n",
    "    writer = csv.writer(csvfile)\n",
    "    for n in nodes:\n",
    "        source_id = n.value['uids']['auto']\n",
    "        if 'categories' in n.value['bounds']:\n",
    "            for category in n.value['bounds']['categories']:\n",
    "                category_id = categoryName_to_id[category]\n",
    "                label = 'property_to_category'\n",
    "                edge_value = [source_id, category_id, label]\n",
    "                writer.writerow(edge_value)"
   ]
  },
  {
   "cell_type": "code",
   "execution_count": 114,
   "id": "6f1536f9",
   "metadata": {},
   "outputs": [],
   "source": [
    "parameter_template_expr = parse('$[?(@.type == \"parameter_template\")]')\n",
    "nodes = parameter_template_expr.find(json_data)"
   ]
  },
  {
   "cell_type": "code",
   "execution_count": 115,
   "id": "13219331",
   "metadata": {},
   "outputs": [],
   "source": [
    "with open(\"laser_shock_gemd_model_dumps/edges.csv\", \"a\", newline=\"\") as csvfile:\n",
    "    writer = csv.writer(csvfile)\n",
    "    for n in nodes:\n",
    "        source_id = n.value['uids']['auto']\n",
    "        if 'categories' in n.value['bounds']:\n",
    "            for category in n.value['bounds']['categories']:\n",
    "                category_id = categoryName_to_id[category]\n",
    "                label = 'parameter_to_category'\n",
    "                edge_value = [source_id, category_id, label]\n",
    "                writer.writerow(edge_value)"
   ]
  },
  {
   "cell_type": "code",
   "execution_count": 116,
   "id": "9f28267d",
   "metadata": {},
   "outputs": [],
   "source": [
    "condition_template_expr = parse('$[?(@.type == \"condition_template\")]')\n",
    "nodes = condition_template_expr.find(json_data)"
   ]
  },
  {
   "cell_type": "code",
   "execution_count": 117,
   "id": "5480c4b9",
   "metadata": {},
   "outputs": [],
   "source": [
    "with open(\"laser_shock_gemd_model_dumps/edges.csv\", \"a\", newline=\"\") as csvfile:\n",
    "    writer = csv.writer(csvfile)\n",
    "    for n in nodes:\n",
    "        source_id = n.value['uids']['auto']\n",
    "        if 'categories' in n.value['bounds']:\n",
    "            for category in n.value['bounds']['categories']:\n",
    "                category_id = categoryName_to_id[category]\n",
    "                label = 'condition_to_category'\n",
    "                edge_value = [source_id, category_id, label]\n",
    "                writer.writerow(edge_value)"
   ]
  },
  {
   "cell_type": "markdown",
   "id": "84411548",
   "metadata": {},
   "source": [
    "### material spec -> property template ###"
   ]
  },
  {
   "cell_type": "code",
   "execution_count": 118,
   "id": "f961d080",
   "metadata": {},
   "outputs": [],
   "source": [
    "material_spec_expr = parse('$[?(@.type == \"material_spec\")]')\n",
    "nodes = material_spec_expr.find(json_data)"
   ]
  },
  {
   "cell_type": "code",
   "execution_count": 121,
   "id": "199934a5",
   "metadata": {},
   "outputs": [],
   "source": [
    "with open(\"laser_shock_gemd_model_dumps/edges.csv\", \"a\", newline=\"\") as csvfile:\n",
    "    writer = csv.writer(csvfile)\n",
    "    for n in nodes:\n",
    "        spec_id = n.value['uids']['auto']\n",
    "        if 'properties' in n.value:\n",
    "            for node_property in n.value['properties']:\n",
    "                property_id = node_property['property']['template']['id']\n",
    "                label = 'materialSpec_to_propertyTemplate'\n",
    "                edge_value = [spec_id, property_id, label]\n",
    "                writer.writerow(edge_value)"
   ]
  },
  {
   "cell_type": "markdown",
   "id": "5b031262",
   "metadata": {},
   "source": [
    "### categorical bounds -> ingredient spec ###"
   ]
  },
  {
   "cell_type": "code",
   "execution_count": 124,
   "id": "72dc15ad",
   "metadata": {},
   "outputs": [],
   "source": [
    "materialSpecId_to_propertyId = collections.defaultdict(list)"
   ]
  },
  {
   "cell_type": "code",
   "execution_count": 125,
   "id": "5195d188",
   "metadata": {},
   "outputs": [],
   "source": [
    "material_spec_expr = parse('$[?(@.type == \"material_spec\")]')\n",
    "nodes = material_spec_expr.find(json_data)"
   ]
  },
  {
   "cell_type": "code",
   "execution_count": 126,
   "id": "b93a4ad0",
   "metadata": {},
   "outputs": [],
   "source": [
    "for n in nodes:\n",
    "    material_id = n.value['uids']['auto']\n",
    "    if 'properties' in n.value:\n",
    "        for node_property in n.value['properties']:\n",
    "            if node_property['property']['value']['type'] == 'nominal_categorical':\n",
    "                property_name = node_property['property']['value']['category']\n",
    "                category_id = categoryName_to_id[property_name]\n",
    "                materialSpecId_to_propertyId[material_id].append(category_id)"
   ]
  },
  {
   "cell_type": "code",
   "execution_count": 153,
   "id": "35bcce15",
   "metadata": {},
   "outputs": [],
   "source": [
    "ingredient_spec_expr = parse('$[?(@.type == \"ingredient_spec\")]')\n",
    "nodes = ingredient_spec_expr.find(json_data)"
   ]
  },
  {
   "cell_type": "code",
   "execution_count": 130,
   "id": "80a4f688",
   "metadata": {},
   "outputs": [],
   "source": [
    "with open(\"laser_shock_gemd_model_dumps/edges.csv\", \"a\", newline=\"\") as csvfile:\n",
    "    writer = csv.writer(csvfile)\n",
    "    for n in nodes:\n",
    "        ingredient_id = n.value['uids']['auto']\n",
    "        if n.value['material']:\n",
    "            material_id = n.value['material']['id']\n",
    "            for category_id in materialSpecId_to_propertyId[material_id]:\n",
    "                edge_value = [category_id, ingredient_id, 'category_to_ingredient']\n",
    "                writer.writerow(edge_value)"
   ]
  },
  {
   "cell_type": "code",
   "execution_count": 154,
   "id": "87b98741",
   "metadata": {},
   "outputs": [],
   "source": [
    "with open(\"laser_shock_gemd_model_dumps/edges.csv\", \"a\", newline=\"\") as csvfile:\n",
    "    writer = csv.writer(csvfile)\n",
    "    for n in nodes:\n",
    "        ingredient_id = n.value['uids']['auto']\n",
    "        if n.value['material']:\n",
    "            material_id = n.value['material']['id']\n",
    "            if len(materialSpecId_to_propertyId[material_id]) == 0:\n",
    "                edge_value = [material_id, ingredient_id, 'materialSpec_to_ingredientSpec']\n",
    "                writer.writerow(edge_value)"
   ]
  },
  {
   "cell_type": "markdown",
   "id": "d7537447",
   "metadata": {},
   "source": [
    "### ingredient_spec -> parameter/condition template ###"
   ]
  },
  {
   "cell_type": "code",
   "execution_count": 131,
   "id": "3cbec6d2",
   "metadata": {},
   "outputs": [],
   "source": [
    "processSpecId_to_parameterCategoryId = collections.defaultdict(list)\n",
    "processSpecId_to_conditionCategoryId = collections.defaultdict(list)\n",
    "processSpecId_to_parameterTemplateId = collections.defaultdict(list)\n",
    "processSpecId_to_conditionTemplateId = collections.defaultdict(list)"
   ]
  },
  {
   "cell_type": "code",
   "execution_count": 132,
   "id": "6be7553b",
   "metadata": {},
   "outputs": [],
   "source": [
    "process_spec_expr = parse('$[?(@.type == \"process_spec\")]')\n",
    "nodes = process_spec_expr.find(json_data)"
   ]
  },
  {
   "cell_type": "code",
   "execution_count": 133,
   "id": "c169b1db",
   "metadata": {},
   "outputs": [],
   "source": [
    "for n in nodes:\n",
    "    process_id = n.value['uids']['auto']\n",
    "    if 'conditions' in n.value:\n",
    "        for node_condition in n.value['conditions']:\n",
    "            template_id = node_condition['template']['id']\n",
    "            if node_condition['value']['type'] == 'nominal_categorical':\n",
    "                condition_name = node_condition['value']['category']\n",
    "                category_id = categoryName_to_id[condition_name]\n",
    "                if category_id not in processSpecId_to_conditionCategoryId[process_id]:\n",
    "                    processSpecId_to_conditionCategoryId[process_id].append(category_id)\n",
    "            if template_id not in processSpecId_to_conditionTemplateId[process_id]:\n",
    "                processSpecId_to_conditionTemplateId[process_id].append(template_id)\n",
    "    if 'parameters' in n.value:\n",
    "        for node_parameter in n.value['parameters']:\n",
    "            template_id = node_parameter['template']['id']\n",
    "            if node_parameter['value']['type'] == 'nominal_categorical':\n",
    "                parameter_name = node_parameter['value']['category']\n",
    "                category_id = categoryName_to_id[parameter_name]\n",
    "                if category_id not in processSpecId_to_parameterCategoryId[process_id]:\n",
    "                    processSpecId_to_parameterCategoryId[process_id].append(category_id)\n",
    "            if template_id not in processSpecId_to_parameterTemplateId[process_id]:\n",
    "                processSpecId_to_parameterTemplateId[process_id].append(template_id)"
   ]
  },
  {
   "cell_type": "code",
   "execution_count": 135,
   "id": "4f3fece5",
   "metadata": {},
   "outputs": [],
   "source": [
    "ingredient_spec_expr = parse('$[?(@.type == \"ingredient_spec\")]')\n",
    "nodes = ingredient_spec_expr.find(json_data)"
   ]
  },
  {
   "cell_type": "code",
   "execution_count": 136,
   "id": "90b7e69e",
   "metadata": {},
   "outputs": [],
   "source": [
    "with open(\"laser_shock_gemd_model_dumps/edges.csv\", \"a\", newline=\"\") as csvfile:\n",
    "    writer = csv.writer(csvfile)\n",
    "    for n in nodes:\n",
    "        ingredient_id = n.value['uids']['auto']\n",
    "        process_id = n.value['process']['id']\n",
    "        for conditionTemplate_id in processSpecId_to_conditionTemplateId[process_id]:\n",
    "            edge_value = [ingredient_id, conditionTemplate_id, 'ingredientSpec_to_conditionTemplate']\n",
    "            writer.writerow(edge_value)\n",
    "        for parameterTemplate_id in processSpecId_to_parameterTemplateId[process_id]:\n",
    "            edge_value = [ingredient_id, parameterTemplate_id, 'ingredientSpec_to_parameterTemplate']\n",
    "            writer.writerow(edge_value)"
   ]
  },
  {
   "cell_type": "code",
   "execution_count": 137,
   "id": "8678d937",
   "metadata": {},
   "outputs": [],
   "source": [
    "with open(\"laser_shock_gemd_model_dumps/edges.csv\", \"a\", newline=\"\") as csvfile:\n",
    "    writer = csv.writer(csvfile)\n",
    "    for n in nodes:\n",
    "        ingredient_id = n.value['uids']['auto']\n",
    "        process_id = n.value['process']['id']\n",
    "        if len(processSpecId_to_conditionTemplateId[process_id]) == 0 \\\n",
    "           and len(processSpecId_to_parameterTemplateId[process_id]) == 0: \n",
    "            edge_value = [ingredient_id, process_id, 'ingredientSpec_to_processSpec']\n",
    "            writer.writerow(edge_value)"
   ]
  },
  {
   "cell_type": "markdown",
   "id": "2c301fc2",
   "metadata": {},
   "source": [
    "### categorical bounds -> process spec ###"
   ]
  },
  {
   "cell_type": "code",
   "execution_count": 138,
   "id": "0cfe1477",
   "metadata": {},
   "outputs": [],
   "source": [
    "process_spec_expr = parse('$[?(@.type == \"process_spec\")]')\n",
    "nodes = process_spec_expr.find(json_data)"
   ]
  },
  {
   "cell_type": "code",
   "execution_count": 140,
   "id": "4fc3a5d7",
   "metadata": {},
   "outputs": [],
   "source": [
    "with open(\"laser_shock_gemd_model_dumps/edges.csv\", \"a\", newline=\"\") as csvfile:\n",
    "    writer = csv.writer(csvfile)\n",
    "    for n in nodes:\n",
    "        process_id = n.value['uids']['auto']\n",
    "        for conditionCategoryId in processSpecId_to_conditionCategoryId[process_id]:\n",
    "            edge_value = [conditionCategoryId, process_id, 'category_to_processSpec']\n",
    "            writer.writerow(edge_value)\n",
    "        for parameterCategoryId in processSpecId_to_parameterCategoryId[process_id]:\n",
    "            edge_value = [parameterCategoryId, process_id, 'category_to_processSpec']\n",
    "            writer.writerow(edge_value)"
   ]
  },
  {
   "cell_type": "markdown",
   "id": "3e1070af",
   "metadata": {},
   "source": [
    "### process spec -> material spec ###"
   ]
  },
  {
   "cell_type": "code",
   "execution_count": 141,
   "id": "f548c34a",
   "metadata": {},
   "outputs": [],
   "source": [
    "material_spec_expr = parse('$[?(@.type == \"material_spec\")]')\n",
    "nodes = material_spec_expr.find(json_data)"
   ]
  },
  {
   "cell_type": "code",
   "execution_count": 143,
   "id": "8f174a4e",
   "metadata": {},
   "outputs": [],
   "source": [
    "with open(\"laser_shock_gemd_model_dumps/edges.csv\", \"a\", newline=\"\") as csvfile:\n",
    "    writer = csv.writer(csvfile)\n",
    "    for n in nodes:\n",
    "        material_id = n.value['uids']['auto']\n",
    "        if n.value['process']:\n",
    "            process_id = n.value['process']['id']\n",
    "            edge_value = [process_id, material_id, 'processSpec_to_materialSpec']\n",
    "            writer.writerow(edge_value)"
   ]
  },
  {
   "cell_type": "markdown",
   "id": "e3bf0496",
   "metadata": {},
   "source": [
    "### material spec -> material run ###"
   ]
  },
  {
   "cell_type": "code",
   "execution_count": 144,
   "id": "58e8d2cb",
   "metadata": {},
   "outputs": [],
   "source": [
    "material_run_expr = parse('$[?(@.type == \"material_run\")]')\n",
    "nodes = material_run_expr.find(json_data)"
   ]
  },
  {
   "cell_type": "code",
   "execution_count": 146,
   "id": "d3cdf5aa",
   "metadata": {},
   "outputs": [],
   "source": [
    "with open(\"laser_shock_gemd_model_dumps/edges.csv\", \"a\", newline=\"\") as csvfile:\n",
    "    writer = csv.writer(csvfile)\n",
    "    for n in nodes:\n",
    "        run_id = n.value['uids']['auto']\n",
    "        spec_id = n.value['spec']['id']\n",
    "        edge_value = [spec_id, run_id, 'materialSpec_to_materialRun']\n",
    "        writer.writerow(edge_value)"
   ]
  },
  {
   "cell_type": "markdown",
   "id": "f3c279d5",
   "metadata": {},
   "source": [
    "### ingredient_spec -> ingredient_run ###"
   ]
  },
  {
   "cell_type": "code",
   "execution_count": 147,
   "id": "545322af",
   "metadata": {},
   "outputs": [],
   "source": [
    "ingredient_run_expr = parse('$[?(@.type == \"ingredient_run\")]')\n",
    "nodes = ingredient_run_expr.find(json_data)"
   ]
  },
  {
   "cell_type": "code",
   "execution_count": 148,
   "id": "bed22601",
   "metadata": {},
   "outputs": [],
   "source": [
    "with open(\"laser_shock_gemd_model_dumps/edges.csv\", \"a\", newline=\"\") as csvfile:\n",
    "    writer = csv.writer(csvfile)\n",
    "    for n in nodes:\n",
    "        run_id = n.value['uids']['auto']\n",
    "        spec_id = n.value['spec']['id']\n",
    "        edge_value = [spec_id, run_id, 'ingredientSpec_to_ingredientRun']\n",
    "        writer.writerow(edge_value)"
   ]
  },
  {
   "cell_type": "markdown",
   "id": "3d77d987",
   "metadata": {},
   "source": [
    "### process template -> process spec ###"
   ]
  },
  {
   "cell_type": "code",
   "execution_count": 149,
   "id": "f0c698d6",
   "metadata": {},
   "outputs": [],
   "source": [
    "process_spec_expr = parse('$[?(@.type == \"process_spec\")]')\n",
    "nodes = process_spec_expr.find(json_data)"
   ]
  },
  {
   "cell_type": "code",
   "execution_count": 150,
   "id": "70023d8a",
   "metadata": {},
   "outputs": [],
   "source": [
    "with open(\"laser_shock_gemd_model_dumps/edges.csv\", \"a\", newline=\"\") as csvfile:\n",
    "    writer = csv.writer(csvfile)\n",
    "    for n in nodes:\n",
    "        spec_id = n.value['uids']['auto']\n",
    "        template_id = n.value['template']['id']\n",
    "        edge_value = [template_id, spec_id, 'processTemplate_to_processSpec']\n",
    "        writer.writerow(edge_value)"
   ]
  },
  {
   "cell_type": "markdown",
   "id": "90487746",
   "metadata": {},
   "source": [
    "### process spec -> process run ###"
   ]
  },
  {
   "cell_type": "code",
   "execution_count": 151,
   "id": "663ae619",
   "metadata": {},
   "outputs": [],
   "source": [
    "process_run_expr = parse('$[?(@.type == \"process_run\")]')\n",
    "nodes = process_run_expr.find(json_data)"
   ]
  },
  {
   "cell_type": "code",
   "execution_count": 152,
   "id": "8079018e",
   "metadata": {},
   "outputs": [],
   "source": [
    "with open(\"laser_shock_gemd_model_dumps/edges.csv\", \"a\", newline=\"\") as csvfile:\n",
    "    writer = csv.writer(csvfile)\n",
    "    for n in nodes:\n",
    "        run_id = n.value['uids']['auto']\n",
    "        spec_id = n.value['spec']['id']\n",
    "        edge_value = [spec_id, run_id, 'processSpec_to_processRun']\n",
    "        writer.writerow(edge_value)"
   ]
  },
  {
   "cell_type": "markdown",
   "id": "ac72d45c",
   "metadata": {},
   "source": [
    "### material run -> ingredient run ###"
   ]
  },
  {
   "cell_type": "code",
   "execution_count": 159,
   "id": "e66e5ee8",
   "metadata": {},
   "outputs": [],
   "source": [
    "ingredient_run_expr = parse('$[?(@.type == \"ingredient_run\")]')\n",
    "nodes = ingredient_run_expr.find(json_data)"
   ]
  },
  {
   "cell_type": "code",
   "execution_count": 161,
   "id": "3fa55cff",
   "metadata": {},
   "outputs": [],
   "source": [
    "with open(\"laser_shock_gemd_model_dumps/edges.csv\", \"a\", newline=\"\") as csvfile:\n",
    "    writer = csv.writer(csvfile)\n",
    "    for n in nodes:\n",
    "        ingredient_id = n.value['uids']['auto']\n",
    "        if n.value['material']:\n",
    "            material_id = n.value['material']['id']\n",
    "            edge_value = [material_id, ingredient_id, 'materialRun_to_ingredientRun']\n",
    "            writer.writerow(edge_value)"
   ]
  },
  {
   "cell_type": "markdown",
   "id": "b9a8191a",
   "metadata": {},
   "source": [
    "### ingredient run -> process run ###"
   ]
  },
  {
   "cell_type": "code",
   "execution_count": 169,
   "id": "f310891a",
   "metadata": {},
   "outputs": [],
   "source": [
    "ingredient_run_expr = parse('$[?(@.type == \"ingredient_run\")]')\n",
    "nodes = ingredient_run_expr.find(json_data)"
   ]
  },
  {
   "cell_type": "code",
   "execution_count": 170,
   "id": "4ac89582",
   "metadata": {},
   "outputs": [],
   "source": [
    "with open(\"laser_shock_gemd_model_dumps/edges.csv\", \"a\", newline=\"\") as csvfile:\n",
    "    writer = csv.writer(csvfile)\n",
    "    for n in nodes:\n",
    "        ingredient_id = n.value['uids']['auto']\n",
    "        process_id = n.value['process']['id']\n",
    "        edge_value = [ingredient_id, process_id, 'ingredientRun_to_processRun']\n",
    "        writer.writerow(edge_value)"
   ]
  },
  {
   "cell_type": "markdown",
   "id": "7dffd0db",
   "metadata": {},
   "source": [
    "### process run -> material run ###"
   ]
  },
  {
   "cell_type": "code",
   "execution_count": 172,
   "id": "e12bb5d2",
   "metadata": {},
   "outputs": [],
   "source": [
    "material_run_expr = parse('$[?(@.type == \"material_run\")]')\n",
    "nodes = material_run_expr.find(json_data)"
   ]
  },
  {
   "cell_type": "code",
   "execution_count": 174,
   "id": "2edf0b63",
   "metadata": {},
   "outputs": [],
   "source": [
    "with open(\"laser_shock_gemd_model_dumps/edges.csv\", \"a\", newline=\"\") as csvfile:\n",
    "    writer = csv.writer(csvfile)\n",
    "    for n in nodes:\n",
    "        material_id = n.value['uids']['auto']\n",
    "        if n.value['process']:\n",
    "            process_id = n.value['process']['id']\n",
    "            edge_value = [process_id, material_id, 'processRun_to_materialRun']\n",
    "            writer.writerow(edge_value)"
   ]
  },
  {
   "cell_type": "markdown",
   "id": "325fece4",
   "metadata": {},
   "source": [
    "### measurement template -> measurement spec ###"
   ]
  },
  {
   "cell_type": "code",
   "execution_count": 175,
   "id": "7807f7f0",
   "metadata": {},
   "outputs": [],
   "source": [
    "measurement_spec_expr = parse('$[?(@.type == \"measurement_spec\")]')\n",
    "nodes = measurement_spec_expr.find(json_data)"
   ]
  },
  {
   "cell_type": "code",
   "execution_count": 176,
   "id": "e8f76217",
   "metadata": {},
   "outputs": [],
   "source": [
    "with open(\"laser_shock_gemd_model_dumps/edges.csv\", \"a\", newline=\"\") as csvfile:\n",
    "    writer = csv.writer(csvfile)\n",
    "    for n in nodes:\n",
    "        spec_id = n.value['uids']['auto']\n",
    "        template_id = n.value['template']['id']\n",
    "        edge_value = [template_id, spec_id, 'measurementTemplate_to_measurementSpec']\n",
    "        writer.writerow(edge_value)"
   ]
  },
  {
   "cell_type": "markdown",
   "id": "7400177f",
   "metadata": {},
   "source": [
    "### measurement spec -> measurement run ###"
   ]
  },
  {
   "cell_type": "code",
   "execution_count": 177,
   "id": "7d04d519",
   "metadata": {},
   "outputs": [],
   "source": [
    "measurement_run_expr = parse('$[?(@.type == \"measurement_run\")]')\n",
    "nodes = measurement_run_expr.find(json_data)"
   ]
  },
  {
   "cell_type": "code",
   "execution_count": 180,
   "id": "587e9b07",
   "metadata": {},
   "outputs": [],
   "source": [
    "with open(\"laser_shock_gemd_model_dumps/edges.csv\", \"a\", newline=\"\") as csvfile:\n",
    "    writer = csv.writer(csvfile)\n",
    "    for n in nodes:\n",
    "        run_id = n.value['uids']['auto']\n",
    "        if n.value['spec']:\n",
    "            spec_id = n.value['spec']['id']\n",
    "            edge_value = [spec_id, run_id, 'measurementSpec_to_measurementRun']\n",
    "            writer.writerow(edge_value)"
   ]
  },
  {
   "cell_type": "markdown",
   "id": "68b8c254",
   "metadata": {},
   "source": [
    "### measurement run -> material run ###"
   ]
  },
  {
   "cell_type": "code",
   "execution_count": 185,
   "id": "b43773ff",
   "metadata": {},
   "outputs": [],
   "source": [
    "measurement_run_expr = parse('$[?(@.type == \"measurement_run\")]')\n",
    "nodes = measurement_run_expr.find(json_data)"
   ]
  },
  {
   "cell_type": "code",
   "execution_count": 186,
   "id": "a09b7e76",
   "metadata": {},
   "outputs": [],
   "source": [
    "with open(\"laser_shock_gemd_model_dumps/edges.csv\", \"a\", newline=\"\") as csvfile:\n",
    "    writer = csv.writer(csvfile)\n",
    "    for n in nodes:\n",
    "        measurement_id = n.value['uids']['auto']\n",
    "        if n.value['material']:\n",
    "            material_id = n.value['material']['id']\n",
    "            edge_value = [measurement_id, material_id, 'measurementRun_to_materialRun']\n",
    "            writer.writerow(edge_value)"
   ]
  }
 ],
 "metadata": {
  "kernelspec": {
   "display_name": "Python 3 (ipykernel)",
   "language": "python",
   "name": "python3"
  },
  "language_info": {
   "codemirror_mode": {
    "name": "ipython",
    "version": 3
   },
   "file_extension": ".py",
   "mimetype": "text/x-python",
   "name": "python",
   "nbconvert_exporter": "python",
   "pygments_lexer": "ipython3",
   "version": "3.10.9"
  }
 },
 "nbformat": 4,
 "nbformat_minor": 5
}
