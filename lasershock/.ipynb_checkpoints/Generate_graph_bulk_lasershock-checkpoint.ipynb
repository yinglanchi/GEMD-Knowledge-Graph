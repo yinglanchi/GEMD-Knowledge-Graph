{
 "cells": [
  {
   "cell_type": "code",
   "execution_count": 1,
   "id": "9f3ff7af",
   "metadata": {},
   "outputs": [],
   "source": [
    "import json\n",
    "import csv\n",
    "from jsonpath_ng.ext import parse\n",
    "import collections\n",
    "import os"
   ]
  },
  {
   "cell_type": "code",
   "execution_count": 2,
   "id": "7eb712ce",
   "metadata": {},
   "outputs": [
    {
     "name": "stdout",
     "output_type": "stream",
     "text": [
      "skipping\n",
      "skipping\n",
      "skipping\n",
      "skipping\n",
      "skipping\n",
      "skipping\n"
     ]
    }
   ],
   "source": [
    "directory_path = \"laser_shock_gemd_model_dumps\"\n",
    "json_data = []\n",
    "for filename in os.listdir(directory_path):\n",
    "    file_path = os.path.join(directory_path, filename)\n",
    "    try:\n",
    "        with open(file_path, encoding='utf-8') as file:\n",
    "            json_data.append(json.load(file))\n",
    "    except:\n",
    "        print(\"skipping\")"
   ]
  },
  {
   "cell_type": "markdown",
   "id": "ebd01286",
   "metadata": {},
   "source": [
    "# Nodes #"
   ]
  },
  {
   "cell_type": "markdown",
   "id": "a2836ddf",
   "metadata": {},
   "source": [
    "## Header ##"
   ]
  },
  {
   "cell_type": "code",
   "execution_count": 3,
   "id": "4768b07a",
   "metadata": {},
   "outputs": [],
   "source": [
    "nodes_header = [\"node_id:ID\", \"name\", \"notes\", \"real_lower_bound\", \"real_upper_bound\", \"real_units\", \"real_name_sub\", \\\n",
    "                \"real_value_sub\",\"real_units_sub\", \"description\", \"type\", \"tags\", \"sample_type\", \"mass_fraction\", \\\n",
    "                \"number_fraction\", \"volume_fraction\", \"source_performed_by\", \"source_performed_date\", \"source_type\", \\\n",
    "                \"absolute_quantity_lower_bound\", \"absolute_quantity_type\", \"absolute_quantity_units\", \\\n",
    "                \"absolute_quantity_upper_bound\", \"absolute_nominal\", \"allowed_labels\", \"allowed_names\", \"file_links\", \\\n",
    "                \":LABEL\"]\n",
    "\n",
    "with open(\"nodes_header.csv\", \"w\", newline=\"\") as csvfile:\n",
    "    writer = csv.writer(csvfile)\n",
    "    writer.writerow(nodes_header)"
   ]
  },
  {
   "cell_type": "code",
   "execution_count": 4,
   "id": "8ace91c8",
   "metadata": {},
   "outputs": [],
   "source": [
    "node_ids = set()\n",
    "with open(\"nodes.csv\", \"w\", newline=\"\") as csvfile:\n",
    "    writer = csv.writer(csvfile)\n",
    "    writer.writerow([\"doi\", \"root\", \"\", \"\", \"\", \"\", \"\", \"\",\"\", \"\", \"root\", \"\", \"\", \"\", \\\n",
    "                \"\", \"\", \"\", \"\", \"\", \"\", \"\", \"\", \"\", \"\", \"\", \"\", \"\", \"root\"])"
   ]
  },
  {
   "cell_type": "markdown",
   "id": "dee1b859",
   "metadata": {},
   "source": [
    "## Template, Spec, Run ##"
   ]
  },
  {
   "cell_type": "markdown",
   "id": "6a95444f",
   "metadata": {},
   "source": [
    "### Template ###"
   ]
  },
  {
   "cell_type": "code",
   "execution_count": 5,
   "id": "7e40e2cb",
   "metadata": {},
   "outputs": [],
   "source": [
    "# material_template, process_template, measurement_template\n",
    "def template_nodes_generator_1(nodes):\n",
    "    with open(\"nodes.csv\", \"a\", newline=\"\") as csvfile:\n",
    "        writer = csv.writer(csvfile)\n",
    "        for n in nodes:\n",
    "            node_id = n.value['uids']['auto']\n",
    "            if node_id in node_ids: continue\n",
    "            node_ids.add(node_id)\n",
    "            name = n.value['name']\n",
    "            notes = n.value['notes'] if 'notes' in n.value else \"\"\n",
    "            real_lower_bound = \"\"\n",
    "            real_upper_bound = \"\"\n",
    "            real_units = \"\"\n",
    "            real_name_sub = []\n",
    "            real_value_sub = []\n",
    "            real_units_sub = []\n",
    "            description = n.value['description'] if 'description' in n.value else \"\"\n",
    "            node_type = n.value['type']\n",
    "            tags = n.value['tags'] if 'tags' in n.value else []\n",
    "            sample_type = n.value['sample_type'] if 'sample_type' in n.value else \"\"\n",
    "            mass_fraction = n.value['mass_fraction'] if 'mass_fraction' in n.value else \"\"\n",
    "            number_fraction = n.value['number_fraction'] if 'number_fraction' in n.value else \"\"\n",
    "            volume_fraction = n.value['volume_fraction'] if 'volume_fraction' in n.value else \"\"\n",
    "            source_performed_by = n.value['source']['performed_by'] if 'source' in n.value else \"\"\n",
    "            source_performed_date = n.value['source']['performed_date'] if 'source' in n.value else \"\"\n",
    "            source_type = n.value['source']['type'] if 'source' in n.value else \"\"\n",
    "            absolute_quantity_lower_bound = n.value['absolute_quantity']['lower_bound'] if 'absolute_quantity' in n.value \\\n",
    "                                            and 'lower_bound' in n.value['absolute_quantity'] else \"\"\n",
    "            absolute_quantity_type = n.value['absolute_quantity']['type'] if 'absolute_quantity' in n.value \\\n",
    "                                     and 'type' in n.value['absolute_quantity'] else \"\"\n",
    "            absolute_quantity_units = n.value['absolute_quantity']['units'] if 'absolute_quantity' in n.value \\\n",
    "                                      and 'units' in n.value['absolute_quantity'] else \"\"\n",
    "            absolute_quantity_upper_bound = n.value['absolute_quantity']['upper_bound'] if 'absolute_quantity' in n.value \\\n",
    "                                            and 'upper_bound' in n.value['absolute_quantity'] else \"\"\n",
    "            absolute_quantity_nominal = n.value['absolute_quantity']['nominal'] if 'absolute_quantity' in n.value \\\n",
    "                                        and 'nominal' in n.value['absolute_quantity'] else \"\"\n",
    "            allowed_labels = n.value['allowed_labels'] if 'allowed_labels' in n.value else \"\"\n",
    "            allowed_names = n.value['allowed_names'] if 'allowed_names' in n.value else \"\"\n",
    "            file_links = n.value['file_links'] if 'file_links' in n.value else \"\"\n",
    "            label = n.value['type']\n",
    "            node_value = [node_id, name, notes, real_lower_bound, real_upper_bound, real_units, real_name_sub, \\\n",
    "                      real_value_sub, real_units_sub, description, node_type, tags, sample_type, mass_fraction, \\\n",
    "                      number_fraction, volume_fraction, source_performed_by, source_performed_date, source_type, \\\n",
    "                      absolute_quantity_lower_bound, absolute_quantity_type, absolute_quantity_units, \\\n",
    "                      absolute_quantity_upper_bound, absolute_quantity_nominal, allowed_labels, \\\n",
    "                      allowed_names, file_links, label]\n",
    "            writer.writerow(node_value)"
   ]
  },
  {
   "cell_type": "code",
   "execution_count": 6,
   "id": "1af233dc",
   "metadata": {},
   "outputs": [],
   "source": [
    "# parameter/condition/property template\n",
    "def template_nodes_generator_2(nodes):\n",
    "    with open(\"nodes.csv\", \"a\", newline=\"\") as csvfile:\n",
    "        writer = csv.writer(csvfile)\n",
    "        for n in nodes:\n",
    "            node_id = n.value['uids']['auto']\n",
    "            if node_id in node_ids: continue\n",
    "            node_ids.add(node_id)\n",
    "            name = n.value['name']\n",
    "            notes = n.value['notes'] if 'notes' in n.value else \"\"\n",
    "            real_lower_bound = n.value['bounds']['lower_bound'] if ('bounds' in n.value and n.value['bounds']['type'] == 'real_bounds') else \"\"\n",
    "            real_upper_bound = n.value['bounds']['upper_bound'] if ('bounds' in n.value and n.value['bounds']['type'] == 'real_bounds') else \"\"\n",
    "            real_units = n.value['bounds']['default_units'] if ('bounds' in n.value and n.value['bounds']['type'] == 'real_bounds') else \"\"\n",
    "            real_name_sub = []\n",
    "            real_value_sub = []\n",
    "            real_units_sub = []\n",
    "            description = n.value['description'] if 'description' in n.value else \"\"\n",
    "            node_type = n.value['type']\n",
    "            tags = n.value['tags'] if 'tags' in n.value else []  \n",
    "            sample_type = n.value['sample_type'] if 'sample_type' in n.value else \"\"\n",
    "            mass_fraction = n.value['mass_fraction'] if 'mass_fraction' in n.value else \"\"\n",
    "            number_fraction = n.value['number_fraction'] if 'number_fraction' in n.value else \"\"\n",
    "            volume_fraction = n.value['volume_fraction'] if 'volume_fraction' in n.value else \"\"\n",
    "            source_performed_by = n.value['source']['performed_by'] if 'source' in n.value else \"\"\n",
    "            source_performed_date = n.value['source']['performed_date'] if 'source' in n.value else \"\"\n",
    "            source_type = n.value['source']['type'] if 'source' in n.value else \"\"\n",
    "            absolute_quantity_lower_bound = n.value['absolute_quantity']['lower_bound'] if 'absolute_quantity' in n.value \\\n",
    "                                            and 'lower_bound' in n.value['absolute_quantity'] else \"\"\n",
    "            absolute_quantity_type = n.value['absolute_quantity']['type'] if 'absolute_quantity' in n.value \\\n",
    "                                     and 'type' in n.value['absolute_quantity'] else \"\"\n",
    "            absolute_quantity_units = n.value['absolute_quantity']['units'] if 'absolute_quantity' in n.value \\\n",
    "                                      and 'units' in n.value['absolute_quantity'] else \"\"\n",
    "            absolute_quantity_upper_bound = n.value['absolute_quantity']['upper_bound'] if 'absolute_quantity' in n.value \\\n",
    "                                            and 'upper_bound' in n.value['absolute_quantity'] else \"\"\n",
    "            absolute_quantity_nominal = n.value['absolute_quantity']['nominal'] if 'absolute_quantity' in n.value \\\n",
    "                                        and 'nominal' in n.value['absolute_quantity'] else \"\"\n",
    "            allowed_labels = n.value['allowed_labels'] if 'allowed_labels' in n.value else \"\"\n",
    "            allowed_names = n.value['allowed_names'] if 'allowed_names' in n.value else \"\"\n",
    "            file_links = n.value['file_links'] if 'file_links' in n.value else \"\"\n",
    "            label = n.value['type']\n",
    "            node_value = [node_id, name, notes, real_lower_bound, real_upper_bound, real_units, real_name_sub, \\\n",
    "                      real_value_sub, real_units_sub, description, node_type, tags, sample_type, mass_fraction, \\\n",
    "                      number_fraction, volume_fraction, source_performed_by, source_performed_date, source_type, \\\n",
    "                      absolute_quantity_lower_bound, absolute_quantity_type, absolute_quantity_units, \\\n",
    "                      absolute_quantity_upper_bound, absolute_quantity_nominal, allowed_labels, \\\n",
    "                      allowed_names, file_links, label]\n",
    "            writer.writerow(node_value)"
   ]
  },
  {
   "cell_type": "code",
   "execution_count": 7,
   "id": "54d9e804",
   "metadata": {},
   "outputs": [],
   "source": [
    "material_template_expr = parse('$[?(@.type == \"material_template\")]')\n",
    "nodes = material_template_expr.find(json_data)\n",
    "template_nodes_generator_1(nodes)"
   ]
  },
  {
   "cell_type": "code",
   "execution_count": 8,
   "id": "21cfd83e",
   "metadata": {},
   "outputs": [],
   "source": [
    "process_template_expr = parse('$[?(@.type == \"process_template\")]')\n",
    "nodes = process_template_expr.find(json_data)\n",
    "template_nodes_generator_1(nodes)"
   ]
  },
  {
   "cell_type": "code",
   "execution_count": 9,
   "id": "a9be3a80",
   "metadata": {},
   "outputs": [],
   "source": [
    "measurement_template_expr = parse('$[?(@.type == \"measurement_template\")]')\n",
    "nodes = measurement_template_expr.find(json_data)\n",
    "template_nodes_generator_1(nodes)"
   ]
  },
  {
   "cell_type": "code",
   "execution_count": 10,
   "id": "bd31db8b",
   "metadata": {},
   "outputs": [],
   "source": [
    "parameter_template_expr = parse('$[?(@.type == \"parameter_template\")]')\n",
    "nodes = parameter_template_expr.find(json_data)\n",
    "template_nodes_generator_2(nodes)"
   ]
  },
  {
   "cell_type": "code",
   "execution_count": 11,
   "id": "37dc4a26",
   "metadata": {},
   "outputs": [],
   "source": [
    "property_template_expr = parse('$[?(@.type == \"property_template\")]')\n",
    "nodes = property_template_expr.find(json_data)\n",
    "template_nodes_generator_2(nodes)"
   ]
  },
  {
   "cell_type": "code",
   "execution_count": 12,
   "id": "95d0a183",
   "metadata": {},
   "outputs": [],
   "source": [
    "condition_template_expr = parse('$[?(@.type == \"condition_template\")]')\n",
    "nodes = condition_template_expr.find(json_data)\n",
    "template_nodes_generator_2(nodes)"
   ]
  },
  {
   "cell_type": "markdown",
   "id": "37c558c3",
   "metadata": {},
   "source": [
    "### Categorical Bounds ###"
   ]
  },
  {
   "cell_type": "code",
   "execution_count": 13,
   "id": "960dfd1b",
   "metadata": {},
   "outputs": [],
   "source": [
    "i = 0\n",
    "categoryName_to_id = {}"
   ]
  },
  {
   "cell_type": "code",
   "execution_count": 14,
   "id": "c5cd35ea",
   "metadata": {},
   "outputs": [],
   "source": [
    "def categorical_nodes_generator(i, nodes):\n",
    "    with open(\"nodes.csv\", \"a\", newline=\"\") as csvfile:\n",
    "        writer = csv.writer(csvfile)\n",
    "        for n in nodes:\n",
    "            if 'bounds' in n.value and n.value['bounds']['type'] == 'categorical_bounds':\n",
    "                for j in range(len(n.value['bounds']['categories'])):\n",
    "                    node_id = \"categorical_bounds \" + str(i)\n",
    "                    name = n.value['bounds']['categories'][j]\n",
    "                    if name in categoryName_to_id: continue\n",
    "                    categoryName_to_id[name] = node_id\n",
    "                    notes = \"\"\n",
    "                    real_lower_bound = \"\"\n",
    "                    real_upper_bound = \"\"\n",
    "                    real_units = \"\"\n",
    "                    real_name_sub = []\n",
    "                    real_value_sub = []\n",
    "                    real_units_sub = []\n",
    "                    description = \"\"\n",
    "                    node_type = 'categorical_bounds'\n",
    "                    tags = []\n",
    "                    sample_type = \"\"\n",
    "                    mass_fraction = \"\"\n",
    "                    number_fraction = \"\"\n",
    "                    volume_fraction = \"\"\n",
    "                    source_performed_by = \"\"\n",
    "                    source_performed_date = \"\"\n",
    "                    source_type = \"\"\n",
    "                    absolute_quantity_lower_bound = \"\"\n",
    "                    absolute_quantity_type = \"\"\n",
    "                    absolute_quantity_units = \"\"\n",
    "                    absolute_quantity_upper_bound = \"\"\n",
    "                    absolute_quantity_nominal = \"\"\n",
    "                    allowed_labels = \"\"\n",
    "                    allowed_names = \"\"\n",
    "                    file_links = \"\"\n",
    "                    label = 'categorical_bounds'\n",
    "                    node_value = [node_id, name, notes, real_lower_bound, real_upper_bound, real_units, real_name_sub, \\\n",
    "                      real_value_sub, real_units_sub, description, node_type, tags, sample_type, mass_fraction, \\\n",
    "                      number_fraction, volume_fraction, source_performed_by, source_performed_date, source_type, \\\n",
    "                      absolute_quantity_lower_bound, absolute_quantity_type, absolute_quantity_units, \\\n",
    "                      absolute_quantity_upper_bound, absolute_quantity_nominal, allowed_labels, \\\n",
    "                      allowed_names, file_links, label]\n",
    "                    writer.writerow(node_value)\n",
    "                    i += 1\n",
    "    return i"
   ]
  },
  {
   "cell_type": "code",
   "execution_count": 15,
   "id": "66a03857",
   "metadata": {},
   "outputs": [],
   "source": [
    "parameter_template_expr = parse('$[?(@.type == \"parameter_template\")]')\n",
    "nodes = parameter_template_expr.find(json_data)\n",
    "i = categorical_nodes_generator(i, nodes)"
   ]
  },
  {
   "cell_type": "code",
   "execution_count": 16,
   "id": "0fdbbb9c",
   "metadata": {},
   "outputs": [],
   "source": [
    "property_template_expr = parse('$[?(@.type == \"property_template\")]')\n",
    "nodes = property_template_expr.find(json_data)\n",
    "i = categorical_nodes_generator(i, nodes)"
   ]
  },
  {
   "cell_type": "code",
   "execution_count": 17,
   "id": "479ba91f",
   "metadata": {},
   "outputs": [],
   "source": [
    "condition_template_expr = parse('$[?(@.type == \"condition_template\")]')\n",
    "nodes = condition_template_expr.find(json_data)\n",
    "i = categorical_nodes_generator(i, nodes)"
   ]
  },
  {
   "cell_type": "code",
   "execution_count": 18,
   "id": "1d4cf898",
   "metadata": {},
   "outputs": [
    {
     "data": {
      "text/plain": [
       "{'CS Hyde': 'categorical_bounds 0',\n",
       " 'New': 'categorical_bounds 1',\n",
       " 'Old': 'categorical_bounds 2',\n",
       " 'Loctite': 'categorical_bounds 3',\n",
       " '9709K91': 'categorical_bounds 4',\n",
       " '1-Point': 'categorical_bounds 5',\n",
       " '32-Point': 'categorical_bounds 6',\n",
       " 'B8476012': 'categorical_bounds 7',\n",
       " 'B84760126': 'categorical_bounds 8',\n",
       " 'B84760127': 'categorical_bounds 9',\n",
       " 'B84760128': 'categorical_bounds 10',\n",
       " 'Kapton Included Adhesive': 'categorical_bounds 11',\n",
       " 'Loctite 460': 'categorical_bounds 12',\n",
       " 'Off': 'categorical_bounds 13',\n",
       " 'On': 'categorical_bounds 14',\n",
       " '10': 'categorical_bounds 15',\n",
       " '100': 'categorical_bounds 16',\n",
       " '2': 'categorical_bounds 17',\n",
       " '20': 'categorical_bounds 18',\n",
       " '200': 'categorical_bounds 19',\n",
       " '5': 'categorical_bounds 20',\n",
       " '50': 'categorical_bounds 21',\n",
       " 'Long pulse': 'categorical_bounds 22',\n",
       " 'Q switched': 'categorical_bounds 23',\n",
       " 'Impact Side': 'categorical_bounds 24',\n",
       " 'PDV Side': 'categorical_bounds 25',\n",
       " 'Diamond': 'categorical_bounds 26',\n",
       " 'Silicon Carbide': 'categorical_bounds 27',\n",
       " 'Narrow': 'categorical_bounds 28',\n",
       " 'Open': 'categorical_bounds 29',\n",
       " 'AluFoil': 'categorical_bounds 30',\n",
       " 'McMaster Carr': 'categorical_bounds 31',\n",
       " '1000': 'categorical_bounds 32',\n",
       " '120': 'categorical_bounds 33',\n",
       " '1200': 'categorical_bounds 34',\n",
       " '1500': 'categorical_bounds 35',\n",
       " '180': 'categorical_bounds 36',\n",
       " '1800': 'categorical_bounds 37',\n",
       " '2000': 'categorical_bounds 38',\n",
       " '240': 'categorical_bounds 39',\n",
       " '320': 'categorical_bounds 40',\n",
       " '400': 'categorical_bounds 41',\n",
       " '600': 'categorical_bounds 42',\n",
       " '800': 'categorical_bounds 43',\n",
       " '0.10': 'categorical_bounds 44',\n",
       " '0.25': 'categorical_bounds 45',\n",
       " '0.50': 'categorical_bounds 46',\n",
       " '1.0': 'categorical_bounds 47',\n",
       " '15': 'categorical_bounds 48',\n",
       " '3.0': 'categorical_bounds 49',\n",
       " '30': 'categorical_bounds 50',\n",
       " '35': 'categorical_bounds 51',\n",
       " '45': 'categorical_bounds 52',\n",
       " '6.0': 'categorical_bounds 53',\n",
       " '60': 'categorical_bounds 54',\n",
       " '9.0': 'categorical_bounds 55',\n",
       " 'No': 'categorical_bounds 56',\n",
       " 'Yes': 'categorical_bounds 57',\n",
       " '1Bc+3Bc': 'categorical_bounds 58',\n",
       " '4Bc': 'categorical_bounds 59',\n",
       " 'Aged': 'categorical_bounds 60',\n",
       " 'Solutionized': 'categorical_bounds 61',\n",
       " '1,000': 'categorical_bounds 62',\n",
       " '1,000,000': 'categorical_bounds 63',\n",
       " '10,000': 'categorical_bounds 64',\n",
       " '10,000,000': 'categorical_bounds 65',\n",
       " '100,000': 'categorical_bounds 66',\n",
       " '2,000,000': 'categorical_bounds 67',\n",
       " '20,000': 'categorical_bounds 68',\n",
       " '200,000': 'categorical_bounds 69',\n",
       " '5,000,000': 'categorical_bounds 70',\n",
       " '50,000': 'categorical_bounds 71',\n",
       " '500': 'categorical_bounds 72',\n",
       " '500,000': 'categorical_bounds 73',\n",
       " 'Extrusion Direction': 'categorical_bounds 74',\n",
       " 'Longitudinal Direction': 'categorical_bounds 75',\n",
       " 'Normal Direction': 'categorical_bounds 76',\n",
       " 'Transverse Direction': 'categorical_bounds 77',\n",
       " '10000': 'categorical_bounds 78',\n",
       " '100000': 'categorical_bounds 79',\n",
       " '1000000': 'categorical_bounds 80',\n",
       " '10000000': 'categorical_bounds 81',\n",
       " '20000': 'categorical_bounds 82',\n",
       " '200000': 'categorical_bounds 83',\n",
       " '2000000': 'categorical_bounds 84',\n",
       " '50000': 'categorical_bounds 85',\n",
       " '500000': 'categorical_bounds 86',\n",
       " '5000000': 'categorical_bounds 87',\n",
       " 'Minor': 'categorical_bounds 88',\n",
       " 'None': 'categorical_bounds 89',\n",
       " 'Significant': 'categorical_bounds 90',\n",
       " 'Amazing': 'categorical_bounds 91',\n",
       " 'Eh': 'categorical_bounds 92',\n",
       " 'Good': 'categorical_bounds 93',\n",
       " 'Great': 'categorical_bounds 94',\n",
       " 'OK': 'categorical_bounds 95',\n",
       " 'Hard': 'categorical_bounds 96',\n",
       " 'Soft': 'categorical_bounds 97',\n",
       " 'Unknown': 'categorical_bounds 98',\n",
       " 'Aluminum': 'categorical_bounds 99',\n",
       " 'Copper': 'categorical_bounds 100',\n",
       " 'Flat': 'categorical_bounds 101',\n",
       " 'Major Rotation': 'categorical_bounds 102',\n",
       " 'Slight Rotation': 'categorical_bounds 103',\n",
       " 'Acrylic': 'categorical_bounds 104',\n",
       " 'N/A': 'categorical_bounds 105',\n",
       " 'Silicone': 'categorical_bounds 106',\n",
       " 'BMG': 'categorical_bounds 107',\n",
       " 'Ceramic': 'categorical_bounds 108',\n",
       " 'Composite': 'categorical_bounds 109',\n",
       " 'HEA': 'categorical_bounds 110',\n",
       " 'Metal': 'categorical_bounds 111',\n",
       " 'Polymer': 'categorical_bounds 112',\n",
       " 'Kapton': 'categorical_bounds 113',\n",
       " 'Full': 'categorical_bounds 114',\n",
       " 'No visible': 'categorical_bounds 115',\n",
       " 'Partial': 'categorical_bounds 116',\n",
       " 'Through sample': 'categorical_bounds 117',\n",
       " 'Complete': 'categorical_bounds 118',\n",
       " 'Incomplete': 'categorical_bounds 119',\n",
       " 'Double': 'categorical_bounds 120',\n",
       " 'Single': 'categorical_bounds 121',\n",
       " 'HoloOr': 'categorical_bounds 122',\n",
       " 'Silios': 'categorical_bounds 123',\n",
       " 'Kirana': 'categorical_bounds 124',\n",
       " 'Not Used': 'categorical_bounds 125',\n",
       " 'Shimadzu': 'categorical_bounds 126',\n",
       " 'Kinematic Optical Mount': 'categorical_bounds 127',\n",
       " 'Simple Clamp': 'categorical_bounds 128',\n",
       " 'Vacuum Chamber': 'categorical_bounds 129',\n",
       " 'ECAE': 'categorical_bounds 130',\n",
       " 'Rolling': 'categorical_bounds 131',\n",
       " 'Atomic Percent': 'categorical_bounds 132',\n",
       " 'Weight Percent': 'categorical_bounds 133',\n",
       " '105': 'categorical_bounds 134',\n",
       " 'Alignment Stage': 'categorical_bounds 135',\n",
       " 'Manual': 'categorical_bounds 136',\n",
       " 'OD 1': 'categorical_bounds 137',\n",
       " 'OD 10': 'categorical_bounds 138',\n",
       " 'OD 2': 'categorical_bounds 139',\n",
       " 'OD 3': 'categorical_bounds 140',\n",
       " 'OD 4': 'categorical_bounds 141',\n",
       " 'OD 5': 'categorical_bounds 142',\n",
       " 'OD 6': 'categorical_bounds 143',\n",
       " 'OD 7': 'categorical_bounds 144',\n",
       " 'OD 8': 'categorical_bounds 145',\n",
       " 'OD 9': 'categorical_bounds 146',\n",
       " '0': 'categorical_bounds 147',\n",
       " '1': 'categorical_bounds 148',\n",
       " 'IR filter': 'categorical_bounds 149',\n",
       " 'Texwipe/diffuser': 'categorical_bounds 150',\n",
       " 'none': 'categorical_bounds 151',\n",
       " 'Femtosecond Laser': 'categorical_bounds 152',\n",
       " 'Laser Cutter': 'categorical_bounds 153',\n",
       " 'Standard v1 (US)': 'categorical_bounds 154',\n",
       " 'Standard v2 (Different Lasers)': 'categorical_bounds 155',\n",
       " 'Time Lens': 'categorical_bounds 156',\n",
       " '3': 'categorical_bounds 157',\n",
       " '4': 'categorical_bounds 158',\n",
       " '6': 'categorical_bounds 159',\n",
       " '7': 'categorical_bounds 160',\n",
       " 'Continuous': 'categorical_bounds 161',\n",
       " 'Pulsed': 'categorical_bounds 162',\n",
       " 'Billet': 'categorical_bounds 163',\n",
       " 'Foil': 'categorical_bounds 164',\n",
       " 'Plate': 'categorical_bounds 165',\n",
       " '647 CWL/10 FWHM': 'categorical_bounds 166',\n",
       " '648 CWL/20 FWHM': 'categorical_bounds 167',\n",
       " 'Diamond Wire Saw': 'categorical_bounds 168',\n",
       " 'EDM': 'categorical_bounds 169',\n",
       " 'TEM Punch': 'categorical_bounds 170',\n",
       " '11': 'categorical_bounds 171',\n",
       " '16': 'categorical_bounds 172',\n",
       " '2.8': 'categorical_bounds 173',\n",
       " '22': 'categorical_bounds 174',\n",
       " '32': 'categorical_bounds 175',\n",
       " '5.6': 'categorical_bounds 176',\n",
       " '8': 'categorical_bounds 177',\n",
       " 'Cavitar': 'categorical_bounds 178',\n",
       " 'SiLux': 'categorical_bounds 179',\n",
       " '3D printed grid': 'categorical_bounds 180',\n",
       " 'Glass Petri Dish': 'categorical_bounds 181',\n",
       " 'PDMS': 'categorical_bounds 182',\n",
       " 'Apparatus': 'categorical_bounds 183',\n",
       " 'Handclamp': 'categorical_bounds 184',\n",
       " 'Individual': 'categorical_bounds 185',\n",
       " 'Large Area Plate': 'categorical_bounds 186'}"
      ]
     },
     "execution_count": 18,
     "metadata": {},
     "output_type": "execute_result"
    }
   ],
   "source": [
    "categoryName_to_id"
   ]
  },
  {
   "cell_type": "markdown",
   "id": "c2aaaf56",
   "metadata": {},
   "source": [
    "### Spec ###"
   ]
  },
  {
   "cell_type": "code",
   "execution_count": 19,
   "id": "efe1988c",
   "metadata": {},
   "outputs": [],
   "source": [
    "def spec_nodes_generator(nodes):\n",
    "    with open(\"nodes.csv\", \"a\", newline=\"\") as csvfile:\n",
    "        writer = csv.writer(csvfile)\n",
    "        for n in nodes:\n",
    "            node_id = n.value['uids']['auto']\n",
    "            if node_id in node_ids: continue\n",
    "            node_ids.add(node_id)\n",
    "            name = n.value['name']\n",
    "            notes = n.value['notes'] if 'notes' in n.value else \"\"\n",
    "            real_lower_bound = \"\"\n",
    "            real_upper_bound = \"\"\n",
    "            real_units = \"\"\n",
    "            real_name_sub = []\n",
    "            real_value_sub = []\n",
    "            real_units_sub = []\n",
    "            if 'properties' in n.value:\n",
    "                for node_property in n.value['properties']:\n",
    "                    if node_property['property']['value']['type'] == 'nominal_real':\n",
    "                        real_name_sub.append(node_property['property']['name'])\n",
    "                        real_value_sub.append(node_property['property']['value']['nominal'])\n",
    "                        real_units_sub.append(node_property['property']['value']['units'])\n",
    "            if 'conditions' in n.value:\n",
    "                for node_condition in n.value['conditions']:\n",
    "                    if node_condition['value']['type'] == 'nominal_real':\n",
    "                        real_name_sub.append(node_condition['name'])\n",
    "                        real_value_sub.append(node_condition['value']['nominal'])\n",
    "                        real_units_sub.append(node_condition['value']['units'])\n",
    "            if 'parameters' in n.value:\n",
    "                for node_parameter in n.value['parameters']:\n",
    "                    if node_parameter['value']['type'] == 'nominal_real':\n",
    "                        real_name_sub.append(node_parameter['name'])\n",
    "                        real_value_sub.append(node_parameter['value']['nominal'])\n",
    "                        real_units_sub.append(node_parameter['value']['units'])\n",
    "            description = n.value['description'] if 'description' in n.value else \"\"\n",
    "            node_type = n.value['type']\n",
    "            tags = n.value['tags'] if 'tags' in n.value else [] \n",
    "            sample_type = n.value['sample_type'] if 'sample_type' in n.value else \"\"\n",
    "            mass_fraction = n.value['mass_fraction'] if 'mass_fraction' in n.value else \"\"\n",
    "            number_fraction = n.value['number_fraction'] if 'number_fraction' in n.value else \"\"\n",
    "            volume_fraction = n.value['volume_fraction'] if 'volume_fraction' in n.value else \"\"\n",
    "            source_performed_by = n.value['source']['performed_by'] if 'source' in n.value else \"\"\n",
    "            source_performed_date = n.value['source']['performed_date'] if 'source' in n.value else \"\"\n",
    "            source_type = n.value['source']['type'] if 'source' in n.value else \"\"\n",
    "            absolute_quantity_lower_bound = n.value['absolute_quantity']['lower_bound'] if 'absolute_quantity' in n.value \\\n",
    "                                            and n.value['absolute_quantity'] and 'lower_bound' in n.value['absolute_quantity'] \\\n",
    "                                            else \"\"\n",
    "            absolute_quantity_lower_bound = n.value['absolute_quantity']['lower_bound'] if 'absolute_quantity' in n.value \\\n",
    "                                            and n.value['absolute_quantity'] and 'lower_bound' in n.value['absolute_quantity'] \\\n",
    "                                            else \"\"\n",
    "            absolute_quantity_type = n.value['absolute_quantity']['type'] if 'absolute_quantity' in n.value \\\n",
    "                                     and n.value['absolute_quantity'] and 'type' in n.value['absolute_quantity'] \\\n",
    "                                     else \"\"\n",
    "            absolute_quantity_units = n.value['absolute_quantity']['units'] if 'absolute_quantity' in n.value \\\n",
    "                                      and n.value['absolute_quantity'] and 'units' in n.value['absolute_quantity'] \\\n",
    "                                      else \"\"\n",
    "            absolute_quantity_upper_bound = n.value['absolute_quantity']['upper_bound'] if 'absolute_quantity' in n.value \\\n",
    "                                            and n.value['absolute_quantity'] and 'upper_bound' in n.value['absolute_quantity'] \\\n",
    "                                            else \"\"\n",
    "            absolute_quantity_nominal = n.value['absolute_quantity']['nominal'] if 'absolute_quantity' in n.value \\\n",
    "                                        and n.value['absolute_quantity'] and 'nominal' in n.value['absolute_quantity'] \\\n",
    "                                        else \"\"\n",
    "            allowed_labels = n.value['allowed_labels'] if 'allowed_labels' in n.value else \"\"\n",
    "            allowed_names = n.value['allowed_names'] if 'allowed_names' in n.value else \"\"\n",
    "            file_links = n.value['file_links'] if 'file_links' in n.value else \"\"\n",
    "            label = n.value['type']\n",
    "            node_value = [node_id, name, notes, real_lower_bound, real_upper_bound, real_units, real_name_sub, \\\n",
    "                      real_value_sub, real_units_sub, description, node_type, tags, sample_type, mass_fraction, \\\n",
    "                      number_fraction, volume_fraction, source_performed_by, source_performed_date, source_type, \\\n",
    "                      absolute_quantity_lower_bound, absolute_quantity_type, absolute_quantity_units, \\\n",
    "                      absolute_quantity_upper_bound, absolute_quantity_nominal, allowed_labels, allowed_names, file_links, label]\n",
    "            writer.writerow(node_value)"
   ]
  },
  {
   "cell_type": "code",
   "execution_count": 20,
   "id": "dbf7423e",
   "metadata": {},
   "outputs": [],
   "source": [
    "material_spec_expr = parse('$[?(@.type == \"material_spec\")]')\n",
    "nodes = material_spec_expr.find(json_data)\n",
    "spec_nodes_generator(nodes)"
   ]
  },
  {
   "cell_type": "code",
   "execution_count": 21,
   "id": "db4d2bbf",
   "metadata": {},
   "outputs": [],
   "source": [
    "ingredient_spec_expr = parse('$[?(@.type == \"ingredient_spec\")]')\n",
    "nodes = ingredient_spec_expr.find(json_data)\n",
    "spec_nodes_generator(nodes)"
   ]
  },
  {
   "cell_type": "code",
   "execution_count": 22,
   "id": "7461654c",
   "metadata": {},
   "outputs": [],
   "source": [
    "process_spec_expr = parse('$[?(@.type == \"process_spec\")]')\n",
    "nodes = process_spec_expr.find(json_data)\n",
    "spec_nodes_generator(nodes)"
   ]
  },
  {
   "cell_type": "code",
   "execution_count": 23,
   "id": "ddad3758",
   "metadata": {},
   "outputs": [],
   "source": [
    "measurement_spec_expr = parse('$[?(@.type == \"measurement_spec\")]')\n",
    "nodes = measurement_spec_expr.find(json_data)\n",
    "spec_nodes_generator(nodes)"
   ]
  },
  {
   "cell_type": "markdown",
   "id": "4b47d1eb",
   "metadata": {},
   "source": [
    "### run ###"
   ]
  },
  {
   "cell_type": "code",
   "execution_count": 24,
   "id": "24fd583d",
   "metadata": {},
   "outputs": [],
   "source": [
    "def run_nodes_generator(nodes):\n",
    "    with open(\"nodes.csv\", \"a\", newline=\"\") as csvfile:\n",
    "        writer = csv.writer(csvfile)\n",
    "        for n in nodes:\n",
    "            node_id = n.value['uids']['auto']\n",
    "            if node_id in node_ids: continue\n",
    "            node_ids.add(node_id)\n",
    "            name = n.value['name']\n",
    "            notes = n.value['notes'] if 'notes' in n.value else \"\"\n",
    "            real_lower_bound = \"\"\n",
    "            real_upper_bound = \"\"\n",
    "            real_units = \"\"\n",
    "            real_name_sub = []\n",
    "            real_value_sub = []\n",
    "            real_units_sub = []\n",
    "            if 'properties' in n.value:\n",
    "                for node_property in n.value['properties']:\n",
    "                    if node_property['value']['type'] == 'nominal_real':\n",
    "                        real_name_sub.append(node_property['name'])\n",
    "                        real_value_sub.append(node_property['value']['nominal'])\n",
    "                        real_units_sub.append(node_property['value']['units'])\n",
    "            if 'conditions' in n.value:\n",
    "                for node_condition in n.value['conditions']:\n",
    "                    if node_condition['value']['type'] == 'nominal_real':\n",
    "                        real_name_sub.append(node_condition['name'])\n",
    "                        real_value_sub.append(node_condition['value']['nominal'])\n",
    "                        real_units_sub.append(node_condition['value']['units'])\n",
    "            if 'parameters' in n.value:\n",
    "                for node_parameter in n.value['parameters']:\n",
    "                    if node_parameter['value']['type'] == 'nominal_real':\n",
    "                        real_name_sub.append(node_parameter['name'])\n",
    "                        real_value_sub.append(node_parameter['value']['nominal'])\n",
    "                        real_units_sub.append(node_parameter['value']['units'])\n",
    "            description = n.value['description'] if 'description' in n.value else \"\"\n",
    "            node_type = n.value['type']\n",
    "            tags = n.value['tags'] if 'tags' in n.value else [] \n",
    "            sample_type = n.value['sample_type'] if 'sample_type' in n.value else \"\"\n",
    "            mass_fraction = n.value['mass_fraction'] if 'mass_fraction' in n.value else \"\"\n",
    "            number_fraction = n.value['number_fraction'] if 'number_fraction' in n.value else \"\"\n",
    "            volume_fraction = n.value['volume_fraction'] if 'volume_fraction' in n.value else \"\"\n",
    "            source_performed_by = n.value['source']['performed_by'] if 'source' in n.value and n.value['source'] else \"\"\n",
    "            source_performed_date = n.value['source']['performed_date'] if 'source' in n.value and n.value['source'] else \"\"\n",
    "            source_type = n.value['source']['type'] if 'source' in n.value and n.value['source'] else \"\"\n",
    "            absolute_quantity_lower_bound = n.value['absolute_quantity']['lower_bound'] if 'absolute_quantity' in n.value \\\n",
    "                                            and n.value['absolute_quantity'] and 'lower_bound' in n.value['absolute_quantity'] \\\n",
    "                                            else \"\"\n",
    "            absolute_quantity_type = n.value['absolute_quantity']['type'] if 'absolute_quantity' in n.value \\\n",
    "                                     and n.value['absolute_quantity'] and 'type' in n.value['absolute_quantity'] \\\n",
    "                                     else \"\"\n",
    "            absolute_quantity_units = n.value['absolute_quantity']['units'] if 'absolute_quantity' in n.value \\\n",
    "                                      and n.value['absolute_quantity'] and 'units' in n.value['absolute_quantity'] \\\n",
    "                                      else \"\"\n",
    "            absolute_quantity_upper_bound = n.value['absolute_quantity']['upper_bound'] if 'absolute_quantity' in n.value \\\n",
    "                                            and n.value['absolute_quantity'] and 'upper_bound' in n.value['absolute_quantity'] \\\n",
    "                                            else \"\"\n",
    "            absolute_quantity_nominal = n.value['absolute_quantity']['nominal'] if 'absolute_quantity' in n.value \\\n",
    "                                        and n.value['absolute_quantity'] and 'nominal' in n.value['absolute_quantity'] \\\n",
    "                                        else \"\"\n",
    "            allowed_labels = n.value['allowed_labels'] if 'allowed_labels' in n.value else \"\"\n",
    "            allowed_names = n.value['allowed_names'] if 'allowed_names' in n.value else \"\"\n",
    "            file_links = n.value['file_links'] if 'file_links' in n.value else \"\"\n",
    "            label = n.value['type']\n",
    "            node_value = [node_id, name, notes, real_lower_bound, real_upper_bound, real_units, real_name_sub, \\\n",
    "                      real_value_sub, real_units_sub, description, node_type, tags, sample_type, mass_fraction, \\\n",
    "                      number_fraction, volume_fraction, source_performed_by, source_performed_date, source_type, \\\n",
    "                      absolute_quantity_lower_bound, absolute_quantity_type, absolute_quantity_units, \\\n",
    "                      absolute_quantity_upper_bound, absolute_quantity_nominal, allowed_labels, allowed_names, file_links, label]\n",
    "            writer.writerow(node_value)"
   ]
  },
  {
   "cell_type": "code",
   "execution_count": 25,
   "id": "76716764",
   "metadata": {},
   "outputs": [],
   "source": [
    "material_run_expr = parse('$[?(@.type == \"material_run\")]')\n",
    "nodes = material_run_expr.find(json_data)\n",
    "run_nodes_generator(nodes)"
   ]
  },
  {
   "cell_type": "code",
   "execution_count": 26,
   "id": "d7d45668",
   "metadata": {},
   "outputs": [],
   "source": [
    "ingredient_run_expr = parse('$[?(@.type == \"ingredient_run\")]')\n",
    "nodes = ingredient_run_expr.find(json_data)\n",
    "run_nodes_generator(nodes)"
   ]
  },
  {
   "cell_type": "code",
   "execution_count": 27,
   "id": "d979ed64",
   "metadata": {},
   "outputs": [],
   "source": [
    "process_run_expr = parse('$[?(@.type == \"process_run\")]')\n",
    "nodes = process_run_expr.find(json_data)\n",
    "run_nodes_generator(nodes)"
   ]
  },
  {
   "cell_type": "code",
   "execution_count": 28,
   "id": "5307e88d",
   "metadata": {},
   "outputs": [],
   "source": [
    "measurement_run_expr = parse('$[?(@.type == \"measurement_run\")]')\n",
    "nodes = measurement_run_expr.find(json_data)\n",
    "run_nodes_generator(nodes)"
   ]
  },
  {
   "cell_type": "markdown",
   "id": "68ef29b2",
   "metadata": {},
   "source": [
    "# Edges #"
   ]
  },
  {
   "cell_type": "code",
   "execution_count": 29,
   "id": "af7d3a0e",
   "metadata": {},
   "outputs": [],
   "source": [
    "edges_header = [\":START_ID\", \":END_ID\", \":TYPE\"]\n",
    "with open(\"edges_header.csv\", \"w\", newline=\"\") as csvfile:\n",
    "    writer = csv.writer(csvfile)\n",
    "    writer.writerow(edges_header)"
   ]
  },
  {
   "cell_type": "code",
   "execution_count": 34,
   "id": "9855225c",
   "metadata": {},
   "outputs": [],
   "source": [
    "process_template_expr = parse('$[?(@.type == \"process_template\")]')\n",
    "nodes = process_template_expr.find(json_data)"
   ]
  },
  {
   "cell_type": "code",
   "execution_count": 35,
   "id": "7f9e8844",
   "metadata": {},
   "outputs": [],
   "source": [
    "with open(\"edges.csv\", \"a\", newline=\"\") as csvfile:\n",
    "    writer = csv.writer(csvfile)\n",
    "    for n in nodes:\n",
    "        template_id = n.value['uids']['auto']\n",
    "        edge_value = [\"doi\", template_id, \"root_to_processTemplate\"]\n",
    "        writer.writerow(edge_value)"
   ]
  },
  {
   "cell_type": "markdown",
   "id": "9ac9f338",
   "metadata": {},
   "source": [
    "### material template -> material spec ###"
   ]
  },
  {
   "cell_type": "code",
   "execution_count": 36,
   "id": "0a931e69",
   "metadata": {},
   "outputs": [],
   "source": [
    "material_template_expr = parse('$[?(@.type == \"material_spec\")]')\n",
    "nodes = material_template_expr.find(json_data)"
   ]
  },
  {
   "cell_type": "code",
   "execution_count": 37,
   "id": "f7e9616d",
   "metadata": {},
   "outputs": [],
   "source": [
    "with open(\"edges.csv\", \"w\", newline=\"\") as csvfile:\n",
    "    writer = csv.writer(csvfile)\n",
    "    for n in nodes:\n",
    "        if n.value['template']:\n",
    "            source_id = n.value['template']['id']\n",
    "            target_id = n.value['uids']['auto']\n",
    "            label = 'materialTemplate_to_materialSpec'\n",
    "            edge_value = [source_id, target_id, label]\n",
    "            writer.writerow(edge_value)"
   ]
  },
  {
   "cell_type": "markdown",
   "id": "e0289f7f",
   "metadata": {},
   "source": [
    "### property/parameter/condition template -> categorical bounds ###"
   ]
  },
  {
   "cell_type": "code",
   "execution_count": 38,
   "id": "8d68f580",
   "metadata": {},
   "outputs": [],
   "source": [
    "property_template_expr = parse('$[?(@.type == \"property_template\")]')\n",
    "nodes = property_template_expr.find(json_data)"
   ]
  },
  {
   "cell_type": "code",
   "execution_count": 39,
   "id": "8004e907",
   "metadata": {},
   "outputs": [],
   "source": [
    "with open(\"edges.csv\", \"a\", newline=\"\") as csvfile:\n",
    "    writer = csv.writer(csvfile)\n",
    "    for n in nodes:\n",
    "        source_id = n.value['uids']['auto']\n",
    "        if 'categories' in n.value['bounds']:\n",
    "            for category in n.value['bounds']['categories']:\n",
    "                category_id = categoryName_to_id[category]\n",
    "                label = 'property_to_category'\n",
    "                edge_value = [source_id, category_id, label]\n",
    "                writer.writerow(edge_value)"
   ]
  },
  {
   "cell_type": "code",
   "execution_count": 40,
   "id": "6f1536f9",
   "metadata": {},
   "outputs": [],
   "source": [
    "parameter_template_expr = parse('$[?(@.type == \"parameter_template\")]')\n",
    "nodes = parameter_template_expr.find(json_data)"
   ]
  },
  {
   "cell_type": "code",
   "execution_count": 41,
   "id": "13219331",
   "metadata": {},
   "outputs": [],
   "source": [
    "with open(\"edges.csv\", \"a\", newline=\"\") as csvfile:\n",
    "    writer = csv.writer(csvfile)\n",
    "    for n in nodes:\n",
    "        source_id = n.value['uids']['auto']\n",
    "        if 'categories' in n.value['bounds']:\n",
    "            for category in n.value['bounds']['categories']:\n",
    "                category_id = categoryName_to_id[category]\n",
    "                label = 'parameter_to_category'\n",
    "                edge_value = [source_id, category_id, label]\n",
    "                writer.writerow(edge_value)"
   ]
  },
  {
   "cell_type": "code",
   "execution_count": 42,
   "id": "9f28267d",
   "metadata": {},
   "outputs": [],
   "source": [
    "condition_template_expr = parse('$[?(@.type == \"condition_template\")]')\n",
    "nodes = condition_template_expr.find(json_data)"
   ]
  },
  {
   "cell_type": "code",
   "execution_count": 43,
   "id": "5480c4b9",
   "metadata": {},
   "outputs": [],
   "source": [
    "with open(\"edges.csv\", \"a\", newline=\"\") as csvfile:\n",
    "    writer = csv.writer(csvfile)\n",
    "    for n in nodes:\n",
    "        source_id = n.value['uids']['auto']\n",
    "        if 'categories' in n.value['bounds']:\n",
    "            for category in n.value['bounds']['categories']:\n",
    "                category_id = categoryName_to_id[category]\n",
    "                label = 'condition_to_category'\n",
    "                edge_value = [source_id, category_id, label]\n",
    "                writer.writerow(edge_value)"
   ]
  },
  {
   "cell_type": "markdown",
   "id": "84411548",
   "metadata": {},
   "source": [
    "### material spec -> property template ###"
   ]
  },
  {
   "cell_type": "code",
   "execution_count": 44,
   "id": "f961d080",
   "metadata": {},
   "outputs": [],
   "source": [
    "material_spec_expr = parse('$[?(@.type == \"material_spec\")]')\n",
    "nodes = material_spec_expr.find(json_data)"
   ]
  },
  {
   "cell_type": "code",
   "execution_count": 45,
   "id": "199934a5",
   "metadata": {},
   "outputs": [],
   "source": [
    "with open(\"edges.csv\", \"a\", newline=\"\") as csvfile:\n",
    "    writer = csv.writer(csvfile)\n",
    "    for n in nodes:\n",
    "        spec_id = n.value['uids']['auto']\n",
    "        if 'properties' in n.value:\n",
    "            for node_property in n.value['properties']:\n",
    "                property_id = node_property['property']['template']['id']\n",
    "                label = 'materialSpec_to_propertyTemplate'\n",
    "                edge_value = [spec_id, property_id, label]\n",
    "                writer.writerow(edge_value)"
   ]
  },
  {
   "cell_type": "markdown",
   "id": "5b031262",
   "metadata": {},
   "source": [
    "### categorical bounds -> ingredient spec ###"
   ]
  },
  {
   "cell_type": "code",
   "execution_count": 46,
   "id": "72dc15ad",
   "metadata": {},
   "outputs": [],
   "source": [
    "materialSpecId_to_propertyId = collections.defaultdict(list)"
   ]
  },
  {
   "cell_type": "code",
   "execution_count": 47,
   "id": "5195d188",
   "metadata": {},
   "outputs": [],
   "source": [
    "material_spec_expr = parse('$[?(@.type == \"material_spec\")]')\n",
    "nodes = material_spec_expr.find(json_data)"
   ]
  },
  {
   "cell_type": "code",
   "execution_count": 48,
   "id": "b93a4ad0",
   "metadata": {},
   "outputs": [],
   "source": [
    "for n in nodes:\n",
    "    material_id = n.value['uids']['auto']\n",
    "    if 'properties' in n.value:\n",
    "        for node_property in n.value['properties']:\n",
    "            if node_property['property']['value']['type'] == 'nominal_categorical':\n",
    "                property_name = node_property['property']['value']['category']\n",
    "                category_id = categoryName_to_id[property_name]\n",
    "                materialSpecId_to_propertyId[material_id].append(category_id)"
   ]
  },
  {
   "cell_type": "code",
   "execution_count": 49,
   "id": "35bcce15",
   "metadata": {},
   "outputs": [],
   "source": [
    "ingredient_spec_expr = parse('$[?(@.type == \"ingredient_spec\")]')\n",
    "nodes = ingredient_spec_expr.find(json_data)"
   ]
  },
  {
   "cell_type": "code",
   "execution_count": 50,
   "id": "80a4f688",
   "metadata": {},
   "outputs": [],
   "source": [
    "with open(\"edges.csv\", \"a\", newline=\"\") as csvfile:\n",
    "    writer = csv.writer(csvfile)\n",
    "    for n in nodes:\n",
    "        ingredient_id = n.value['uids']['auto']\n",
    "        if n.value['material']:\n",
    "            material_id = n.value['material']['id']\n",
    "            for category_id in materialSpecId_to_propertyId[material_id]:\n",
    "                edge_value = [category_id, ingredient_id, 'category_to_ingredient']\n",
    "                writer.writerow(edge_value)"
   ]
  },
  {
   "cell_type": "code",
   "execution_count": 51,
   "id": "87b98741",
   "metadata": {},
   "outputs": [],
   "source": [
    "with open(\"edges.csv\", \"a\", newline=\"\") as csvfile:\n",
    "    writer = csv.writer(csvfile)\n",
    "    for n in nodes:\n",
    "        ingredient_id = n.value['uids']['auto']\n",
    "        if n.value['material']:\n",
    "            material_id = n.value['material']['id']\n",
    "            if len(materialSpecId_to_propertyId[material_id]) == 0:\n",
    "                edge_value = [material_id, ingredient_id, 'materialSpec_to_ingredientSpec']\n",
    "                writer.writerow(edge_value)"
   ]
  },
  {
   "cell_type": "markdown",
   "id": "d7537447",
   "metadata": {},
   "source": [
    "### ingredient_spec -> parameter/condition template ###"
   ]
  },
  {
   "cell_type": "code",
   "execution_count": 52,
   "id": "3cbec6d2",
   "metadata": {},
   "outputs": [],
   "source": [
    "processSpecId_to_parameterCategoryId = collections.defaultdict(list)\n",
    "processSpecId_to_conditionCategoryId = collections.defaultdict(list)\n",
    "processSpecId_to_parameterTemplateId = collections.defaultdict(list)\n",
    "processSpecId_to_conditionTemplateId = collections.defaultdict(list)"
   ]
  },
  {
   "cell_type": "code",
   "execution_count": 53,
   "id": "6be7553b",
   "metadata": {},
   "outputs": [],
   "source": [
    "process_spec_expr = parse('$[?(@.type == \"process_spec\")]')\n",
    "nodes = process_spec_expr.find(json_data)"
   ]
  },
  {
   "cell_type": "code",
   "execution_count": 54,
   "id": "c169b1db",
   "metadata": {},
   "outputs": [],
   "source": [
    "for n in nodes:\n",
    "    process_id = n.value['uids']['auto']\n",
    "    if 'conditions' in n.value:\n",
    "        for node_condition in n.value['conditions']:\n",
    "            template_id = node_condition['template']['id']\n",
    "            if node_condition['value']['type'] == 'nominal_categorical':\n",
    "                condition_name = node_condition['value']['category']\n",
    "                category_id = categoryName_to_id[condition_name]\n",
    "                if category_id not in processSpecId_to_conditionCategoryId[process_id]:\n",
    "                    processSpecId_to_conditionCategoryId[process_id].append(category_id)\n",
    "            if template_id not in processSpecId_to_conditionTemplateId[process_id]:\n",
    "                processSpecId_to_conditionTemplateId[process_id].append(template_id)\n",
    "    if 'parameters' in n.value:\n",
    "        for node_parameter in n.value['parameters']:\n",
    "            template_id = node_parameter['template']['id']\n",
    "            if node_parameter['value']['type'] == 'nominal_categorical':\n",
    "                parameter_name = node_parameter['value']['category']\n",
    "                category_id = categoryName_to_id[parameter_name]\n",
    "                if category_id not in processSpecId_to_parameterCategoryId[process_id]:\n",
    "                    processSpecId_to_parameterCategoryId[process_id].append(category_id)\n",
    "            if template_id not in processSpecId_to_parameterTemplateId[process_id]:\n",
    "                processSpecId_to_parameterTemplateId[process_id].append(template_id)"
   ]
  },
  {
   "cell_type": "code",
   "execution_count": 55,
   "id": "4f3fece5",
   "metadata": {},
   "outputs": [],
   "source": [
    "ingredient_spec_expr = parse('$[?(@.type == \"ingredient_spec\")]')\n",
    "nodes = ingredient_spec_expr.find(json_data)"
   ]
  },
  {
   "cell_type": "code",
   "execution_count": 56,
   "id": "90b7e69e",
   "metadata": {},
   "outputs": [],
   "source": [
    "with open(\"edges.csv\", \"a\", newline=\"\") as csvfile:\n",
    "    writer = csv.writer(csvfile)\n",
    "    for n in nodes:\n",
    "        ingredient_id = n.value['uids']['auto']\n",
    "        process_id = n.value['process']['id']\n",
    "        for conditionTemplate_id in processSpecId_to_conditionTemplateId[process_id]:\n",
    "            edge_value = [ingredient_id, conditionTemplate_id, 'ingredientSpec_to_conditionTemplate']\n",
    "            writer.writerow(edge_value)\n",
    "        for parameterTemplate_id in processSpecId_to_parameterTemplateId[process_id]:\n",
    "            edge_value = [ingredient_id, parameterTemplate_id, 'ingredientSpec_to_parameterTemplate']\n",
    "            writer.writerow(edge_value)"
   ]
  },
  {
   "cell_type": "code",
   "execution_count": 57,
   "id": "8678d937",
   "metadata": {},
   "outputs": [],
   "source": [
    "with open(\"edges.csv\", \"a\", newline=\"\") as csvfile:\n",
    "    writer = csv.writer(csvfile)\n",
    "    for n in nodes:\n",
    "        ingredient_id = n.value['uids']['auto']\n",
    "        process_id = n.value['process']['id']\n",
    "        if len(processSpecId_to_conditionTemplateId[process_id]) == 0 \\\n",
    "           and len(processSpecId_to_parameterTemplateId[process_id]) == 0: \n",
    "            edge_value = [ingredient_id, process_id, 'ingredientSpec_to_processSpec']\n",
    "            writer.writerow(edge_value)"
   ]
  },
  {
   "cell_type": "markdown",
   "id": "2c301fc2",
   "metadata": {},
   "source": [
    "### categorical bounds -> process spec ###"
   ]
  },
  {
   "cell_type": "code",
   "execution_count": 58,
   "id": "0cfe1477",
   "metadata": {},
   "outputs": [],
   "source": [
    "process_spec_expr = parse('$[?(@.type == \"process_spec\")]')\n",
    "nodes = process_spec_expr.find(json_data)"
   ]
  },
  {
   "cell_type": "code",
   "execution_count": 59,
   "id": "4fc3a5d7",
   "metadata": {},
   "outputs": [],
   "source": [
    "with open(\"edges.csv\", \"a\", newline=\"\") as csvfile:\n",
    "    writer = csv.writer(csvfile)\n",
    "    for n in nodes:\n",
    "        process_id = n.value['uids']['auto']\n",
    "        for conditionCategoryId in processSpecId_to_conditionCategoryId[process_id]:\n",
    "            edge_value = [conditionCategoryId, process_id, 'category_to_processSpec']\n",
    "            writer.writerow(edge_value)\n",
    "        for parameterCategoryId in processSpecId_to_parameterCategoryId[process_id]:\n",
    "            edge_value = [parameterCategoryId, process_id, 'category_to_processSpec']\n",
    "            writer.writerow(edge_value)"
   ]
  },
  {
   "cell_type": "markdown",
   "id": "3e1070af",
   "metadata": {},
   "source": [
    "### process spec -> material spec ###"
   ]
  },
  {
   "cell_type": "code",
   "execution_count": 60,
   "id": "f548c34a",
   "metadata": {},
   "outputs": [],
   "source": [
    "material_spec_expr = parse('$[?(@.type == \"material_spec\")]')\n",
    "nodes = material_spec_expr.find(json_data)"
   ]
  },
  {
   "cell_type": "code",
   "execution_count": 61,
   "id": "8f174a4e",
   "metadata": {},
   "outputs": [],
   "source": [
    "with open(\"edges.csv\", \"a\", newline=\"\") as csvfile:\n",
    "    writer = csv.writer(csvfile)\n",
    "    for n in nodes:\n",
    "        material_id = n.value['uids']['auto']\n",
    "        if n.value['process']:\n",
    "            process_id = n.value['process']['id']\n",
    "            edge_value = [process_id, material_id, 'processSpec_to_materialSpec']\n",
    "            writer.writerow(edge_value)"
   ]
  },
  {
   "cell_type": "markdown",
   "id": "e3bf0496",
   "metadata": {},
   "source": [
    "### material spec -> material run ###"
   ]
  },
  {
   "cell_type": "code",
   "execution_count": 62,
   "id": "58e8d2cb",
   "metadata": {},
   "outputs": [],
   "source": [
    "material_run_expr = parse('$[?(@.type == \"material_run\")]')\n",
    "nodes = material_run_expr.find(json_data)"
   ]
  },
  {
   "cell_type": "code",
   "execution_count": 63,
   "id": "d3cdf5aa",
   "metadata": {},
   "outputs": [],
   "source": [
    "with open(\"edges.csv\", \"a\", newline=\"\") as csvfile:\n",
    "    writer = csv.writer(csvfile)\n",
    "    for n in nodes:\n",
    "        run_id = n.value['uids']['auto']\n",
    "        spec_id = n.value['spec']['id']\n",
    "        edge_value = [spec_id, run_id, 'materialSpec_to_materialRun']\n",
    "        writer.writerow(edge_value)"
   ]
  },
  {
   "cell_type": "markdown",
   "id": "f3c279d5",
   "metadata": {},
   "source": [
    "### ingredient_spec -> ingredient_run ###"
   ]
  },
  {
   "cell_type": "code",
   "execution_count": 64,
   "id": "545322af",
   "metadata": {},
   "outputs": [],
   "source": [
    "ingredient_run_expr = parse('$[?(@.type == \"ingredient_run\")]')\n",
    "nodes = ingredient_run_expr.find(json_data)"
   ]
  },
  {
   "cell_type": "code",
   "execution_count": 65,
   "id": "bed22601",
   "metadata": {},
   "outputs": [],
   "source": [
    "with open(\"edges.csv\", \"a\", newline=\"\") as csvfile:\n",
    "    writer = csv.writer(csvfile)\n",
    "    for n in nodes:\n",
    "        run_id = n.value['uids']['auto']\n",
    "        spec_id = n.value['spec']['id']\n",
    "        edge_value = [spec_id, run_id, 'ingredientSpec_to_ingredientRun']\n",
    "        writer.writerow(edge_value)"
   ]
  },
  {
   "cell_type": "markdown",
   "id": "3d77d987",
   "metadata": {},
   "source": [
    "### process template -> process spec ###"
   ]
  },
  {
   "cell_type": "code",
   "execution_count": 66,
   "id": "f0c698d6",
   "metadata": {},
   "outputs": [],
   "source": [
    "process_spec_expr = parse('$[?(@.type == \"process_spec\")]')\n",
    "nodes = process_spec_expr.find(json_data)"
   ]
  },
  {
   "cell_type": "code",
   "execution_count": 67,
   "id": "70023d8a",
   "metadata": {},
   "outputs": [],
   "source": [
    "with open(\"edges.csv\", \"a\", newline=\"\") as csvfile:\n",
    "    writer = csv.writer(csvfile)\n",
    "    for n in nodes:\n",
    "        spec_id = n.value['uids']['auto']\n",
    "        template_id = n.value['template']['id']\n",
    "        edge_value = [template_id, spec_id, 'processTemplate_to_processSpec']\n",
    "        writer.writerow(edge_value)"
   ]
  },
  {
   "cell_type": "markdown",
   "id": "90487746",
   "metadata": {},
   "source": [
    "### process spec -> process run ###"
   ]
  },
  {
   "cell_type": "code",
   "execution_count": 68,
   "id": "663ae619",
   "metadata": {},
   "outputs": [],
   "source": [
    "process_run_expr = parse('$[?(@.type == \"process_run\")]')\n",
    "nodes = process_run_expr.find(json_data)"
   ]
  },
  {
   "cell_type": "code",
   "execution_count": 69,
   "id": "8079018e",
   "metadata": {},
   "outputs": [],
   "source": [
    "with open(\"edges.csv\", \"a\", newline=\"\") as csvfile:\n",
    "    writer = csv.writer(csvfile)\n",
    "    for n in nodes:\n",
    "        run_id = n.value['uids']['auto']\n",
    "        spec_id = n.value['spec']['id']\n",
    "        edge_value = [spec_id, run_id, 'processSpec_to_processRun']\n",
    "        writer.writerow(edge_value)"
   ]
  },
  {
   "cell_type": "markdown",
   "id": "ac72d45c",
   "metadata": {},
   "source": [
    "### material run -> ingredient run ###"
   ]
  },
  {
   "cell_type": "code",
   "execution_count": 70,
   "id": "e66e5ee8",
   "metadata": {},
   "outputs": [],
   "source": [
    "ingredient_run_expr = parse('$[?(@.type == \"ingredient_run\")]')\n",
    "nodes = ingredient_run_expr.find(json_data)"
   ]
  },
  {
   "cell_type": "code",
   "execution_count": 71,
   "id": "3fa55cff",
   "metadata": {},
   "outputs": [],
   "source": [
    "with open(\"edges.csv\", \"a\", newline=\"\") as csvfile:\n",
    "    writer = csv.writer(csvfile)\n",
    "    for n in nodes:\n",
    "        ingredient_id = n.value['uids']['auto']\n",
    "        if n.value['material']:\n",
    "            material_id = n.value['material']['id']\n",
    "            edge_value = [material_id, ingredient_id, 'materialRun_to_ingredientRun']\n",
    "            writer.writerow(edge_value)"
   ]
  },
  {
   "cell_type": "markdown",
   "id": "b9a8191a",
   "metadata": {},
   "source": [
    "### ingredient run -> process run ###"
   ]
  },
  {
   "cell_type": "code",
   "execution_count": 72,
   "id": "f310891a",
   "metadata": {},
   "outputs": [],
   "source": [
    "ingredient_run_expr = parse('$[?(@.type == \"ingredient_run\")]')\n",
    "nodes = ingredient_run_expr.find(json_data)"
   ]
  },
  {
   "cell_type": "code",
   "execution_count": 73,
   "id": "4ac89582",
   "metadata": {},
   "outputs": [],
   "source": [
    "with open(\"edges.csv\", \"a\", newline=\"\") as csvfile:\n",
    "    writer = csv.writer(csvfile)\n",
    "    for n in nodes:\n",
    "        ingredient_id = n.value['uids']['auto']\n",
    "        process_id = n.value['process']['id']\n",
    "        edge_value = [ingredient_id, process_id, 'ingredientRun_to_processRun']\n",
    "        writer.writerow(edge_value)"
   ]
  },
  {
   "cell_type": "markdown",
   "id": "7dffd0db",
   "metadata": {},
   "source": [
    "### process run -> material run ###"
   ]
  },
  {
   "cell_type": "code",
   "execution_count": 74,
   "id": "e12bb5d2",
   "metadata": {},
   "outputs": [],
   "source": [
    "material_run_expr = parse('$[?(@.type == \"material_run\")]')\n",
    "nodes = material_run_expr.find(json_data)"
   ]
  },
  {
   "cell_type": "code",
   "execution_count": 75,
   "id": "2edf0b63",
   "metadata": {},
   "outputs": [],
   "source": [
    "with open(\"edges.csv\", \"a\", newline=\"\") as csvfile:\n",
    "    writer = csv.writer(csvfile)\n",
    "    for n in nodes:\n",
    "        material_id = n.value['uids']['auto']\n",
    "        if n.value['process']:\n",
    "            process_id = n.value['process']['id']\n",
    "            edge_value = [process_id, material_id, 'processRun_to_materialRun']\n",
    "            writer.writerow(edge_value)"
   ]
  },
  {
   "cell_type": "markdown",
   "id": "325fece4",
   "metadata": {},
   "source": [
    "### measurement template -> measurement spec ###"
   ]
  },
  {
   "cell_type": "code",
   "execution_count": 76,
   "id": "7807f7f0",
   "metadata": {},
   "outputs": [],
   "source": [
    "measurement_spec_expr = parse('$[?(@.type == \"measurement_spec\")]')\n",
    "nodes = measurement_spec_expr.find(json_data)"
   ]
  },
  {
   "cell_type": "code",
   "execution_count": 77,
   "id": "e8f76217",
   "metadata": {},
   "outputs": [],
   "source": [
    "with open(\"edges.csv\", \"a\", newline=\"\") as csvfile:\n",
    "    writer = csv.writer(csvfile)\n",
    "    for n in nodes:\n",
    "        spec_id = n.value['uids']['auto']\n",
    "        template_id = n.value['template']['id']\n",
    "        edge_value = [template_id, spec_id, 'measurementTemplate_to_measurementSpec']\n",
    "        writer.writerow(edge_value)"
   ]
  },
  {
   "cell_type": "markdown",
   "id": "7400177f",
   "metadata": {},
   "source": [
    "### measurement spec -> measurement run ###"
   ]
  },
  {
   "cell_type": "code",
   "execution_count": 78,
   "id": "7d04d519",
   "metadata": {},
   "outputs": [],
   "source": [
    "measurement_run_expr = parse('$[?(@.type == \"measurement_run\")]')\n",
    "nodes = measurement_run_expr.find(json_data)"
   ]
  },
  {
   "cell_type": "code",
   "execution_count": 79,
   "id": "587e9b07",
   "metadata": {},
   "outputs": [],
   "source": [
    "with open(\"edges.csv\", \"a\", newline=\"\") as csvfile:\n",
    "    writer = csv.writer(csvfile)\n",
    "    for n in nodes:\n",
    "        run_id = n.value['uids']['auto']\n",
    "        if n.value['spec']:\n",
    "            spec_id = n.value['spec']['id']\n",
    "            edge_value = [spec_id, run_id, 'measurementSpec_to_measurementRun']\n",
    "            writer.writerow(edge_value)"
   ]
  },
  {
   "cell_type": "markdown",
   "id": "68b8c254",
   "metadata": {},
   "source": [
    "### measurement run -> material run ###"
   ]
  },
  {
   "cell_type": "code",
   "execution_count": 80,
   "id": "b43773ff",
   "metadata": {},
   "outputs": [],
   "source": [
    "measurement_run_expr = parse('$[?(@.type == \"measurement_run\")]')\n",
    "nodes = measurement_run_expr.find(json_data)"
   ]
  },
  {
   "cell_type": "code",
   "execution_count": 81,
   "id": "a09b7e76",
   "metadata": {},
   "outputs": [],
   "source": [
    "with open(\"edges.csv\", \"a\", newline=\"\") as csvfile:\n",
    "    writer = csv.writer(csvfile)\n",
    "    for n in nodes:\n",
    "        measurement_id = n.value['uids']['auto']\n",
    "        if n.value['material']:\n",
    "            material_id = n.value['material']['id']\n",
    "            edge_value = [measurement_id, material_id, 'measurementRun_to_materialRun']\n",
    "            writer.writerow(edge_value)"
   ]
  }
 ],
 "metadata": {
  "kernelspec": {
   "display_name": "Python 3 (ipykernel)",
   "language": "python",
   "name": "python3"
  },
  "language_info": {
   "codemirror_mode": {
    "name": "ipython",
    "version": 3
   },
   "file_extension": ".py",
   "mimetype": "text/x-python",
   "name": "python",
   "nbconvert_exporter": "python",
   "pygments_lexer": "ipython3",
   "version": "3.10.9"
  }
 },
 "nbformat": 4,
 "nbformat_minor": 5
}
