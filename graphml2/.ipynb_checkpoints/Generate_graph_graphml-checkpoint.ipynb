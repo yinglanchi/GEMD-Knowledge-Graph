{
 "cells": [
  {
   "cell_type": "code",
   "execution_count": 1,
   "id": "16107beb",
   "metadata": {},
   "outputs": [],
   "source": [
    "import networkx as nx\n",
    "import json\n",
    "import csv\n",
    "import collections"
   ]
  },
  {
   "cell_type": "code",
   "execution_count": 2,
   "id": "c739af38",
   "metadata": {},
   "outputs": [],
   "source": [
    "graph = nx.read_graphml(\"bidirected_aaa_all.graphml\")"
   ]
  },
  {
   "cell_type": "markdown",
   "id": "d0364d6f",
   "metadata": {},
   "source": [
    "# Generate node header #"
   ]
  },
  {
   "cell_type": "code",
   "execution_count": 3,
   "id": "244c48ae",
   "metadata": {},
   "outputs": [],
   "source": [
    "headers = set()    \n",
    "nodes = []\n",
    "id_to_uid = {}\n",
    "id_to_type = {}"
   ]
  },
  {
   "cell_type": "code",
   "execution_count": 4,
   "id": "fde0455c",
   "metadata": {},
   "outputs": [],
   "source": [
    "for node_id, properties in graph.nodes(data=True):\n",
    "    tmp = properties['object'].replace('\\'', '\"').replace('None', '\"None\"').replace('nan','\"nan\"')\n",
    "    node = json.loads(tmp)\n",
    "    nodes.append(node)\n",
    "    id_to_uid[node_id] = node['uids']['auto']\n",
    "    id_to_type[node_id] = node['type']\n",
    "    for key in node.keys():\n",
    "        if key == 'process' or key == 'material' or key == 'ingredient' or \\\n",
    "           key == 'measurement' or key == 'spec' or key == 'conditions' or \\\n",
    "           key == 'parameters' or key == 'properties':\n",
    "            continue\n",
    "        else:\n",
    "            headers.add(key)"
   ]
  },
  {
   "cell_type": "code",
   "execution_count": 5,
   "id": "f102feeb",
   "metadata": {},
   "outputs": [],
   "source": [
    "headers.remove('uids')\n",
    "headerList = ['node_id:ID'] + list(headers) + [\":LABEL\"]"
   ]
  },
  {
   "cell_type": "code",
   "execution_count": 6,
   "id": "c369493a",
   "metadata": {},
   "outputs": [],
   "source": [
    "with open(\"nodes_header.csv\", \"w\", newline=\"\") as csvfile:\n",
    "    writer = csv.writer(csvfile)\n",
    "    writer.writerow(headerList)"
   ]
  },
  {
   "cell_type": "markdown",
   "id": "bdf1ec88",
   "metadata": {},
   "source": [
    "# Generate nodes #"
   ]
  },
  {
   "cell_type": "code",
   "execution_count": 7,
   "id": "f7e7ec44",
   "metadata": {},
   "outputs": [],
   "source": [
    "def add_nodes(properties):\n",
    "    with open(\"nodes.csv\", \"w\", newline=\"\") as csvfile:\n",
    "        writer = csv.writer(csvfile)\n",
    "        for p in properties:\n",
    "            writer.writerow(p)"
   ]
  },
  {
   "cell_type": "code",
   "execution_count": 8,
   "id": "8eddb3c7",
   "metadata": {},
   "outputs": [],
   "source": [
    "properties = []\n",
    "for node in nodes:\n",
    "    p = []\n",
    "    for header in headerList:\n",
    "        if header == 'node_id:ID':\n",
    "            p.append(node['uids']['auto'])\n",
    "        elif header == ':LABEL':\n",
    "            p.append(node['type'])\n",
    "        elif header not in node:\n",
    "            p.append(\"\")\n",
    "        else:\n",
    "            p.append(node[header])\n",
    "    properties.append(p)"
   ]
  },
  {
   "cell_type": "code",
   "execution_count": 9,
   "id": "6a6ea96b",
   "metadata": {},
   "outputs": [],
   "source": [
    "add_nodes(properties)"
   ]
  },
  {
   "cell_type": "markdown",
   "id": "4c393f82",
   "metadata": {},
   "source": [
    "# Generate edge header #"
   ]
  },
  {
   "cell_type": "code",
   "execution_count": 10,
   "id": "07fe83be",
   "metadata": {},
   "outputs": [],
   "source": [
    "edges_header = [\":START_ID\", \":END_ID\", \":TYPE\"]\n",
    "with open(\"edges_header.csv\", \"w\", newline=\"\") as csvfile:\n",
    "    writer = csv.writer(csvfile)\n",
    "    writer.writerow(edges_header)"
   ]
  },
  {
   "cell_type": "markdown",
   "id": "ac2a4662",
   "metadata": {},
   "source": [
    "# Generate edges #"
   ]
  },
  {
   "cell_type": "code",
   "execution_count": 11,
   "id": "4f50ea97",
   "metadata": {},
   "outputs": [],
   "source": [
    "def add_edges(edges):\n",
    "    with open(\"edges.csv\", \"w\", newline=\"\") as csvfile:\n",
    "        writer = csv.writer(csvfile)\n",
    "        for edge in edges:\n",
    "            writer.writerow(edge)"
   ]
  },
  {
   "cell_type": "code",
   "execution_count": 12,
   "id": "e5e822c9",
   "metadata": {},
   "outputs": [],
   "source": [
    "edge_dependencies = collections.defaultdict(set)\n",
    "edge_dependencies['process_template'] = ('process_spec', 'condition_template', 'parameter_template')\n",
    "edge_dependencies['material_template'] = ('material_spec', 'property_template')\n",
    "edge_dependencies['measurement_template'] = ('measurement_spec', 'property_template')\n",
    "edge_dependencies['process_spec'] = ('material_spec', 'process_run')\n",
    "edge_dependencies['material_spec'] = ('ingredient_spec', 'material_run')\n",
    "edge_dependencies['ingredient_spec'] = ('ingredient_run', 'process_spec')\n",
    "edge_dependencies['measurement_spec'] = ('measurement_run')\n",
    "edge_dependencies['material_run'] = ('ingredient_run')\n",
    "edge_dependencies['process_run'] = ('material_run')\n",
    "edge_dependencies['ingredient_run'] = ('process_run')\n",
    "edge_dependencies['measurement_run'] = ('material_run')"
   ]
  },
  {
   "cell_type": "code",
   "execution_count": 13,
   "id": "f4aaa01a",
   "metadata": {},
   "outputs": [],
   "source": [
    "edges = []\n",
    "for source, target, properties in graph.edges(data=True):\n",
    "    if id_to_type[source] in edge_dependencies and id_to_type[target] in edge_dependencies[id_to_type[source]]:\n",
    "        edges.append([id_to_uid[source], id_to_uid[target], id_to_type[source] + '_' + id_to_type[target]])"
   ]
  },
  {
   "cell_type": "code",
   "execution_count": 14,
   "id": "95cbf28a",
   "metadata": {},
   "outputs": [],
   "source": [
    "add_edges(edges)"
   ]
  }
 ],
 "metadata": {
  "kernelspec": {
   "display_name": "Python 3 (ipykernel)",
   "language": "python",
   "name": "python3"
  },
  "language_info": {
   "codemirror_mode": {
    "name": "ipython",
    "version": 3
   },
   "file_extension": ".py",
   "mimetype": "text/x-python",
   "name": "python",
   "nbconvert_exporter": "python",
   "pygments_lexer": "ipython3",
   "version": "3.10.9"
  }
 },
 "nbformat": 4,
 "nbformat_minor": 5
}
