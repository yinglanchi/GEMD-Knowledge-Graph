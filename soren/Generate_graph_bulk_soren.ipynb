{
 "cells": [
  {
   "cell_type": "code",
   "execution_count": 1,
   "id": "9f3ff7af",
   "metadata": {},
   "outputs": [],
   "source": [
    "import json\n",
    "import csv\n",
    "from jsonpath_ng.ext import parse\n",
    "import collections\n",
    "import os"
   ]
  },
  {
   "cell_type": "code",
   "execution_count": 2,
   "id": "7eb712ce",
   "metadata": {},
   "outputs": [
    {
     "name": "stdout",
     "output_type": "stream",
     "text": [
      "skipping\n",
      "skipping\n",
      "skipping\n"
     ]
    }
   ],
   "source": [
    "directory_path = \"soren_NYO_gemd_model_dumps\"\n",
    "json_data = []\n",
    "for filename in os.listdir(directory_path):\n",
    "    file_path = os.path.join(directory_path, filename)\n",
    "    try:\n",
    "        with open(file_path, encoding='utf-8') as file:\n",
    "            json_data.append(json.load(file))\n",
    "    except:\n",
    "        print(\"skipping\")"
   ]
  },
  {
   "cell_type": "markdown",
   "id": "ebd01286",
   "metadata": {},
   "source": [
    "# Nodes #"
   ]
  },
  {
   "cell_type": "markdown",
   "id": "a2836ddf",
   "metadata": {},
   "source": [
    "## Header ##"
   ]
  },
  {
   "cell_type": "code",
   "execution_count": 3,
   "id": "c73dd041",
   "metadata": {},
   "outputs": [],
   "source": [
    "nodes_header = [\"node_id:ID\", \"name\", \"notes\", \"real_lower_bound\", \"real_upper_bound\", \"real_units\", \"real_name_sub\", \\\n",
    "                \"real_value_sub\",\"real_units_sub\", \"description\", \"type\", \"tags\", \"sample_type\", \"mass_fraction\", \\\n",
    "                \"number_fraction\", \"volume_fraction\", \"source_performed_by\", \"source_performed_date\", \"source_type\", \\\n",
    "                \"formula\",\"absolute_quantity_lower_bound\", \"absolute_quantity_type\", \"absolute_quantity_units\", \\\n",
    "                \"absolute_quantity_upper_bound\", \"absolute_nominal\", \"constituent\", \"allowed_labels\", \"allowed_names\", \"file_links\", \\\n",
    "                \":LABEL\"]\n",
    "\n",
    "with open(\"soren_NYO_gemd_model_dumps/nodes_header.csv\", \"w\", newline=\"\") as csvfile:\n",
    "    writer = csv.writer(csvfile)\n",
    "    writer.writerow(nodes_header)"
   ]
  },
  {
   "cell_type": "code",
   "execution_count": 4,
   "id": "8ace91c8",
   "metadata": {},
   "outputs": [],
   "source": [
    "node_ids = set()"
   ]
  },
  {
   "cell_type": "code",
   "execution_count": 5,
   "id": "303e3efc",
   "metadata": {},
   "outputs": [],
   "source": [
    "with open(\"soren_NYO_gemd_model_dumps/nodes.csv\", \"w\", newline=\"\") as csvfile:\n",
    "    writer = csv.writer(csvfile)\n",
    "    writer.writerow(\"\")"
   ]
  },
  {
   "cell_type": "markdown",
   "id": "dee1b859",
   "metadata": {},
   "source": [
    "## Template, Spec, Run ##"
   ]
  },
  {
   "cell_type": "markdown",
   "id": "6a95444f",
   "metadata": {},
   "source": [
    "### Template ###"
   ]
  },
  {
   "cell_type": "code",
   "execution_count": 6,
   "id": "c290bb33",
   "metadata": {},
   "outputs": [],
   "source": [
    "# material_template, process_template, measurement_template\n",
    "def template_nodes_generator_1(nodes):\n",
    "    with open(\"soren_NYO_gemd_model_dumps/nodes.csv\", \"a\", newline=\"\") as csvfile:\n",
    "        writer = csv.writer(csvfile)\n",
    "        for n in nodes:\n",
    "            node_id = n.value['uids']['auto']\n",
    "            if node_id in node_ids: continue\n",
    "            node_ids.add(node_id)\n",
    "            name = n.value['name']\n",
    "            notes = n.value['notes'] if 'notes' in n.value else \"\"\n",
    "            real_lower_bound = \"\"\n",
    "            real_upper_bound = \"\"\n",
    "            real_units = \"\"\n",
    "            real_name_sub = []\n",
    "            real_value_sub = []\n",
    "            real_units_sub = []\n",
    "            description = n.value['description'] if 'description' in n.value else \"\"\n",
    "            node_type = n.value['type']\n",
    "            tags = n.value['tags'] if 'tags' in n.value else []\n",
    "            sample_type = n.value['sample_type'] if 'sample_type' in n.value else \"\"\n",
    "            mass_fraction = n.value['mass_fraction'] if 'mass_fraction' in n.value else \"\"\n",
    "            number_fraction = n.value['number_fraction'] if 'number_fraction' in n.value else \"\"\n",
    "            volume_fraction = n.value['volume_fraction'] if 'volume_fraction' in n.value else \"\"\n",
    "            source_performed_by = n.value['source']['performed_by'] if 'source' in n.value else \"\"\n",
    "            source_performed_date = n.value['source']['performed_date'] if 'source' in n.value else \"\"\n",
    "            source_type = n.value['source']['type'] if 'source' in n.value else \"\"\n",
    "            formula = []\n",
    "            absolute_quantity_lower_bound = n.value['absolute_quantity']['lower_bound'] if 'absolute_quantity' in n.value \\\n",
    "                                            and 'lower_bound' in n.value['absolute_quantity'] else \"\"\n",
    "            absolute_quantity_type = n.value['absolute_quantity']['type'] if 'absolute_quantity' in n.value \\\n",
    "                                     and 'type' in n.value['absolute_quantity'] else \"\"\n",
    "            absolute_quantity_units = n.value['absolute_quantity']['units'] if 'absolute_quantity' in n.value \\\n",
    "                                      and 'units' in n.value['absolute_quantity'] else \"\"\n",
    "            absolute_quantity_upper_bound = n.value['absolute_quantity']['upper_bound'] if 'absolute_quantity' in n.value \\\n",
    "                                            and 'upper_bound' in n.value['absolute_quantity'] else \"\"\n",
    "            absolute_quantity_nominal = n.value['absolute_quantity']['nominal'] if 'absolute_quantity' in n.value \\\n",
    "                                        and 'nominal' in n.value['absolute_quantity'] else \"\"\n",
    "            constituent = []\n",
    "            allowed_labels = n.value['allowed_labels'] if 'allowed_labels' in n.value else \"\"\n",
    "            allowed_names = n.value['allowed_names'] if 'allowed_names' in n.value else \"\"\n",
    "            file_links = n.value['file_links'] if 'file_links' in n.value else \"\"\n",
    "            label = n.value['type']\n",
    "            node_value = [node_id, name, notes, real_lower_bound, real_upper_bound, real_units, real_name_sub, \\\n",
    "                      real_value_sub, real_units_sub, description, node_type, tags, sample_type, mass_fraction, \\\n",
    "                      number_fraction, volume_fraction, source_performed_by, source_performed_date, source_type, \\\n",
    "                      formula, absolute_quantity_lower_bound, absolute_quantity_type, absolute_quantity_units, \\\n",
    "                      absolute_quantity_upper_bound, absolute_quantity_nominal, constituent, allowed_labels, \\\n",
    "                      allowed_names, file_links, label]\n",
    "            writer.writerow(node_value)"
   ]
  },
  {
   "cell_type": "code",
   "execution_count": 7,
   "id": "44770cac",
   "metadata": {},
   "outputs": [],
   "source": [
    "# parameter/condition/property template\n",
    "def template_nodes_generator_2(nodes):\n",
    "    with open(\"soren_NYO_gemd_model_dumps/nodes.csv\", \"a\", newline=\"\") as csvfile:\n",
    "        writer = csv.writer(csvfile)\n",
    "        for n in nodes:\n",
    "            node_id = n.value['uids']['auto']\n",
    "            if node_id in node_ids: continue\n",
    "            node_ids.add(node_id)\n",
    "            name = n.value['name']\n",
    "            notes = n.value['notes'] if 'notes' in n.value else \"\"\n",
    "            real_lower_bound = n.value['bounds']['lower_bound'] if ('bounds' in n.value and n.value['bounds']['type'] == 'real_bounds') else \"\"\n",
    "            real_upper_bound = n.value['bounds']['upper_bound'] if ('bounds' in n.value and n.value['bounds']['type'] == 'real_bounds') else \"\"\n",
    "            real_units = n.value['bounds']['default_units'] if ('bounds' in n.value and n.value['bounds']['type'] == 'real_bounds') else \"\"\n",
    "            real_name_sub = []\n",
    "            real_value_sub = []\n",
    "            real_units_sub = []\n",
    "            description = n.value['description'] if 'description' in n.value else \"\"\n",
    "            node_type = n.value['type']\n",
    "            tags = n.value['tags'] if 'tags' in n.value else []  \n",
    "            sample_type = n.value['sample_type'] if 'sample_type' in n.value else \"\"\n",
    "            mass_fraction = n.value['mass_fraction'] if 'mass_fraction' in n.value else \"\"\n",
    "            number_fraction = n.value['number_fraction'] if 'number_fraction' in n.value else \"\"\n",
    "            volume_fraction = n.value['volume_fraction'] if 'volume_fraction' in n.value else \"\"\n",
    "            source_performed_by = n.value['source']['performed_by'] if 'source' in n.value else \"\"\n",
    "            source_performed_date = n.value['source']['performed_date'] if 'source' in n.value else \"\"\n",
    "            source_type = n.value['source']['type'] if 'source' in n.value else \"\"\n",
    "            formula = []\n",
    "            absolute_quantity_lower_bound = n.value['absolute_quantity']['lower_bound'] if 'absolute_quantity' in n.value \\\n",
    "                                            and 'lower_bound' in n.value['absolute_quantity'] else \"\"\n",
    "            absolute_quantity_type = n.value['absolute_quantity']['type'] if 'absolute_quantity' in n.value \\\n",
    "                                     and 'type' in n.value['absolute_quantity'] else \"\"\n",
    "            absolute_quantity_units = n.value['absolute_quantity']['units'] if 'absolute_quantity' in n.value \\\n",
    "                                      and 'units' in n.value['absolute_quantity'] else \"\"\n",
    "            absolute_quantity_upper_bound = n.value['absolute_quantity']['upper_bound'] if 'absolute_quantity' in n.value \\\n",
    "                                            and 'upper_bound' in n.value['absolute_quantity'] else \"\"\n",
    "            absolute_quantity_nominal = n.value['absolute_quantity']['nominal'] if 'absolute_quantity' in n.value \\\n",
    "                                        and 'nominal' in n.value['absolute_quantity'] else \"\"\n",
    "            constituent = []\n",
    "            allowed_labels = n.value['allowed_labels'] if 'allowed_labels' in n.value else \"\"\n",
    "            allowed_names = n.value['allowed_names'] if 'allowed_names' in n.value else \"\"\n",
    "            file_links = n.value['file_links'] if 'file_links' in n.value else \"\"\n",
    "            label = n.value['type']\n",
    "            node_value = [node_id, name, notes, real_lower_bound, real_upper_bound, real_units, real_name_sub, \\\n",
    "                      real_value_sub, real_units_sub, description, node_type, tags, sample_type, mass_fraction, \\\n",
    "                      number_fraction, volume_fraction, source_performed_by, source_performed_date, source_type, \\\n",
    "                      formula, absolute_quantity_lower_bound, absolute_quantity_type, absolute_quantity_units, \\\n",
    "                      absolute_quantity_upper_bound, absolute_quantity_nominal, constituent, allowed_labels, \\\n",
    "                      allowed_names, file_links, label]\n",
    "            writer.writerow(node_value)"
   ]
  },
  {
   "cell_type": "code",
   "execution_count": 8,
   "id": "54d9e804",
   "metadata": {},
   "outputs": [],
   "source": [
    "material_template_expr = parse('$[?(@.type == \"material_template\")]')\n",
    "nodes = material_template_expr.find(json_data)\n",
    "template_nodes_generator_1(nodes)"
   ]
  },
  {
   "cell_type": "code",
   "execution_count": 9,
   "id": "21cfd83e",
   "metadata": {},
   "outputs": [],
   "source": [
    "process_template_expr = parse('$[?(@.type == \"process_template\")]')\n",
    "nodes = process_template_expr.find(json_data)\n",
    "template_nodes_generator_1(nodes)"
   ]
  },
  {
   "cell_type": "code",
   "execution_count": 10,
   "id": "a9be3a80",
   "metadata": {},
   "outputs": [],
   "source": [
    "measurement_template_expr = parse('$[?(@.type == \"measurement_template\")]')\n",
    "nodes = measurement_template_expr.find(json_data)\n",
    "template_nodes_generator_1(nodes)"
   ]
  },
  {
   "cell_type": "code",
   "execution_count": 11,
   "id": "bd31db8b",
   "metadata": {},
   "outputs": [],
   "source": [
    "parameter_template_expr = parse('$[?(@.type == \"parameter_template\")]')\n",
    "nodes = parameter_template_expr.find(json_data)\n",
    "template_nodes_generator_2(nodes)"
   ]
  },
  {
   "cell_type": "code",
   "execution_count": 12,
   "id": "37dc4a26",
   "metadata": {},
   "outputs": [],
   "source": [
    "property_template_expr = parse('$[?(@.type == \"property_template\")]')\n",
    "nodes = property_template_expr.find(json_data)\n",
    "template_nodes_generator_2(nodes)"
   ]
  },
  {
   "cell_type": "code",
   "execution_count": 13,
   "id": "95d0a183",
   "metadata": {},
   "outputs": [],
   "source": [
    "condition_template_expr = parse('$[?(@.type == \"condition_template\")]')\n",
    "nodes = condition_template_expr.find(json_data)\n",
    "template_nodes_generator_2(nodes)"
   ]
  },
  {
   "cell_type": "markdown",
   "id": "37c558c3",
   "metadata": {},
   "source": [
    "### Categorical Bounds ###"
   ]
  },
  {
   "cell_type": "code",
   "execution_count": 14,
   "id": "960dfd1b",
   "metadata": {},
   "outputs": [],
   "source": [
    "i = 0\n",
    "categoryName_to_id = {}"
   ]
  },
  {
   "cell_type": "code",
   "execution_count": 15,
   "id": "56c2753d",
   "metadata": {},
   "outputs": [],
   "source": [
    "def categorical_nodes_generator(i, nodes):\n",
    "    with open(\"soren_NYO_gemd_model_dumps/nodes.csv\", \"a\", newline=\"\") as csvfile:\n",
    "        writer = csv.writer(csvfile)\n",
    "        for n in nodes:\n",
    "            if 'bounds' in n.value and n.value['bounds']['type'] == 'categorical_bounds':\n",
    "                for j in range(len(n.value['bounds']['categories'])):\n",
    "                    node_id = \"categorical_bounds \" + str(i)\n",
    "                    name = n.value['bounds']['categories'][j]\n",
    "                    if name in categoryName_to_id: continue\n",
    "                    categoryName_to_id[name] = node_id\n",
    "                    notes = \"\"\n",
    "                    real_lower_bound = \"\"\n",
    "                    real_upper_bound = \"\"\n",
    "                    real_units = \"\"\n",
    "                    real_name_sub = []\n",
    "                    real_value_sub = []\n",
    "                    real_units_sub = []\n",
    "                    description = \"\"\n",
    "                    node_type = 'categorical_bounds'\n",
    "                    tags = []\n",
    "                    sample_type = \"\"\n",
    "                    mass_fraction = \"\"\n",
    "                    number_fraction = \"\"\n",
    "                    volume_fraction = \"\"\n",
    "                    source_performed_by = \"\"\n",
    "                    source_performed_date = \"\"\n",
    "                    source_type = \"\"\n",
    "                    formula = []\n",
    "                    absolute_quantity_lower_bound = \"\"\n",
    "                    absolute_quantity_type = \"\"\n",
    "                    absolute_quantity_units = \"\"\n",
    "                    absolute_quantity_upper_bound = \"\"\n",
    "                    absolute_quantity_nominal = \"\"\n",
    "                    constituent = []\n",
    "                    allowed_labels = \"\"\n",
    "                    allowed_names = \"\"\n",
    "                    file_links = \"\"\n",
    "                    label = 'categorical_bounds'\n",
    "                    node_value = [node_id, name, notes, real_lower_bound, real_upper_bound, real_units, real_name_sub, \\\n",
    "                      real_value_sub, real_units_sub, description, node_type, tags, sample_type, mass_fraction, \\\n",
    "                      number_fraction, volume_fraction, source_performed_by, source_performed_date, source_type, \\\n",
    "                      formula, absolute_quantity_lower_bound, absolute_quantity_type, absolute_quantity_units, \\\n",
    "                      absolute_quantity_upper_bound, absolute_quantity_nominal, constituent, allowed_labels, \\\n",
    "                      allowed_names, file_links, label]\n",
    "                    writer.writerow(node_value)\n",
    "                    i += 1\n",
    "    return i"
   ]
  },
  {
   "cell_type": "code",
   "execution_count": 16,
   "id": "66a03857",
   "metadata": {},
   "outputs": [],
   "source": [
    "parameter_template_expr = parse('$[?(@.type == \"parameter_template\")]')\n",
    "nodes = parameter_template_expr.find(json_data)\n",
    "i = categorical_nodes_generator(i, nodes)"
   ]
  },
  {
   "cell_type": "code",
   "execution_count": 17,
   "id": "0fdbbb9c",
   "metadata": {},
   "outputs": [],
   "source": [
    "property_template_expr = parse('$[?(@.type == \"property_template\")]')\n",
    "nodes = property_template_expr.find(json_data)\n",
    "i = categorical_nodes_generator(i, nodes)"
   ]
  },
  {
   "cell_type": "code",
   "execution_count": 18,
   "id": "479ba91f",
   "metadata": {},
   "outputs": [],
   "source": [
    "condition_template_expr = parse('$[?(@.type == \"condition_template\")]')\n",
    "nodes = condition_template_expr.find(json_data)\n",
    "i = categorical_nodes_generator(i, nodes)"
   ]
  },
  {
   "cell_type": "markdown",
   "id": "c2aaaf56",
   "metadata": {},
   "source": [
    "### Spec ###"
   ]
  },
  {
   "cell_type": "code",
   "execution_count": 19,
   "id": "34f0c5f0",
   "metadata": {},
   "outputs": [],
   "source": [
    "import re\n",
    "def extract_capitalized_words(composition):\n",
    "    tmp = re.sub(r'[^a-zA-Z]', '', composition)\n",
    "    constituents = re.findall(r'[A-Z][a-z]*', tmp)\n",
    "    return constituents"
   ]
  },
  {
   "cell_type": "code",
   "execution_count": 20,
   "id": "2f895a24",
   "metadata": {},
   "outputs": [],
   "source": [
    "def spec_nodes_generator(nodes):\n",
    "    with open(\"soren_NYO_gemd_model_dumps/nodes.csv\", \"a\", newline=\"\") as csvfile:\n",
    "        writer = csv.writer(csvfile)\n",
    "        for n in nodes:\n",
    "            node_id = n.value['uids']['auto']\n",
    "            if node_id in node_ids: continue\n",
    "            node_ids.add(node_id)\n",
    "            name = n.value['name']\n",
    "            notes = n.value['notes'] if 'notes' in n.value else \"\"\n",
    "            real_lower_bound = \"\"\n",
    "            real_upper_bound = \"\"\n",
    "            real_units = \"\"\n",
    "            real_name_sub = []\n",
    "            real_value_sub = []\n",
    "            real_units_sub = []\n",
    "            formula = []\n",
    "            if 'properties' in n.value:\n",
    "                for node_property in n.value['properties']:\n",
    "                    if node_property['property']['value']['type'] == 'nominal_real':\n",
    "                        real_name_sub.append(node_property['property']['name'])\n",
    "                        real_value_sub.append(node_property['property']['value']['nominal'])\n",
    "                        real_units_sub.append(node_property['property']['value']['units'])\n",
    "                    if node_property['property']['value']['type'] == 'empirical_formula':\n",
    "                        formula.append(node_property['property']['value']['formula'])\n",
    "            if 'conditions' in n.value:\n",
    "                for node_condition in n.value['conditions']:\n",
    "                    if node_condition['value']['type'] == 'nominal_real':\n",
    "                        real_name_sub.append(node_condition['name'])\n",
    "                        real_value_sub.append(node_condition['value']['nominal'])\n",
    "                        real_units_sub.append(node_condition['value']['units'])\n",
    "                    if node_condition['value']['type'] == 'empirical_formula':\n",
    "                        formula.append(node_condition['value']['formula'])\n",
    "            if 'parameters' in n.value:\n",
    "                for node_parameter in n.value['parameters']:\n",
    "                    if node_parameter['value']['type'] == 'nominal_real':\n",
    "                        real_name_sub.append(node_parameter['name'])\n",
    "                        real_value_sub.append(node_parameter['value']['nominal'])\n",
    "                        real_units_sub.append(node_parameter['value']['units'])\n",
    "                    if node_parameter['value']['type'] == 'empirical_formula':\n",
    "                        formula.append(node_parameter['value']['formula'])\n",
    "            description = n.value['description'] if 'description' in n.value else \"\"\n",
    "            node_type = n.value['type']\n",
    "            tags = n.value['tags'] if 'tags' in n.value else [] \n",
    "            sample_type = n.value['sample_type'] if 'sample_type' in n.value else \"\"\n",
    "            mass_fraction = n.value['mass_fraction'] if 'mass_fraction' in n.value else \"\"\n",
    "            number_fraction = n.value['number_fraction'] if 'number_fraction' in n.value else \"\"\n",
    "            volume_fraction = n.value['volume_fraction'] if 'volume_fraction' in n.value else \"\"\n",
    "            source_performed_by = n.value['source']['performed_by'] if 'source' in n.value else \"\"\n",
    "            source_performed_date = n.value['source']['performed_date'] if 'source' in n.value else \"\"\n",
    "            source_type = n.value['source']['type'] if 'source' in n.value else \"\"\n",
    "            absolute_quantity_lower_bound = n.value['absolute_quantity']['lower_bound'] if 'absolute_quantity' in n.value \\\n",
    "                                            and 'lower_bound' in n.value['absolute_quantity'] else \"\"\n",
    "            absolute_quantity_lower_bound = n.value['absolute_quantity']['lower_bound'] if 'absolute_quantity' in n.value \\\n",
    "                                            and 'lower_bound' in n.value['absolute_quantity'] else \"\"\n",
    "            absolute_quantity_type = n.value['absolute_quantity']['type'] if 'absolute_quantity' in n.value \\\n",
    "                                     and 'type' in n.value['absolute_quantity'] else \"\"\n",
    "            absolute_quantity_units = n.value['absolute_quantity']['units'] if 'absolute_quantity' in n.value \\\n",
    "                                      and 'units' in n.value['absolute_quantity'] else \"\"\n",
    "            absolute_quantity_upper_bound = n.value['absolute_quantity']['upper_bound'] if 'absolute_quantity' in n.value \\\n",
    "                                            and 'upper_bound' in n.value['absolute_quantity'] else \"\"\n",
    "            absolute_quantity_nominal = n.value['absolute_quantity']['nominal'] if 'absolute_quantity' in n.value \\\n",
    "                                        and 'nominal' in n.value['absolute_quantity'] else \"\"\n",
    "            constituent = []\n",
    "            for composition in formula:\n",
    "                constituent += extract_capitalized_words(composition)\n",
    "            constituent = list(set(constituent))\n",
    "            allowed_labels = n.value['allowed_labels'] if 'allowed_labels' in n.value else \"\"\n",
    "            allowed_names = n.value['allowed_names'] if 'allowed_names' in n.value else \"\"\n",
    "            file_links = n.value['file_links'] if 'file_links' in n.value else \"\"\n",
    "            label = n.value['type']\n",
    "            node_value = [node_id, name, notes, real_lower_bound, real_upper_bound, real_units, real_name_sub, \\\n",
    "                      real_value_sub, real_units_sub, description, node_type, tags, sample_type, mass_fraction, \\\n",
    "                      number_fraction, volume_fraction, source_performed_by, source_performed_date, source_type, \\\n",
    "                      formula, absolute_quantity_lower_bound, absolute_quantity_type, absolute_quantity_units, \\\n",
    "                      absolute_quantity_upper_bound, absolute_quantity_nominal, constituent, allowed_labels, allowed_names, file_links, label]\n",
    "            writer.writerow(node_value)"
   ]
  },
  {
   "cell_type": "code",
   "execution_count": 21,
   "id": "dbf7423e",
   "metadata": {},
   "outputs": [],
   "source": [
    "material_spec_expr = parse('$[?(@.type == \"material_spec\")]')\n",
    "nodes = material_spec_expr.find(json_data)\n",
    "spec_nodes_generator(nodes)"
   ]
  },
  {
   "cell_type": "code",
   "execution_count": 22,
   "id": "db4d2bbf",
   "metadata": {},
   "outputs": [],
   "source": [
    "ingredient_spec_expr = parse('$[?(@.type == \"ingredient_spec\")]')\n",
    "nodes = ingredient_spec_expr.find(json_data)\n",
    "spec_nodes_generator(nodes)"
   ]
  },
  {
   "cell_type": "code",
   "execution_count": 23,
   "id": "7461654c",
   "metadata": {},
   "outputs": [],
   "source": [
    "process_spec_expr = parse('$[?(@.type == \"process_spec\")]')\n",
    "nodes = process_spec_expr.find(json_data)\n",
    "spec_nodes_generator(nodes)"
   ]
  },
  {
   "cell_type": "code",
   "execution_count": 24,
   "id": "ddad3758",
   "metadata": {},
   "outputs": [],
   "source": [
    "measurement_spec_expr = parse('$[?(@.type == \"measurement_spec\")]')\n",
    "nodes = measurement_spec_expr.find(json_data)\n",
    "spec_nodes_generator(nodes)"
   ]
  },
  {
   "cell_type": "markdown",
   "id": "4b47d1eb",
   "metadata": {},
   "source": [
    "### run ###"
   ]
  },
  {
   "cell_type": "code",
   "execution_count": 25,
   "id": "87e18c00",
   "metadata": {},
   "outputs": [],
   "source": [
    "def run_nodes_generator(nodes):\n",
    "    with open(\"soren_NYO_gemd_model_dumps/nodes.csv\", \"a\", newline=\"\") as csvfile:\n",
    "        writer = csv.writer(csvfile)\n",
    "        for n in nodes:\n",
    "            node_id = n.value['uids']['auto']\n",
    "            if node_id in node_ids: continue\n",
    "            node_ids.add(node_id)\n",
    "            name = n.value['name']\n",
    "            notes = n.value['notes'] if 'notes' in n.value else \"\"\n",
    "            real_lower_bound = \"\"\n",
    "            real_upper_bound = \"\"\n",
    "            real_units = \"\"\n",
    "            real_name_sub = []\n",
    "            real_value_sub = []\n",
    "            real_units_sub = []\n",
    "            formula = []\n",
    "            if 'properties' in n.value:\n",
    "                for node_property in n.value['properties']:\n",
    "                    if node_property['value']['type'] == 'nominal_real':\n",
    "                        real_name_sub.append(node_property['name'])\n",
    "                        real_value_sub.append(node_property['value']['nominal'])\n",
    "                        real_units_sub.append(node_property['value']['units'])\n",
    "                    if node_property['value']['type'] == 'empirical_formula':\n",
    "                        formula.append(node_property['value']['formula'])\n",
    "            if 'conditions' in n.value:\n",
    "                for node_condition in n.value['conditions']:\n",
    "                    if node_condition['value']['type'] == 'nominal_real':\n",
    "                        real_name_sub.append(node_condition['name'])\n",
    "                        real_value_sub.append(node_condition['value']['nominal'])\n",
    "                        real_units_sub.append(node_condition['value']['units'])\n",
    "                    if node_condition['value']['type'] == 'empirical_formula':\n",
    "                        formula.append(node_condition['value']['formula'])\n",
    "            if 'parameters' in n.value:\n",
    "                for node_parameter in n.value['parameters']:\n",
    "                    if node_parameter['value']['type'] == 'nominal_real':\n",
    "                        real_name_sub.append(node_parameter['name'])\n",
    "                        real_value_sub.append(node_parameter['value']['nominal'])\n",
    "                        real_units_sub.append(node_parameter['value']['units'])\n",
    "                    if node_parameter['value']['type'] == 'empirical_formula':\n",
    "                        formula.append(node_parameter['value']['formula'])\n",
    "            description = n.value['description'] if 'description' in n.value else \"\"\n",
    "            node_type = n.value['type']\n",
    "            tags = n.value['tags'] if 'tags' in n.value else [] \n",
    "            sample_type = n.value['sample_type'] if 'sample_type' in n.value else \"\"\n",
    "            mass_fraction = n.value['mass_fraction'] if 'mass_fraction' in n.value else \"\"\n",
    "            number_fraction = n.value['number_fraction'] if 'number_fraction' in n.value else \"\"\n",
    "            volume_fraction = n.value['volume_fraction'] if 'volume_fraction' in n.value else \"\"\n",
    "            source_performed_by = n.value['source']['performed_by'] if 'source' in n.value and n.value['source'] else \"\"\n",
    "            source_performed_date = n.value['source']['performed_date'] if 'source' in n.value and n.value['source'] else \"\"\n",
    "            source_type = n.value['source']['type'] if 'source' in n.value and n.value['source'] else \"\"\n",
    "            absolute_quantity_lower_bound = n.value['absolute_quantity']['lower_bound'] if 'absolute_quantity' in n.value \\\n",
    "                                            and 'lower_bound' in n.value['absolute_quantity'] else \"\"\n",
    "            absolute_quantity_lower_bound = n.value['absolute_quantity']['lower_bound'] if 'absolute_quantity' in n.value \\\n",
    "                                            and 'lower_bound' in n.value['absolute_quantity'] else \"\"\n",
    "            absolute_quantity_type = n.value['absolute_quantity']['type'] if 'absolute_quantity' in n.value \\\n",
    "                                     and 'type' in n.value['absolute_quantity'] else \"\"\n",
    "            absolute_quantity_units = n.value['absolute_quantity']['units'] if 'absolute_quantity' in n.value \\\n",
    "                                      and 'units' in n.value['absolute_quantity'] else \"\"\n",
    "            absolute_quantity_upper_bound = n.value['absolute_quantity']['upper_bound'] if 'absolute_quantity' in n.value \\\n",
    "                                            and 'upper_bound' in n.value['absolute_quantity'] else \"\"\n",
    "            absolute_quantity_nominal = n.value['absolute_quantity']['nominal'] if 'absolute_quantity' in n.value \\\n",
    "                                        and 'nominal' in n.value['absolute_quantity'] else \"\"\n",
    "            constituent = []\n",
    "            for composition in formula:\n",
    "                constituent += extract_capitalized_words(composition)\n",
    "            constituent = list(set(constituent))\n",
    "            allowed_labels = n.value['allowed_labels'] if 'allowed_labels' in n.value else \"\"\n",
    "            allowed_names = n.value['allowed_names'] if 'allowed_names' in n.value else \"\"\n",
    "            file_links = n.value['file_links'] if 'file_links' in n.value else \"\"\n",
    "            label = n.value['type']\n",
    "            node_value = [node_id, name, notes, real_lower_bound, real_upper_bound, real_units, real_name_sub, \\\n",
    "                      real_value_sub, real_units_sub, description, node_type, tags, sample_type, mass_fraction, \\\n",
    "                      number_fraction, volume_fraction, source_performed_by, source_performed_date, source_type, \\\n",
    "                      formula, absolute_quantity_lower_bound, absolute_quantity_type, absolute_quantity_units, \\\n",
    "                      absolute_quantity_upper_bound, absolute_quantity_nominal, constituent, allowed_labels, allowed_names, file_links, label]\n",
    "            writer.writerow(node_value)"
   ]
  },
  {
   "cell_type": "code",
   "execution_count": 26,
   "id": "76716764",
   "metadata": {},
   "outputs": [],
   "source": [
    "material_run_expr = parse('$[?(@.type == \"material_run\")]')\n",
    "nodes = material_run_expr.find(json_data)\n",
    "run_nodes_generator(nodes)"
   ]
  },
  {
   "cell_type": "code",
   "execution_count": 27,
   "id": "d7d45668",
   "metadata": {},
   "outputs": [],
   "source": [
    "ingredient_run_expr = parse('$[?(@.type == \"ingredient_run\")]')\n",
    "nodes = ingredient_run_expr.find(json_data)\n",
    "run_nodes_generator(nodes)"
   ]
  },
  {
   "cell_type": "code",
   "execution_count": 28,
   "id": "d979ed64",
   "metadata": {},
   "outputs": [],
   "source": [
    "process_run_expr = parse('$[?(@.type == \"process_run\")]')\n",
    "nodes = process_run_expr.find(json_data)\n",
    "run_nodes_generator(nodes)"
   ]
  },
  {
   "cell_type": "code",
   "execution_count": 29,
   "id": "5307e88d",
   "metadata": {},
   "outputs": [],
   "source": [
    "measurement_run_expr = parse('$[?(@.type == \"measurement_run\")]')\n",
    "nodes = measurement_run_expr.find(json_data)\n",
    "run_nodes_generator(nodes)"
   ]
  },
  {
   "cell_type": "markdown",
   "id": "68ef29b2",
   "metadata": {},
   "source": [
    "# Edges #"
   ]
  },
  {
   "cell_type": "code",
   "execution_count": 70,
   "id": "af7d3a0e",
   "metadata": {},
   "outputs": [],
   "source": [
    "edges_header = [\":START_ID\", \":END_ID\", \":TYPE\"]\n",
    "with open(\"soren_NYO_gemd_model_dumps/edges_header.csv\", \"w\", newline=\"\") as csvfile:\n",
    "    writer = csv.writer(csvfile)\n",
    "    writer.writerow(edges_header)"
   ]
  },
  {
   "cell_type": "markdown",
   "id": "9ac9f338",
   "metadata": {},
   "source": [
    "### material template -> material spec ###"
   ]
  },
  {
   "cell_type": "code",
   "execution_count": 89,
   "id": "857ab55d",
   "metadata": {},
   "outputs": [],
   "source": [
    "materialTemplate_to_propertyTemplate = collections.defaultdict(list)\n",
    "materialSpec_to_propertyTemplate = collections.defaultdict(list)"
   ]
  },
  {
   "cell_type": "code",
   "execution_count": 90,
   "id": "98eac607",
   "metadata": {},
   "outputs": [],
   "source": [
    "material_template_expr = parse('$[?(@.type == \"material_template\")]')\n",
    "nodes = material_template_expr.find(json_data)"
   ]
  },
  {
   "cell_type": "code",
   "execution_count": 91,
   "id": "ffff22bd",
   "metadata": {},
   "outputs": [],
   "source": [
    "for n in nodes:\n",
    "    node_id = n.value['uids']['auto']\n",
    "    for node_property in n.value['properties']:\n",
    "        materialTemplate_to_propertyTemplate[node_id].append(node_property[0]['id'])"
   ]
  },
  {
   "cell_type": "code",
   "execution_count": 92,
   "id": "0a931e69",
   "metadata": {},
   "outputs": [],
   "source": [
    "material_spec_expr = parse('$[?(@.type == \"material_spec\")]')\n",
    "nodes = material_spec_expr.find(json_data)"
   ]
  },
  {
   "cell_type": "code",
   "execution_count": 93,
   "id": "f7e9616d",
   "metadata": {},
   "outputs": [],
   "source": [
    "with open(\"soren_NYO_gemd_model_dumps/edges.csv\", \"w\", newline=\"\") as csvfile:\n",
    "    writer = csv.writer(csvfile)\n",
    "    for n in nodes:\n",
    "        if n.value['template']:\n",
    "            template_id = n.value['template']['id']\n",
    "            spec_id = n.value['uids']['auto']\n",
    "            materialSpec_to_propertyTemplate[spec_id] = materialTemplate_to_propertyTemplate[template_id]\n",
    "            label = 'materialTemplate_to_materialSpec'\n",
    "            edge_value = [template_id, spec_id, label]\n",
    "            writer.writerow(edge_value)"
   ]
  },
  {
   "cell_type": "markdown",
   "id": "e0289f7f",
   "metadata": {},
   "source": [
    "### property/parameter/condition template -> categorical bounds ###"
   ]
  },
  {
   "cell_type": "code",
   "execution_count": 94,
   "id": "8d68f580",
   "metadata": {},
   "outputs": [],
   "source": [
    "property_template_expr = parse('$[?(@.type == \"property_template\")]')\n",
    "nodes = property_template_expr.find(json_data)"
   ]
  },
  {
   "cell_type": "code",
   "execution_count": 95,
   "id": "8004e907",
   "metadata": {},
   "outputs": [],
   "source": [
    "with open(\"soren_NYO_gemd_model_dumps/edges.csv\", \"a\", newline=\"\") as csvfile:\n",
    "    writer = csv.writer(csvfile)\n",
    "    for n in nodes:\n",
    "        source_id = n.value['uids']['auto']\n",
    "        if 'categories' in n.value['bounds']:\n",
    "            for category in n.value['bounds']['categories']:\n",
    "                category_id = categoryName_to_id[category]\n",
    "                label = 'property_to_category'\n",
    "                edge_value = [source_id, category_id, label]\n",
    "                writer.writerow(edge_value)"
   ]
  },
  {
   "cell_type": "code",
   "execution_count": 96,
   "id": "6f1536f9",
   "metadata": {},
   "outputs": [],
   "source": [
    "parameter_template_expr = parse('$[?(@.type == \"parameter_template\")]')\n",
    "nodes = parameter_template_expr.find(json_data)"
   ]
  },
  {
   "cell_type": "code",
   "execution_count": 97,
   "id": "13219331",
   "metadata": {},
   "outputs": [],
   "source": [
    "with open(\"soren_NYO_gemd_model_dumps/edges.csv\", \"a\", newline=\"\") as csvfile:\n",
    "    writer = csv.writer(csvfile)\n",
    "    for n in nodes:\n",
    "        source_id = n.value['uids']['auto']\n",
    "        if 'categories' in n.value['bounds']:\n",
    "            for category in n.value['bounds']['categories']:\n",
    "                category_id = categoryName_to_id[category]\n",
    "                label = 'parameter_to_category'\n",
    "                edge_value = [source_id, category_id, label]\n",
    "                writer.writerow(edge_value)"
   ]
  },
  {
   "cell_type": "code",
   "execution_count": 98,
   "id": "9f28267d",
   "metadata": {},
   "outputs": [],
   "source": [
    "condition_template_expr = parse('$[?(@.type == \"condition_template\")]')\n",
    "nodes = condition_template_expr.find(json_data)"
   ]
  },
  {
   "cell_type": "code",
   "execution_count": 99,
   "id": "5480c4b9",
   "metadata": {},
   "outputs": [],
   "source": [
    "with open(\"soren_NYO_gemd_model_dumps/edges.csv\", \"a\", newline=\"\") as csvfile:\n",
    "    writer = csv.writer(csvfile)\n",
    "    for n in nodes:\n",
    "        source_id = n.value['uids']['auto']\n",
    "        if 'categories' in n.value['bounds']:\n",
    "            for category in n.value['bounds']['categories']:\n",
    "                category_id = categoryName_to_id[category]\n",
    "                label = 'condition_to_category'\n",
    "                edge_value = [source_id, category_id, label]\n",
    "                writer.writerow(edge_value)"
   ]
  },
  {
   "cell_type": "markdown",
   "id": "84411548",
   "metadata": {},
   "source": [
    "### material spec -> property template ###"
   ]
  },
  {
   "cell_type": "code",
   "execution_count": 100,
   "id": "199934a5",
   "metadata": {},
   "outputs": [],
   "source": [
    "with open(\"soren_NYO_gemd_model_dumps/edges.csv\", \"a\", newline=\"\") as csvfile:\n",
    "    writer = csv.writer(csvfile)\n",
    "    for spec_id, category_ids in materialSpec_to_propertyTemplate.items():\n",
    "        for category_id in category_ids:\n",
    "            label = 'materialSpec_to_propertyTemplate'\n",
    "            edge_value = [spec_id, category_id, label]\n",
    "            writer.writerow(edge_value)"
   ]
  },
  {
   "cell_type": "markdown",
   "id": "5b031262",
   "metadata": {},
   "source": [
    "### categorical bounds -> ingredient spec ###"
   ]
  },
  {
   "cell_type": "code",
   "execution_count": 101,
   "id": "72dc15ad",
   "metadata": {},
   "outputs": [],
   "source": [
    "materialSpecId_to_categoryId = collections.defaultdict(list)"
   ]
  },
  {
   "cell_type": "code",
   "execution_count": 102,
   "id": "a01e61ef",
   "metadata": {},
   "outputs": [],
   "source": [
    "material_spec_expr = parse('$[?(@.type == \"material_spec\")]')\n",
    "nodes = material_spec_expr.find(json_data)"
   ]
  },
  {
   "cell_type": "code",
   "execution_count": 103,
   "id": "8043dc05",
   "metadata": {},
   "outputs": [],
   "source": [
    "for n in nodes:\n",
    "    spec_id = n.value['uids']['auto']\n",
    "    if 'properties' in n.value:\n",
    "        for node_property in n.value['properties']:\n",
    "            if node_property['property']['value']['type'] == 'nominal_categorical':\n",
    "                materialSpecId_to_categoryId[spec_id].append(categoryName_to_id[node_property['property']['value']['category']])"
   ]
  },
  {
   "cell_type": "code",
   "execution_count": 104,
   "id": "35bcce15",
   "metadata": {},
   "outputs": [],
   "source": [
    "ingredient_spec_expr = parse('$[?(@.type == \"ingredient_spec\")]')\n",
    "nodes = ingredient_spec_expr.find(json_data)"
   ]
  },
  {
   "cell_type": "code",
   "execution_count": 105,
   "id": "80a4f688",
   "metadata": {},
   "outputs": [],
   "source": [
    "with open(\"soren_NYO_gemd_model_dumps/edges.csv\", \"a\", newline=\"\") as csvfile:\n",
    "    writer = csv.writer(csvfile)\n",
    "    for n in nodes:\n",
    "        ingredient_id = n.value['uids']['auto']\n",
    "        if n.value['material']:\n",
    "            material_id = n.value['material']['id']\n",
    "            for category_id in materialSpecId_to_categoryId[material_id]:\n",
    "                edge_value = [category_id, ingredient_id, 'category_to_ingredient']\n",
    "                writer.writerow(edge_value)"
   ]
  },
  {
   "cell_type": "code",
   "execution_count": 106,
   "id": "87b98741",
   "metadata": {},
   "outputs": [],
   "source": [
    "with open(\"soren_NYO_gemd_model_dumps/edges.csv\", \"a\", newline=\"\") as csvfile:\n",
    "    writer = csv.writer(csvfile)\n",
    "    for n in nodes:\n",
    "        ingredient_id = n.value['uids']['auto']\n",
    "        if n.value['material']:\n",
    "            material_id = n.value['material']['id']\n",
    "            if len(materialSpecId_to_categoryId[material_id]) == 0:\n",
    "                edge_value = [material_id, ingredient_id, 'materialSpec_to_ingredientSpec']\n",
    "                writer.writerow(edge_value)"
   ]
  },
  {
   "cell_type": "markdown",
   "id": "d7537447",
   "metadata": {},
   "source": [
    "### ingredient_spec -> parameter/condition template ###"
   ]
  },
  {
   "cell_type": "code",
   "execution_count": 107,
   "id": "3cbec6d2",
   "metadata": {},
   "outputs": [],
   "source": [
    "processSpecId_to_parameterCategoryId = collections.defaultdict(list)\n",
    "processSpecId_to_conditionCategoryId = collections.defaultdict(list)\n",
    "processSpecId_to_parameterTemplateId = collections.defaultdict(list)\n",
    "processSpecId_to_conditionTemplateId = collections.defaultdict(list)"
   ]
  },
  {
   "cell_type": "code",
   "execution_count": 108,
   "id": "18dc7c03",
   "metadata": {},
   "outputs": [],
   "source": [
    "processTemplateId_to_parameterTemplateId = collections.defaultdict(list)\n",
    "processTemplateId_to_conditionTemplateId = collections.defaultdict(list)"
   ]
  },
  {
   "cell_type": "code",
   "execution_count": 109,
   "id": "2f63623b",
   "metadata": {},
   "outputs": [],
   "source": [
    "process_template_expr = parse('$[?(@.type == \"process_template\")]')\n",
    "nodes = process_template_expr.find(json_data)"
   ]
  },
  {
   "cell_type": "code",
   "execution_count": 110,
   "id": "08878534",
   "metadata": {},
   "outputs": [],
   "source": [
    "for n in nodes:\n",
    "    node_id = n.value['uids']['auto']\n",
    "    for node_conditon in n.value['conditions']:\n",
    "        processTemplateId_to_conditionTemplateId[node_id].append(node_conditon[0]['id'])\n",
    "    for node_parameter in n.value['parameters']:\n",
    "        processTemplateId_to_parameterTemplateId[node_id].append(node_parameter[0]['id'])"
   ]
  },
  {
   "cell_type": "code",
   "execution_count": 111,
   "id": "129442ae",
   "metadata": {},
   "outputs": [],
   "source": [
    "process_spec_expr = parse('$[?(@.type == \"process_spec\")]')\n",
    "nodes = process_spec_expr.find(json_data)"
   ]
  },
  {
   "cell_type": "code",
   "execution_count": 112,
   "id": "4b7f7634",
   "metadata": {},
   "outputs": [],
   "source": [
    "for n in nodes:\n",
    "    spec_id = n.value['uids']['auto']\n",
    "    template_id = n.value['template']['id']\n",
    "    for parameter_id in processTemplateId_to_parameterTemplateId[template_id]:\n",
    "        processSpecId_to_parameterTemplateId[spec_id].append(parameter_id)\n",
    "    for condition_id in processTemplateId_to_conditionTemplateId[template_id]:\n",
    "        processSpecId_to_conditionTemplateId[spec_id].append(condition_id)"
   ]
  },
  {
   "cell_type": "code",
   "execution_count": 113,
   "id": "c169b1db",
   "metadata": {},
   "outputs": [],
   "source": [
    "for n in nodes:\n",
    "    process_id = n.value['uids']['auto']\n",
    "    if 'conditions' in n.value:\n",
    "        for node_condition in n.value['conditions']:\n",
    "            if node_condition['value']['type'] == 'nominal_categorical':\n",
    "                condition_name = node_condition['value']['category']\n",
    "                category_id = categoryName_to_id[condition_name]\n",
    "                if category_id not in processSpecId_to_conditionCategoryId[process_id]:\n",
    "                    processSpecId_to_conditionCategoryId[process_id].append(category_id)\n",
    "    if 'parameters' in n.value:\n",
    "        for node_parameter in n.value['parameters']:\n",
    "            if node_parameter['value']['type'] == 'nominal_categorical':\n",
    "                parameter_name = node_parameter['value']['category']\n",
    "                category_id = categoryName_to_id[parameter_name]\n",
    "                if category_id not in processSpecId_to_parameterCategoryId[process_id]:\n",
    "                    processSpecId_to_parameterCategoryId[process_id].append(category_id)"
   ]
  },
  {
   "cell_type": "code",
   "execution_count": 114,
   "id": "4f3fece5",
   "metadata": {},
   "outputs": [],
   "source": [
    "ingredient_spec_expr = parse('$[?(@.type == \"ingredient_spec\")]')\n",
    "nodes = ingredient_spec_expr.find(json_data)"
   ]
  },
  {
   "cell_type": "code",
   "execution_count": 115,
   "id": "90b7e69e",
   "metadata": {},
   "outputs": [],
   "source": [
    "with open(\"soren_NYO_gemd_model_dumps/edges.csv\", \"a\", newline=\"\") as csvfile:\n",
    "    writer = csv.writer(csvfile)\n",
    "    for n in nodes:\n",
    "        ingredient_id = n.value['uids']['auto']\n",
    "        process_id = n.value['process']['id']\n",
    "        for conditionTemplate_id in processSpecId_to_conditionTemplateId[process_id]:\n",
    "            edge_value = [ingredient_id, conditionTemplate_id, 'ingredientSpec_to_conditionTemplate']\n",
    "            writer.writerow(edge_value)\n",
    "        for parameterTemplate_id in processSpecId_to_parameterTemplateId[process_id]:\n",
    "            edge_value = [ingredient_id, parameterTemplate_id, 'ingredientSpec_to_parameterTemplate']\n",
    "            writer.writerow(edge_value)"
   ]
  },
  {
   "cell_type": "code",
   "execution_count": 116,
   "id": "8678d937",
   "metadata": {},
   "outputs": [],
   "source": [
    "with open(\"soren_NYO_gemd_model_dumps/edges.csv\", \"a\", newline=\"\") as csvfile:\n",
    "    writer = csv.writer(csvfile)\n",
    "    for n in nodes:\n",
    "        ingredient_id = n.value['uids']['auto']\n",
    "        process_id = n.value['process']['id']\n",
    "        if len(processSpecId_to_conditionTemplateId[process_id]) == 0 \\\n",
    "           and len(processSpecId_to_parameterTemplateId[process_id]) == 0: \n",
    "            edge_value = [ingredient_id, process_id, 'ingredientSpec_to_processSpec']\n",
    "            writer.writerow(edge_value)"
   ]
  },
  {
   "cell_type": "markdown",
   "id": "2c301fc2",
   "metadata": {},
   "source": [
    "### categorical bounds -> process spec ###"
   ]
  },
  {
   "cell_type": "code",
   "execution_count": 117,
   "id": "6ec6b779",
   "metadata": {},
   "outputs": [],
   "source": [
    "with open(\"soren_NYO_gemd_model_dumps/edges.csv\", \"a\", newline=\"\") as csvfile:\n",
    "    writer = csv.writer(csvfile)\n",
    "    for spec_id, category_ids in processSpecId_to_parameterCategoryId.items():\n",
    "        for category_id in category_ids:\n",
    "            edge_value = [category_id, process_id, 'category_to_processSpec']\n",
    "            writer.writerow(edge_value)\n",
    "    for spec_id, category_ids in processSpecId_to_conditionCategoryId.items():\n",
    "        for category_id in category_ids:\n",
    "            edge_value = [category_id, process_id, 'category_to_processSpec']\n",
    "            writer.writerow(edge_value)"
   ]
  },
  {
   "cell_type": "markdown",
   "id": "3e1070af",
   "metadata": {},
   "source": [
    "### process spec -> material spec ###"
   ]
  },
  {
   "cell_type": "code",
   "execution_count": 118,
   "id": "f548c34a",
   "metadata": {},
   "outputs": [],
   "source": [
    "material_spec_expr = parse('$[?(@.type == \"material_spec\")]')\n",
    "nodes = material_spec_expr.find(json_data)"
   ]
  },
  {
   "cell_type": "code",
   "execution_count": 119,
   "id": "8f174a4e",
   "metadata": {},
   "outputs": [],
   "source": [
    "with open(\"soren_NYO_gemd_model_dumps/edges.csv\", \"a\", newline=\"\") as csvfile:\n",
    "    writer = csv.writer(csvfile)\n",
    "    for n in nodes:\n",
    "        material_id = n.value['uids']['auto']\n",
    "        if n.value['process']:\n",
    "            process_id = n.value['process']['id']\n",
    "            edge_value = [process_id, material_id, 'processSpec_to_materialSpec']\n",
    "            writer.writerow(edge_value)"
   ]
  },
  {
   "cell_type": "markdown",
   "id": "e3bf0496",
   "metadata": {},
   "source": [
    "### material spec -> material run ###"
   ]
  },
  {
   "cell_type": "code",
   "execution_count": 120,
   "id": "58e8d2cb",
   "metadata": {},
   "outputs": [],
   "source": [
    "material_run_expr = parse('$[?(@.type == \"material_run\")]')\n",
    "nodes = material_run_expr.find(json_data)"
   ]
  },
  {
   "cell_type": "code",
   "execution_count": 121,
   "id": "d3cdf5aa",
   "metadata": {},
   "outputs": [],
   "source": [
    "with open(\"soren_NYO_gemd_model_dumps/edges.csv\", \"a\", newline=\"\") as csvfile:\n",
    "    writer = csv.writer(csvfile)\n",
    "    for n in nodes:\n",
    "        run_id = n.value['uids']['auto']\n",
    "        spec_id = n.value['spec']['id']\n",
    "        edge_value = [spec_id, run_id, 'materialSpec_to_materialRun']\n",
    "        writer.writerow(edge_value)"
   ]
  },
  {
   "cell_type": "markdown",
   "id": "f3c279d5",
   "metadata": {},
   "source": [
    "### ingredient_spec -> ingredient_run ###"
   ]
  },
  {
   "cell_type": "code",
   "execution_count": 122,
   "id": "545322af",
   "metadata": {},
   "outputs": [],
   "source": [
    "ingredient_run_expr = parse('$[?(@.type == \"ingredient_run\")]')\n",
    "nodes = ingredient_run_expr.find(json_data)"
   ]
  },
  {
   "cell_type": "code",
   "execution_count": 123,
   "id": "bed22601",
   "metadata": {},
   "outputs": [],
   "source": [
    "with open(\"soren_NYO_gemd_model_dumps/edges.csv\", \"a\", newline=\"\") as csvfile:\n",
    "    writer = csv.writer(csvfile)\n",
    "    for n in nodes:\n",
    "        run_id = n.value['uids']['auto']\n",
    "        spec_id = n.value['spec']['id']\n",
    "        edge_value = [spec_id, run_id, 'ingredientSpec_to_ingredientRun']\n",
    "        writer.writerow(edge_value)"
   ]
  },
  {
   "cell_type": "markdown",
   "id": "3d77d987",
   "metadata": {},
   "source": [
    "### process template -> process spec ###"
   ]
  },
  {
   "cell_type": "code",
   "execution_count": 124,
   "id": "f0c698d6",
   "metadata": {},
   "outputs": [],
   "source": [
    "process_spec_expr = parse('$[?(@.type == \"process_spec\")]')\n",
    "nodes = process_spec_expr.find(json_data)"
   ]
  },
  {
   "cell_type": "code",
   "execution_count": 125,
   "id": "70023d8a",
   "metadata": {},
   "outputs": [],
   "source": [
    "with open(\"soren_NYO_gemd_model_dumps/edges.csv\", \"a\", newline=\"\") as csvfile:\n",
    "    writer = csv.writer(csvfile)\n",
    "    for n in nodes:\n",
    "        spec_id = n.value['uids']['auto']\n",
    "        template_id = n.value['template']['id']\n",
    "        edge_value = [template_id, spec_id, 'processTemplate_to_processSpec']\n",
    "        writer.writerow(edge_value)"
   ]
  },
  {
   "cell_type": "markdown",
   "id": "90487746",
   "metadata": {},
   "source": [
    "### process spec -> process run ###"
   ]
  },
  {
   "cell_type": "code",
   "execution_count": 126,
   "id": "663ae619",
   "metadata": {},
   "outputs": [],
   "source": [
    "process_run_expr = parse('$[?(@.type == \"process_run\")]')\n",
    "nodes = process_run_expr.find(json_data)"
   ]
  },
  {
   "cell_type": "code",
   "execution_count": 127,
   "id": "8079018e",
   "metadata": {},
   "outputs": [],
   "source": [
    "with open(\"soren_NYO_gemd_model_dumps/edges.csv\", \"a\", newline=\"\") as csvfile:\n",
    "    writer = csv.writer(csvfile)\n",
    "    for n in nodes:\n",
    "        run_id = n.value['uids']['auto']\n",
    "        spec_id = n.value['spec']['id']\n",
    "        edge_value = [spec_id, run_id, 'processSpec_to_processRun']\n",
    "        writer.writerow(edge_value)"
   ]
  },
  {
   "cell_type": "markdown",
   "id": "ac72d45c",
   "metadata": {},
   "source": [
    "### material run -> ingredient run ###"
   ]
  },
  {
   "cell_type": "code",
   "execution_count": 128,
   "id": "e66e5ee8",
   "metadata": {},
   "outputs": [],
   "source": [
    "ingredient_run_expr = parse('$[?(@.type == \"ingredient_run\")]')\n",
    "nodes = ingredient_run_expr.find(json_data)"
   ]
  },
  {
   "cell_type": "code",
   "execution_count": 129,
   "id": "3fa55cff",
   "metadata": {},
   "outputs": [],
   "source": [
    "with open(\"soren_NYO_gemd_model_dumps/edges.csv\", \"a\", newline=\"\") as csvfile:\n",
    "    writer = csv.writer(csvfile)\n",
    "    for n in nodes:\n",
    "        ingredient_id = n.value['uids']['auto']\n",
    "        if n.value['material']:\n",
    "            material_id = n.value['material']['id']\n",
    "            edge_value = [material_id, ingredient_id, 'materialRun_to_ingredientRun']\n",
    "            writer.writerow(edge_value)"
   ]
  },
  {
   "cell_type": "markdown",
   "id": "b9a8191a",
   "metadata": {},
   "source": [
    "### ingredient run -> process run ###"
   ]
  },
  {
   "cell_type": "code",
   "execution_count": 130,
   "id": "00d79349",
   "metadata": {},
   "outputs": [],
   "source": [
    "processRunId_to_parameterCategoryId = collections.defaultdict(list)\n",
    "processRunId_to_conditionCategoryId = collections.defaultdict(list)\n",
    "processRunId_to_parameterTemplateId = collections.defaultdict(list)\n",
    "processRunId_to_conditionTemplateId = collections.defaultdict(list)"
   ]
  },
  {
   "cell_type": "code",
   "execution_count": 131,
   "id": "8800eb86",
   "metadata": {},
   "outputs": [],
   "source": [
    "process_run_expr = parse('$[?(@.type == \"process_run\")]')\n",
    "nodes = process_run_expr.find(json_data)"
   ]
  },
  {
   "cell_type": "code",
   "execution_count": 132,
   "id": "586fc695",
   "metadata": {},
   "outputs": [],
   "source": [
    "for n in nodes:\n",
    "    run_id = n.value['uids']['auto']\n",
    "    spec_id = n.value['spec']['id']\n",
    "    for parameter_id in processSpecId_to_parameterTemplateId[spec_id]:\n",
    "        processRunId_to_parameterTemplateId[run_id].append(parameter_id)\n",
    "    for condition_id in processSpecId_to_conditionTemplateId[spec_id]:\n",
    "        processRunId_to_conditionTemplateId[run_id].append(condition_id)"
   ]
  },
  {
   "cell_type": "code",
   "execution_count": 133,
   "id": "510f6cc3",
   "metadata": {},
   "outputs": [],
   "source": [
    "for n in nodes:\n",
    "    run_id = n.value['uids']['auto']\n",
    "    spec_id = n.value['spec']['id']\n",
    "    for category_id in processSpecId_to_parameterCategoryId[spec_id]:\n",
    "        processRunId_to_parameterCategoryId[run_id].append(category_id)\n",
    "    for category_id in processSpecId_to_conditionCategoryId[spec_id]:\n",
    "        processRunId_to_conditionCategoryId[run_id].append(category_id)"
   ]
  },
  {
   "cell_type": "code",
   "execution_count": 134,
   "id": "f310891a",
   "metadata": {},
   "outputs": [],
   "source": [
    "ingredient_run_expr = parse('$[?(@.type == \"ingredient_run\")]')\n",
    "nodes = ingredient_run_expr.find(json_data)"
   ]
  },
  {
   "cell_type": "code",
   "execution_count": 135,
   "id": "4ac89582",
   "metadata": {},
   "outputs": [],
   "source": [
    "with open(\"soren_NYO_gemd_model_dumps/edges.csv\", \"a\", newline=\"\") as csvfile:\n",
    "    writer = csv.writer(csvfile)\n",
    "    for n in nodes:\n",
    "        ingredient_id = n.value['uids']['auto']\n",
    "        process_id = n.value['process']['id']\n",
    "        for conditionTemplate_id in processRunId_to_conditionTemplateId[process_id]:\n",
    "            edge_value = [ingredient_id, conditionTemplate_id, 'ingredientRun_to_conditionTemplate']\n",
    "            writer.writerow(edge_value)\n",
    "        for parameterTemplate_id in processRunId_to_parameterTemplateId[process_id]:\n",
    "            edge_value = [ingredient_id, parameterTemplate_id, 'ingredientRun_to_parameterTemplate']\n",
    "            writer.writerow(edge_value)"
   ]
  },
  {
   "cell_type": "code",
   "execution_count": 136,
   "id": "f08ac726",
   "metadata": {},
   "outputs": [],
   "source": [
    "with open(\"soren_NYO_gemd_model_dumps/edges.csv\", \"a\", newline=\"\") as csvfile:\n",
    "    writer = csv.writer(csvfile)\n",
    "    for n in nodes:\n",
    "        ingredient_id = n.value['uids']['auto']\n",
    "        process_id = n.value['process']['id']\n",
    "        if len(processRunId_to_conditionTemplateId[process_id]) == 0 \\\n",
    "           and len(processRunId_to_parameterTemplateId[process_id]) == 0: \n",
    "            edge_value = [ingredient_id, process_id, 'ingredientRun_to_processRun']\n",
    "            writer.writerow(edge_value)"
   ]
  },
  {
   "cell_type": "code",
   "execution_count": 137,
   "id": "6bf89aca",
   "metadata": {},
   "outputs": [],
   "source": [
    "with open(\"soren_NYO_gemd_model_dumps/edges.csv\", \"a\", newline=\"\") as csvfile:\n",
    "    writer = csv.writer(csvfile)\n",
    "    for spec_id, category_ids in processRunId_to_parameterCategoryId.items():\n",
    "        for category_id in category_ids:\n",
    "            edge_value = [category_id, process_id, 'category_to_processRun']\n",
    "            writer.writerow(edge_value)\n",
    "    for spec_id, category_ids in processRunId_to_conditionCategoryId.items():\n",
    "        for category_id in category_ids:\n",
    "            edge_value = [category_id, process_id, 'category_to_processRun']\n",
    "            writer.writerow(edge_value)"
   ]
  },
  {
   "cell_type": "markdown",
   "id": "7dffd0db",
   "metadata": {},
   "source": [
    "### process run -> material run ###"
   ]
  },
  {
   "cell_type": "code",
   "execution_count": 138,
   "id": "e12bb5d2",
   "metadata": {},
   "outputs": [],
   "source": [
    "material_run_expr = parse('$[?(@.type == \"material_run\")]')\n",
    "nodes = material_run_expr.find(json_data)"
   ]
  },
  {
   "cell_type": "code",
   "execution_count": 139,
   "id": "2edf0b63",
   "metadata": {},
   "outputs": [],
   "source": [
    "with open(\"soren_NYO_gemd_model_dumps/edges.csv\", \"a\", newline=\"\") as csvfile:\n",
    "    writer = csv.writer(csvfile)\n",
    "    for n in nodes:\n",
    "        material_id = n.value['uids']['auto']\n",
    "        if n.value['process']:\n",
    "            process_id = n.value['process']['id']\n",
    "            edge_value = [process_id, material_id, 'processRun_to_materialRun']\n",
    "            writer.writerow(edge_value)"
   ]
  },
  {
   "cell_type": "markdown",
   "id": "325fece4",
   "metadata": {},
   "source": [
    "### measurement template -> measurement spec ###"
   ]
  },
  {
   "cell_type": "code",
   "execution_count": 140,
   "id": "7807f7f0",
   "metadata": {},
   "outputs": [],
   "source": [
    "measurement_spec_expr = parse('$[?(@.type == \"measurement_spec\")]')\n",
    "nodes = measurement_spec_expr.find(json_data)"
   ]
  },
  {
   "cell_type": "code",
   "execution_count": 141,
   "id": "e8f76217",
   "metadata": {},
   "outputs": [],
   "source": [
    "with open(\"soren_NYO_gemd_model_dumps/edges.csv\", \"a\", newline=\"\") as csvfile:\n",
    "    writer = csv.writer(csvfile)\n",
    "    for n in nodes:\n",
    "        spec_id = n.value['uids']['auto']\n",
    "        template_id = n.value['template']['id']\n",
    "        edge_value = [template_id, spec_id, 'measurementTemplate_to_measurementSpec']\n",
    "        writer.writerow(edge_value)"
   ]
  },
  {
   "cell_type": "markdown",
   "id": "7400177f",
   "metadata": {},
   "source": [
    "### measurement spec -> measurement run ###"
   ]
  },
  {
   "cell_type": "code",
   "execution_count": 142,
   "id": "7d04d519",
   "metadata": {},
   "outputs": [],
   "source": [
    "measurement_run_expr = parse('$[?(@.type == \"measurement_run\")]')\n",
    "nodes = measurement_run_expr.find(json_data)"
   ]
  },
  {
   "cell_type": "code",
   "execution_count": 143,
   "id": "587e9b07",
   "metadata": {},
   "outputs": [],
   "source": [
    "with open(\"soren_NYO_gemd_model_dumps/edges.csv\", \"a\", newline=\"\") as csvfile:\n",
    "    writer = csv.writer(csvfile)\n",
    "    for n in nodes:\n",
    "        run_id = n.value['uids']['auto']\n",
    "        if n.value['spec']:\n",
    "            spec_id = n.value['spec']['id']\n",
    "            edge_value = [spec_id, run_id, 'measurementSpec_to_measurementRun']\n",
    "            writer.writerow(edge_value)"
   ]
  },
  {
   "cell_type": "markdown",
   "id": "68b8c254",
   "metadata": {},
   "source": [
    "### measurement run -> material run ###"
   ]
  },
  {
   "cell_type": "code",
   "execution_count": 144,
   "id": "b43773ff",
   "metadata": {},
   "outputs": [],
   "source": [
    "measurement_run_expr = parse('$[?(@.type == \"measurement_run\")]')\n",
    "nodes = measurement_run_expr.find(json_data)"
   ]
  },
  {
   "cell_type": "code",
   "execution_count": 145,
   "id": "a09b7e76",
   "metadata": {},
   "outputs": [],
   "source": [
    "with open(\"soren_NYO_gemd_model_dumps/edges.csv\", \"a\", newline=\"\") as csvfile:\n",
    "    writer = csv.writer(csvfile)\n",
    "    for n in nodes:\n",
    "        measurement_id = n.value['uids']['auto']\n",
    "        if n.value['material']:\n",
    "            material_id = n.value['material']['id']\n",
    "            edge_value = [measurement_id, material_id, 'measurementRun_to_materialRun']\n",
    "            writer.writerow(edge_value)"
   ]
  }
 ],
 "metadata": {
  "kernelspec": {
   "display_name": "Python 3 (ipykernel)",
   "language": "python",
   "name": "python3"
  },
  "language_info": {
   "codemirror_mode": {
    "name": "ipython",
    "version": 3
   },
   "file_extension": ".py",
   "mimetype": "text/x-python",
   "name": "python",
   "nbconvert_exporter": "python",
   "pygments_lexer": "ipython3",
   "version": "3.10.9"
  }
 },
 "nbformat": 4,
 "nbformat_minor": 5
}
