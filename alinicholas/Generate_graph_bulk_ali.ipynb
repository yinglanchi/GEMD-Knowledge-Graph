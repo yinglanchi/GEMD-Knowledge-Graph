{
 "cells": [
  {
   "cell_type": "code",
   "execution_count": 1,
   "id": "ff817cbc",
   "metadata": {},
   "outputs": [
    {
     "name": "stdout",
     "output_type": "stream",
     "text": [
      "Requirement already satisfied: jsonpath-ng in /Users/elaine/anaconda3/lib/python3.10/site-packages (1.5.3)\r\n",
      "Requirement already satisfied: six in /Users/elaine/anaconda3/lib/python3.10/site-packages (from jsonpath-ng) (1.16.0)\r\n",
      "Requirement already satisfied: ply in /Users/elaine/anaconda3/lib/python3.10/site-packages (from jsonpath-ng) (3.11)\r\n",
      "Requirement already satisfied: decorator in /Users/elaine/anaconda3/lib/python3.10/site-packages (from jsonpath-ng) (5.1.1)\r\n"
     ]
    }
   ],
   "source": [
    "!pip install jsonpath-ng"
   ]
  },
  {
   "cell_type": "code",
   "execution_count": 2,
   "id": "9f3ff7af",
   "metadata": {},
   "outputs": [],
   "source": [
    "import json\n",
    "import csv\n",
    "from jsonpath_ng.ext import parse\n",
    "import collections\n",
    "import os"
   ]
  },
  {
   "cell_type": "code",
   "execution_count": 12,
   "id": "7eb712ce",
   "metadata": {},
   "outputs": [
    {
     "name": "stdout",
     "output_type": "stream",
     "text": [
      "skipping\n",
      "skipping\n",
      "skipping\n",
      "skipping\n",
      "skipping\n"
     ]
    }
   ],
   "source": [
    "directory_path = \"ali_nicholas_EuSNbSe2_gemd_model_dumps\"\n",
    "json_data = []\n",
    "for filename in os.listdir(directory_path):\n",
    "    file_path = os.path.join(directory_path, filename)\n",
    "    try:\n",
    "        with open(file_path, encoding='utf-8') as file:\n",
    "            json_data.append(json.load(file))\n",
    "    except:\n",
    "        print(\"skipping\")"
   ]
  },
  {
   "cell_type": "markdown",
   "id": "ebd01286",
   "metadata": {},
   "source": [
    "# Nodes #"
   ]
  },
  {
   "cell_type": "markdown",
   "id": "a2836ddf",
   "metadata": {},
   "source": [
    "## Header ##"
   ]
  },
  {
   "cell_type": "code",
   "execution_count": 13,
   "id": "c73dd041",
   "metadata": {},
   "outputs": [],
   "source": [
    "nodes_header = [\"node_id:ID\", \"name\", \"notes\", \"real_lower_bound\", \"real_upper_bound\", \"real_units\", \"real_name_1\", \\\n",
    "                \"real_value_1\",\"real_units_1\", \"real_name_2\", \"real_value_2\", \"real_units_2\", \"real_name_3\", \\\n",
    "                \"real_value_3\", \"real_units_3\", \"real_name_4\", \"real_value_4\", \"real_units_4\", \"real_name_5\", \\\n",
    "                \"real_value_5\", \"real_units_5\", \"real_name_6\", \"real_value_6\", \"real_units_6\", \\\n",
    "                \"description\", \"type\", \"tags\", \":LABEL\"]\n",
    "\n",
    "with open(\"ali_nicholas_EuSNbSe2_gemd_model_dumps/nodes_header.csv\", \"w\", newline=\"\") as csvfile:\n",
    "    writer = csv.writer(csvfile)\n",
    "    writer.writerow(nodes_header)"
   ]
  },
  {
   "cell_type": "markdown",
   "id": "dee1b859",
   "metadata": {},
   "source": [
    "## Template, Spec, Run ##"
   ]
  },
  {
   "cell_type": "code",
   "execution_count": 14,
   "id": "ce15962e",
   "metadata": {},
   "outputs": [],
   "source": [
    "with open(\"ali_nicholas_EuSNbSe2_gemd_model_dumps/nodes.csv\", \"w\", newline=\"\") as csvfile:\n",
    "    node_value = [\"root\", \"root_node\", \"\", \"\", \"\", \"\", \"\", \"\", \"\", \"\", \"\", \"\", \"\", \"\", \"\", \"\", \"\", \"\", \\\n",
    "                  \"\", \"\", \"\", \"\", \"\", \"\", \"\", \"root\", \"\", \"root\"]\n",
    "    writer = csv.writer(csvfile)\n",
    "    writer.writerow(node_value)"
   ]
  },
  {
   "cell_type": "markdown",
   "id": "6a95444f",
   "metadata": {},
   "source": [
    "### Template ###"
   ]
  },
  {
   "cell_type": "code",
   "execution_count": 15,
   "id": "54d9e804",
   "metadata": {},
   "outputs": [],
   "source": [
    "materal_template_expr = parse('$[?(@.type == \"material_template\")]')\n",
    "nodes = materal_template_expr.find(json_data)"
   ]
  },
  {
   "cell_type": "code",
   "execution_count": 16,
   "id": "61ba42b9",
   "metadata": {},
   "outputs": [],
   "source": [
    "with open(\"ali_nicholas_EuSNbSe2_gemd_model_dumps/nodes.csv\", \"a\", newline=\"\") as csvfile:\n",
    "    writer = csv.writer(csvfile)\n",
    "    for n in nodes:\n",
    "        node_id = n.value['uids']['auto']\n",
    "        name = n.value['name']\n",
    "        notes = n.value['notes'] if 'notes' in n.value else \"\"\n",
    "        real_lower_bound = \"\"\n",
    "        real_upper_bound = \"\"\n",
    "        real_units = \"\"\n",
    "        real_name_1 = \"\"\n",
    "        real_value_1 = \"\"\n",
    "        real_units_1 = \"\"\n",
    "        real_name_2 = \"\"\n",
    "        real_value_2 = \"\"\n",
    "        real_units_2 = \"\"\n",
    "        real_name_3 = \"\"\n",
    "        real_value_3 = \"\"\n",
    "        real_units_3 = \"\"\n",
    "        real_name_4 = \"\"\n",
    "        real_value_4 = \"\"\n",
    "        real_units_4 = \"\"\n",
    "        real_name_5 = \"\"\n",
    "        real_value_5 = \"\"\n",
    "        real_units_5 = \"\"\n",
    "        real_name_6 = \"\"\n",
    "        real_value_6 = \"\"\n",
    "        real_units_6 = \"\"\n",
    "        description = n.value['description'] if 'description' in n.value else \"\"\n",
    "        node_type = n.value['type']\n",
    "        tags = n.value['tags'][0] if len(n.value['tags']) > 0 else \"\" \n",
    "        label = n.value['type']\n",
    "        node_value = [node_id, name, notes, real_lower_bound, real_upper_bound, real_units, real_name_1, \\\n",
    "                      real_value_1, real_units_1, real_name_2, real_value_2, real_units_2, real_name_3, \\\n",
    "                      real_value_3, real_units_3, real_name_4, real_value_4, real_units_4, real_name_5, \\\n",
    "                      real_value_5, real_units_5, real_name_6, real_value_6, real_units_6, description, \\\n",
    "                      node_type, tags, label]\n",
    "        writer.writerow(node_value)"
   ]
  },
  {
   "cell_type": "code",
   "execution_count": 17,
   "id": "21cfd83e",
   "metadata": {},
   "outputs": [],
   "source": [
    "process_template_expr = parse('$[?(@.type == \"process_template\")]')\n",
    "nodes = process_template_expr.find(json_data)"
   ]
  },
  {
   "cell_type": "code",
   "execution_count": 18,
   "id": "000eaaad",
   "metadata": {},
   "outputs": [],
   "source": [
    "with open(\"ali_nicholas_EuSNbSe2_gemd_model_dumps/nodes.csv\", \"a\", newline=\"\") as csvfile:\n",
    "    writer = csv.writer(csvfile)\n",
    "    for n in nodes:\n",
    "        node_id = n.value['uids']['auto']\n",
    "        name = n.value['name']\n",
    "        notes = n.value['notes'] if 'notes' in n.value else \"\"\n",
    "        real_lower_bound = \"\"\n",
    "        real_upper_bound = \"\"\n",
    "        real_units = \"\"\n",
    "        real_name_1 = \"\"\n",
    "        real_value_1 = \"\"\n",
    "        real_units_1 = \"\"\n",
    "        real_name_2 = \"\"\n",
    "        real_value_2 = \"\"\n",
    "        real_units_2 = \"\"\n",
    "        real_name_3 = \"\"\n",
    "        real_value_3 = \"\"\n",
    "        real_units_3 = \"\"\n",
    "        real_name_4 = \"\"\n",
    "        real_value_4 = \"\"\n",
    "        real_units_4 = \"\"\n",
    "        real_name_5 = \"\"\n",
    "        real_value_5 = \"\"\n",
    "        real_units_5 = \"\"\n",
    "        real_name_6 = \"\"\n",
    "        real_value_6 = \"\"\n",
    "        real_units_6 = \"\"\n",
    "        description = n.value['description'] if 'description' in n.value else \"\"\n",
    "        node_type = n.value['type']\n",
    "        tags = n.value['tags'][0] if len(n.value['tags']) > 0 else \"\" \n",
    "        label = n.value['type']\n",
    "        node_value = [node_id, name, notes, real_lower_bound, real_upper_bound, real_units, real_name_1, \\\n",
    "                      real_value_1, real_units_1, real_name_2, real_value_2, real_units_2, real_name_3, \\\n",
    "                      real_value_3, real_units_3, real_name_4, real_value_4, real_units_4, real_name_5, \\\n",
    "                      real_value_5, real_units_5, real_name_6, real_value_6, real_units_6, description, \\\n",
    "                      node_type, tags, label]\n",
    "        writer.writerow(node_value)"
   ]
  },
  {
   "cell_type": "code",
   "execution_count": 19,
   "id": "a9be3a80",
   "metadata": {},
   "outputs": [],
   "source": [
    "measurement_template_expr = parse('$[?(@.type == \"measurement_template\")]')\n",
    "nodes = measurement_template_expr.find(json_data)"
   ]
  },
  {
   "cell_type": "code",
   "execution_count": 20,
   "id": "9a6875f5",
   "metadata": {},
   "outputs": [],
   "source": [
    "with open(\"ali_nicholas_EuSNbSe2_gemd_model_dumps/nodes.csv\", \"a\", newline=\"\") as csvfile:\n",
    "    writer = csv.writer(csvfile)\n",
    "    for n in nodes:\n",
    "        node_id = n.value['uids']['auto']\n",
    "        name = n.value['name']\n",
    "        notes = n.value['notes'] if 'notes' in n.value else \"\"\n",
    "        real_lower_bound = \"\"\n",
    "        real_upper_bound = \"\"\n",
    "        real_units = \"\"\n",
    "        real_name_1 = \"\"\n",
    "        real_value_1 = \"\"\n",
    "        real_units_1 = \"\"\n",
    "        real_name_2 = \"\"\n",
    "        real_value_2 = \"\"\n",
    "        real_units_2 = \"\"\n",
    "        real_name_3 = \"\"\n",
    "        real_value_3 = \"\"\n",
    "        real_units_3 = \"\"\n",
    "        real_name_4 = \"\"\n",
    "        real_value_4 = \"\"\n",
    "        real_units_4 = \"\"\n",
    "        real_name_5 = \"\"\n",
    "        real_value_5 = \"\"\n",
    "        real_units_5 = \"\"\n",
    "        real_name_6 = \"\"\n",
    "        real_value_6 = \"\"\n",
    "        real_units_6 = \"\"\n",
    "        description = n.value['description'] if 'description' in n.value else \"\"\n",
    "        node_type = n.value['type']\n",
    "        tags = n.value['tags'][0] if len(n.value['tags']) > 0 else \"\" \n",
    "        label = n.value['type']\n",
    "        node_value = [node_id, name, notes, real_lower_bound, real_upper_bound, real_units, real_name_1, \\\n",
    "                      real_value_1, real_units_1, real_name_2, real_value_2, real_units_2, real_name_3, \\\n",
    "                      real_value_3, real_units_3, real_name_4, real_value_4, real_units_4, real_name_5, \\\n",
    "                      real_value_5, real_units_5, real_name_6, real_value_6, real_units_6, description, \\\n",
    "                      node_type, tags, label]\n",
    "        writer.writerow(node_value)"
   ]
  },
  {
   "cell_type": "code",
   "execution_count": 21,
   "id": "bd31db8b",
   "metadata": {},
   "outputs": [],
   "source": [
    "parameter_template_expr = parse('$[?(@.type == \"parameter_template\")]')\n",
    "nodes = parameter_template_expr.find(json_data)"
   ]
  },
  {
   "cell_type": "code",
   "execution_count": 22,
   "id": "5c6d2524",
   "metadata": {},
   "outputs": [],
   "source": [
    "with open(\"ali_nicholas_EuSNbSe2_gemd_model_dumps/nodes.csv\", \"a\", newline=\"\") as csvfile:\n",
    "    writer = csv.writer(csvfile)\n",
    "    for n in nodes:\n",
    "        node_id = n.value['uids']['auto']\n",
    "        name = n.value['name']\n",
    "        notes = n.value['notes'] if 'notes' in n.value else \"\"\n",
    "        real_lower_bound = n.value['bounds']['lower_bound'] if ('bounds' in n.value and n.value['bounds']['type'] == 'real_bounds') else \"\"\n",
    "        real_upper_bound = n.value['bounds']['upper_bound'] if ('bounds' in n.value and n.value['bounds']['type'] == 'real_bounds') else \"\"\n",
    "        real_units = n.value['bounds']['default_units'] if ('bounds' in n.value and n.value['bounds']['type'] == 'real_bounds') else \"\"\n",
    "        real_name_1 = \"\"\n",
    "        real_value_1 = \"\"\n",
    "        real_units_1 = \"\"\n",
    "        real_name_2 = \"\"\n",
    "        real_value_2 = \"\"\n",
    "        real_units_2 = \"\"\n",
    "        real_name_3 = \"\"\n",
    "        real_value_3 = \"\"\n",
    "        real_units_3 = \"\"\n",
    "        real_name_4 = \"\"\n",
    "        real_value_4 = \"\"\n",
    "        real_units_4 = \"\"\n",
    "        real_name_5 = \"\"\n",
    "        real_value_5 = \"\"\n",
    "        real_units_5 = \"\"\n",
    "        real_name_6 = \"\"\n",
    "        real_value_6 = \"\"\n",
    "        real_units_6 = \"\"\n",
    "        description = n.value['description'] if 'description' in n.value else \"\"\n",
    "        node_type = n.value['type']\n",
    "        tags = n.value['tags'][0] if len(n.value['tags']) > 0 else \"\" \n",
    "        label = n.value['type']\n",
    "        node_value = [node_id, name, notes, real_lower_bound, real_upper_bound, real_units, real_name_1, \\\n",
    "                      real_value_1, real_units_1, real_name_2, real_value_2, real_units_2, real_name_3, \\\n",
    "                      real_value_3, real_units_3, real_name_4, real_value_4, real_units_4, real_name_5, \\\n",
    "                      real_value_5, real_units_5, real_name_6, real_value_6, real_units_6, description, \\\n",
    "                      node_type, tags, label]\n",
    "        writer.writerow(node_value)"
   ]
  },
  {
   "cell_type": "code",
   "execution_count": 23,
   "id": "37dc4a26",
   "metadata": {},
   "outputs": [],
   "source": [
    "property_template_expr = parse('$[?(@.type == \"property_template\")]')\n",
    "nodes = property_template_expr.find(json_data)"
   ]
  },
  {
   "cell_type": "code",
   "execution_count": 24,
   "id": "a7e613b1",
   "metadata": {},
   "outputs": [],
   "source": [
    "with open(\"ali_nicholas_EuSNbSe2_gemd_model_dumps/nodes.csv\", \"a\", newline=\"\") as csvfile:\n",
    "    writer = csv.writer(csvfile)\n",
    "    for n in nodes:\n",
    "        node_id = n.value['uids']['auto']\n",
    "        name = n.value['name']\n",
    "        notes = n.value['notes'] if 'notes' in n.value else \"\"\n",
    "        real_lower_bound = n.value['bounds']['lower_bound'] if ('bounds' in n.value and n.value['bounds']['type'] == 'real_bounds') else \"\"\n",
    "        real_upper_bound = n.value['bounds']['upper_bound'] if ('bounds' in n.value and n.value['bounds']['type'] == 'real_bounds') else \"\"\n",
    "        real_units = n.value['bounds']['default_units'] if ('bounds' in n.value and n.value['bounds']['type'] == 'real_bounds') else \"\"\n",
    "        real_name_1 = \"\"\n",
    "        real_value_1 = \"\"\n",
    "        real_units_1 = \"\"\n",
    "        real_name_2 = \"\"\n",
    "        real_value_2 = \"\"\n",
    "        real_units_2 = \"\"\n",
    "        real_name_3 = \"\"\n",
    "        real_value_3 = \"\"\n",
    "        real_units_3 = \"\"\n",
    "        real_name_4 = \"\"\n",
    "        real_value_4 = \"\"\n",
    "        real_units_4 = \"\"\n",
    "        real_name_5 = \"\"\n",
    "        real_value_5 = \"\"\n",
    "        real_units_5 = \"\"\n",
    "        real_name_6 = \"\"\n",
    "        real_value_6 = \"\"\n",
    "        real_units_6 = \"\"\n",
    "        description = n.value['description'] if 'description' in n.value else \"\"\n",
    "        node_type = n.value['type']\n",
    "        tags = n.value['tags'][0] if len(n.value['tags']) > 0 else \"\" \n",
    "        label = n.value['type']\n",
    "        node_value = [node_id, name, notes, real_lower_bound, real_upper_bound, real_units, real_name_1, \\\n",
    "                      real_value_1, real_units_1, real_name_2, real_value_2, real_units_2, real_name_3, \\\n",
    "                      real_value_3, real_units_3, real_name_4, real_value_4, real_units_4, real_name_5, \\\n",
    "                      real_value_5, real_units_5, real_name_6, real_value_6, real_units_6, description, \\\n",
    "                      node_type, tags, label]\n",
    "        writer.writerow(node_value)"
   ]
  },
  {
   "cell_type": "code",
   "execution_count": 25,
   "id": "95d0a183",
   "metadata": {},
   "outputs": [],
   "source": [
    "condition_template_expr = parse('$[?(@.type == \"condition_template\")]')\n",
    "nodes = condition_template_expr.find(json_data)"
   ]
  },
  {
   "cell_type": "code",
   "execution_count": 26,
   "id": "04b6e920",
   "metadata": {},
   "outputs": [],
   "source": [
    "with open(\"ali_nicholas_EuSNbSe2_gemd_model_dumps/nodes.csv\", \"a\", newline=\"\") as csvfile:\n",
    "    writer = csv.writer(csvfile)\n",
    "    for n in nodes:\n",
    "        node_id = n.value['uids']['auto']\n",
    "        name = n.value['name']\n",
    "        notes = n.value['notes'] if 'notes' in n.value else \"\"\n",
    "        real_lower_bound = n.value['bounds']['lower_bound'] if ('bounds' in n.value and n.value['bounds']['type'] == 'real_bounds') else \"\"\n",
    "        real_upper_bound = n.value['bounds']['upper_bound'] if ('bounds' in n.value and n.value['bounds']['type'] == 'real_bounds') else \"\"\n",
    "        real_units = n.value['bounds']['default_units'] if ('bounds' in n.value and n.value['bounds']['type'] == 'real_bounds') else \"\"\n",
    "        real_name_1 = \"\"\n",
    "        real_value_1 = \"\"\n",
    "        real_units_1 = \"\"\n",
    "        real_name_2 = \"\"\n",
    "        real_value_2 = \"\"\n",
    "        real_units_2 = \"\"\n",
    "        real_name_3 = \"\"\n",
    "        real_value_3 = \"\"\n",
    "        real_units_3 = \"\"\n",
    "        real_name_4 = \"\"\n",
    "        real_value_4 = \"\"\n",
    "        real_units_4 = \"\"\n",
    "        real_name_5 = \"\"\n",
    "        real_value_5 = \"\"\n",
    "        real_units_5 = \"\"\n",
    "        real_name_6 = \"\"\n",
    "        real_value_6 = \"\"\n",
    "        real_units_6 = \"\"\n",
    "        description = n.value['description'] if 'description' in n.value else \"\"\n",
    "        node_type = n.value['type']\n",
    "        tags = n.value['tags'][0] if len(n.value['tags']) > 0 else \"\" \n",
    "        label = n.value['type']\n",
    "        node_value = [node_id, name, notes, real_lower_bound, real_upper_bound, real_units, real_name_1, \\\n",
    "                      real_value_1, real_units_1, real_name_2, real_value_2, real_units_2, real_name_3, \\\n",
    "                      real_value_3, real_units_3, real_name_4, real_value_4, real_units_4, real_name_5, \\\n",
    "                      real_value_5, real_units_5, real_name_6, real_value_6, real_units_6, description, \\\n",
    "                      node_type, tags, label]\n",
    "        writer.writerow(node_value)"
   ]
  },
  {
   "cell_type": "markdown",
   "id": "37c558c3",
   "metadata": {},
   "source": [
    "### Categorical Bounds ###"
   ]
  },
  {
   "cell_type": "code",
   "execution_count": 27,
   "id": "960dfd1b",
   "metadata": {},
   "outputs": [],
   "source": [
    "i = 0\n",
    "categoryName_to_id = {}"
   ]
  },
  {
   "cell_type": "code",
   "execution_count": 28,
   "id": "66a03857",
   "metadata": {},
   "outputs": [],
   "source": [
    "parameter_template_expr = parse('$[?(@.type == \"parameter_template\")]')\n",
    "nodes = parameter_template_expr.find(json_data)"
   ]
  },
  {
   "cell_type": "code",
   "execution_count": 29,
   "id": "ee6a74a8",
   "metadata": {},
   "outputs": [],
   "source": [
    "with open(\"ali_nicholas_EuSNbSe2_gemd_model_dumps/nodes.csv\", \"a\", newline=\"\") as csvfile:\n",
    "    writer = csv.writer(csvfile)\n",
    "    for n in nodes:\n",
    "        if 'bounds' in n.value and n.value['bounds']['type'] == 'categorical_bounds':\n",
    "            for j in range(len(n.value['bounds']['categories'])):\n",
    "                node_id = \"categorical \" + str(i)\n",
    "                name = n.value['bounds']['categories'][j]\n",
    "                categoryName_to_id[name] = node_id\n",
    "                notes = \"\"\n",
    "                real_lower_bound = \"\"\n",
    "                real_upper_bound = \"\"\n",
    "                real_name_1 = \"\"\n",
    "                real_value_1 = \"\"\n",
    "                real_units_1 = \"\"\n",
    "                real_name_2 = \"\"\n",
    "                real_value_2 = \"\"\n",
    "                real_units_2 = \"\"\n",
    "                real_name_3 = \"\"\n",
    "                real_value_3 = \"\"\n",
    "                real_units_3 = \"\"\n",
    "                real_name_4 = \"\"\n",
    "                real_value_4 = \"\"\n",
    "                real_units_4 = \"\"\n",
    "                real_name_5 = \"\"\n",
    "                real_value_5 = \"\"\n",
    "                real_units_5 = \"\"\n",
    "                real_name_6 = \"\"\n",
    "                real_value_6 = \"\"\n",
    "                real_units_6 = \"\"\n",
    "                description = \"\"\n",
    "                node_type = 'categorical_bounds'\n",
    "                tags = \"\" \n",
    "                label = 'categorical_bounds'\n",
    "                node_value = [node_id, name, notes, real_lower_bound, real_upper_bound, real_units, real_name_1, \\\n",
    "                      real_value_1, real_units_1, real_name_2, real_value_2, real_units_2, real_name_3, \\\n",
    "                      real_value_3, real_units_3, real_name_4, real_value_4, real_units_4, real_name_5, \\\n",
    "                      real_value_5, real_units_5, real_name_6, real_value_6, real_units_6, description, \\\n",
    "                      node_type, tags, label]\n",
    "                writer.writerow(node_value)\n",
    "                i += 1"
   ]
  },
  {
   "cell_type": "code",
   "execution_count": 30,
   "id": "0fdbbb9c",
   "metadata": {},
   "outputs": [],
   "source": [
    "property_template_expr = parse('$[?(@.type == \"property_template\")]')\n",
    "nodes = property_template_expr.find(json_data)"
   ]
  },
  {
   "cell_type": "code",
   "execution_count": 31,
   "id": "7fc2e36d",
   "metadata": {},
   "outputs": [],
   "source": [
    "with open(\"ali_nicholas_EuSNbSe2_gemd_model_dumps/nodes.csv\", \"a\", newline=\"\") as csvfile:\n",
    "    writer = csv.writer(csvfile)\n",
    "    for n in nodes:\n",
    "        if 'bounds' in n.value and n.value['bounds']['type'] == 'categorical_bounds':\n",
    "            for j in range(len(n.value['bounds']['categories'])):\n",
    "                node_id = \"categorical \" + str(i)\n",
    "                name = n.value['bounds']['categories'][j]\n",
    "                categoryName_to_id[name] = node_id\n",
    "                notes = \"\"\n",
    "                real_lower_bound = \"\"\n",
    "                real_upper_bound = \"\"\n",
    "                real_name_1 = \"\"\n",
    "                real_value_1 = \"\"\n",
    "                real_units_1 = \"\"\n",
    "                real_name_2 = \"\"\n",
    "                real_value_2 = \"\"\n",
    "                real_units_2 = \"\"\n",
    "                real_name_3 = \"\"\n",
    "                real_value_3 = \"\"\n",
    "                real_units_3 = \"\"\n",
    "                real_name_4 = \"\"\n",
    "                real_value_4 = \"\"\n",
    "                real_units_4 = \"\"\n",
    "                real_name_5 = \"\"\n",
    "                real_value_5 = \"\"\n",
    "                real_units_5 = \"\"\n",
    "                real_name_6 = \"\"\n",
    "                real_value_6 = \"\"\n",
    "                real_units_6 = \"\"\n",
    "                description = \"\"\n",
    "                node_type = 'categorical_bounds'\n",
    "                tags = \"\" \n",
    "                label = 'categorical_bounds'\n",
    "                node_value = [node_id, name, notes, real_lower_bound, real_upper_bound, real_units, real_name_1, \\\n",
    "                      real_value_1, real_units_1, real_name_2, real_value_2, real_units_2, real_name_3, \\\n",
    "                      real_value_3, real_units_3, real_name_4, real_value_4, real_units_4, real_name_5, \\\n",
    "                      real_value_5, real_units_5, real_name_6, real_value_6, real_units_6, description, \\\n",
    "                      node_type, tags, label]\n",
    "                writer.writerow(node_value)\n",
    "                i += 1"
   ]
  },
  {
   "cell_type": "code",
   "execution_count": 32,
   "id": "479ba91f",
   "metadata": {},
   "outputs": [],
   "source": [
    "condition_template_expr = parse('$[?(@.type == \"condition_template\")]')\n",
    "nodes = condition_template_expr.find(json_data)"
   ]
  },
  {
   "cell_type": "code",
   "execution_count": 33,
   "id": "5ac97aaf",
   "metadata": {},
   "outputs": [],
   "source": [
    "with open(\"ali_nicholas_EuSNbSe2_gemd_model_dumps/nodes.csv\", \"a\", newline=\"\") as csvfile:\n",
    "    writer = csv.writer(csvfile)\n",
    "    for n in nodes:\n",
    "        if 'bounds' in n.value and n.value['bounds']['type'] == 'categorical_bounds':\n",
    "            for j in range(len(n.value['bounds']['categories'])):\n",
    "                node_id = \"categorical \" + str(i)\n",
    "                name = n.value['bounds']['categories'][j]\n",
    "                categoryName_to_id[name] = node_id\n",
    "                notes = \"\"\n",
    "                real_lower_bound = \"\"\n",
    "                real_upper_bound = \"\"\n",
    "                real_name_1 = \"\"\n",
    "                real_value_1 = \"\"\n",
    "                real_units_1 = \"\"\n",
    "                real_name_2 = \"\"\n",
    "                real_value_2 = \"\"\n",
    "                real_units_2 = \"\"\n",
    "                real_name_3 = \"\"\n",
    "                real_value_3 = \"\"\n",
    "                real_units_3 = \"\"\n",
    "                real_name_4 = \"\"\n",
    "                real_value_4 = \"\"\n",
    "                real_units_4 = \"\"\n",
    "                real_name_5 = \"\"\n",
    "                real_value_5 = \"\"\n",
    "                real_units_5 = \"\"\n",
    "                real_name_6 = \"\"\n",
    "                real_value_6 = \"\"\n",
    "                real_units_6 = \"\"\n",
    "                description = \"\"\n",
    "                node_type = 'categorical_bounds'\n",
    "                tags = \"\" \n",
    "                label = 'categorical_bounds'\n",
    "                node_value = [node_id, name, notes, real_lower_bound, real_upper_bound, real_units, real_name_1, \\\n",
    "                      real_value_1, real_units_1, real_name_2, real_value_2, real_units_2, real_name_3, \\\n",
    "                      real_value_3, real_units_3, real_name_4, real_value_4, real_units_4, real_name_5, \\\n",
    "                      real_value_5, real_units_5, real_name_6, real_value_6, real_units_6, description, \\\n",
    "                      node_type, tags, label]\n",
    "                writer.writerow(node_value)\n",
    "                i += 1"
   ]
  },
  {
   "cell_type": "code",
   "execution_count": 34,
   "id": "1d4cf898",
   "metadata": {},
   "outputs": [
    {
     "data": {
      "text/plain": [
       "{'Alfa Aesar': 'categorical 0',\n",
       " 'Thermo Scientific': 'categorical 1',\n",
       " 'Yeemeida Technology Co. LTD': 'categorical 2',\n",
       " 'Mortar and Pestle': 'categorical 3',\n",
       " 'Nichrome Wire': 'categorical 4',\n",
       " 'Pellet Press Set': 'categorical 5',\n",
       " 'Quartz Tube': 'categorical 6',\n",
       " 'Quartz Wool': 'categorical 7',\n",
       " 'Thermocouple': 'categorical 8',\n",
       " 'Tongs': 'categorical 9',\n",
       " 'Torch': 'categorical 10',\n",
       " 'Tube Sealing Station': 'categorical 11',\n",
       " 'R04D028': 'categorical 12',\n",
       " 'R10H008': 'categorical 13',\n",
       " 'W19F006': 'categorical 14',\n",
       " 'X17C007': 'categorical 15',\n",
       " 'Amorphous': 'categorical 16',\n",
       " 'Chunk': 'categorical 17',\n",
       " 'Chunk and Powder': 'categorical 18',\n",
       " 'Crystal': 'categorical 19',\n",
       " 'Ingot': 'categorical 20',\n",
       " 'Pellet': 'categorical 21',\n",
       " 'Pieces': 'categorical 22',\n",
       " 'Powder': 'categorical 23',\n",
       " 'Powder -325 mesh': 'categorical 24',\n",
       " 'Solid': 'categorical 25',\n",
       " 'resublimed crystals': 'categorical 26',\n",
       " 'Air': 'categorical 27',\n",
       " 'Inner Atmosphere Glovebox': 'categorical 28',\n",
       " 'Bucket': 'categorical 29',\n",
       " 'Purification Tube Furnace': 'categorical 30',\n",
       " 'Synthesis Tube Furnace': 'categorical 31',\n",
       " 'Three Zones Tube Furnace': 'categorical 32',\n",
       " 'X-Ray Diffraction Panel': 'categorical 33'}"
      ]
     },
     "execution_count": 34,
     "metadata": {},
     "output_type": "execute_result"
    }
   ],
   "source": [
    "categoryName_to_id"
   ]
  },
  {
   "cell_type": "markdown",
   "id": "c2aaaf56",
   "metadata": {},
   "source": [
    "### Spec ###"
   ]
  },
  {
   "cell_type": "code",
   "execution_count": 35,
   "id": "dbf7423e",
   "metadata": {},
   "outputs": [],
   "source": [
    "material_spec_expr = parse('$[?(@.type == \"material_spec\")]')\n",
    "nodes = material_spec_expr.find(json_data)"
   ]
  },
  {
   "cell_type": "code",
   "execution_count": 36,
   "id": "3a2d17b4",
   "metadata": {},
   "outputs": [],
   "source": [
    "with open(\"ali_nicholas_EuSNbSe2_gemd_model_dumps/nodes.csv\", \"a\", newline=\"\") as csvfile:\n",
    "    writer = csv.writer(csvfile)\n",
    "    for n in nodes:\n",
    "        node_id = n.value['uids']['auto']\n",
    "        name = n.value['name']\n",
    "        notes = n.value['notes'] if 'notes' in n.value else \"\"\n",
    "        real_lower_bound = \"\"\n",
    "        real_upper_bound = \"\"\n",
    "        real_units = \"\"\n",
    "        real_measurements = []\n",
    "        if 'properties' in n.value:\n",
    "            for node_property in n.value['properties']:\n",
    "                if node_property['property']['value']['type'] == 'nominal_real':\n",
    "                    real_measurements.append(node_property['property']['name'])\n",
    "                    real_measurements.append(node_property['property']['value']['nominal'])\n",
    "                    real_measurements.append(node_property['property']['value']['units'])\n",
    "        while len(real_measurements) < 18:\n",
    "            real_measurements.append(\"\")\n",
    "        real_name_1 = real_measurements[0]\n",
    "        real_value_1 = real_measurements[1]\n",
    "        real_units_1 = real_measurements[2]\n",
    "        real_name_2 = real_measurements[3]\n",
    "        real_value_2 = real_measurements[4]\n",
    "        real_units_2 = real_measurements[5]\n",
    "        real_name_3 = real_measurements[6]\n",
    "        real_value_3 = real_measurements[7]\n",
    "        real_units_3 = real_measurements[8]\n",
    "        real_name_4 = real_measurements[9]\n",
    "        real_value_4 = real_measurements[10]\n",
    "        real_units_4 = real_measurements[11]\n",
    "        real_name_5 = real_measurements[12]\n",
    "        real_value_5 = real_measurements[13]\n",
    "        real_units_5 = real_measurements[14]\n",
    "        real_name_6 = real_measurements[15]\n",
    "        real_value_6 = real_measurements[16]\n",
    "        real_units_6 = real_measurements[17]\n",
    "        description = n.value['description'] if 'description' in n.value else \"\"\n",
    "        node_type = n.value['type']\n",
    "        tags = n.value['tags'][0] if len(n.value['tags']) > 0 else \"\" \n",
    "        label = n.value['type']\n",
    "        node_value = [node_id, name, notes, real_lower_bound, real_upper_bound, real_units, real_name_1, \\\n",
    "                      real_value_1, real_units_1, real_name_2, real_value_2, real_units_2, real_name_3, \\\n",
    "                      real_value_3, real_units_3, real_name_4, real_value_4, real_units_4, real_name_5, \\\n",
    "                      real_value_5, real_units_5, real_name_6, real_value_6, real_units_6, description, \\\n",
    "                      node_type, tags, label]\n",
    "        writer.writerow(node_value)"
   ]
  },
  {
   "cell_type": "code",
   "execution_count": 37,
   "id": "db4d2bbf",
   "metadata": {},
   "outputs": [],
   "source": [
    "ingredient_spec_expr = parse('$[?(@.type == \"ingredient_spec\")]')\n",
    "nodes = ingredient_spec_expr.find(json_data)"
   ]
  },
  {
   "cell_type": "code",
   "execution_count": 38,
   "id": "2573d6fc",
   "metadata": {},
   "outputs": [],
   "source": [
    "with open(\"ali_nicholas_EuSNbSe2_gemd_model_dumps/nodes.csv\", \"a\", newline=\"\") as csvfile:\n",
    "    writer = csv.writer(csvfile)\n",
    "    for n in nodes:\n",
    "        node_id = n.value['uids']['auto']\n",
    "        name = n.value['name']\n",
    "        notes = n.value['notes'] if 'notes' in n.value else \"\"\n",
    "        real_lower_bound = \"\"\n",
    "        real_upper_bound = \"\"\n",
    "        real_units = \"\"\n",
    "        real_name_1 = \"\"\n",
    "        real_value_1 = \"\"\n",
    "        real_units_1 = \"\"\n",
    "        real_name_2 = \"\"\n",
    "        real_value_2 = \"\"\n",
    "        real_units_2 = \"\"\n",
    "        real_name_3 = \"\"\n",
    "        real_value_3 = \"\"\n",
    "        real_units_3 = \"\"\n",
    "        real_name_4 = \"\"\n",
    "        real_value_4 = \"\"\n",
    "        real_units_4 = \"\"\n",
    "        real_name_5 = \"\"\n",
    "        real_value_5 = \"\"\n",
    "        real_units_5 = \"\"\n",
    "        real_name_6 = \"\"\n",
    "        real_value_6 = \"\"\n",
    "        real_units_6 = \"\"\n",
    "        description = n.value['description'] if 'description' in n.value else \"\"\n",
    "        node_type = n.value['type']\n",
    "        tags = n.value['tags'][0] if len(n.value['tags']) > 0 else \"\" \n",
    "        label = n.value['type']\n",
    "        node_value = [node_id, name, notes, real_lower_bound, real_upper_bound, real_units, real_name_1, \\\n",
    "                      real_value_1, real_units_1, real_name_2, real_value_2, real_units_2, real_name_3, \\\n",
    "                      real_value_3, real_units_3, real_name_4, real_value_4, real_units_4, real_name_5, \\\n",
    "                      real_value_5, real_units_5, real_name_6, real_value_6, real_units_6, description, \\\n",
    "                      node_type, tags, label]\n",
    "        writer.writerow(node_value)"
   ]
  },
  {
   "cell_type": "code",
   "execution_count": 39,
   "id": "7461654c",
   "metadata": {},
   "outputs": [],
   "source": [
    "process_spec_expr = parse('$[?(@.type == \"process_spec\")]')\n",
    "nodes = process_spec_expr.find(json_data)"
   ]
  },
  {
   "cell_type": "code",
   "execution_count": 40,
   "id": "3821507e",
   "metadata": {},
   "outputs": [],
   "source": [
    "with open(\"ali_nicholas_EuSNbSe2_gemd_model_dumps/nodes.csv\", \"a\", newline=\"\") as csvfile:\n",
    "    writer = csv.writer(csvfile)\n",
    "    for n in nodes:\n",
    "        node_id = n.value['uids']['auto']\n",
    "        name = n.value['name']\n",
    "        notes = n.value['notes'] if 'notes' in n.value else \"\"\n",
    "        real_lower_bound = \"\"\n",
    "        real_upper_bound = \"\"\n",
    "        real_units = \"\"\n",
    "        real_measurements = []\n",
    "        if 'conditions' in n.value:\n",
    "            for node_condition in n.value['conditions']:\n",
    "                if node_condition['value']['type'] == 'nominal_real':\n",
    "                    real_measurements.append(node_condition['name'])\n",
    "                    real_measurements.append(node_condition['value']['nominal'])\n",
    "                    real_measurements.append(node_condition['value']['units'])\n",
    "        if 'parameters' in n.value:\n",
    "            for node_parameter in n.value['parameters']:\n",
    "                if node_parameter['value']['type'] == 'nominal_real':\n",
    "                    real_measurements.append(node_parameter['name'])\n",
    "                    real_measurements.append(node_parameter['value']['nominal'])\n",
    "                    real_measurements.append(node_parameter['value']['units'])\n",
    "        while len(real_measurements) < 18:\n",
    "            real_measurements.append(\"\")\n",
    "        real_name_1 = real_measurements[0]\n",
    "        real_value_1 = real_measurements[1]\n",
    "        real_units_1 = real_measurements[2]\n",
    "        real_name_2 = real_measurements[3]\n",
    "        real_value_2 = real_measurements[4]\n",
    "        real_units_2 = real_measurements[5]\n",
    "        real_name_3 = real_measurements[6]\n",
    "        real_value_3 = real_measurements[7]\n",
    "        real_units_3 = real_measurements[8]\n",
    "        real_name_4 = real_measurements[9]\n",
    "        real_value_4 = real_measurements[10]\n",
    "        real_units_4 = real_measurements[11]\n",
    "        real_name_5 = real_measurements[12]\n",
    "        real_value_5 = real_measurements[13]\n",
    "        real_units_5 = real_measurements[14]\n",
    "        real_name_6 = real_measurements[15]\n",
    "        real_value_6 = real_measurements[16]\n",
    "        real_units_6 = real_measurements[17]\n",
    "        description = n.value['description'] if 'description' in n.value else \"\"\n",
    "        node_type = n.value['type']\n",
    "        tags = n.value['tags'][0] if len(n.value['tags']) > 0 else \"\" \n",
    "        label = n.value['type']\n",
    "        node_value = [node_id, name, notes, real_lower_bound, real_upper_bound, real_units, real_name_1, \\\n",
    "                      real_value_1, real_units_1, real_name_2, real_value_2, real_units_2, real_name_3, \\\n",
    "                      real_value_3, real_units_3, real_name_4, real_value_4, real_units_4, real_name_5, \\\n",
    "                      real_value_5, real_units_5, real_name_6, real_value_6, real_units_6, description, \\\n",
    "                      node_type, tags, label]\n",
    "        writer.writerow(node_value)"
   ]
  },
  {
   "cell_type": "code",
   "execution_count": 41,
   "id": "ddad3758",
   "metadata": {},
   "outputs": [],
   "source": [
    "measurement_spec_expr = parse('$[?(@.type == \"measurement_spec\")]')\n",
    "nodes = measurement_spec_expr.find(json_data)"
   ]
  },
  {
   "cell_type": "code",
   "execution_count": 42,
   "id": "45c65f8c",
   "metadata": {},
   "outputs": [],
   "source": [
    "with open(\"ali_nicholas_EuSNbSe2_gemd_model_dumps/nodes.csv\", \"a\", newline=\"\") as csvfile:\n",
    "    writer = csv.writer(csvfile)\n",
    "    for n in nodes:\n",
    "        node_id = n.value['uids']['auto']\n",
    "        name = n.value['name']\n",
    "        notes = n.value['notes'] if 'notes' in n.value else \"\"\n",
    "        real_lower_bound = \"\"\n",
    "        real_upper_bound = \"\"\n",
    "        real_units = \"\"\n",
    "        real_measurements = []\n",
    "        if 'conditions' in n.value:\n",
    "            for node_condition in n.value['conditions']:\n",
    "                if node_condition['value']['type'] == 'nominal_real':\n",
    "                    real_measurements.append(node_condition['name'])\n",
    "                    real_measurements.append(node_condition['value']['nominal'])\n",
    "                    real_measurements.append(node_condition['value']['units'])\n",
    "        if 'parameters' in n.value:\n",
    "            for node_parameter in n.value['parameters']:\n",
    "                if node_parameter['value']['type'] == 'nominal_real':\n",
    "                    real_measurements.append(node_parameter['name'])\n",
    "                    real_measurements.append(node_parameter['value']['nominal'])\n",
    "                    real_measurements.append(node_parameter['value']['units'])\n",
    "        while len(real_measurements) < 18:\n",
    "            real_measurements.append(\"\")\n",
    "        real_name_1 = real_measurements[0]\n",
    "        real_value_1 = real_measurements[1]\n",
    "        real_units_1 = real_measurements[2]\n",
    "        real_name_2 = real_measurements[3]\n",
    "        real_value_2 = real_measurements[4]\n",
    "        real_units_2 = real_measurements[5]\n",
    "        real_name_3 = real_measurements[6]\n",
    "        real_value_3 = real_measurements[7]\n",
    "        real_units_3 = real_measurements[8]\n",
    "        real_name_4 = real_measurements[9]\n",
    "        real_value_4 = real_measurements[10]\n",
    "        real_units_4 = real_measurements[11]\n",
    "        real_name_5 = real_measurements[12]\n",
    "        real_value_5 = real_measurements[13]\n",
    "        real_units_5 = real_measurements[14]\n",
    "        real_name_6 = real_measurements[15]\n",
    "        real_value_6 = real_measurements[16]\n",
    "        real_units_6 = real_measurements[17]\n",
    "        description = n.value['description'] if 'description' in n.value else \"\"\n",
    "        node_type = n.value['type']\n",
    "        tags = n.value['tags'][0] if len(n.value['tags']) > 0 else \"\" \n",
    "        label = n.value['type']\n",
    "        node_value = [node_id, name, notes, real_lower_bound, real_upper_bound, real_units, real_name_1, \\\n",
    "                      real_value_1, real_units_1, real_name_2, real_value_2, real_units_2, real_name_3, \\\n",
    "                      real_value_3, real_units_3, real_name_4, real_value_4, real_units_4, real_name_5, \\\n",
    "                      real_value_5, real_units_5, real_name_6, real_value_6, real_units_6, description, \\\n",
    "                      node_type, tags, label]\n",
    "        writer.writerow(node_value)"
   ]
  },
  {
   "cell_type": "markdown",
   "id": "4b47d1eb",
   "metadata": {},
   "source": [
    "### run ###"
   ]
  },
  {
   "cell_type": "code",
   "execution_count": 43,
   "id": "76716764",
   "metadata": {},
   "outputs": [],
   "source": [
    "material_run_expr = parse('$[?(@.type == \"material_run\")]')\n",
    "nodes = material_run_expr.find(json_data)"
   ]
  },
  {
   "cell_type": "code",
   "execution_count": 44,
   "id": "8ec0e4ce",
   "metadata": {},
   "outputs": [],
   "source": [
    "with open(\"ali_nicholas_EuSNbSe2_gemd_model_dumps/nodes.csv\", \"a\", newline=\"\") as csvfile:\n",
    "    writer = csv.writer(csvfile)\n",
    "    for n in nodes:\n",
    "        node_id = n.value['uids']['auto']\n",
    "        name = n.value['name']\n",
    "        notes = n.value['notes'] if 'notes' in n.value else \"\"\n",
    "        real_lower_bound = \"\"\n",
    "        real_upper_bound = \"\"\n",
    "        real_units = \"\"\n",
    "        real_name_1 = \"\"\n",
    "        real_value_1 = \"\"\n",
    "        real_units_1 = \"\"\n",
    "        real_name_2 = \"\"\n",
    "        real_value_2 = \"\"\n",
    "        real_units_2 = \"\"\n",
    "        real_name_3 = \"\"\n",
    "        real_value_3 = \"\"\n",
    "        real_units_3 = \"\"\n",
    "        real_name_4 = \"\"\n",
    "        real_value_4 = \"\"\n",
    "        real_units_4 = \"\"\n",
    "        real_name_5 = \"\"\n",
    "        real_value_5 = \"\"\n",
    "        real_units_5 = \"\"\n",
    "        real_name_6 = \"\"\n",
    "        real_value_6 = \"\"\n",
    "        real_units_6 = \"\"\n",
    "        description = n.value['description'] if 'description' in n.value else \"\"\n",
    "        node_type = n.value['type']\n",
    "        tags = n.value['tags'][0] if len(n.value['tags']) > 0 else \"\" \n",
    "        label = n.value['type']\n",
    "        node_value = [node_id, name, notes, real_lower_bound, real_upper_bound, real_units, real_name_1, \\\n",
    "                      real_value_1, real_units_1, real_name_2, real_value_2, real_units_2, real_name_3, \\\n",
    "                      real_value_3, real_units_3, real_name_4, real_value_4, real_units_4, real_name_5, \\\n",
    "                      real_value_5, real_units_5, real_name_6, real_value_6, real_units_6, description, \\\n",
    "                      node_type, tags, label]\n",
    "        writer.writerow(node_value)"
   ]
  },
  {
   "cell_type": "code",
   "execution_count": 45,
   "id": "d7d45668",
   "metadata": {},
   "outputs": [],
   "source": [
    "ingredient_run_expr = parse('$[?(@.type == \"ingredient_run\")]')\n",
    "nodes = ingredient_run_expr.find(json_data)"
   ]
  },
  {
   "cell_type": "code",
   "execution_count": 46,
   "id": "f2d4e68b",
   "metadata": {},
   "outputs": [],
   "source": [
    "with open(\"ali_nicholas_EuSNbSe2_gemd_model_dumps/nodes.csv\", \"a\", newline=\"\") as csvfile:\n",
    "    writer = csv.writer(csvfile)\n",
    "    for n in nodes:\n",
    "        node_id = n.value['uids']['auto']\n",
    "        name = n.value['name']\n",
    "        notes = n.value['notes'] if 'notes' in n.value else \"\"\n",
    "        real_lower_bound = \"\"\n",
    "        real_upper_bound = \"\"\n",
    "        real_units = \"\"\n",
    "        real_name_1 = \"\"\n",
    "        real_value_1 = \"\"\n",
    "        real_units_1 = \"\"\n",
    "        real_name_2 = \"\"\n",
    "        real_value_2 = \"\"\n",
    "        real_units_2 = \"\"\n",
    "        real_name_3 = \"\"\n",
    "        real_value_3 = \"\"\n",
    "        real_units_3 = \"\"\n",
    "        real_name_4 = \"\"\n",
    "        real_value_4 = \"\"\n",
    "        real_units_4 = \"\"\n",
    "        real_name_5 = \"\"\n",
    "        real_value_5 = \"\"\n",
    "        real_units_5 = \"\"\n",
    "        real_name_6 = \"\"\n",
    "        real_value_6 = \"\"\n",
    "        real_units_6 = \"\"\n",
    "        description = n.value['description'] if 'description' in n.value else \"\"\n",
    "        node_type = n.value['type']\n",
    "        tags = n.value['tags'][0] if len(n.value['tags']) > 0 else \"\" \n",
    "        label = n.value['type']\n",
    "        node_value = [node_id, name, notes, real_lower_bound, real_upper_bound, real_units, real_name_1, \\\n",
    "                      real_value_1, real_units_1, real_name_2, real_value_2, real_units_2, real_name_3, \\\n",
    "                      real_value_3, real_units_3, real_name_4, real_value_4, real_units_4, real_name_5, \\\n",
    "                      real_value_5, real_units_5, real_name_6, real_value_6, real_units_6, description, \\\n",
    "                      node_type, tags, label]\n",
    "        writer.writerow(node_value)"
   ]
  },
  {
   "cell_type": "code",
   "execution_count": 47,
   "id": "d979ed64",
   "metadata": {},
   "outputs": [],
   "source": [
    "process_run_expr = parse('$[?(@.type == \"process_run\")]')\n",
    "nodes = process_run_expr.find(json_data)"
   ]
  },
  {
   "cell_type": "code",
   "execution_count": 48,
   "id": "17a7b0aa",
   "metadata": {},
   "outputs": [],
   "source": [
    "with open(\"ali_nicholas_EuSNbSe2_gemd_model_dumps/nodes.csv\", \"a\", newline=\"\") as csvfile:\n",
    "    writer = csv.writer(csvfile)\n",
    "    for n in nodes:\n",
    "        node_id = n.value['uids']['auto']\n",
    "        name = n.value['name']\n",
    "        notes = n.value['notes'] if 'notes' in n.value else \"\"\n",
    "        real_lower_bound = \"\"\n",
    "        real_upper_bound = \"\"\n",
    "        real_units = \"\"\n",
    "        real_measurements = []\n",
    "        if 'conditions' in n.value:\n",
    "            for node_condition in n.value['conditions']:\n",
    "                if node_condition['value']['type'] == 'nominal_real':\n",
    "                    real_measurements.append(node_condition['name'])\n",
    "                    real_measurements.append(node_condition['value']['nominal'])\n",
    "                    real_measurements.append(node_condition['value']['units'])\n",
    "        if 'parameters' in n.value:\n",
    "            for node_parameter in n.value['parameters']:\n",
    "                if node_parameter['value']['type'] == 'nominal_real':\n",
    "                    real_measurements.append(node_parameter['name'])\n",
    "                    real_measurements.append(node_parameter['value']['nominal'])\n",
    "                    real_measurements.append(node_parameter['value']['units'])\n",
    "        while len(real_measurements) < 18:\n",
    "            real_measurements.append(\"\")\n",
    "        real_name_1 = real_measurements[0]\n",
    "        real_value_1 = real_measurements[1]\n",
    "        real_units_1 = real_measurements[2]\n",
    "        real_name_2 = real_measurements[3]\n",
    "        real_value_2 = real_measurements[4]\n",
    "        real_units_2 = real_measurements[5]\n",
    "        real_name_3 = real_measurements[6]\n",
    "        real_value_3 = real_measurements[7]\n",
    "        real_units_3 = real_measurements[8]\n",
    "        real_name_4 = real_measurements[9]\n",
    "        real_value_4 = real_measurements[10]\n",
    "        real_units_4 = real_measurements[11]\n",
    "        real_name_5 = real_measurements[12]\n",
    "        real_value_5 = real_measurements[13]\n",
    "        real_units_5 = real_measurements[14]\n",
    "        real_name_6 = real_measurements[15]\n",
    "        real_value_6 = real_measurements[16]\n",
    "        real_units_6 = real_measurements[17]\n",
    "        description = n.value['description'] if 'description' in n.value else \"\"\n",
    "        node_type = n.value['type']\n",
    "        tags = n.value['tags'][0] if len(n.value['tags']) > 0 else \"\" \n",
    "        label = n.value['type']\n",
    "        node_value = [node_id, name, notes, real_lower_bound, real_upper_bound, real_units, real_name_1, \\\n",
    "                      real_value_1, real_units_1, real_name_2, real_value_2, real_units_2, real_name_3, \\\n",
    "                      real_value_3, real_units_3, real_name_4, real_value_4, real_units_4, real_name_5, \\\n",
    "                      real_value_5, real_units_5, real_name_6, real_value_6, real_units_6, description, \\\n",
    "                      node_type, tags, label]\n",
    "        writer.writerow(node_value)"
   ]
  },
  {
   "cell_type": "code",
   "execution_count": 49,
   "id": "5307e88d",
   "metadata": {},
   "outputs": [],
   "source": [
    "measurement_run_expr = parse('$[?(@.type == \"measurement_run\")]')\n",
    "nodes = measurement_run_expr.find(json_data)"
   ]
  },
  {
   "cell_type": "code",
   "execution_count": 50,
   "id": "bbb64dbb",
   "metadata": {},
   "outputs": [],
   "source": [
    "with open(\"ali_nicholas_EuSNbSe2_gemd_model_dumps/nodes.csv\", \"a\", newline=\"\") as csvfile:\n",
    "    writer = csv.writer(csvfile)\n",
    "    for n in nodes:\n",
    "        node_id = n.value['uids']['auto']\n",
    "        name = n.value['name']\n",
    "        notes = n.value['notes'] if 'notes' in n.value else \"\"\n",
    "        real_lower_bound = \"\"\n",
    "        real_upper_bound = \"\"\n",
    "        real_units = \"\"\n",
    "        real_measurements = []\n",
    "        if 'conditions' in n.value:\n",
    "            for node_condition in n.value['conditions']:\n",
    "                if node_condition['value']['type'] == 'nominal_real':\n",
    "                    real_measurements.append(node_condition['name'])\n",
    "                    real_measurements.append(node_condition['value']['nominal'])\n",
    "                    real_measurements.append(node_condition['value']['units'])\n",
    "        if 'parameters' in n.value:\n",
    "            for node_parameter in n.value['parameters']:\n",
    "                if node_parameter['value']['type'] == 'nominal_real':\n",
    "                    real_measurements.append(node_parameter['name'])\n",
    "                    real_measurements.append(node_parameter['value']['nominal'])\n",
    "                    real_measurements.append(node_parameter['value']['units'])\n",
    "        while len(real_measurements) < 18:\n",
    "            real_measurements.append(\"\")\n",
    "        real_name_1 = real_measurements[0]\n",
    "        real_value_1 = real_measurements[1]\n",
    "        real_units_1 = real_measurements[2]\n",
    "        real_name_2 = real_measurements[3]\n",
    "        real_value_2 = real_measurements[4]\n",
    "        real_units_2 = real_measurements[5]\n",
    "        real_name_3 = real_measurements[6]\n",
    "        real_value_3 = real_measurements[7]\n",
    "        real_units_3 = real_measurements[8]\n",
    "        real_name_4 = real_measurements[9]\n",
    "        real_value_4 = real_measurements[10]\n",
    "        real_units_4 = real_measurements[11]\n",
    "        real_name_5 = real_measurements[12]\n",
    "        real_value_5 = real_measurements[13]\n",
    "        real_units_5 = real_measurements[14]\n",
    "        real_name_6 = real_measurements[15]\n",
    "        real_value_6 = real_measurements[16]\n",
    "        real_units_6 = real_measurements[17]\n",
    "        description = n.value['description'] if 'description' in n.value else \"\"\n",
    "        node_type = n.value['type']\n",
    "        tags = n.value['tags'][0] if len(n.value['tags']) > 0 else \"\" \n",
    "        label = n.value['type']\n",
    "        node_value = [node_id, name, notes, real_lower_bound, real_upper_bound, real_units, real_name_1, \\\n",
    "                      real_value_1, real_units_1, real_name_2, real_value_2, real_units_2, real_name_3, \\\n",
    "                      real_value_3, real_units_3, real_name_4, real_value_4, real_units_4, real_name_5, \\\n",
    "                      real_value_5, real_units_5, real_name_6, real_value_6, real_units_6, description, \\\n",
    "                      node_type, tags, label]\n",
    "        writer.writerow(node_value)"
   ]
  },
  {
   "cell_type": "markdown",
   "id": "68ef29b2",
   "metadata": {},
   "source": [
    "# Edges #"
   ]
  },
  {
   "cell_type": "code",
   "execution_count": 51,
   "id": "af7d3a0e",
   "metadata": {},
   "outputs": [],
   "source": [
    "edges_header = [\":START_ID\", \":END_ID\", \":TYPE\"]\n",
    "with open(\"ali_nicholas_EuSNbSe2_gemd_model_dumps/edges_header.csv\", \"w\", newline=\"\") as csvfile:\n",
    "    writer = csv.writer(csvfile)\n",
    "    writer.writerow(edges_header)"
   ]
  },
  {
   "cell_type": "markdown",
   "id": "9ac9f338",
   "metadata": {},
   "source": [
    "### material template -> material spec ###"
   ]
  },
  {
   "cell_type": "code",
   "execution_count": 52,
   "id": "0a931e69",
   "metadata": {},
   "outputs": [],
   "source": [
    "material_template_expr = parse('$[?(@.type == \"material_spec\")]')\n",
    "nodes = material_template_expr.find(json_data)"
   ]
  },
  {
   "cell_type": "code",
   "execution_count": 53,
   "id": "f7e9616d",
   "metadata": {},
   "outputs": [],
   "source": [
    "with open(\"ali_nicholas_EuSNbSe2_gemd_model_dumps/edges.csv\", \"w\", newline=\"\") as csvfile:\n",
    "    writer = csv.writer(csvfile)\n",
    "    for n in nodes:\n",
    "        source_id = n.value['template']['id']\n",
    "        target_id = n.value['uids']['auto']\n",
    "        label = 'materialTemplate_to_materialSpec'\n",
    "        edge_value = [source_id, target_id, label]\n",
    "        writer.writerow(edge_value)"
   ]
  },
  {
   "cell_type": "markdown",
   "id": "e0289f7f",
   "metadata": {},
   "source": [
    "### property/parameter/condition template -> categorical bounds ###"
   ]
  },
  {
   "cell_type": "code",
   "execution_count": 54,
   "id": "8d68f580",
   "metadata": {},
   "outputs": [],
   "source": [
    "property_template_expr = parse('$[?(@.type == \"property_template\")]')\n",
    "nodes = property_template_expr.find(json_data)"
   ]
  },
  {
   "cell_type": "code",
   "execution_count": 55,
   "id": "8004e907",
   "metadata": {},
   "outputs": [],
   "source": [
    "with open(\"ali_nicholas_EuSNbSe2_gemd_model_dumps/edges.csv\", \"a\", newline=\"\") as csvfile:\n",
    "    writer = csv.writer(csvfile)\n",
    "    for n in nodes:\n",
    "        source_id = n.value['uids']['auto']\n",
    "        if 'categories' in n.value['bounds']:\n",
    "            for category in n.value['bounds']['categories']:\n",
    "                category_id = categoryName_to_id[category]\n",
    "                label = 'property_to_category'\n",
    "                edge_value = [source_id, category_id, label]\n",
    "                writer.writerow(edge_value)"
   ]
  },
  {
   "cell_type": "code",
   "execution_count": 56,
   "id": "6f1536f9",
   "metadata": {},
   "outputs": [],
   "source": [
    "parameter_template_expr = parse('$[?(@.type == \"parameter_template\")]')\n",
    "nodes = parameter_template_expr.find(json_data)"
   ]
  },
  {
   "cell_type": "code",
   "execution_count": 57,
   "id": "13219331",
   "metadata": {},
   "outputs": [],
   "source": [
    "with open(\"ali_nicholas_EuSNbSe2_gemd_model_dumps/edges.csv\", \"a\", newline=\"\") as csvfile:\n",
    "    writer = csv.writer(csvfile)\n",
    "    for n in nodes:\n",
    "        source_id = n.value['uids']['auto']\n",
    "        if 'categories' in n.value['bounds']:\n",
    "            for category in n.value['bounds']['categories']:\n",
    "                category_id = categoryName_to_id[category]\n",
    "                label = 'parameter_to_category'\n",
    "                edge_value = [source_id, category_id, label]\n",
    "                writer.writerow(edge_value)"
   ]
  },
  {
   "cell_type": "code",
   "execution_count": 58,
   "id": "9f28267d",
   "metadata": {},
   "outputs": [],
   "source": [
    "condition_template_expr = parse('$[?(@.type == \"condition_template\")]')\n",
    "nodes = condition_template_expr.find(json_data)"
   ]
  },
  {
   "cell_type": "code",
   "execution_count": 59,
   "id": "5480c4b9",
   "metadata": {},
   "outputs": [],
   "source": [
    "with open(\"ali_nicholas_EuSNbSe2_gemd_model_dumps/edges.csv\", \"a\", newline=\"\") as csvfile:\n",
    "    writer = csv.writer(csvfile)\n",
    "    for n in nodes:\n",
    "        source_id = n.value['uids']['auto']\n",
    "        if 'categories' in n.value['bounds']:\n",
    "            for category in n.value['bounds']['categories']:\n",
    "                category_id = categoryName_to_id[category]\n",
    "                label = 'condition_to_category'\n",
    "                edge_value = [source_id, category_id, label]\n",
    "                writer.writerow(edge_value)"
   ]
  },
  {
   "cell_type": "markdown",
   "id": "84411548",
   "metadata": {},
   "source": [
    "### material spec -> property template ###"
   ]
  },
  {
   "cell_type": "code",
   "execution_count": 60,
   "id": "f961d080",
   "metadata": {},
   "outputs": [],
   "source": [
    "material_spec_expr = parse('$[?(@.type == \"material_spec\")]')\n",
    "nodes = material_spec_expr.find(json_data)"
   ]
  },
  {
   "cell_type": "code",
   "execution_count": 61,
   "id": "199934a5",
   "metadata": {},
   "outputs": [],
   "source": [
    "with open(\"ali_nicholas_EuSNbSe2_gemd_model_dumps/edges.csv\", \"a\", newline=\"\") as csvfile:\n",
    "    writer = csv.writer(csvfile)\n",
    "    for n in nodes:\n",
    "        spec_id = n.value['uids']['auto']\n",
    "        if 'properties' in n.value:\n",
    "            for node_property in n.value['properties']:\n",
    "                property_id = node_property['property']['template']['id']\n",
    "                label = 'materialSpec_to_propertyTemplate'\n",
    "                edge_value = [spec_id, property_id, label]\n",
    "                writer.writerow(edge_value)"
   ]
  },
  {
   "cell_type": "markdown",
   "id": "5b031262",
   "metadata": {},
   "source": [
    "### categorical bounds -> ingredient spec ###"
   ]
  },
  {
   "cell_type": "code",
   "execution_count": 62,
   "id": "72dc15ad",
   "metadata": {},
   "outputs": [],
   "source": [
    "materialSpecId_to_propertyId = {}"
   ]
  },
  {
   "cell_type": "code",
   "execution_count": 63,
   "id": "5195d188",
   "metadata": {},
   "outputs": [],
   "source": [
    "material_spec_expr = parse('$[?(@.type == \"material_spec\")]')\n",
    "nodes = material_spec_expr.find(json_data)"
   ]
  },
  {
   "cell_type": "code",
   "execution_count": 64,
   "id": "b93a4ad0",
   "metadata": {},
   "outputs": [],
   "source": [
    "for n in nodes:\n",
    "    material_id = n.value['uids']['auto']\n",
    "    if 'properties' in n.value:\n",
    "        for node_property in n.value['properties']:\n",
    "            if node_property['property']['value']['type'] == 'nominal_categorical':\n",
    "                property_name = node_property['property']['value']['category']\n",
    "                category_id = categoryName_to_id[property_name]\n",
    "                materialSpecId_to_propertyId[material_id] = category_id"
   ]
  },
  {
   "cell_type": "code",
   "execution_count": 65,
   "id": "35bcce15",
   "metadata": {},
   "outputs": [],
   "source": [
    "ingredient_spec_expr = parse('$[?(@.type == \"ingredient_spec\")]')\n",
    "nodes = ingredient_spec_expr.find(json_data)"
   ]
  },
  {
   "cell_type": "code",
   "execution_count": 66,
   "id": "80a4f688",
   "metadata": {},
   "outputs": [],
   "source": [
    "with open(\"ali_nicholas_EuSNbSe2_gemd_model_dumps/edges.csv\", \"a\", newline=\"\") as csvfile:\n",
    "    writer = csv.writer(csvfile)\n",
    "    for n in nodes:\n",
    "        ingredient_id = n.value['uids']['auto']\n",
    "        material_id = n.value['material']['id']\n",
    "        category_id = materialSpecId_to_propertyId[material_id]\n",
    "        edge_value = [category_id, ingredient_id, 'category_to_ingredient']\n",
    "        writer.writerow(edge_value)"
   ]
  },
  {
   "cell_type": "markdown",
   "id": "d7537447",
   "metadata": {},
   "source": [
    "### ingredient_spec -> parameter/condition template ###"
   ]
  },
  {
   "cell_type": "code",
   "execution_count": 67,
   "id": "3cbec6d2",
   "metadata": {},
   "outputs": [],
   "source": [
    "processSpecId_to_parameterCategoryId = collections.defaultdict(list)\n",
    "processSpecId_to_conditionCategoryId = collections.defaultdict(list)\n",
    "processSpecId_to_parameterTemplateId = collections.defaultdict(list)\n",
    "processSpecId_to_conditionTemplateId = collections.defaultdict(list)"
   ]
  },
  {
   "cell_type": "code",
   "execution_count": 68,
   "id": "6be7553b",
   "metadata": {},
   "outputs": [],
   "source": [
    "process_spec_expr = parse('$[?(@.type == \"process_spec\")]')\n",
    "nodes = process_spec_expr.find(json_data)"
   ]
  },
  {
   "cell_type": "code",
   "execution_count": 69,
   "id": "c169b1db",
   "metadata": {},
   "outputs": [],
   "source": [
    "for n in nodes:\n",
    "    process_id = n.value['uids']['auto']\n",
    "    if 'conditions' in n.value:\n",
    "        for node_condition in n.value['conditions']:\n",
    "            template_id = node_condition['template']['id']\n",
    "            if node_condition['value']['type'] == 'nominal_categorical':\n",
    "                condition_name = node_condition['value']['category']\n",
    "                category_id = categoryName_to_id[condition_name]\n",
    "                if category_id not in processSpecId_to_conditionCategoryId[process_id]:\n",
    "                    processSpecId_to_conditionCategoryId[process_id].append(category_id)\n",
    "            if template_id not in processSpecId_to_conditionTemplateId[process_id]:\n",
    "                processSpecId_to_conditionTemplateId[process_id].append(template_id)\n",
    "    if 'parameters' in n.value:\n",
    "        for node_parameter in n.value['parameters']:\n",
    "            template_id = node_parameter['template']['id']\n",
    "            if node_parameter['value']['type'] == 'nominal_categorical':\n",
    "                parameter_name = node_parameter['value']['category']\n",
    "                category_id = categoryName_to_id[parameter_name]\n",
    "                if category_id not in processSpecId_to_parameterCategoryId[process_id]:\n",
    "                    processSpecId_to_parameterCategoryId[process_id].append(category_id)\n",
    "            if template_id not in processSpecId_to_parameterTemplateId[process_id]:\n",
    "                processSpecId_to_parameterTemplateId[process_id].append(template_id)"
   ]
  },
  {
   "cell_type": "code",
   "execution_count": 70,
   "id": "4f3fece5",
   "metadata": {},
   "outputs": [],
   "source": [
    "ingredient_spec_expr = parse('$[?(@.type == \"ingredient_spec\")]')\n",
    "nodes = ingredient_spec_expr.find(json_data)"
   ]
  },
  {
   "cell_type": "code",
   "execution_count": 71,
   "id": "90b7e69e",
   "metadata": {},
   "outputs": [],
   "source": [
    "with open(\"ali_nicholas_EuSNbSe2_gemd_model_dumps/edges.csv\", \"a\", newline=\"\") as csvfile:\n",
    "    writer = csv.writer(csvfile)\n",
    "    for n in nodes:\n",
    "        ingredient_id = n.value['uids']['auto']\n",
    "        process_id = n.value['process']['id']\n",
    "        for conditionTemplate_id in processSpecId_to_conditionTemplateId[process_id]:\n",
    "            edge_value = [ingredient_id, conditionTemplate_id, 'ingredientSpec_to_conditionTemplate']\n",
    "            writer.writerow(edge_value)\n",
    "        for parameterTemplate_id in processSpecId_to_parameterTemplateId[process_id]:\n",
    "            edge_value = [ingredient_id, parameterTemplate_id, 'ingredientSpec_to_parameterTemplate']\n",
    "            writer.writerow(edge_value)"
   ]
  },
  {
   "cell_type": "markdown",
   "id": "2c301fc2",
   "metadata": {},
   "source": [
    "### categorical bounds -> process spec ###"
   ]
  },
  {
   "cell_type": "code",
   "execution_count": 72,
   "id": "0cfe1477",
   "metadata": {},
   "outputs": [],
   "source": [
    "process_spec_expr = parse('$[?(@.type == \"process_spec\")]')\n",
    "nodes = process_spec_expr.find(json_data)"
   ]
  },
  {
   "cell_type": "code",
   "execution_count": 73,
   "id": "4fc3a5d7",
   "metadata": {},
   "outputs": [],
   "source": [
    "with open(\"ali_nicholas_EuSNbSe2_gemd_model_dumps/edges.csv\", \"a\", newline=\"\") as csvfile:\n",
    "    writer = csv.writer(csvfile)\n",
    "    for n in nodes:\n",
    "        process_id = n.value['uids']['auto']\n",
    "        for conditionCategoryId in processSpecId_to_conditionCategoryId[process_id]:\n",
    "            edge_value = [conditionCategoryId, process_id, 'category_to_processSpec']\n",
    "            writer.writerow(edge_value)\n",
    "        for parameterCategoryId in processSpecId_to_parameterCategoryId[process_id]:\n",
    "            edge_value = [parameterCategoryId, process_id, 'category_to_processSpec']\n",
    "            writer.writerow(edge_value)"
   ]
  },
  {
   "cell_type": "markdown",
   "id": "3e1070af",
   "metadata": {},
   "source": [
    "### process spec -> material spec ###"
   ]
  },
  {
   "cell_type": "code",
   "execution_count": 74,
   "id": "f548c34a",
   "metadata": {},
   "outputs": [],
   "source": [
    "material_spec_expr = parse('$[?(@.type == \"material_spec\")]')\n",
    "nodes = material_spec_expr.find(json_data)"
   ]
  },
  {
   "cell_type": "code",
   "execution_count": 75,
   "id": "8f174a4e",
   "metadata": {},
   "outputs": [],
   "source": [
    "with open(\"ali_nicholas_EuSNbSe2_gemd_model_dumps/edges.csv\", \"a\", newline=\"\") as csvfile:\n",
    "    writer = csv.writer(csvfile)\n",
    "    for n in nodes:\n",
    "        material_id = n.value['uids']['auto']\n",
    "        process_id = n.value['process']['id']\n",
    "        edge_value = [process_id, material_id, 'processSpec_to_materialSpec']\n",
    "        writer.writerow(edge_value)"
   ]
  },
  {
   "cell_type": "markdown",
   "id": "e3bf0496",
   "metadata": {},
   "source": [
    "### material spec -> material run ###"
   ]
  },
  {
   "cell_type": "code",
   "execution_count": 76,
   "id": "58e8d2cb",
   "metadata": {},
   "outputs": [],
   "source": [
    "material_run_expr = parse('$[?(@.type == \"material_run\")]')\n",
    "nodes = material_run_expr.find(json_data)"
   ]
  },
  {
   "cell_type": "code",
   "execution_count": 77,
   "id": "d3cdf5aa",
   "metadata": {},
   "outputs": [],
   "source": [
    "with open(\"ali_nicholas_EuSNbSe2_gemd_model_dumps/edges.csv\", \"a\", newline=\"\") as csvfile:\n",
    "    writer = csv.writer(csvfile)\n",
    "    for n in nodes:\n",
    "        run_id = n.value['uids']['auto']\n",
    "        spec_id = n.value['spec']['id']\n",
    "        edge_value = [spec_id, run_id, 'materialSpec_to_materialRun']\n",
    "        writer.writerow(edge_value)"
   ]
  },
  {
   "cell_type": "markdown",
   "id": "3d77d987",
   "metadata": {},
   "source": [
    "### process template -> process spec ###"
   ]
  },
  {
   "cell_type": "code",
   "execution_count": 78,
   "id": "f0c698d6",
   "metadata": {},
   "outputs": [],
   "source": [
    "process_spec_expr = parse('$[?(@.type == \"process_spec\")]')\n",
    "nodes = process_spec_expr.find(json_data)"
   ]
  },
  {
   "cell_type": "code",
   "execution_count": 79,
   "id": "70023d8a",
   "metadata": {},
   "outputs": [],
   "source": [
    "with open(\"ali_nicholas_EuSNbSe2_gemd_model_dumps/edges.csv\", \"a\", newline=\"\") as csvfile:\n",
    "    writer = csv.writer(csvfile)\n",
    "    for n in nodes:\n",
    "        spec_id = n.value['uids']['auto']\n",
    "        template_id = n.value['template']['id']\n",
    "        edge_value = [template_id, spec_id, 'processTemplate_to_processSpec']\n",
    "        writer.writerow(edge_value)"
   ]
  },
  {
   "cell_type": "markdown",
   "id": "90487746",
   "metadata": {},
   "source": [
    "### process spec -> process run ###"
   ]
  },
  {
   "cell_type": "code",
   "execution_count": 80,
   "id": "663ae619",
   "metadata": {},
   "outputs": [],
   "source": [
    "process_run_expr = parse('$[?(@.type == \"process_run\")]')\n",
    "nodes = process_run_expr.find(json_data)"
   ]
  },
  {
   "cell_type": "code",
   "execution_count": 81,
   "id": "8079018e",
   "metadata": {},
   "outputs": [],
   "source": [
    "with open(\"ali_nicholas_EuSNbSe2_gemd_model_dumps/edges.csv\", \"a\", newline=\"\") as csvfile:\n",
    "    writer = csv.writer(csvfile)\n",
    "    for n in nodes:\n",
    "        run_id = n.value['uids']['auto']\n",
    "        spec_id = n.value['spec']['id']\n",
    "        edge_value = [spec_id, run_id, 'processSpec_to_processRun']\n",
    "        writer.writerow(edge_value)"
   ]
  },
  {
   "cell_type": "markdown",
   "id": "ac72d45c",
   "metadata": {},
   "source": [
    "### material run -> ingredient run ###"
   ]
  },
  {
   "cell_type": "code",
   "execution_count": 82,
   "id": "e66e5ee8",
   "metadata": {},
   "outputs": [],
   "source": [
    "ingredient_run_expr = parse('$[?(@.type == \"ingredient_run\")]')\n",
    "nodes = ingredient_run_expr.find(json_data)"
   ]
  },
  {
   "cell_type": "code",
   "execution_count": 83,
   "id": "3fa55cff",
   "metadata": {},
   "outputs": [],
   "source": [
    "with open(\"ali_nicholas_EuSNbSe2_gemd_model_dumps/edges.csv\", \"a\", newline=\"\") as csvfile:\n",
    "    writer = csv.writer(csvfile)\n",
    "    for n in nodes:\n",
    "        ingredient_id = n.value['uids']['auto']\n",
    "        material_id = n.value['material']['id']\n",
    "        edge_value = [material_id, ingredient_id, 'materialRun_to_ingredientRun']\n",
    "        writer.writerow(edge_value)"
   ]
  },
  {
   "cell_type": "markdown",
   "id": "b9a8191a",
   "metadata": {},
   "source": [
    "### ingredient run -> parameter/condition template ###"
   ]
  },
  {
   "cell_type": "code",
   "execution_count": 84,
   "id": "4f6dc58c",
   "metadata": {},
   "outputs": [],
   "source": [
    "processRunId_to_parameterCategoryId = collections.defaultdict(list)\n",
    "processRunId_to_conditionCategoryId = collections.defaultdict(list)\n",
    "processRunId_to_parameterTemplateId = collections.defaultdict(list)\n",
    "processRunId_to_conditionTemplateId = collections.defaultdict(list)"
   ]
  },
  {
   "cell_type": "code",
   "execution_count": 85,
   "id": "9a90733c",
   "metadata": {},
   "outputs": [],
   "source": [
    "process_run_expr = parse('$[?(@.type == \"process_run\")]')\n",
    "nodes = process_run_expr.find(json_data)"
   ]
  },
  {
   "cell_type": "code",
   "execution_count": 86,
   "id": "4db191b8",
   "metadata": {},
   "outputs": [],
   "source": [
    "for n in nodes:\n",
    "    process_id = n.value['uids']['auto']\n",
    "    if 'conditions' in n.value:\n",
    "        for node_condition in n.value['conditions']:\n",
    "            template_id = node_condition['template']['id']\n",
    "            if node_condition['value']['type'] == 'nominal_categorical':\n",
    "                condition_name = node_condition['value']['category']\n",
    "                category_id = categoryName_to_id[condition_name]\n",
    "                if category_id not in processRunId_to_conditionCategoryId[process_id]:\n",
    "                    processRunId_to_conditionCategoryId[process_id].append(category_id)\n",
    "            if template_id not in processRunId_to_conditionTemplateId[process_id]:\n",
    "                processRunId_to_conditionTemplateId[process_id].append(template_id)\n",
    "    if 'parameters' in n.value:\n",
    "        for node_parameter in n.value['parameters']:\n",
    "            template_id = node_parameter['template']['id']\n",
    "            if node_parameter['value']['type'] == 'nominal_categorical':\n",
    "                parameter_name = node_parameter['value']['category']\n",
    "                category_id = categoryName_to_id[parameter_name]\n",
    "                if category_id not in processRunId_to_parameterCategoryId[process_id]:\n",
    "                    processRunId_to_parameterCategoryId[process_id].append(category_id)\n",
    "            if template_id not in processRunId_to_parameterTemplateId[process_id]:\n",
    "                processRunId_to_parameterTemplateId[process_id].append(template_id)"
   ]
  },
  {
   "cell_type": "code",
   "execution_count": 87,
   "id": "f310891a",
   "metadata": {},
   "outputs": [],
   "source": [
    "ingredient_run_expr = parse('$[?(@.type == \"ingredient_run\")]')\n",
    "nodes = ingredient_run_expr.find(json_data)"
   ]
  },
  {
   "cell_type": "code",
   "execution_count": 88,
   "id": "4ac89582",
   "metadata": {},
   "outputs": [],
   "source": [
    "with open(\"ali_nicholas_EuSNbSe2_gemd_model_dumps/edges.csv\", \"a\", newline=\"\") as csvfile:\n",
    "    writer = csv.writer(csvfile)\n",
    "    for n in nodes:\n",
    "        ingredient_id = n.value['uids']['auto']\n",
    "        process_id = n.value['process']['id']\n",
    "        for conditionTemplate_id in processRunId_to_conditionTemplateId[process_id]:\n",
    "            edge_value = [ingredient_id, conditionTemplate_id, 'ingredientRun_to_conditionTemplate']\n",
    "            writer.writerow(edge_value)\n",
    "        for parameterTemplate_id in processRunId_to_parameterTemplateId[process_id]:\n",
    "            edge_value = [ingredient_id, parameterTemplate_id, 'ingredientRun_to_parameterTemplate']\n",
    "            writer.writerow(edge_value)"
   ]
  },
  {
   "cell_type": "markdown",
   "id": "01eeaca4",
   "metadata": {},
   "source": [
    "### categorical bounds -> process run ###"
   ]
  },
  {
   "cell_type": "code",
   "execution_count": 89,
   "id": "eeb17a5f",
   "metadata": {},
   "outputs": [],
   "source": [
    "process_run_expr = parse('$[?(@.type == \"process_run\")]')\n",
    "nodes = process_run_expr.find(json_data)"
   ]
  },
  {
   "cell_type": "code",
   "execution_count": 90,
   "id": "5970dfc3",
   "metadata": {},
   "outputs": [],
   "source": [
    "with open(\"ali_nicholas_EuSNbSe2_gemd_model_dumps/edges.csv\", \"a\", newline=\"\") as csvfile:\n",
    "    writer = csv.writer(csvfile)\n",
    "    for n in nodes:\n",
    "        process_id = n.value['uids']['auto']\n",
    "        for conditionCategoryId in processRunId_to_conditionCategoryId[process_id]:\n",
    "            edge_value = [conditionCategoryId, process_id, 'category_to_processRun']\n",
    "            writer.writerow(edge_value)\n",
    "        for parameterCategoryId in processRunId_to_parameterCategoryId[process_id]:\n",
    "            edge_value = [parameterCategoryId, process_id, 'category_to_processRun']\n",
    "            writer.writerow(edge_value)"
   ]
  },
  {
   "cell_type": "markdown",
   "id": "7dffd0db",
   "metadata": {},
   "source": [
    "### process run -> material run ###"
   ]
  },
  {
   "cell_type": "code",
   "execution_count": 91,
   "id": "e12bb5d2",
   "metadata": {},
   "outputs": [],
   "source": [
    "material_run_expr = parse('$[?(@.type == \"material_run\")]')\n",
    "nodes = material_run_expr.find(json_data)"
   ]
  },
  {
   "cell_type": "code",
   "execution_count": 92,
   "id": "2edf0b63",
   "metadata": {},
   "outputs": [],
   "source": [
    "with open(\"ali_nicholas_EuSNbSe2_gemd_model_dumps/edges.csv\", \"a\", newline=\"\") as csvfile:\n",
    "    writer = csv.writer(csvfile)\n",
    "    for n in nodes:\n",
    "        material_id = n.value['uids']['auto']\n",
    "        process_id = n.value['process']['id']\n",
    "        edge_value = [process_id, material_id, 'processRun_to_materialRun']\n",
    "        writer.writerow(edge_value)"
   ]
  },
  {
   "cell_type": "markdown",
   "id": "325fece4",
   "metadata": {},
   "source": [
    "### measurement template -> measurement spec ###"
   ]
  },
  {
   "cell_type": "code",
   "execution_count": 93,
   "id": "7807f7f0",
   "metadata": {},
   "outputs": [],
   "source": [
    "measurement_spec_expr = parse('$[?(@.type == \"measurement_spec\")]')\n",
    "nodes = measurement_spec_expr.find(json_data)"
   ]
  },
  {
   "cell_type": "code",
   "execution_count": 94,
   "id": "e8f76217",
   "metadata": {},
   "outputs": [],
   "source": [
    "with open(\"ali_nicholas_EuSNbSe2_gemd_model_dumps/edges.csv\", \"a\", newline=\"\") as csvfile:\n",
    "    writer = csv.writer(csvfile)\n",
    "    for n in nodes:\n",
    "        spec_id = n.value['uids']['auto']\n",
    "        template_id = n.value['template']['id']\n",
    "        edge_value = [template_id, spec_id, 'measurementTemplate_to_measurementSpec']\n",
    "        writer.writerow(edge_value)"
   ]
  },
  {
   "cell_type": "markdown",
   "id": "7400177f",
   "metadata": {},
   "source": [
    "### measurement spec -> measurement run ###"
   ]
  },
  {
   "cell_type": "code",
   "execution_count": 95,
   "id": "7d04d519",
   "metadata": {},
   "outputs": [],
   "source": [
    "measurement_run_expr = parse('$[?(@.type == \"measurement_run\")]')\n",
    "nodes = measurement_run_expr.find(json_data)"
   ]
  },
  {
   "cell_type": "code",
   "execution_count": 96,
   "id": "587e9b07",
   "metadata": {},
   "outputs": [],
   "source": [
    "with open(\"ali_nicholas_EuSNbSe2_gemd_model_dumps/edges.csv\", \"a\", newline=\"\") as csvfile:\n",
    "    writer = csv.writer(csvfile)\n",
    "    for n in nodes:\n",
    "        run_id = n.value['uids']['auto']\n",
    "        spec_id = n.value['spec']['id']\n",
    "        edge_value = [spec_id, run_id, 'measurementSpec_to_measurementRun']\n",
    "        writer.writerow(edge_value)"
   ]
  },
  {
   "cell_type": "markdown",
   "id": "68b8c254",
   "metadata": {},
   "source": [
    "### measurement run -> parameter/condition template ###"
   ]
  },
  {
   "cell_type": "code",
   "execution_count": 97,
   "id": "c3cac221",
   "metadata": {},
   "outputs": [],
   "source": [
    "measurementRunId_to_parameterCategoryId = collections.defaultdict(list)\n",
    "measurementRunId_to_conditionCategoryId = collections.defaultdict(list)\n",
    "measurementRunId_to_parameterTemplateId = collections.defaultdict(list)\n",
    "measurementRunId_to_conditionTemplateId = collections.defaultdict(list)"
   ]
  },
  {
   "cell_type": "code",
   "execution_count": 98,
   "id": "abebf07e",
   "metadata": {},
   "outputs": [],
   "source": [
    "measurement_run_expr = parse('$[?(@.type == \"measurement_run\")]')\n",
    "nodes = measurement_run_expr.find(json_data)"
   ]
  },
  {
   "cell_type": "code",
   "execution_count": 99,
   "id": "87d86266",
   "metadata": {},
   "outputs": [],
   "source": [
    "for n in nodes:\n",
    "    measurement_id = n.value['uids']['auto']\n",
    "    if 'conditions' in n.value:\n",
    "        for node_condition in n.value['conditions']:\n",
    "            template_id = node_condition['template']['id']\n",
    "            if node_condition['value']['type'] == 'nominal_categorical':\n",
    "                condition_name = node_condition['value']['category']\n",
    "                category_id = categoryName_to_id[condition_name]\n",
    "                if category_id not in measurementRunId_to_conditionCategoryId[measurement_id]:\n",
    "                    measurementRunId_to_conditionCategoryId[measurement_id].append(category_id)\n",
    "            if template_id not in measurementRunId_to_conditionTemplateId[measurement_id]:\n",
    "                measurementRunId_to_conditionTemplateId[measurement_id].append(template_id)\n",
    "    if 'parameters' in n.value:\n",
    "        for node_parameter in n.value['parameters']:\n",
    "            template_id = node_parameter['template']['id']\n",
    "            if node_parameter['value']['type'] == 'nominal_categorical':\n",
    "                parameter_name = node_parameter['value']['category']\n",
    "                category_id = categoryName_to_id[parameter_name]\n",
    "                if category_id not in measurementRunId_to_parameterCategoryId[measurement_id]:\n",
    "                    measurementRunId_to_parameterCategoryId[measurement_id].append(category_id)\n",
    "            if template_id not in measurementRunId_to_parameterTemplateId[measurement_id]:\n",
    "                measurementRunId_to_parameterTemplateId[measurement_id].append(template_id)"
   ]
  },
  {
   "cell_type": "code",
   "execution_count": 105,
   "id": "b43773ff",
   "metadata": {},
   "outputs": [],
   "source": [
    "measurement_run_expr = parse('$[?(@.type == \"measurement_run\")]')\n",
    "nodes = measurement_run_expr.find(json_data)"
   ]
  },
  {
   "cell_type": "code",
   "execution_count": 106,
   "id": "39aab5e2",
   "metadata": {},
   "outputs": [],
   "source": [
    "with open(\"ali_nicholas_EuSNbSe2_gemd_model_dumps/edges.csv\", \"a\", newline=\"\") as csvfile:\n",
    "    writer = csv.writer(csvfile)\n",
    "    for n in nodes:\n",
    "        measurement_id = n.value['uids']['auto']\n",
    "        for conditionTemplate_id in processRunId_to_conditionTemplateId[process_id]:\n",
    "            edge_value = [measurement_id, conditionTemplate_id, 'measurementRun_to_conditionTemplate']\n",
    "            writer.writerow(edge_value)\n",
    "        for parameterTemplate_id in processRunId_to_parameterTemplateId[process_id]:\n",
    "            edge_value = [measurement_id, parameterTemplate_id, 'measurementRun_to_parameterTemplate']\n",
    "            writer.writerow(edge_value)"
   ]
  },
  {
   "cell_type": "code",
   "execution_count": 107,
   "id": "f2ce28eb",
   "metadata": {},
   "outputs": [],
   "source": [
    "with open(\"ali_nicholas_EuSNbSe2_gemd_model_dumps/edges.csv\", \"a\", newline=\"\") as csvfile:\n",
    "    writer = csv.writer(csvfile)\n",
    "    for n in nodes:\n",
    "        material_id = n.value['material']['id']\n",
    "        for conditionCategoryId in processRunId_to_conditionCategoryId[process_id]:\n",
    "            edge_value = [conditionCategoryId, material_id, 'category_to_materialRun']\n",
    "            writer.writerow(edge_value)\n",
    "        for parameterCategoryId in processRunId_to_parameterCategoryId[process_id]:\n",
    "            edge_value = [parameterCategoryId, material_id, 'category_to_materialRun']\n",
    "            writer.writerow(edge_value)"
   ]
  }
 ],
 "metadata": {
  "kernelspec": {
   "display_name": "Python 3 (ipykernel)",
   "language": "python",
   "name": "python3"
  },
  "language_info": {
   "codemirror_mode": {
    "name": "ipython",
    "version": 3
   },
   "file_extension": ".py",
   "mimetype": "text/x-python",
   "name": "python",
   "nbconvert_exporter": "python",
   "pygments_lexer": "ipython3",
   "version": "3.10.9"
  }
 },
 "nbformat": 4,
 "nbformat_minor": 5
}
