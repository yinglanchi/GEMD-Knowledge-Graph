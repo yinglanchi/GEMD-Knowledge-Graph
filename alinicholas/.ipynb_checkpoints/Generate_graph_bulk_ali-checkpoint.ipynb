{
 "cells": [
  {
   "cell_type": "code",
   "execution_count": 1,
   "id": "9f3ff7af",
   "metadata": {},
   "outputs": [],
   "source": [
    "import json\n",
    "import csv\n",
    "from jsonpath_ng.ext import parse\n",
    "import collections\n",
    "import os"
   ]
  },
  {
   "cell_type": "code",
   "execution_count": 2,
   "id": "7eb712ce",
   "metadata": {},
   "outputs": [
    {
     "name": "stdout",
     "output_type": "stream",
     "text": [
      "skipping\n",
      "skipping\n",
      "skipping\n",
      "skipping\n",
      "skipping\n"
     ]
    }
   ],
   "source": [
    "directory_path = \"ali_nicholas_EuSNbSe2_gemd_model_dumps\"\n",
    "json_data = []\n",
    "for filename in os.listdir(directory_path):\n",
    "    file_path = os.path.join(directory_path, filename)\n",
    "    try:\n",
    "        with open(file_path, encoding='utf-8') as file:\n",
    "            json_data.append(json.load(file))\n",
    "    except:\n",
    "        print(\"skipping\")"
   ]
  },
  {
   "cell_type": "markdown",
   "id": "03522dee",
   "metadata": {},
   "source": [
    "1. match queries and keyword queries\n",
    "2. soren, lasershock, ali"
   ]
  },
  {
   "cell_type": "markdown",
   "id": "ebd01286",
   "metadata": {},
   "source": [
    "# Nodes #"
   ]
  },
  {
   "cell_type": "markdown",
   "id": "a2836ddf",
   "metadata": {},
   "source": [
    "## Header ##"
   ]
  },
  {
   "cell_type": "code",
   "execution_count": 3,
   "id": "c73dd041",
   "metadata": {},
   "outputs": [],
   "source": [
    "nodes_header = [\"node_id:ID\", \"name\", \"notes\", \"real_lower_bound\", \"real_upper_bound\", \"real_units\", \"real_name_sub\", \\\n",
    "                \"real_value_sub\",\"real_units_sub\", \"description\", \"type\", \"tags\", \"sample_type\", \"mass_fraction\", \\\n",
    "                \"number_fraction\", \"volume_fraction\", \"source_performed_by\", \"source_performed_date\", \"source_type\", \\\n",
    "                \"absolute_quantity_lower_bound\", \"absolute_quantity_type\", \"absolute_quantity_units\", \\\n",
    "                \"absolute_quantity_upper_bound\", \"absolute_nominal\", \"allowed_labels\", \"allowed_names\", \"file_links\", \\\n",
    "                \":LABEL\"]\n",
    "\n",
    "with open(\"ali_nicholas_EuSNbSe2_gemd_model_dumps/nodes_header.csv\", \"w\", newline=\"\") as csvfile:\n",
    "    writer = csv.writer(csvfile)\n",
    "    writer.writerow(nodes_header)"
   ]
  },
  {
   "cell_type": "markdown",
   "id": "dee1b859",
   "metadata": {},
   "source": [
    "## Template, Spec, Run ##"
   ]
  },
  {
   "cell_type": "code",
   "execution_count": 4,
   "id": "58457f6b",
   "metadata": {},
   "outputs": [],
   "source": [
    "node_ids = set()\n",
    "with open(\"ali_nicholas_EuSNbSe2_gemd_model_dumps/nodes.csv\", \"w\", newline=\"\") as csvfile:\n",
    "    writer = csv.writer(csvfile)\n",
    "    writer.writerow([\"doi\", \"root\", \"\", \"\", \"\", \"\", \"\", \"\",\"\", \"\", \"root\", \"\", \"\", \"\", \\\n",
    "                \"\", \"\", \"\", \"\", \"\", \"\", \"\", \"\", \"\", \"\", \"\", \"\", \"\", \"root\"])"
   ]
  },
  {
   "cell_type": "markdown",
   "id": "6a95444f",
   "metadata": {},
   "source": [
    "### Template ###"
   ]
  },
  {
   "cell_type": "code",
   "execution_count": 5,
   "id": "a882d967",
   "metadata": {},
   "outputs": [],
   "source": [
    "# material_template, process_template, measurement_template\n",
    "def template_nodes_generator_1(nodes):\n",
    "    with open(\"ali_nicholas_EuSNbSe2_gemd_model_dumps/nodes.csv\", \"a\", newline=\"\") as csvfile:\n",
    "        writer = csv.writer(csvfile)\n",
    "        for n in nodes:\n",
    "            node_id = n.value['uids']['auto']\n",
    "            if node_id in node_ids: continue\n",
    "            node_ids.add(node_id)\n",
    "            name = n.value['name']\n",
    "            notes = n.value['notes'] if 'notes' in n.value else \"\"\n",
    "            real_lower_bound = \"\"\n",
    "            real_upper_bound = \"\"\n",
    "            real_units = \"\"\n",
    "            real_name_sub = []\n",
    "            real_value_sub = []\n",
    "            real_units_sub = []\n",
    "            description = n.value['description'] if 'description' in n.value else \"\"\n",
    "            node_type = n.value['type']\n",
    "            tags = n.value['tags'] if 'tags' in n.value else []\n",
    "            sample_type = n.value['sample_type'] if 'sample_type' in n.value else \"\"\n",
    "            mass_fraction = n.value['mass_fraction'] if 'mass_fraction' in n.value else \"\"\n",
    "            number_fraction = n.value['number_fraction'] if 'number_fraction' in n.value else \"\"\n",
    "            volume_fraction = n.value['volume_fraction'] if 'volume_fraction' in n.value else \"\"\n",
    "            source_performed_by = n.value['source']['performed_by'] if 'source' in n.value else \"\"\n",
    "            source_performed_date = n.value['source']['performed_date'] if 'source' in n.value else \"\"\n",
    "            source_type = n.value['source']['type'] if 'source' in n.value else \"\"\n",
    "            absolute_quantity_lower_bound = n.value['absolute_quantity']['lower_bound'] if 'absolute_quantity' in n.value \\\n",
    "                                            and 'lower_bound' in n.value['absolute_quantity'] else \"\"\n",
    "            absolute_quantity_type = n.value['absolute_quantity']['type'] if 'absolute_quantity' in n.value \\\n",
    "                                     and 'type' in n.value['absolute_quantity'] else \"\"\n",
    "            absolute_quantity_units = n.value['absolute_quantity']['units'] if 'absolute_quantity' in n.value \\\n",
    "                                      and 'units' in n.value['absolute_quantity'] else \"\"\n",
    "            absolute_quantity_upper_bound = n.value['absolute_quantity']['upper_bound'] if 'absolute_quantity' in n.value \\\n",
    "                                            and 'upper_bound' in n.value['absolute_quantity'] else \"\"\n",
    "            absolute_quantity_nominal = n.value['absolute_quantity']['nominal'] if 'absolute_quantity' in n.value \\\n",
    "                                        and 'nominal' in n.value['absolute_quantity'] else \"\"\n",
    "            allowed_labels = n.value['allowed_labels'] if 'allowed_labels' in n.value else \"\"\n",
    "            allowed_names = n.value['allowed_names'] if 'allowed_names' in n.value else \"\"\n",
    "            file_links = n.value['file_links'] if 'file_links' in n.value else \"\"\n",
    "            label = n.value['type']\n",
    "            node_value = [node_id, name, notes, real_lower_bound, real_upper_bound, real_units, real_name_sub, \\\n",
    "                      real_value_sub, real_units_sub, description, node_type, tags, sample_type, mass_fraction, \\\n",
    "                      number_fraction, volume_fraction, source_performed_by, source_performed_date, source_type, \\\n",
    "                      absolute_quantity_lower_bound, absolute_quantity_type, absolute_quantity_units, \\\n",
    "                      absolute_quantity_upper_bound, absolute_quantity_nominal, allowed_labels, \\\n",
    "                      allowed_names, file_links, label]\n",
    "            writer.writerow(node_value)"
   ]
  },
  {
   "cell_type": "code",
   "execution_count": 6,
   "id": "5c68e825",
   "metadata": {},
   "outputs": [],
   "source": [
    "# parameter/condition/property template\n",
    "def template_nodes_generator_2(nodes):\n",
    "    with open(\"ali_nicholas_EuSNbSe2_gemd_model_dumps/nodes.csv\", \"a\", newline=\"\") as csvfile:\n",
    "        writer = csv.writer(csvfile)\n",
    "        for n in nodes:\n",
    "            node_id = n.value['uids']['auto']\n",
    "            if node_id in node_ids: continue\n",
    "            node_ids.add(node_id)\n",
    "            name = n.value['name']\n",
    "            notes = n.value['notes'] if 'notes' in n.value else \"\"\n",
    "            real_lower_bound = n.value['bounds']['lower_bound'] if ('bounds' in n.value and n.value['bounds']['type'] == 'real_bounds') else \"\"\n",
    "            real_upper_bound = n.value['bounds']['upper_bound'] if ('bounds' in n.value and n.value['bounds']['type'] == 'real_bounds') else \"\"\n",
    "            real_units = n.value['bounds']['default_units'] if ('bounds' in n.value and n.value['bounds']['type'] == 'real_bounds') else \"\"\n",
    "            real_name_sub = []\n",
    "            real_value_sub = []\n",
    "            real_units_sub = []\n",
    "            description = n.value['description'] if 'description' in n.value else \"\"\n",
    "            node_type = n.value['type']\n",
    "            tags = n.value['tags'] if 'tags' in n.value else []  \n",
    "            sample_type = n.value['sample_type'] if 'sample_type' in n.value else \"\"\n",
    "            mass_fraction = n.value['mass_fraction'] if 'mass_fraction' in n.value else \"\"\n",
    "            number_fraction = n.value['number_fraction'] if 'number_fraction' in n.value else \"\"\n",
    "            volume_fraction = n.value['volume_fraction'] if 'volume_fraction' in n.value else \"\"\n",
    "            source_performed_by = n.value['source']['performed_by'] if 'source' in n.value else \"\"\n",
    "            source_performed_date = n.value['source']['performed_date'] if 'source' in n.value else \"\"\n",
    "            source_type = n.value['source']['type'] if 'source' in n.value else \"\"\n",
    "            absolute_quantity_lower_bound = n.value['absolute_quantity']['lower_bound'] if 'absolute_quantity' in n.value \\\n",
    "                                            and 'lower_bound' in n.value['absolute_quantity'] else \"\"\n",
    "            absolute_quantity_type = n.value['absolute_quantity']['type'] if 'absolute_quantity' in n.value \\\n",
    "                                     and 'type' in n.value['absolute_quantity'] else \"\"\n",
    "            absolute_quantity_units = n.value['absolute_quantity']['units'] if 'absolute_quantity' in n.value \\\n",
    "                                      and 'units' in n.value['absolute_quantity'] else \"\"\n",
    "            absolute_quantity_upper_bound = n.value['absolute_quantity']['upper_bound'] if 'absolute_quantity' in n.value \\\n",
    "                                            and 'upper_bound' in n.value['absolute_quantity'] else \"\"\n",
    "            absolute_quantity_nominal = n.value['absolute_quantity']['nominal'] if 'absolute_quantity' in n.value \\\n",
    "                                        and 'nominal' in n.value['absolute_quantity'] else \"\"\n",
    "            allowed_labels = n.value['allowed_labels'] if 'allowed_labels' in n.value else \"\"\n",
    "            allowed_names = n.value['allowed_names'] if 'allowed_names' in n.value else \"\"\n",
    "            file_links = n.value['file_links'] if 'file_links' in n.value else \"\"\n",
    "            label = n.value['type']\n",
    "            node_value = [node_id, name, notes, real_lower_bound, real_upper_bound, real_units, real_name_sub, \\\n",
    "                      real_value_sub, real_units_sub, description, node_type, tags, sample_type, mass_fraction, \\\n",
    "                      number_fraction, volume_fraction, source_performed_by, source_performed_date, source_type, \\\n",
    "                      absolute_quantity_lower_bound, absolute_quantity_type, absolute_quantity_units, \\\n",
    "                      absolute_quantity_upper_bound, absolute_quantity_nominal, allowed_labels, \\\n",
    "                      allowed_names, file_links, label]\n",
    "            writer.writerow(node_value)"
   ]
  },
  {
   "cell_type": "code",
   "execution_count": 7,
   "id": "54d9e804",
   "metadata": {},
   "outputs": [],
   "source": [
    "materal_template_expr = parse('$[?(@.type == \"material_template\")]')\n",
    "nodes = materal_template_expr.find(json_data)\n",
    "template_nodes_generator_1(nodes)"
   ]
  },
  {
   "cell_type": "code",
   "execution_count": 8,
   "id": "21cfd83e",
   "metadata": {},
   "outputs": [],
   "source": [
    "process_template_expr = parse('$[?(@.type == \"process_template\")]')\n",
    "nodes = process_template_expr.find(json_data)\n",
    "template_nodes_generator_1(nodes)"
   ]
  },
  {
   "cell_type": "code",
   "execution_count": 9,
   "id": "a9be3a80",
   "metadata": {},
   "outputs": [],
   "source": [
    "measurement_template_expr = parse('$[?(@.type == \"measurement_template\")]')\n",
    "nodes = measurement_template_expr.find(json_data)\n",
    "template_nodes_generator_1(nodes)"
   ]
  },
  {
   "cell_type": "code",
   "execution_count": 10,
   "id": "bd31db8b",
   "metadata": {},
   "outputs": [],
   "source": [
    "parameter_template_expr = parse('$[?(@.type == \"parameter_template\")]')\n",
    "nodes = parameter_template_expr.find(json_data)\n",
    "template_nodes_generator_2(nodes)"
   ]
  },
  {
   "cell_type": "code",
   "execution_count": 11,
   "id": "37dc4a26",
   "metadata": {},
   "outputs": [],
   "source": [
    "property_template_expr = parse('$[?(@.type == \"property_template\")]')\n",
    "nodes = property_template_expr.find(json_data)\n",
    "template_nodes_generator_2(nodes)"
   ]
  },
  {
   "cell_type": "code",
   "execution_count": 12,
   "id": "95d0a183",
   "metadata": {},
   "outputs": [],
   "source": [
    "condition_template_expr = parse('$[?(@.type == \"condition_template\")]')\n",
    "nodes = condition_template_expr.find(json_data)\n",
    "template_nodes_generator_2(nodes)"
   ]
  },
  {
   "cell_type": "markdown",
   "id": "37c558c3",
   "metadata": {},
   "source": [
    "### Categorical Bounds ###"
   ]
  },
  {
   "cell_type": "code",
   "execution_count": 13,
   "id": "960dfd1b",
   "metadata": {},
   "outputs": [],
   "source": [
    "i = 0\n",
    "categoryName_to_id = {}"
   ]
  },
  {
   "cell_type": "code",
   "execution_count": 14,
   "id": "2e246a95",
   "metadata": {},
   "outputs": [],
   "source": [
    "def categorical_nodes_generator(i, nodes):\n",
    "    with open(\"ali_nicholas_EuSNbSe2_gemd_model_dumps/nodes.csv\", \"a\", newline=\"\") as csvfile:\n",
    "        writer = csv.writer(csvfile)\n",
    "        for n in nodes:\n",
    "            if 'bounds' in n.value and n.value['bounds']['type'] == 'categorical_bounds':\n",
    "                for j in range(len(n.value['bounds']['categories'])):\n",
    "                    node_id = \"categorical_bounds \" + str(i)\n",
    "                    name = n.value['bounds']['categories'][j]\n",
    "                    if name in categoryName_to_id: continue\n",
    "                    categoryName_to_id[name] = node_id\n",
    "                    notes = \"\"\n",
    "                    real_lower_bound = \"\"\n",
    "                    real_upper_bound = \"\"\n",
    "                    real_units = \"\"\n",
    "                    real_name_sub = []\n",
    "                    real_value_sub = []\n",
    "                    real_units_sub = []\n",
    "                    description = \"\"\n",
    "                    node_type = 'categorical_bounds'\n",
    "                    tags = []\n",
    "                    sample_type = \"\"\n",
    "                    mass_fraction = \"\"\n",
    "                    number_fraction = \"\"\n",
    "                    volume_fraction = \"\"\n",
    "                    source_performed_by = \"\"\n",
    "                    source_performed_date = \"\"\n",
    "                    source_type = \"\"\n",
    "                    absolute_quantity_lower_bound = \"\"\n",
    "                    absolute_quantity_type = \"\"\n",
    "                    absolute_quantity_units = \"\"\n",
    "                    absolute_quantity_upper_bound = \"\"\n",
    "                    absolute_quantity_nominal = \"\"\n",
    "                    allowed_labels = \"\"\n",
    "                    allowed_names = \"\"\n",
    "                    file_links = \"\"\n",
    "                    label = 'categorical_bounds'\n",
    "                    node_value = [node_id, name, notes, real_lower_bound, real_upper_bound, real_units, real_name_sub, \\\n",
    "                      real_value_sub, real_units_sub, description, node_type, tags, sample_type, mass_fraction, \\\n",
    "                      number_fraction, volume_fraction, source_performed_by, source_performed_date, source_type, \\\n",
    "                      absolute_quantity_lower_bound, absolute_quantity_type, absolute_quantity_units, \\\n",
    "                      absolute_quantity_upper_bound, absolute_quantity_nominal, allowed_labels, \\\n",
    "                      allowed_names, file_links, label]\n",
    "                    writer.writerow(node_value)\n",
    "                    i += 1\n",
    "    return i"
   ]
  },
  {
   "cell_type": "code",
   "execution_count": 15,
   "id": "66a03857",
   "metadata": {},
   "outputs": [],
   "source": [
    "parameter_template_expr = parse('$[?(@.type == \"parameter_template\")]')\n",
    "nodes = parameter_template_expr.find(json_data)\n",
    "i = categorical_nodes_generator(i, nodes)"
   ]
  },
  {
   "cell_type": "code",
   "execution_count": 16,
   "id": "0fdbbb9c",
   "metadata": {},
   "outputs": [],
   "source": [
    "property_template_expr = parse('$[?(@.type == \"property_template\")]')\n",
    "nodes = property_template_expr.find(json_data)\n",
    "i = categorical_nodes_generator(i, nodes)"
   ]
  },
  {
   "cell_type": "code",
   "execution_count": 17,
   "id": "479ba91f",
   "metadata": {},
   "outputs": [],
   "source": [
    "condition_template_expr = parse('$[?(@.type == \"condition_template\")]')\n",
    "nodes = condition_template_expr.find(json_data)\n",
    "i = categorical_nodes_generator(i, nodes)"
   ]
  },
  {
   "cell_type": "code",
   "execution_count": 18,
   "id": "1d4cf898",
   "metadata": {},
   "outputs": [
    {
     "data": {
      "text/plain": [
       "{'Alfa Aesar': 'categorical_bounds 0',\n",
       " 'Thermo Scientific': 'categorical_bounds 1',\n",
       " 'Yeemeida Technology Co. LTD': 'categorical_bounds 2',\n",
       " 'Mortar and Pestle': 'categorical_bounds 3',\n",
       " 'Nichrome Wire': 'categorical_bounds 4',\n",
       " 'Pellet Press Set': 'categorical_bounds 5',\n",
       " 'Quartz Tube': 'categorical_bounds 6',\n",
       " 'Quartz Wool': 'categorical_bounds 7',\n",
       " 'Thermocouple': 'categorical_bounds 8',\n",
       " 'Tongs': 'categorical_bounds 9',\n",
       " 'Torch': 'categorical_bounds 10',\n",
       " 'Tube Sealing Station': 'categorical_bounds 11',\n",
       " 'R04D028': 'categorical_bounds 12',\n",
       " 'R10H008': 'categorical_bounds 13',\n",
       " 'W19F006': 'categorical_bounds 14',\n",
       " 'X17C007': 'categorical_bounds 15',\n",
       " 'Amorphous': 'categorical_bounds 16',\n",
       " 'Chunk': 'categorical_bounds 17',\n",
       " 'Chunk and Powder': 'categorical_bounds 18',\n",
       " 'Crystal': 'categorical_bounds 19',\n",
       " 'Ingot': 'categorical_bounds 20',\n",
       " 'Pellet': 'categorical_bounds 21',\n",
       " 'Pieces': 'categorical_bounds 22',\n",
       " 'Powder': 'categorical_bounds 23',\n",
       " 'Powder -325 mesh': 'categorical_bounds 24',\n",
       " 'Solid': 'categorical_bounds 25',\n",
       " 'resublimed crystals': 'categorical_bounds 26',\n",
       " 'Air': 'categorical_bounds 27',\n",
       " 'Inner Atmosphere Glovebox': 'categorical_bounds 28',\n",
       " 'Bucket': 'categorical_bounds 29',\n",
       " 'Purification Tube Furnace': 'categorical_bounds 30',\n",
       " 'Synthesis Tube Furnace': 'categorical_bounds 31',\n",
       " 'Three Zones Tube Furnace': 'categorical_bounds 32',\n",
       " 'X-Ray Diffraction Panel': 'categorical_bounds 33'}"
      ]
     },
     "execution_count": 18,
     "metadata": {},
     "output_type": "execute_result"
    }
   ],
   "source": [
    "categoryName_to_id"
   ]
  },
  {
   "cell_type": "markdown",
   "id": "c2aaaf56",
   "metadata": {},
   "source": [
    "### Spec ###"
   ]
  },
  {
   "cell_type": "code",
   "execution_count": 19,
   "id": "03e08691",
   "metadata": {},
   "outputs": [],
   "source": [
    "def spec_nodes_generator(nodes):\n",
    "    with open(\"ali_nicholas_EuSNbSe2_gemd_model_dumps/nodes.csv\", \"a\", newline=\"\") as csvfile:\n",
    "        writer = csv.writer(csvfile)\n",
    "        for n in nodes:\n",
    "            node_id = n.value['uids']['auto']\n",
    "            if node_id in node_ids: continue\n",
    "            node_ids.add(node_id)\n",
    "            name = n.value['name']\n",
    "            notes = n.value['notes'] if 'notes' in n.value else \"\"\n",
    "            real_lower_bound = \"\"\n",
    "            real_upper_bound = \"\"\n",
    "            real_units = \"\"\n",
    "            real_name_sub = []\n",
    "            real_value_sub = []\n",
    "            real_units_sub = []\n",
    "            if 'properties' in n.value:\n",
    "                for node_property in n.value['properties']:\n",
    "                    if node_property['property']['value']['type'] == 'nominal_real':\n",
    "                        real_name_sub.append(node_property['property']['name'])\n",
    "                        real_value_sub.append(node_property['property']['value']['nominal'])\n",
    "                        real_units_sub.append(node_property['property']['value']['units'])\n",
    "            if 'conditions' in n.value:\n",
    "                for node_condition in n.value['conditions']:\n",
    "                    if node_condition['value']['type'] == 'nominal_real':\n",
    "                        real_name_sub.append(node_condition['name'])\n",
    "                        real_value_sub.append(node_condition['value']['nominal'])\n",
    "                        real_units_sub.append(node_condition['value']['units'])\n",
    "            if 'parameters' in n.value:\n",
    "                for node_parameter in n.value['parameters']:\n",
    "                    if node_parameter['value']['type'] == 'nominal_real':\n",
    "                        real_name_sub.append(node_parameter['name'])\n",
    "                        real_value_sub.append(node_parameter['value']['nominal'])\n",
    "                        real_units_sub.append(node_parameter['value']['units'])\n",
    "            description = n.value['description'] if 'description' in n.value else \"\"\n",
    "            node_type = n.value['type']\n",
    "            tags = n.value['tags'] if 'tags' in n.value else [] \n",
    "            sample_type = n.value['sample_type'] if 'sample_type' in n.value else \"\"\n",
    "            mass_fraction = n.value['mass_fraction'] if 'mass_fraction' in n.value else \"\"\n",
    "            number_fraction = n.value['number_fraction'] if 'number_fraction' in n.value else \"\"\n",
    "            volume_fraction = n.value['volume_fraction'] if 'volume_fraction' in n.value else \"\"\n",
    "            source_performed_by = n.value['source']['performed_by'] if 'source' in n.value else \"\"\n",
    "            source_performed_date = n.value['source']['performed_date'] if 'source' in n.value else \"\"\n",
    "            source_type = n.value['source']['type'] if 'source' in n.value else \"\"\n",
    "            absolute_quantity_lower_bound = n.value['absolute_quantity']['lower_bound'] if 'absolute_quantity' in n.value \\\n",
    "                                            and n.value['absolute_quantity'] and 'lower_bound' in n.value['absolute_quantity'] \\\n",
    "                                            else \"\"\n",
    "            absolute_quantity_lower_bound = n.value['absolute_quantity']['lower_bound'] if 'absolute_quantity' in n.value \\\n",
    "                                            and n.value['absolute_quantity'] and 'lower_bound' in n.value['absolute_quantity'] \\\n",
    "                                            else \"\"\n",
    "            absolute_quantity_type = n.value['absolute_quantity']['type'] if 'absolute_quantity' in n.value \\\n",
    "                                     and n.value['absolute_quantity'] and 'type' in n.value['absolute_quantity'] \\\n",
    "                                     else \"\"\n",
    "            absolute_quantity_units = n.value['absolute_quantity']['units'] if 'absolute_quantity' in n.value \\\n",
    "                                      and n.value['absolute_quantity'] and 'units' in n.value['absolute_quantity'] \\\n",
    "                                      else \"\"\n",
    "            absolute_quantity_upper_bound = n.value['absolute_quantity']['upper_bound'] if 'absolute_quantity' in n.value \\\n",
    "                                            and n.value['absolute_quantity'] and 'upper_bound' in n.value['absolute_quantity'] \\\n",
    "                                            else \"\"\n",
    "            absolute_quantity_nominal = n.value['absolute_quantity']['nominal'] if 'absolute_quantity' in n.value \\\n",
    "                                        and n.value['absolute_quantity'] and 'nominal' in n.value['absolute_quantity'] \\\n",
    "                                        else \"\"\n",
    "            allowed_labels = n.value['allowed_labels'] if 'allowed_labels' in n.value else \"\"\n",
    "            allowed_names = n.value['allowed_names'] if 'allowed_names' in n.value else \"\"\n",
    "            file_links = n.value['file_links'] if 'file_links' in n.value else \"\"\n",
    "            label = n.value['type']\n",
    "            node_value = [node_id, name, notes, real_lower_bound, real_upper_bound, real_units, real_name_sub, \\\n",
    "                      real_value_sub, real_units_sub, description, node_type, tags, sample_type, mass_fraction, \\\n",
    "                      number_fraction, volume_fraction, source_performed_by, source_performed_date, source_type, \\\n",
    "                      absolute_quantity_lower_bound, absolute_quantity_type, absolute_quantity_units, \\\n",
    "                      absolute_quantity_upper_bound, absolute_quantity_nominal, allowed_labels, allowed_names, file_links, label]\n",
    "            writer.writerow(node_value)"
   ]
  },
  {
   "cell_type": "code",
   "execution_count": 20,
   "id": "dbf7423e",
   "metadata": {},
   "outputs": [],
   "source": [
    "material_spec_expr = parse('$[?(@.type == \"material_spec\")]')\n",
    "nodes = material_spec_expr.find(json_data)\n",
    "spec_nodes_generator(nodes)"
   ]
  },
  {
   "cell_type": "code",
   "execution_count": 21,
   "id": "db4d2bbf",
   "metadata": {},
   "outputs": [],
   "source": [
    "ingredient_spec_expr = parse('$[?(@.type == \"ingredient_spec\")]')\n",
    "nodes = ingredient_spec_expr.find(json_data)\n",
    "spec_nodes_generator(nodes)"
   ]
  },
  {
   "cell_type": "code",
   "execution_count": 22,
   "id": "7461654c",
   "metadata": {},
   "outputs": [],
   "source": [
    "process_spec_expr = parse('$[?(@.type == \"process_spec\")]')\n",
    "nodes = process_spec_expr.find(json_data)\n",
    "spec_nodes_generator(nodes)"
   ]
  },
  {
   "cell_type": "code",
   "execution_count": 23,
   "id": "ddad3758",
   "metadata": {},
   "outputs": [],
   "source": [
    "measurement_spec_expr = parse('$[?(@.type == \"measurement_spec\")]')\n",
    "nodes = measurement_spec_expr.find(json_data)\n",
    "spec_nodes_generator(nodes)"
   ]
  },
  {
   "cell_type": "markdown",
   "id": "4b47d1eb",
   "metadata": {},
   "source": [
    "### run ###"
   ]
  },
  {
   "cell_type": "code",
   "execution_count": 24,
   "id": "09a3a5e3",
   "metadata": {},
   "outputs": [],
   "source": [
    "def run_nodes_generator(nodes):\n",
    "    with open(\"ali_nicholas_EuSNbSe2_gemd_model_dumps/nodes.csv\", \"a\", newline=\"\") as csvfile:\n",
    "        writer = csv.writer(csvfile)\n",
    "        for n in nodes:\n",
    "            node_id = n.value['uids']['auto']\n",
    "            if node_id in node_ids: continue\n",
    "            node_ids.add(node_id)\n",
    "            name = n.value['name']\n",
    "            notes = n.value['notes'] if 'notes' in n.value else \"\"\n",
    "            real_lower_bound = \"\"\n",
    "            real_upper_bound = \"\"\n",
    "            real_units = \"\"\n",
    "            real_name_sub = []\n",
    "            real_value_sub = []\n",
    "            real_units_sub = []\n",
    "            if 'properties' in n.value:\n",
    "                for node_property in n.value['properties']:\n",
    "                    if node_property['value']['type'] == 'nominal_real':\n",
    "                        real_name_sub.append(node_property['name'])\n",
    "                        real_value_sub.append(node_property['value']['nominal'])\n",
    "                        real_units_sub.append(node_property['value']['units'])\n",
    "            if 'conditions' in n.value:\n",
    "                for node_condition in n.value['conditions']:\n",
    "                    if node_condition['value']['type'] == 'nominal_real':\n",
    "                        real_name_sub.append(node_condition['name'])\n",
    "                        real_value_sub.append(node_condition['value']['nominal'])\n",
    "                        real_units_sub.append(node_condition['value']['units'])\n",
    "            if 'parameters' in n.value:\n",
    "                for node_parameter in n.value['parameters']:\n",
    "                    if node_parameter['value']['type'] == 'nominal_real':\n",
    "                        real_name_sub.append(node_parameter['name'])\n",
    "                        real_value_sub.append(node_parameter['value']['nominal'])\n",
    "                        real_units_sub.append(node_parameter['value']['units'])\n",
    "            description = n.value['description'] if 'description' in n.value else \"\"\n",
    "            node_type = n.value['type']\n",
    "            tags = n.value['tags'] if 'tags' in n.value else [] \n",
    "            sample_type = n.value['sample_type'] if 'sample_type' in n.value else \"\"\n",
    "            mass_fraction = n.value['mass_fraction'] if 'mass_fraction' in n.value else \"\"\n",
    "            number_fraction = n.value['number_fraction'] if 'number_fraction' in n.value else \"\"\n",
    "            volume_fraction = n.value['volume_fraction'] if 'volume_fraction' in n.value else \"\"\n",
    "            source_performed_by = n.value['source']['performed_by'] if 'source' in n.value and n.value['source'] else \"\"\n",
    "            source_performed_date = n.value['source']['performed_date'] if 'source' in n.value and n.value['source'] else \"\"\n",
    "            source_type = n.value['source']['type'] if 'source' in n.value and n.value['source'] else \"\"\n",
    "            absolute_quantity_lower_bound = n.value['absolute_quantity']['lower_bound'] if 'absolute_quantity' in n.value \\\n",
    "                                            and n.value['absolute_quantity'] and 'lower_bound' in n.value['absolute_quantity'] \\\n",
    "                                            else \"\"\n",
    "            absolute_quantity_type = n.value['absolute_quantity']['type'] if 'absolute_quantity' in n.value \\\n",
    "                                     and n.value['absolute_quantity'] and 'type' in n.value['absolute_quantity'] \\\n",
    "                                     else \"\"\n",
    "            absolute_quantity_units = n.value['absolute_quantity']['units'] if 'absolute_quantity' in n.value \\\n",
    "                                      and n.value['absolute_quantity'] and 'units' in n.value['absolute_quantity'] \\\n",
    "                                      else \"\"\n",
    "            absolute_quantity_upper_bound = n.value['absolute_quantity']['upper_bound'] if 'absolute_quantity' in n.value \\\n",
    "                                            and n.value['absolute_quantity'] and 'upper_bound' in n.value['absolute_quantity'] \\\n",
    "                                            else \"\"\n",
    "            absolute_quantity_nominal = n.value['absolute_quantity']['nominal'] if 'absolute_quantity' in n.value \\\n",
    "                                        and n.value['absolute_quantity'] and 'nominal' in n.value['absolute_quantity'] \\\n",
    "                                        else \"\"\n",
    "            allowed_labels = n.value['allowed_labels'] if 'allowed_labels' in n.value else \"\"\n",
    "            allowed_names = n.value['allowed_names'] if 'allowed_names' in n.value else \"\"\n",
    "            file_links = n.value['file_links'] if 'file_links' in n.value else \"\"\n",
    "            label = n.value['type']\n",
    "            node_value = [node_id, name, notes, real_lower_bound, real_upper_bound, real_units, real_name_sub, \\\n",
    "                      real_value_sub, real_units_sub, description, node_type, tags, sample_type, mass_fraction, \\\n",
    "                      number_fraction, volume_fraction, source_performed_by, source_performed_date, source_type, \\\n",
    "                      absolute_quantity_lower_bound, absolute_quantity_type, absolute_quantity_units, \\\n",
    "                      absolute_quantity_upper_bound, absolute_quantity_nominal, allowed_labels, allowed_names, file_links, label]\n",
    "            writer.writerow(node_value)"
   ]
  },
  {
   "cell_type": "code",
   "execution_count": 25,
   "id": "76716764",
   "metadata": {},
   "outputs": [],
   "source": [
    "material_run_expr = parse('$[?(@.type == \"material_run\")]')\n",
    "nodes = material_run_expr.find(json_data)\n",
    "run_nodes_generator(nodes)"
   ]
  },
  {
   "cell_type": "code",
   "execution_count": 26,
   "id": "d7d45668",
   "metadata": {},
   "outputs": [],
   "source": [
    "ingredient_run_expr = parse('$[?(@.type == \"ingredient_run\")]')\n",
    "nodes = ingredient_run_expr.find(json_data)\n",
    "run_nodes_generator(nodes)"
   ]
  },
  {
   "cell_type": "code",
   "execution_count": 27,
   "id": "d979ed64",
   "metadata": {},
   "outputs": [],
   "source": [
    "process_run_expr = parse('$[?(@.type == \"process_run\")]')\n",
    "nodes = process_run_expr.find(json_data)\n",
    "run_nodes_generator(nodes)"
   ]
  },
  {
   "cell_type": "code",
   "execution_count": 28,
   "id": "5307e88d",
   "metadata": {},
   "outputs": [],
   "source": [
    "measurement_run_expr = parse('$[?(@.type == \"measurement_run\")]')\n",
    "nodes = measurement_run_expr.find(json_data)\n",
    "run_nodes_generator(nodes)"
   ]
  },
  {
   "cell_type": "markdown",
   "id": "68ef29b2",
   "metadata": {},
   "source": [
    "# Edges #"
   ]
  },
  {
   "cell_type": "code",
   "execution_count": 29,
   "id": "af7d3a0e",
   "metadata": {},
   "outputs": [],
   "source": [
    "edges_header = [\":START_ID\", \":END_ID\", \":TYPE\"]\n",
    "with open(\"ali_nicholas_EuSNbSe2_gemd_model_dumps/edges_header.csv\", \"w\", newline=\"\") as csvfile:\n",
    "    writer = csv.writer(csvfile)\n",
    "    writer.writerow(edges_header)"
   ]
  },
  {
   "cell_type": "markdown",
   "id": "9ac9f338",
   "metadata": {},
   "source": [
    "### material template -> material spec ###"
   ]
  },
  {
   "cell_type": "code",
   "execution_count": 30,
   "id": "0a931e69",
   "metadata": {},
   "outputs": [],
   "source": [
    "material_template_expr = parse('$[?(@.type == \"material_spec\")]')\n",
    "nodes = material_template_expr.find(json_data)"
   ]
  },
  {
   "cell_type": "code",
   "execution_count": 31,
   "id": "f7e9616d",
   "metadata": {},
   "outputs": [],
   "source": [
    "with open(\"ali_nicholas_EuSNbSe2_gemd_model_dumps/edges.csv\", \"w\", newline=\"\") as csvfile:\n",
    "    writer = csv.writer(csvfile)\n",
    "    for n in nodes:\n",
    "        source_id = n.value['template']['id']\n",
    "        target_id = n.value['uids']['auto']\n",
    "        label = 'materialTemplate_to_materialSpec'\n",
    "        edge_value = [source_id, target_id, label]\n",
    "        writer.writerow(edge_value)"
   ]
  },
  {
   "cell_type": "markdown",
   "id": "e0289f7f",
   "metadata": {},
   "source": [
    "### property/parameter/condition template -> categorical bounds ###"
   ]
  },
  {
   "cell_type": "code",
   "execution_count": 32,
   "id": "8d68f580",
   "metadata": {},
   "outputs": [],
   "source": [
    "property_template_expr = parse('$[?(@.type == \"property_template\")]')\n",
    "nodes = property_template_expr.find(json_data)"
   ]
  },
  {
   "cell_type": "code",
   "execution_count": 33,
   "id": "8004e907",
   "metadata": {},
   "outputs": [],
   "source": [
    "with open(\"ali_nicholas_EuSNbSe2_gemd_model_dumps/edges.csv\", \"a\", newline=\"\") as csvfile:\n",
    "    writer = csv.writer(csvfile)\n",
    "    for n in nodes:\n",
    "        source_id = n.value['uids']['auto']\n",
    "        if 'categories' in n.value['bounds']:\n",
    "            for category in n.value['bounds']['categories']:\n",
    "                category_id = categoryName_to_id[category]\n",
    "                label = 'property_to_category'\n",
    "                edge_value = [source_id, category_id, label]\n",
    "                writer.writerow(edge_value)"
   ]
  },
  {
   "cell_type": "code",
   "execution_count": 34,
   "id": "6f1536f9",
   "metadata": {},
   "outputs": [],
   "source": [
    "parameter_template_expr = parse('$[?(@.type == \"parameter_template\")]')\n",
    "nodes = parameter_template_expr.find(json_data)"
   ]
  },
  {
   "cell_type": "code",
   "execution_count": 35,
   "id": "13219331",
   "metadata": {},
   "outputs": [],
   "source": [
    "with open(\"ali_nicholas_EuSNbSe2_gemd_model_dumps/edges.csv\", \"a\", newline=\"\") as csvfile:\n",
    "    writer = csv.writer(csvfile)\n",
    "    for n in nodes:\n",
    "        source_id = n.value['uids']['auto']\n",
    "        if 'categories' in n.value['bounds']:\n",
    "            for category in n.value['bounds']['categories']:\n",
    "                category_id = categoryName_to_id[category]\n",
    "                label = 'parameter_to_category'\n",
    "                edge_value = [source_id, category_id, label]\n",
    "                writer.writerow(edge_value)"
   ]
  },
  {
   "cell_type": "code",
   "execution_count": 36,
   "id": "9f28267d",
   "metadata": {},
   "outputs": [],
   "source": [
    "condition_template_expr = parse('$[?(@.type == \"condition_template\")]')\n",
    "nodes = condition_template_expr.find(json_data)"
   ]
  },
  {
   "cell_type": "code",
   "execution_count": 37,
   "id": "5480c4b9",
   "metadata": {},
   "outputs": [],
   "source": [
    "with open(\"ali_nicholas_EuSNbSe2_gemd_model_dumps/edges.csv\", \"a\", newline=\"\") as csvfile:\n",
    "    writer = csv.writer(csvfile)\n",
    "    for n in nodes:\n",
    "        source_id = n.value['uids']['auto']\n",
    "        if 'categories' in n.value['bounds']:\n",
    "            for category in n.value['bounds']['categories']:\n",
    "                category_id = categoryName_to_id[category]\n",
    "                label = 'condition_to_category'\n",
    "                edge_value = [source_id, category_id, label]\n",
    "                writer.writerow(edge_value)"
   ]
  },
  {
   "cell_type": "markdown",
   "id": "84411548",
   "metadata": {},
   "source": [
    "### material spec -> property template ###"
   ]
  },
  {
   "cell_type": "code",
   "execution_count": 38,
   "id": "f961d080",
   "metadata": {},
   "outputs": [],
   "source": [
    "material_spec_expr = parse('$[?(@.type == \"material_spec\")]')\n",
    "nodes = material_spec_expr.find(json_data)"
   ]
  },
  {
   "cell_type": "code",
   "execution_count": 39,
   "id": "199934a5",
   "metadata": {},
   "outputs": [],
   "source": [
    "with open(\"ali_nicholas_EuSNbSe2_gemd_model_dumps/edges.csv\", \"a\", newline=\"\") as csvfile:\n",
    "    writer = csv.writer(csvfile)\n",
    "    for n in nodes:\n",
    "        spec_id = n.value['uids']['auto']\n",
    "        if 'properties' in n.value:\n",
    "            for node_property in n.value['properties']:\n",
    "                property_id = node_property['property']['template']['id']\n",
    "                label = 'materialSpec_to_propertyTemplate'\n",
    "                edge_value = [spec_id, property_id, label]\n",
    "                writer.writerow(edge_value)"
   ]
  },
  {
   "cell_type": "markdown",
   "id": "5b031262",
   "metadata": {},
   "source": [
    "### categorical bounds -> ingredient spec ###"
   ]
  },
  {
   "cell_type": "code",
   "execution_count": 40,
   "id": "72dc15ad",
   "metadata": {},
   "outputs": [],
   "source": [
    "materialSpecId_to_propertyId = collections.defaultdict(list)"
   ]
  },
  {
   "cell_type": "code",
   "execution_count": 41,
   "id": "5195d188",
   "metadata": {},
   "outputs": [],
   "source": [
    "material_spec_expr = parse('$[?(@.type == \"material_spec\")]')\n",
    "nodes = material_spec_expr.find(json_data)"
   ]
  },
  {
   "cell_type": "code",
   "execution_count": 42,
   "id": "b93a4ad0",
   "metadata": {},
   "outputs": [],
   "source": [
    "for n in nodes:\n",
    "    material_id = n.value['uids']['auto']\n",
    "    if 'properties' in n.value:\n",
    "        for node_property in n.value['properties']:\n",
    "            if node_property['property']['value']['type'] == 'nominal_categorical':\n",
    "                property_name = node_property['property']['value']['category']\n",
    "                category_id = categoryName_to_id[property_name]\n",
    "                materialSpecId_to_propertyId[material_id].append(category_id)"
   ]
  },
  {
   "cell_type": "code",
   "execution_count": 43,
   "id": "35bcce15",
   "metadata": {},
   "outputs": [],
   "source": [
    "ingredient_spec_expr = parse('$[?(@.type == \"ingredient_spec\")]')\n",
    "nodes = ingredient_spec_expr.find(json_data)"
   ]
  },
  {
   "cell_type": "code",
   "execution_count": 44,
   "id": "80a4f688",
   "metadata": {},
   "outputs": [],
   "source": [
    "with open(\"ali_nicholas_EuSNbSe2_gemd_model_dumps/edges.csv\", \"a\", newline=\"\") as csvfile:\n",
    "    writer = csv.writer(csvfile)\n",
    "    for n in nodes:\n",
    "        ingredient_id = n.value['uids']['auto']\n",
    "        if n.value['material']:\n",
    "            material_id = n.value['material']['id']\n",
    "            for category_id in materialSpecId_to_propertyId[material_id]:\n",
    "                edge_value = [category_id, ingredient_id, 'category_to_ingredient']\n",
    "                writer.writerow(edge_value)"
   ]
  },
  {
   "cell_type": "code",
   "execution_count": 45,
   "id": "6d764445",
   "metadata": {},
   "outputs": [],
   "source": [
    "with open(\"laser_shock_gemd_model_dumps/edges.csv\", \"a\", newline=\"\") as csvfile:\n",
    "    writer = csv.writer(csvfile)\n",
    "    for n in nodes:\n",
    "        ingredient_id = n.value['uids']['auto']\n",
    "        if n.value['material']:\n",
    "            material_id = n.value['material']['id']\n",
    "            if len(materialSpecId_to_propertyId[material_id]) == 0:\n",
    "                edge_value = [material_id, ingredient_id, 'materialSpec_to_ingredientSpec']\n",
    "                writer.writerow(edge_value)"
   ]
  },
  {
   "cell_type": "markdown",
   "id": "d7537447",
   "metadata": {},
   "source": [
    "### ingredient_spec -> parameter/condition template ###"
   ]
  },
  {
   "cell_type": "code",
   "execution_count": 46,
   "id": "3cbec6d2",
   "metadata": {},
   "outputs": [],
   "source": [
    "processSpecId_to_parameterCategoryId = collections.defaultdict(list)\n",
    "processSpecId_to_conditionCategoryId = collections.defaultdict(list)\n",
    "processSpecId_to_parameterTemplateId = collections.defaultdict(list)\n",
    "processSpecId_to_conditionTemplateId = collections.defaultdict(list)"
   ]
  },
  {
   "cell_type": "code",
   "execution_count": 47,
   "id": "6be7553b",
   "metadata": {},
   "outputs": [],
   "source": [
    "process_spec_expr = parse('$[?(@.type == \"process_spec\")]')\n",
    "nodes = process_spec_expr.find(json_data)"
   ]
  },
  {
   "cell_type": "code",
   "execution_count": 48,
   "id": "c169b1db",
   "metadata": {},
   "outputs": [],
   "source": [
    "for n in nodes:\n",
    "    process_id = n.value['uids']['auto']\n",
    "    if 'conditions' in n.value:\n",
    "        for node_condition in n.value['conditions']:\n",
    "            template_id = node_condition['template']['id']\n",
    "            if node_condition['value']['type'] == 'nominal_categorical':\n",
    "                condition_name = node_condition['value']['category']\n",
    "                category_id = categoryName_to_id[condition_name]\n",
    "                if category_id not in processSpecId_to_conditionCategoryId[process_id]:\n",
    "                    processSpecId_to_conditionCategoryId[process_id].append(category_id)\n",
    "            if template_id not in processSpecId_to_conditionTemplateId[process_id]:\n",
    "                processSpecId_to_conditionTemplateId[process_id].append(template_id)\n",
    "    if 'parameters' in n.value:\n",
    "        for node_parameter in n.value['parameters']:\n",
    "            template_id = node_parameter['template']['id']\n",
    "            if node_parameter['value']['type'] == 'nominal_categorical':\n",
    "                parameter_name = node_parameter['value']['category']\n",
    "                category_id = categoryName_to_id[parameter_name]\n",
    "                if category_id not in processSpecId_to_parameterCategoryId[process_id]:\n",
    "                    processSpecId_to_parameterCategoryId[process_id].append(category_id)\n",
    "            if template_id not in processSpecId_to_parameterTemplateId[process_id]:\n",
    "                processSpecId_to_parameterTemplateId[process_id].append(template_id)"
   ]
  },
  {
   "cell_type": "code",
   "execution_count": 49,
   "id": "4f3fece5",
   "metadata": {},
   "outputs": [],
   "source": [
    "ingredient_spec_expr = parse('$[?(@.type == \"ingredient_spec\")]')\n",
    "nodes = ingredient_spec_expr.find(json_data)"
   ]
  },
  {
   "cell_type": "code",
   "execution_count": 50,
   "id": "90b7e69e",
   "metadata": {},
   "outputs": [],
   "source": [
    "with open(\"ali_nicholas_EuSNbSe2_gemd_model_dumps/edges.csv\", \"a\", newline=\"\") as csvfile:\n",
    "    writer = csv.writer(csvfile)\n",
    "    for n in nodes:\n",
    "        ingredient_id = n.value['uids']['auto']\n",
    "        process_id = n.value['process']['id']\n",
    "        for conditionTemplate_id in processSpecId_to_conditionTemplateId[process_id]:\n",
    "            edge_value = [ingredient_id, conditionTemplate_id, 'ingredientSpec_to_conditionTemplate']\n",
    "            writer.writerow(edge_value)\n",
    "        for parameterTemplate_id in processSpecId_to_parameterTemplateId[process_id]:\n",
    "            edge_value = [ingredient_id, parameterTemplate_id, 'ingredientSpec_to_parameterTemplate']\n",
    "            writer.writerow(edge_value)"
   ]
  },
  {
   "cell_type": "code",
   "execution_count": 51,
   "id": "8678d937",
   "metadata": {},
   "outputs": [],
   "source": [
    "with open(\"ali_nicholas_EuSNbSe2_gemd_model_dumps/edges.csv\", \"a\", newline=\"\") as csvfile:\n",
    "    writer = csv.writer(csvfile)\n",
    "    for n in nodes:\n",
    "        ingredient_id = n.value['uids']['auto']\n",
    "        process_id = n.value['process']['id']\n",
    "        if len(processSpecId_to_conditionTemplateId[process_id]) == 0 \\\n",
    "           and len(processSpecId_to_parameterTemplateId[process_id]) == 0: \n",
    "            edge_value = [ingredient_id, process_id, 'ingredientSpec_to_processSpec']\n",
    "            writer.writerow(edge_value)"
   ]
  },
  {
   "cell_type": "markdown",
   "id": "2c301fc2",
   "metadata": {},
   "source": [
    "### categorical bounds -> process spec ###"
   ]
  },
  {
   "cell_type": "code",
   "execution_count": 52,
   "id": "0cfe1477",
   "metadata": {},
   "outputs": [],
   "source": [
    "process_spec_expr = parse('$[?(@.type == \"process_spec\")]')\n",
    "nodes = process_spec_expr.find(json_data)"
   ]
  },
  {
   "cell_type": "code",
   "execution_count": 53,
   "id": "4fc3a5d7",
   "metadata": {},
   "outputs": [],
   "source": [
    "with open(\"ali_nicholas_EuSNbSe2_gemd_model_dumps/edges.csv\", \"a\", newline=\"\") as csvfile:\n",
    "    writer = csv.writer(csvfile)\n",
    "    for n in nodes:\n",
    "        process_id = n.value['uids']['auto']\n",
    "        for conditionCategoryId in processSpecId_to_conditionCategoryId[process_id]:\n",
    "            edge_value = [conditionCategoryId, process_id, 'category_to_processSpec']\n",
    "            writer.writerow(edge_value)\n",
    "        for parameterCategoryId in processSpecId_to_parameterCategoryId[process_id]:\n",
    "            edge_value = [parameterCategoryId, process_id, 'category_to_processSpec']\n",
    "            writer.writerow(edge_value)"
   ]
  },
  {
   "cell_type": "markdown",
   "id": "3e1070af",
   "metadata": {},
   "source": [
    "### process spec -> material spec ###"
   ]
  },
  {
   "cell_type": "code",
   "execution_count": 54,
   "id": "f548c34a",
   "metadata": {},
   "outputs": [],
   "source": [
    "material_spec_expr = parse('$[?(@.type == \"material_spec\")]')\n",
    "nodes = material_spec_expr.find(json_data)"
   ]
  },
  {
   "cell_type": "code",
   "execution_count": 55,
   "id": "8f174a4e",
   "metadata": {},
   "outputs": [],
   "source": [
    "with open(\"ali_nicholas_EuSNbSe2_gemd_model_dumps/edges.csv\", \"a\", newline=\"\") as csvfile:\n",
    "    writer = csv.writer(csvfile)\n",
    "    for n in nodes:\n",
    "        material_id = n.value['uids']['auto']\n",
    "        process_id = n.value['process']['id']\n",
    "        edge_value = [process_id, material_id, 'processSpec_to_materialSpec']\n",
    "        writer.writerow(edge_value)"
   ]
  },
  {
   "cell_type": "markdown",
   "id": "e3bf0496",
   "metadata": {},
   "source": [
    "### material spec -> material run ###"
   ]
  },
  {
   "cell_type": "code",
   "execution_count": 56,
   "id": "58e8d2cb",
   "metadata": {},
   "outputs": [],
   "source": [
    "material_run_expr = parse('$[?(@.type == \"material_run\")]')\n",
    "nodes = material_run_expr.find(json_data)"
   ]
  },
  {
   "cell_type": "code",
   "execution_count": 57,
   "id": "d3cdf5aa",
   "metadata": {},
   "outputs": [],
   "source": [
    "with open(\"ali_nicholas_EuSNbSe2_gemd_model_dumps/edges.csv\", \"a\", newline=\"\") as csvfile:\n",
    "    writer = csv.writer(csvfile)\n",
    "    for n in nodes:\n",
    "        run_id = n.value['uids']['auto']\n",
    "        spec_id = n.value['spec']['id']\n",
    "        edge_value = [spec_id, run_id, 'materialSpec_to_materialRun']\n",
    "        writer.writerow(edge_value)"
   ]
  },
  {
   "cell_type": "markdown",
   "id": "f3c279d5",
   "metadata": {},
   "source": [
    "### ingredient_spec -> ingredient_run ###"
   ]
  },
  {
   "cell_type": "code",
   "execution_count": 58,
   "id": "545322af",
   "metadata": {},
   "outputs": [],
   "source": [
    "ingredient_run_expr = parse('$[?(@.type == \"ingredient_run\")]')\n",
    "nodes = ingredient_run_expr.find(json_data)"
   ]
  },
  {
   "cell_type": "code",
   "execution_count": 59,
   "id": "bed22601",
   "metadata": {},
   "outputs": [],
   "source": [
    "with open(\"ali_nicholas_EuSNbSe2_gemd_model_dumps/edges.csv\", \"a\", newline=\"\") as csvfile:\n",
    "    writer = csv.writer(csvfile)\n",
    "    for n in nodes:\n",
    "        run_id = n.value['uids']['auto']\n",
    "        spec_id = n.value['spec']['id']\n",
    "        edge_value = [spec_id, run_id, 'ingredientSpec_to_ingredientRun']\n",
    "        writer.writerow(edge_value)"
   ]
  },
  {
   "cell_type": "markdown",
   "id": "3d77d987",
   "metadata": {},
   "source": [
    "### process template -> process spec ###"
   ]
  },
  {
   "cell_type": "code",
   "execution_count": 60,
   "id": "f0c698d6",
   "metadata": {},
   "outputs": [],
   "source": [
    "process_spec_expr = parse('$[?(@.type == \"process_spec\")]')\n",
    "nodes = process_spec_expr.find(json_data)"
   ]
  },
  {
   "cell_type": "code",
   "execution_count": 61,
   "id": "70023d8a",
   "metadata": {},
   "outputs": [],
   "source": [
    "with open(\"ali_nicholas_EuSNbSe2_gemd_model_dumps/edges.csv\", \"a\", newline=\"\") as csvfile:\n",
    "    writer = csv.writer(csvfile)\n",
    "    for n in nodes:\n",
    "        spec_id = n.value['uids']['auto']\n",
    "        template_id = n.value['template']['id']\n",
    "        edge_value = [template_id, spec_id, 'processTemplate_to_processSpec']\n",
    "        writer.writerow(edge_value)"
   ]
  },
  {
   "cell_type": "markdown",
   "id": "90487746",
   "metadata": {},
   "source": [
    "### process spec -> process run ###"
   ]
  },
  {
   "cell_type": "code",
   "execution_count": 62,
   "id": "663ae619",
   "metadata": {},
   "outputs": [],
   "source": [
    "process_run_expr = parse('$[?(@.type == \"process_run\")]')\n",
    "nodes = process_run_expr.find(json_data)"
   ]
  },
  {
   "cell_type": "code",
   "execution_count": 63,
   "id": "8079018e",
   "metadata": {},
   "outputs": [],
   "source": [
    "with open(\"ali_nicholas_EuSNbSe2_gemd_model_dumps/edges.csv\", \"a\", newline=\"\") as csvfile:\n",
    "    writer = csv.writer(csvfile)\n",
    "    for n in nodes:\n",
    "        run_id = n.value['uids']['auto']\n",
    "        spec_id = n.value['spec']['id']\n",
    "        edge_value = [spec_id, run_id, 'processSpec_to_processRun']\n",
    "        writer.writerow(edge_value)"
   ]
  },
  {
   "cell_type": "markdown",
   "id": "ac72d45c",
   "metadata": {},
   "source": [
    "### material run -> ingredient run ###"
   ]
  },
  {
   "cell_type": "code",
   "execution_count": 64,
   "id": "e66e5ee8",
   "metadata": {},
   "outputs": [],
   "source": [
    "ingredient_run_expr = parse('$[?(@.type == \"ingredient_run\")]')\n",
    "nodes = ingredient_run_expr.find(json_data)"
   ]
  },
  {
   "cell_type": "code",
   "execution_count": 65,
   "id": "3fa55cff",
   "metadata": {},
   "outputs": [],
   "source": [
    "with open(\"ali_nicholas_EuSNbSe2_gemd_model_dumps/edges.csv\", \"a\", newline=\"\") as csvfile:\n",
    "    writer = csv.writer(csvfile)\n",
    "    for n in nodes:\n",
    "        ingredient_id = n.value['uids']['auto']\n",
    "        material_id = n.value['material']['id']\n",
    "        edge_value = [material_id, ingredient_id, 'materialRun_to_ingredientRun']\n",
    "        writer.writerow(edge_value)"
   ]
  },
  {
   "cell_type": "markdown",
   "id": "b9a8191a",
   "metadata": {},
   "source": [
    "### ingredient run -> parameter/condition template ###"
   ]
  },
  {
   "cell_type": "code",
   "execution_count": 66,
   "id": "4f6dc58c",
   "metadata": {},
   "outputs": [],
   "source": [
    "processRunId_to_parameterCategoryId = collections.defaultdict(list)\n",
    "processRunId_to_conditionCategoryId = collections.defaultdict(list)\n",
    "processRunId_to_parameterTemplateId = collections.defaultdict(list)\n",
    "processRunId_to_conditionTemplateId = collections.defaultdict(list)"
   ]
  },
  {
   "cell_type": "code",
   "execution_count": 67,
   "id": "9a90733c",
   "metadata": {},
   "outputs": [],
   "source": [
    "process_run_expr = parse('$[?(@.type == \"process_run\")]')\n",
    "nodes = process_run_expr.find(json_data)"
   ]
  },
  {
   "cell_type": "code",
   "execution_count": 68,
   "id": "4db191b8",
   "metadata": {},
   "outputs": [],
   "source": [
    "for n in nodes:\n",
    "    process_id = n.value['uids']['auto']\n",
    "    if 'conditions' in n.value:\n",
    "        for node_condition in n.value['conditions']:\n",
    "            template_id = node_condition['template']['id']\n",
    "            if node_condition['value']['type'] == 'nominal_categorical':\n",
    "                condition_name = node_condition['value']['category']\n",
    "                category_id = categoryName_to_id[condition_name]\n",
    "                if category_id not in processRunId_to_conditionCategoryId[process_id]:\n",
    "                    processRunId_to_conditionCategoryId[process_id].append(category_id)\n",
    "            if template_id not in processRunId_to_conditionTemplateId[process_id]:\n",
    "                processRunId_to_conditionTemplateId[process_id].append(template_id)\n",
    "    if 'parameters' in n.value:\n",
    "        for node_parameter in n.value['parameters']:\n",
    "            template_id = node_parameter['template']['id']\n",
    "            if node_parameter['value']['type'] == 'nominal_categorical':\n",
    "                parameter_name = node_parameter['value']['category']\n",
    "                category_id = categoryName_to_id[parameter_name]\n",
    "                if category_id not in processRunId_to_parameterCategoryId[process_id]:\n",
    "                    processRunId_to_parameterCategoryId[process_id].append(category_id)\n",
    "            if template_id not in processRunId_to_parameterTemplateId[process_id]:\n",
    "                processRunId_to_parameterTemplateId[process_id].append(template_id)"
   ]
  },
  {
   "cell_type": "code",
   "execution_count": 69,
   "id": "f310891a",
   "metadata": {},
   "outputs": [],
   "source": [
    "ingredient_run_expr = parse('$[?(@.type == \"ingredient_run\")]')\n",
    "nodes = ingredient_run_expr.find(json_data)"
   ]
  },
  {
   "cell_type": "code",
   "execution_count": 70,
   "id": "4ac89582",
   "metadata": {},
   "outputs": [],
   "source": [
    "with open(\"ali_nicholas_EuSNbSe2_gemd_model_dumps/edges.csv\", \"a\", newline=\"\") as csvfile:\n",
    "    writer = csv.writer(csvfile)\n",
    "    for n in nodes:\n",
    "        ingredient_id = n.value['uids']['auto']\n",
    "        process_id = n.value['process']['id']\n",
    "        for conditionTemplate_id in processRunId_to_conditionTemplateId[process_id]:\n",
    "            edge_value = [ingredient_id, conditionTemplate_id, 'ingredientRun_to_conditionTemplate']\n",
    "            writer.writerow(edge_value)\n",
    "        for parameterTemplate_id in processRunId_to_parameterTemplateId[process_id]:\n",
    "            edge_value = [ingredient_id, parameterTemplate_id, 'ingredientRun_to_parameterTemplate']\n",
    "            writer.writerow(edge_value)"
   ]
  },
  {
   "cell_type": "code",
   "execution_count": 71,
   "id": "cd245221",
   "metadata": {},
   "outputs": [],
   "source": [
    "with open(\"ali_nicholas_EuSNbSe2_gemd_model_dumps/edges.csv\", \"a\", newline=\"\") as csvfile:\n",
    "    writer = csv.writer(csvfile)\n",
    "    for n in nodes:\n",
    "        ingredient_id = n.value['uids']['auto']\n",
    "        process_id = n.value['process']['id']\n",
    "        if len(processRunId_to_conditionTemplateId[process_id]) == 0 \\\n",
    "           and len(processRunId_to_parameterTemplateId[process_id]) == 0: \n",
    "            edge_value = [ingredient_id, process_id, 'ingredientRun_to_processRun']\n",
    "            writer.writerow(edge_value)"
   ]
  },
  {
   "cell_type": "code",
   "execution_count": 72,
   "id": "bb59030e",
   "metadata": {},
   "outputs": [
    {
     "data": {
      "text/plain": [
       "defaultdict(list,\n",
       "            {'bada7bac-99de-44a6-937a-73f070dee11f': ['431e116c-dbcf-4927-9100-7e175cdf0342'],\n",
       "             '38f27829-64d2-4ccc-ab4c-99bd8c057a71': ['431e116c-dbcf-4927-9100-7e175cdf0342'],\n",
       "             '9ff862df-0ce6-4a39-b4c1-118b4f5cd7f0': ['00de68f0-57d8-42fc-b5f4-4a1f21d7dc68',\n",
       "              '431e116c-dbcf-4927-9100-7e175cdf0342'],\n",
       "             'ff08afcb-6801-4935-aa9d-2a7348c71c42': ['431e116c-dbcf-4927-9100-7e175cdf0342'],\n",
       "             '7c397e07-b34c-41bb-acf4-fb877f5f099c': ['431e116c-dbcf-4927-9100-7e175cdf0342'],\n",
       "             '589762a7-3dd7-44b5-b92e-4c66ab28e289': ['431e116c-dbcf-4927-9100-7e175cdf0342',\n",
       "              '00de68f0-57d8-42fc-b5f4-4a1f21d7dc68'],\n",
       "             '65065b14-b240-4a37-9df1-ab7a19d5187f': ['431e116c-dbcf-4927-9100-7e175cdf0342'],\n",
       "             '5525bc03-7ed8-4551-b07a-c4fa1f0c5db8': ['431e116c-dbcf-4927-9100-7e175cdf0342'],\n",
       "             '708c5f76-20d3-4511-b57a-ad4afb41e6ac': ['431e116c-dbcf-4927-9100-7e175cdf0342'],\n",
       "             'af010cb2-1135-46f5-8848-7a2b787ed9d6': ['431e116c-dbcf-4927-9100-7e175cdf0342'],\n",
       "             'be514bf8-c80f-45ad-9b99-e2c1d5955b23': ['431e116c-dbcf-4927-9100-7e175cdf0342'],\n",
       "             '70894e5d-127c-4ea7-bdd6-c9bb80cff9df': ['00de68f0-57d8-42fc-b5f4-4a1f21d7dc68',\n",
       "              '431e116c-dbcf-4927-9100-7e175cdf0342'],\n",
       "             '8a51e5e1-a9f8-4e10-9c62-669df18089c2': ['431e116c-dbcf-4927-9100-7e175cdf0342'],\n",
       "             '1bc76ff9-bd22-433c-ba61-96b29e7e2892': ['00de68f0-57d8-42fc-b5f4-4a1f21d7dc68',\n",
       "              '431e116c-dbcf-4927-9100-7e175cdf0342'],\n",
       "             '028fd1d3-ddad-4fab-b8e6-3795e2b7f353': ['431e116c-dbcf-4927-9100-7e175cdf0342'],\n",
       "             '46ca2fd3-c1ec-450f-9162-5a2eb795a085': ['431e116c-dbcf-4927-9100-7e175cdf0342'],\n",
       "             '94f6149f-b6bc-49d6-98e4-bd6ba7513d7d': ['00de68f0-57d8-42fc-b5f4-4a1f21d7dc68',\n",
       "              '431e116c-dbcf-4927-9100-7e175cdf0342'],\n",
       "             '58bbce6d-2805-4a4f-8395-16b7397855b3': ['431e116c-dbcf-4927-9100-7e175cdf0342'],\n",
       "             '076ab772-ec4f-4f74-be15-19863dcc915f': ['00de68f0-57d8-42fc-b5f4-4a1f21d7dc68',\n",
       "              '431e116c-dbcf-4927-9100-7e175cdf0342'],\n",
       "             'f32551e7-bb9a-4d10-bc05-9df89e6bd2d0': ['00de68f0-57d8-42fc-b5f4-4a1f21d7dc68',\n",
       "              '431e116c-dbcf-4927-9100-7e175cdf0342'],\n",
       "             '995a8c49-888b-465a-8db5-9574b6fbc65c': ['00de68f0-57d8-42fc-b5f4-4a1f21d7dc68',\n",
       "              '431e116c-dbcf-4927-9100-7e175cdf0342'],\n",
       "             'b2736f8b-a21f-4e94-beab-b021d67a24eb': ['431e116c-dbcf-4927-9100-7e175cdf0342',\n",
       "              '00de68f0-57d8-42fc-b5f4-4a1f21d7dc68'],\n",
       "             '1a73fa8f-55b9-4b08-8867-bd0d0d84153c': ['431e116c-dbcf-4927-9100-7e175cdf0342'],\n",
       "             '1dfc9902-0e70-424c-9cd9-93ac9b9c3fb9': ['431e116c-dbcf-4927-9100-7e175cdf0342'],\n",
       "             '3ec752f1-d62d-43cb-b1d5-303bc3dd89cd': ['00de68f0-57d8-42fc-b5f4-4a1f21d7dc68',\n",
       "              '431e116c-dbcf-4927-9100-7e175cdf0342'],\n",
       "             'd6db3ca3-c4ec-4fe0-811a-9726a075f6ab': ['00de68f0-57d8-42fc-b5f4-4a1f21d7dc68',\n",
       "              '431e116c-dbcf-4927-9100-7e175cdf0342'],\n",
       "             'd959855e-9984-4c20-8b87-f6ee7cfba6c0': ['431e116c-dbcf-4927-9100-7e175cdf0342'],\n",
       "             'c65c975c-3dac-4bdd-a5b1-d848bab0e3f0': ['431e116c-dbcf-4927-9100-7e175cdf0342'],\n",
       "             '55985e41-4afa-471d-84fe-054954c13c62': ['431e116c-dbcf-4927-9100-7e175cdf0342'],\n",
       "             'c102fe2d-446a-41d3-9fce-c691269fd381': ['431e116c-dbcf-4927-9100-7e175cdf0342'],\n",
       "             'd917f2b6-f3bb-4257-94b5-0ad19e92eb3c': ['431e116c-dbcf-4927-9100-7e175cdf0342'],\n",
       "             'f00b7da6-9e64-4c73-a609-bb357be3e26e': ['431e116c-dbcf-4927-9100-7e175cdf0342'],\n",
       "             '38c65095-19ac-4ea5-8105-760a95e2d84b': ['431e116c-dbcf-4927-9100-7e175cdf0342'],\n",
       "             '0afb2915-d60c-4087-a7d6-5d023f4379b7': ['431e116c-dbcf-4927-9100-7e175cdf0342'],\n",
       "             'bc4021eb-3039-4420-8546-1ddd9d2963e6': ['431e116c-dbcf-4927-9100-7e175cdf0342'],\n",
       "             '797816cf-bba9-49e9-ba32-0c4ffaa6fe72': ['431e116c-dbcf-4927-9100-7e175cdf0342'],\n",
       "             '34fbdd88-4c2e-4df2-9edf-3cc34d2ccb32': ['431e116c-dbcf-4927-9100-7e175cdf0342',\n",
       "              '00de68f0-57d8-42fc-b5f4-4a1f21d7dc68'],\n",
       "             'b37c555c-34f2-4340-b693-620aa723e299': ['00de68f0-57d8-42fc-b5f4-4a1f21d7dc68',\n",
       "              '431e116c-dbcf-4927-9100-7e175cdf0342'],\n",
       "             'bb106a9a-91af-42d4-9650-24df82cbde9b': ['00de68f0-57d8-42fc-b5f4-4a1f21d7dc68',\n",
       "              '431e116c-dbcf-4927-9100-7e175cdf0342'],\n",
       "             'ba4f8d69-d1b8-49a6-93b6-5f665fd80eeb': ['00de68f0-57d8-42fc-b5f4-4a1f21d7dc68',\n",
       "              '431e116c-dbcf-4927-9100-7e175cdf0342'],\n",
       "             'fd5c0fe0-7aae-49a9-9e3f-14e6b08c30dc': ['00de68f0-57d8-42fc-b5f4-4a1f21d7dc68',\n",
       "              '431e116c-dbcf-4927-9100-7e175cdf0342'],\n",
       "             '890e03d8-532c-40d6-bf78-f540fa9adbac': ['431e116c-dbcf-4927-9100-7e175cdf0342',\n",
       "              '00de68f0-57d8-42fc-b5f4-4a1f21d7dc68'],\n",
       "             '4dbd86fa-bd51-4f15-9502-6e2356bf371e': ['00de68f0-57d8-42fc-b5f4-4a1f21d7dc68',\n",
       "              '431e116c-dbcf-4927-9100-7e175cdf0342'],\n",
       "             'e5f6a318-d616-4b44-b7b6-9547b73d2b25': ['431e116c-dbcf-4927-9100-7e175cdf0342'],\n",
       "             '7d514218-e17f-42b5-bdca-6c8815ee0cdb': ['431e116c-dbcf-4927-9100-7e175cdf0342'],\n",
       "             '44e5f093-a246-4ce9-b49d-1b02245222ac': ['431e116c-dbcf-4927-9100-7e175cdf0342'],\n",
       "             '0a18dd82-4baf-408f-b3cc-7ef4ce6c8bda': [],\n",
       "             '684445b0-d039-4181-b7fc-642d6a97b5fa': [],\n",
       "             '45a426e9-c8eb-415e-b7fb-ea98478614ee': [],\n",
       "             'b50f5f85-64ea-41c5-afd1-4a01b2d6a3f7': [],\n",
       "             'c871de89-98c2-4ed9-a9ac-43b2cb5e7a30': [],\n",
       "             '82965b6f-43e2-481a-99f2-48d82cd042cd': [],\n",
       "             '0a150347-8a7e-4624-a121-37e813301291': [],\n",
       "             '76a861e9-3825-4b84-99ac-3be7058b1ac3': [],\n",
       "             'd1f703bb-13cb-4eae-8575-f7bbe784d88f': [],\n",
       "             '783cb8d5-e246-43e7-b79f-a34523adead5': []})"
      ]
     },
     "execution_count": 72,
     "metadata": {},
     "output_type": "execute_result"
    }
   ],
   "source": [
    "processRunId_to_conditionTemplateId"
   ]
  },
  {
   "cell_type": "markdown",
   "id": "01eeaca4",
   "metadata": {},
   "source": [
    "### categorical bounds -> process run ###"
   ]
  },
  {
   "cell_type": "code",
   "execution_count": 73,
   "id": "eeb17a5f",
   "metadata": {},
   "outputs": [],
   "source": [
    "process_run_expr = parse('$[?(@.type == \"process_run\")]')\n",
    "nodes = process_run_expr.find(json_data)"
   ]
  },
  {
   "cell_type": "code",
   "execution_count": 74,
   "id": "5970dfc3",
   "metadata": {},
   "outputs": [],
   "source": [
    "with open(\"ali_nicholas_EuSNbSe2_gemd_model_dumps/edges.csv\", \"a\", newline=\"\") as csvfile:\n",
    "    writer = csv.writer(csvfile)\n",
    "    for n in nodes:\n",
    "        process_id = n.value['uids']['auto']\n",
    "        for conditionCategoryId in processRunId_to_conditionCategoryId[process_id]:\n",
    "            edge_value = [conditionCategoryId, process_id, 'category_to_processRun']\n",
    "            writer.writerow(edge_value)\n",
    "        for parameterCategoryId in processRunId_to_parameterCategoryId[process_id]:\n",
    "            edge_value = [parameterCategoryId, process_id, 'category_to_processRun']\n",
    "            writer.writerow(edge_value)"
   ]
  },
  {
   "cell_type": "markdown",
   "id": "7dffd0db",
   "metadata": {},
   "source": [
    "### process run -> material run ###"
   ]
  },
  {
   "cell_type": "code",
   "execution_count": 75,
   "id": "e12bb5d2",
   "metadata": {},
   "outputs": [],
   "source": [
    "material_run_expr = parse('$[?(@.type == \"material_run\")]')\n",
    "nodes = material_run_expr.find(json_data)"
   ]
  },
  {
   "cell_type": "code",
   "execution_count": 76,
   "id": "2edf0b63",
   "metadata": {},
   "outputs": [],
   "source": [
    "with open(\"ali_nicholas_EuSNbSe2_gemd_model_dumps/edges.csv\", \"a\", newline=\"\") as csvfile:\n",
    "    writer = csv.writer(csvfile)\n",
    "    for n in nodes:\n",
    "        material_id = n.value['uids']['auto']\n",
    "        process_id = n.value['process']['id']\n",
    "        edge_value = [process_id, material_id, 'processRun_to_materialRun']\n",
    "        writer.writerow(edge_value)"
   ]
  },
  {
   "cell_type": "markdown",
   "id": "325fece4",
   "metadata": {},
   "source": [
    "### measurement template -> measurement spec ###"
   ]
  },
  {
   "cell_type": "code",
   "execution_count": 77,
   "id": "7807f7f0",
   "metadata": {},
   "outputs": [],
   "source": [
    "measurement_spec_expr = parse('$[?(@.type == \"measurement_spec\")]')\n",
    "nodes = measurement_spec_expr.find(json_data)"
   ]
  },
  {
   "cell_type": "code",
   "execution_count": 78,
   "id": "e8f76217",
   "metadata": {},
   "outputs": [],
   "source": [
    "with open(\"ali_nicholas_EuSNbSe2_gemd_model_dumps/edges.csv\", \"a\", newline=\"\") as csvfile:\n",
    "    writer = csv.writer(csvfile)\n",
    "    for n in nodes:\n",
    "        spec_id = n.value['uids']['auto']\n",
    "        template_id = n.value['template']['id']\n",
    "        edge_value = [template_id, spec_id, 'measurementTemplate_to_measurementSpec']\n",
    "        writer.writerow(edge_value)"
   ]
  },
  {
   "cell_type": "markdown",
   "id": "7400177f",
   "metadata": {},
   "source": [
    "### measurement spec -> measurement run ###"
   ]
  },
  {
   "cell_type": "code",
   "execution_count": 79,
   "id": "7d04d519",
   "metadata": {},
   "outputs": [],
   "source": [
    "measurement_run_expr = parse('$[?(@.type == \"measurement_run\")]')\n",
    "nodes = measurement_run_expr.find(json_data)"
   ]
  },
  {
   "cell_type": "code",
   "execution_count": 80,
   "id": "587e9b07",
   "metadata": {},
   "outputs": [],
   "source": [
    "with open(\"ali_nicholas_EuSNbSe2_gemd_model_dumps/edges.csv\", \"a\", newline=\"\") as csvfile:\n",
    "    writer = csv.writer(csvfile)\n",
    "    for n in nodes:\n",
    "        run_id = n.value['uids']['auto']\n",
    "        spec_id = n.value['spec']['id']\n",
    "        edge_value = [spec_id, run_id, 'measurementSpec_to_measurementRun']\n",
    "        writer.writerow(edge_value)"
   ]
  },
  {
   "cell_type": "markdown",
   "id": "68b8c254",
   "metadata": {},
   "source": [
    "### measurement run -> parameter/condition template ###"
   ]
  },
  {
   "cell_type": "code",
   "execution_count": 81,
   "id": "c3cac221",
   "metadata": {},
   "outputs": [],
   "source": [
    "measurementRunId_to_parameterCategoryId = collections.defaultdict(list)\n",
    "measurementRunId_to_conditionCategoryId = collections.defaultdict(list)\n",
    "measurementRunId_to_parameterTemplateId = collections.defaultdict(list)\n",
    "measurementRunId_to_conditionTemplateId = collections.defaultdict(list)"
   ]
  },
  {
   "cell_type": "code",
   "execution_count": 82,
   "id": "abebf07e",
   "metadata": {},
   "outputs": [],
   "source": [
    "measurement_run_expr = parse('$[?(@.type == \"measurement_run\")]')\n",
    "nodes = measurement_run_expr.find(json_data)"
   ]
  },
  {
   "cell_type": "code",
   "execution_count": 83,
   "id": "87d86266",
   "metadata": {},
   "outputs": [],
   "source": [
    "for n in nodes:\n",
    "    measurement_id = n.value['uids']['auto']\n",
    "    if 'conditions' in n.value:\n",
    "        for node_condition in n.value['conditions']:\n",
    "            template_id = node_condition['template']['id']\n",
    "            if node_condition['value']['type'] == 'nominal_categorical':\n",
    "                condition_name = node_condition['value']['category']\n",
    "                category_id = categoryName_to_id[condition_name]\n",
    "                if category_id not in measurementRunId_to_conditionCategoryId[measurement_id]:\n",
    "                    measurementRunId_to_conditionCategoryId[measurement_id].append(category_id)\n",
    "            if template_id not in measurementRunId_to_conditionTemplateId[measurement_id]:\n",
    "                measurementRunId_to_conditionTemplateId[measurement_id].append(template_id)\n",
    "    if 'parameters' in n.value:\n",
    "        for node_parameter in n.value['parameters']:\n",
    "            template_id = node_parameter['template']['id']\n",
    "            if node_parameter['value']['type'] == 'nominal_categorical':\n",
    "                parameter_name = node_parameter['value']['category']\n",
    "                category_id = categoryName_to_id[parameter_name]\n",
    "                if category_id not in measurementRunId_to_parameterCategoryId[measurement_id]:\n",
    "                    measurementRunId_to_parameterCategoryId[measurement_id].append(category_id)\n",
    "            if template_id not in measurementRunId_to_parameterTemplateId[measurement_id]:\n",
    "                measurementRunId_to_parameterTemplateId[measurement_id].append(template_id)"
   ]
  },
  {
   "cell_type": "code",
   "execution_count": 84,
   "id": "b43773ff",
   "metadata": {},
   "outputs": [],
   "source": [
    "measurement_run_expr = parse('$[?(@.type == \"measurement_run\")]')\n",
    "nodes = measurement_run_expr.find(json_data)"
   ]
  },
  {
   "cell_type": "code",
   "execution_count": 85,
   "id": "39aab5e2",
   "metadata": {},
   "outputs": [],
   "source": [
    "with open(\"ali_nicholas_EuSNbSe2_gemd_model_dumps/edges.csv\", \"a\", newline=\"\") as csvfile:\n",
    "    writer = csv.writer(csvfile)\n",
    "    for n in nodes:\n",
    "        measurement_id = n.value['uids']['auto']\n",
    "        for conditionTemplate_id in processRunId_to_conditionTemplateId[process_id]:\n",
    "            edge_value = [measurement_id, conditionTemplate_id, 'measurementRun_to_conditionTemplate']\n",
    "            writer.writerow(edge_value)\n",
    "        for parameterTemplate_id in processRunId_to_parameterTemplateId[process_id]:\n",
    "            edge_value = [measurement_id, parameterTemplate_id, 'measurementRun_to_parameterTemplate']\n",
    "            writer.writerow(edge_value)"
   ]
  },
  {
   "cell_type": "code",
   "execution_count": 86,
   "id": "f2ce28eb",
   "metadata": {},
   "outputs": [],
   "source": [
    "with open(\"ali_nicholas_EuSNbSe2_gemd_model_dumps/edges.csv\", \"a\", newline=\"\") as csvfile:\n",
    "    writer = csv.writer(csvfile)\n",
    "    for n in nodes:\n",
    "        material_id = n.value['material']['id']\n",
    "        for conditionCategoryId in processRunId_to_conditionCategoryId[process_id]:\n",
    "            edge_value = [conditionCategoryId, material_id, 'category_to_materialRun']\n",
    "            writer.writerow(edge_value)\n",
    "        for parameterCategoryId in processRunId_to_parameterCategoryId[process_id]:\n",
    "            edge_value = [parameterCategoryId, material_id, 'category_to_materialRun']\n",
    "            writer.writerow(edge_value)"
   ]
  },
  {
   "cell_type": "code",
   "execution_count": 87,
   "id": "7da84567",
   "metadata": {},
   "outputs": [],
   "source": [
    "with open(\"ali_nicholas_EuSNbSe2_gemd_model_dumps/edges.csv\", \"a\", newline=\"\") as csvfile:\n",
    "    writer = csv.writer(csvfile)\n",
    "    for n in nodes:\n",
    "        material_id = n.value['material']['id']\n",
    "        measurement_id = n.value['uids']['auto']\n",
    "        if len(processRunId_to_parameterCategoryId[process_id]) == 0 \\\n",
    "           and len(processRunId_to_conditionCategoryId[process_id]) == 0: \n",
    "            edge_value = [measurement_id, material_id, 'measurementRun_to_materialRun']\n",
    "            writer.writerow(edge_value)"
   ]
  },
  {
   "cell_type": "code",
   "execution_count": 92,
   "id": "5bbb8c38",
   "metadata": {},
   "outputs": [],
   "source": [
    "process_template_expr = parse('$[?(@.type == \"process_template\")]')\n",
    "nodes = process_template_expr.find(json_data)"
   ]
  },
  {
   "cell_type": "code",
   "execution_count": 93,
   "id": "d5c680fe",
   "metadata": {},
   "outputs": [],
   "source": [
    "with open(\"ali_nicholas_EuSNbSe2_gemd_model_dumps/edges.csv\", \"a\", newline=\"\") as csvfile:\n",
    "    writer = csv.writer(csvfile)\n",
    "    for n in nodes:\n",
    "        process_id = n.value['uids']['auto']\n",
    "        edge_value = [\"doi\", process_id, 'root_to_processTemplate']\n",
    "        writer.writerow(edge_value)"
   ]
  }
 ],
 "metadata": {
  "kernelspec": {
   "display_name": "Python 3 (ipykernel)",
   "language": "python",
   "name": "python3"
  },
  "language_info": {
   "codemirror_mode": {
    "name": "ipython",
    "version": 3
   },
   "file_extension": ".py",
   "mimetype": "text/x-python",
   "name": "python",
   "nbconvert_exporter": "python",
   "pygments_lexer": "ipython3",
   "version": "3.10.9"
  }
 },
 "nbformat": 4,
 "nbformat_minor": 5
}
